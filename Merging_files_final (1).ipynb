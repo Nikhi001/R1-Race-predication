{
 "cells": [
  {
   "cell_type": "markdown",
   "metadata": {
    "id": "ZFel686oZ85d"
   },
   "source": [
    "# **Overview:**\n",
    "\n",
    "---\n",
    "\n",
    "\n",
    "* **Objective**: Analyze Formula 1 race data to understand factors influencing race outcomes and provide insights for media companies.\n",
    "* **Datasets**: Utilized various datasets including driver details, standings, fastest laps, pit stops, race details, qualifying results, and race summaries.\n",
    "* **Tools**: Employed Python libraries like Pandas, NumPy, Matplotlib, and Seaborn for data manipulation, analysis, and visualization."
   ]
  },
  {
   "cell_type": "markdown",
   "metadata": {
    "id": "LoDkfA6LkDjH"
   },
   "source": [
    "# **Import all basic libraries**\n",
    "\n",
    "---\n",
    "\n"
   ]
  },
  {
   "cell_type": "code",
   "execution_count": 3,
   "metadata": {
    "id": "VWPHf_wKNGoU"
   },
   "outputs": [],
   "source": [
    "import pandas as pd\n",
    "import numpy as np\n",
    "import os #\n",
    "\n",
    "#Data visualization library\n",
    "import matplotlib.pyplot as plt\n",
    "import seaborn as sns\n",
    "\n",
    "#hide warning\n",
    "import warnings\n",
    "warnings.filterwarnings(\"ignore\")"
   ]
  },
  {
   "cell_type": "markdown",
   "metadata": {
    "id": "W6KWKLIpke9S"
   },
   "source": [
    "make a variable named \"path\" to store multiple files in one variable"
   ]
  },
  {
   "cell_type": "code",
   "execution_count": 1,
   "metadata": {
    "id": "DRak_kQiPRdX"
   },
   "outputs": [],
   "source": [
    "path=r'C:\\Users\\nikhi\\BIA\\BIA Class Notes\\CapStoneProject\\F1 Race Predication My Project\\Datasets'"
   ]
  },
  {
   "cell_type": "markdown",
   "metadata": {
    "id": "J979G2_SmBSw"
   },
   "source": [
    "Formula 1 is the ultimate motorsport, but it's also a data-driven sport. During the racing weekends, a great deal of data has been collected over the event's 73-year existence. The significance of the starting grid position on the race outcome is a question that is raised every racing weekend. Does taking first place result in a win every time? What would the drivers even be racing for if that were the case? The goal of this initiative is to analyze the data in order to provide media companies with useful and reliable race predictions that will draw in new sponsors and subscribers. via the ML"
   ]
  },
  {
   "cell_type": "code",
   "execution_count": 5,
   "metadata": {
    "colab": {
     "base_uri": "https://localhost:8080/"
    },
    "id": "kfc5j7FIPSRb",
    "outputId": "b2887f69-6bae-4ff2-dd07-e732e5e4ad62"
   },
   "outputs": [
    {
     "name": "stdout",
     "output_type": "stream",
     "text": [
      "constructor_standings.csv\n",
      "driver_details.csv\n",
      "driver_standings.csv\n",
      "fastestlaps_detailed.csv\n",
      "fastest_laps.csv\n",
      "pitstops.csv\n",
      "practices.csv\n",
      "qualifyings.csv\n",
      "race_details.csv\n",
      "race_summaries.csv\n",
      "sprint_grid.csv\n",
      "sprint_results.csv\n",
      "starting_grids.csv\n",
      "team_details.csv\n"
     ]
    }
   ],
   "source": [
    "race_file={}\n",
    "for mix in os.listdir(path):\n",
    "    if mix.endswith('.csv'):\n",
    "        fe = mix.split('.')[0]\n",
    "        race_file[fe] = pd.read_csv(os.path.join(path, mix))\n",
    "        print(mix)"
   ]
  },
  {
   "cell_type": "code",
   "execution_count": 7,
   "metadata": {
    "colab": {
     "base_uri": "https://localhost:8080/"
    },
    "id": "aJWgV1lxRing",
    "outputId": "66a4538a-8bf2-4b15-d528-04c7d150cc72"
   },
   "outputs": [
    {
     "name": "stdout",
     "output_type": "stream",
     "text": [
      "constructor_standings :- (675, 4)\n",
      "driver_details :- (19814, 7)\n",
      "driver_standings :- (1618, 7)\n",
      "fastestlaps_detailed :- (15512, 12)\n",
      "fastest_laps :- (1078, 6)\n",
      "pitstops :- (20293, 12)\n",
      "practices :- (37089, 11)\n",
      "qualifyings :- (17236, 13)\n",
      "race_details :- (23978, 11)\n",
      "race_summaries :- (1082, 8)\n",
      "sprint_grid :- (120, 9)\n",
      "sprint_results :- (120, 11)\n",
      "starting_grids :- (22529, 9)\n",
      "team_details :- (10334, 5)\n"
     ]
    }
   ],
   "source": [
    "for i in race_file:\n",
    "  print(i,\":-\",race_file[i].shape)"
   ]
  },
  {
   "cell_type": "markdown",
   "metadata": {
    "id": "bX3gj1nhTL0a"
   },
   "source": [
    "# **Analysed all datasets**\n",
    "\n",
    "---\n",
    "\n"
   ]
  },
  {
   "cell_type": "markdown",
   "metadata": {
    "id": "onva9sZXTkpe"
   },
   "source": [
    "### 1. Qualifyings Dataset\n"
   ]
  },
  {
   "cell_type": "code",
   "execution_count": 11,
   "metadata": {
    "colab": {
     "base_uri": "https://localhost:8080/"
    },
    "id": "42eVIBdGRxdf",
    "outputId": "179ceb0f-ac17-49c0-9324-30bbf1a8a259"
   },
   "outputs": [
    {
     "name": "stdout",
     "output_type": "stream",
     "text": [
      "<class 'pandas.core.frame.DataFrame'>\n",
      "RangeIndex: 17236 entries, 0 to 17235\n",
      "Data columns (total 13 columns):\n",
      " #   Column      Non-Null Count  Dtype  \n",
      "---  ------      --------------  -----  \n",
      " 0   Car         17236 non-null  object \n",
      " 1   Detail      17236 non-null  object \n",
      " 2   Driver      17236 non-null  object \n",
      " 3   DriverCode  17236 non-null  object \n",
      " 4   Grand Prix  17236 non-null  object \n",
      " 5   Laps        11741 non-null  float64\n",
      " 6   No          17236 non-null  int64  \n",
      " 7   Pos         17236 non-null  object \n",
      " 8   Q1          7300 non-null   object \n",
      " 9   Q2          5351 non-null   object \n",
      " 10  Q3          3411 non-null   object \n",
      " 11  Time        9899 non-null   object \n",
      " 12  Year        17236 non-null  int64  \n",
      "dtypes: float64(1), int64(2), object(10)\n",
      "memory usage: 1.7+ MB\n"
     ]
    }
   ],
   "source": [
    "race_file['qualifyings'].info()"
   ]
  },
  {
   "cell_type": "code",
   "execution_count": 13,
   "metadata": {
    "colab": {
     "base_uri": "https://localhost:8080/",
     "height": 0
    },
    "id": "zwumM6GLR9KK",
    "outputId": "5576dd36-161e-4f62-a8a2-c8a1bb7cd4e4"
   },
   "outputs": [
    {
     "data": {
      "text/html": [
       "<div>\n",
       "<style scoped>\n",
       "    .dataframe tbody tr th:only-of-type {\n",
       "        vertical-align: middle;\n",
       "    }\n",
       "\n",
       "    .dataframe tbody tr th {\n",
       "        vertical-align: top;\n",
       "    }\n",
       "\n",
       "    .dataframe thead th {\n",
       "        text-align: right;\n",
       "    }\n",
       "</style>\n",
       "<table border=\"1\" class=\"dataframe\">\n",
       "  <thead>\n",
       "    <tr style=\"text-align: right;\">\n",
       "      <th></th>\n",
       "      <th>Car</th>\n",
       "      <th>Detail</th>\n",
       "      <th>Driver</th>\n",
       "      <th>DriverCode</th>\n",
       "      <th>Grand Prix</th>\n",
       "      <th>Laps</th>\n",
       "      <th>No</th>\n",
       "      <th>Pos</th>\n",
       "      <th>Q1</th>\n",
       "      <th>Q2</th>\n",
       "      <th>Q3</th>\n",
       "      <th>Time</th>\n",
       "      <th>Year</th>\n",
       "    </tr>\n",
       "  </thead>\n",
       "  <tbody>\n",
       "    <tr>\n",
       "      <th>0</th>\n",
       "      <td>Alfa Romeo</td>\n",
       "      <td>Qualifying</td>\n",
       "      <td>Nino Farina</td>\n",
       "      <td>FAR</td>\n",
       "      <td>Great Britain</td>\n",
       "      <td>NaN</td>\n",
       "      <td>2</td>\n",
       "      <td>1</td>\n",
       "      <td>NaN</td>\n",
       "      <td>NaN</td>\n",
       "      <td>NaN</td>\n",
       "      <td>1:50.800</td>\n",
       "      <td>1950</td>\n",
       "    </tr>\n",
       "    <tr>\n",
       "      <th>1</th>\n",
       "      <td>Alfa Romeo</td>\n",
       "      <td>Qualifying</td>\n",
       "      <td>Juan Manuel Fangio</td>\n",
       "      <td>FAN</td>\n",
       "      <td>Monaco</td>\n",
       "      <td>NaN</td>\n",
       "      <td>34</td>\n",
       "      <td>1</td>\n",
       "      <td>NaN</td>\n",
       "      <td>NaN</td>\n",
       "      <td>NaN</td>\n",
       "      <td>1:50.200</td>\n",
       "      <td>1950</td>\n",
       "    </tr>\n",
       "    <tr>\n",
       "      <th>2</th>\n",
       "      <td>Kurtis Kraft Offenhauser</td>\n",
       "      <td>Qualifying</td>\n",
       "      <td>Walt Faulkner</td>\n",
       "      <td>FAU</td>\n",
       "      <td>Indianapolis 500</td>\n",
       "      <td>NaN</td>\n",
       "      <td>98</td>\n",
       "      <td>1</td>\n",
       "      <td>NaN</td>\n",
       "      <td>NaN</td>\n",
       "      <td>NaN</td>\n",
       "      <td>1:06.992</td>\n",
       "      <td>1950</td>\n",
       "    </tr>\n",
       "    <tr>\n",
       "      <th>3</th>\n",
       "      <td>Alfa Romeo</td>\n",
       "      <td>Qualifying</td>\n",
       "      <td>Juan Manuel Fangio</td>\n",
       "      <td>FAN</td>\n",
       "      <td>Switzerland</td>\n",
       "      <td>NaN</td>\n",
       "      <td>14</td>\n",
       "      <td>1</td>\n",
       "      <td>NaN</td>\n",
       "      <td>NaN</td>\n",
       "      <td>NaN</td>\n",
       "      <td>2:42.100</td>\n",
       "      <td>1950</td>\n",
       "    </tr>\n",
       "    <tr>\n",
       "      <th>4</th>\n",
       "      <td>Alfa Romeo</td>\n",
       "      <td>Qualifying</td>\n",
       "      <td>Nino Farina</td>\n",
       "      <td>FAR</td>\n",
       "      <td>Belgium</td>\n",
       "      <td>NaN</td>\n",
       "      <td>8</td>\n",
       "      <td>1</td>\n",
       "      <td>NaN</td>\n",
       "      <td>NaN</td>\n",
       "      <td>NaN</td>\n",
       "      <td>4:37.000</td>\n",
       "      <td>1950</td>\n",
       "    </tr>\n",
       "  </tbody>\n",
       "</table>\n",
       "</div>"
      ],
      "text/plain": [
       "                        Car      Detail              Driver DriverCode  \\\n",
       "0                Alfa Romeo  Qualifying         Nino Farina        FAR   \n",
       "1                Alfa Romeo  Qualifying  Juan Manuel Fangio        FAN   \n",
       "2  Kurtis Kraft Offenhauser  Qualifying       Walt Faulkner        FAU   \n",
       "3                Alfa Romeo  Qualifying  Juan Manuel Fangio        FAN   \n",
       "4                Alfa Romeo  Qualifying         Nino Farina        FAR   \n",
       "\n",
       "         Grand Prix  Laps  No Pos   Q1   Q2   Q3      Time  Year  \n",
       "0     Great Britain   NaN   2   1  NaN  NaN  NaN  1:50.800  1950  \n",
       "1            Monaco   NaN  34   1  NaN  NaN  NaN  1:50.200  1950  \n",
       "2  Indianapolis 500   NaN  98   1  NaN  NaN  NaN  1:06.992  1950  \n",
       "3       Switzerland   NaN  14   1  NaN  NaN  NaN  2:42.100  1950  \n",
       "4           Belgium   NaN   8   1  NaN  NaN  NaN  4:37.000  1950  "
      ]
     },
     "execution_count": 13,
     "metadata": {},
     "output_type": "execute_result"
    }
   ],
   "source": [
    "race_file['qualifyings'].head(5)"
   ]
  },
  {
   "cell_type": "markdown",
   "metadata": {
    "id": "jmYWf6ErTzpR"
   },
   "source": [
    "### 2. pitstops Dataset"
   ]
  },
  {
   "cell_type": "code",
   "execution_count": 16,
   "metadata": {
    "colab": {
     "base_uri": "https://localhost:8080/"
    },
    "id": "1790vWFGTxVK",
    "outputId": "a3594347-62f1-481a-bdf5-8810c4b553ed"
   },
   "outputs": [
    {
     "name": "stdout",
     "output_type": "stream",
     "text": [
      "<class 'pandas.core.frame.DataFrame'>\n",
      "RangeIndex: 20293 entries, 0 to 20292\n",
      "Data columns (total 12 columns):\n",
      " #   Column       Non-Null Count  Dtype \n",
      "---  ------       --------------  ----- \n",
      " 0   Stops        20293 non-null  int64 \n",
      " 1   No           20293 non-null  int64 \n",
      " 2   Driver       20293 non-null  object\n",
      " 3   Car          20292 non-null  object\n",
      " 4   Lap          20293 non-null  int64 \n",
      " 5   Time of day  20293 non-null  object\n",
      " 6   Time         20290 non-null  object\n",
      " 7   Total        20293 non-null  object\n",
      " 8   Year         20293 non-null  int64 \n",
      " 9   Grand Prix   20293 non-null  object\n",
      " 10  Detail       20293 non-null  object\n",
      " 11  DriverCode   20293 non-null  object\n",
      "dtypes: int64(4), object(8)\n",
      "memory usage: 1.9+ MB\n"
     ]
    }
   ],
   "source": [
    "race_file['pitstops'].info()"
   ]
  },
  {
   "cell_type": "code",
   "execution_count": 18,
   "metadata": {
    "colab": {
     "base_uri": "https://localhost:8080/",
     "height": 0
    },
    "id": "RVoAwMryT74s",
    "outputId": "7913d4b5-8f99-4ec2-e88d-74bbe3259648"
   },
   "outputs": [
    {
     "data": {
      "text/html": [
       "<div>\n",
       "<style scoped>\n",
       "    .dataframe tbody tr th:only-of-type {\n",
       "        vertical-align: middle;\n",
       "    }\n",
       "\n",
       "    .dataframe tbody tr th {\n",
       "        vertical-align: top;\n",
       "    }\n",
       "\n",
       "    .dataframe thead th {\n",
       "        text-align: right;\n",
       "    }\n",
       "</style>\n",
       "<table border=\"1\" class=\"dataframe\">\n",
       "  <thead>\n",
       "    <tr style=\"text-align: right;\">\n",
       "      <th></th>\n",
       "      <th>Stops</th>\n",
       "      <th>No</th>\n",
       "      <th>Driver</th>\n",
       "      <th>Car</th>\n",
       "      <th>Lap</th>\n",
       "      <th>Time of day</th>\n",
       "      <th>Time</th>\n",
       "      <th>Total</th>\n",
       "      <th>Year</th>\n",
       "      <th>Grand Prix</th>\n",
       "      <th>Detail</th>\n",
       "      <th>DriverCode</th>\n",
       "    </tr>\n",
       "  </thead>\n",
       "  <tbody>\n",
       "    <tr>\n",
       "      <th>0</th>\n",
       "      <td>1</td>\n",
       "      <td>20</td>\n",
       "      <td>Erik Comas</td>\n",
       "      <td>Larrousse Ford</td>\n",
       "      <td>1</td>\n",
       "      <td>14:01:34</td>\n",
       "      <td>49.111000000000004</td>\n",
       "      <td>49.111</td>\n",
       "      <td>1994</td>\n",
       "      <td>Pacific</td>\n",
       "      <td>Pit-Stop-Summary</td>\n",
       "      <td>COM</td>\n",
       "    </tr>\n",
       "    <tr>\n",
       "      <th>1</th>\n",
       "      <td>1</td>\n",
       "      <td>3</td>\n",
       "      <td>Ukyo Katayama</td>\n",
       "      <td>Tyrrell Yamaha</td>\n",
       "      <td>17</td>\n",
       "      <td>14:20:46</td>\n",
       "      <td>28.482</td>\n",
       "      <td>28.482</td>\n",
       "      <td>1994</td>\n",
       "      <td>Pacific</td>\n",
       "      <td>Pit-Stop-Summary</td>\n",
       "      <td>KAT</td>\n",
       "    </tr>\n",
       "    <tr>\n",
       "      <th>2</th>\n",
       "      <td>1</td>\n",
       "      <td>7</td>\n",
       "      <td>Mika Hakkinen</td>\n",
       "      <td>McLaren Peugeot</td>\n",
       "      <td>18</td>\n",
       "      <td>14:22:35</td>\n",
       "      <td>43.745</td>\n",
       "      <td>43.745</td>\n",
       "      <td>1994</td>\n",
       "      <td>Pacific</td>\n",
       "      <td>Pit-Stop-Summary</td>\n",
       "      <td>HAK</td>\n",
       "    </tr>\n",
       "    <tr>\n",
       "      <th>3</th>\n",
       "      <td>1</td>\n",
       "      <td>0</td>\n",
       "      <td>Damon Hill</td>\n",
       "      <td>Williams Renault</td>\n",
       "      <td>18</td>\n",
       "      <td>14:23:00</td>\n",
       "      <td>21.991999999999997</td>\n",
       "      <td>21.992</td>\n",
       "      <td>1994</td>\n",
       "      <td>Pacific</td>\n",
       "      <td>Pit-Stop-Summary</td>\n",
       "      <td>HIL</td>\n",
       "    </tr>\n",
       "    <tr>\n",
       "      <th>4</th>\n",
       "      <td>1</td>\n",
       "      <td>24</td>\n",
       "      <td>Michele Alboreto</td>\n",
       "      <td>Minardi Ford</td>\n",
       "      <td>19</td>\n",
       "      <td>14:24:39</td>\n",
       "      <td>27.693</td>\n",
       "      <td>27.693</td>\n",
       "      <td>1994</td>\n",
       "      <td>Pacific</td>\n",
       "      <td>Pit-Stop-Summary</td>\n",
       "      <td>ALB</td>\n",
       "    </tr>\n",
       "  </tbody>\n",
       "</table>\n",
       "</div>"
      ],
      "text/plain": [
       "   Stops  No            Driver               Car  Lap Time of day  \\\n",
       "0      1  20        Erik Comas    Larrousse Ford    1    14:01:34   \n",
       "1      1   3     Ukyo Katayama    Tyrrell Yamaha   17    14:20:46   \n",
       "2      1   7     Mika Hakkinen   McLaren Peugeot   18    14:22:35   \n",
       "3      1   0        Damon Hill  Williams Renault   18    14:23:00   \n",
       "4      1  24  Michele Alboreto      Minardi Ford   19    14:24:39   \n",
       "\n",
       "                 Time   Total  Year Grand Prix            Detail DriverCode  \n",
       "0  49.111000000000004  49.111  1994    Pacific  Pit-Stop-Summary        COM  \n",
       "1              28.482  28.482  1994    Pacific  Pit-Stop-Summary        KAT  \n",
       "2              43.745  43.745  1994    Pacific  Pit-Stop-Summary        HAK  \n",
       "3  21.991999999999997  21.992  1994    Pacific  Pit-Stop-Summary        HIL  \n",
       "4              27.693  27.693  1994    Pacific  Pit-Stop-Summary        ALB  "
      ]
     },
     "execution_count": 18,
     "metadata": {},
     "output_type": "execute_result"
    }
   ],
   "source": [
    "race_file['pitstops'].head(5)"
   ]
  },
  {
   "cell_type": "code",
   "execution_count": 20,
   "metadata": {
    "colab": {
     "base_uri": "https://localhost:8080/"
    },
    "id": "ICM8rbmK951x",
    "outputId": "ea69ebb1-01f1-4746-d535-7aa89210de19"
   },
   "outputs": [
    {
     "data": {
      "text/plain": [
       "array(['Erik Comas', 'Ukyo Katayama', 'Mika Hakkinen', 'Damon Hill',\n",
       "       'Michele Alboreto', 'Karl Wendlinger', 'Olivier Panis',\n",
       "       'Pierluigi Martini', 'Michael Schumacher', 'Christian Fittipaldi',\n",
       "       'Jos Verstappen', 'Heinz-Harald Frentzen', 'Eric Bernard',\n",
       "       'Aguri Suzuki', 'Gerhard Berger', 'Martin Brundle',\n",
       "       'Gianni Morbidelli', 'Roland Ratzenberger', 'Johnny Herbert',\n",
       "       'Rubens Barrichello', 'Pedro Lamy', 'Andrea de Cesaris',\n",
       "       'Mark Blundell', 'Bertrand Gachot', 'Nicola Larini',\n",
       "       'David Coulthard', 'Jyrki Jarvilehto', 'Eddie Irvine',\n",
       "       'Jean Alesi', 'David Brabham', 'Alessandro Zanardi',\n",
       "       'Olivier Beretta', 'Nigel Mansell', 'Jean-Marc Gounon',\n",
       "       'Philippe Alliot', 'Philippe Adams', 'Yannick Dalmas',\n",
       "       'Domenico Schiattarella', 'Mika Salo', 'Franck Lagorce',\n",
       "       'Jean-Denis Deletraz', 'Luca Badoer', 'Andrea Montermini',\n",
       "       'Taki Inoue', 'Roberto Moreno', 'Pedro Diniz',\n",
       "       'Jean-Christophe Boullion', 'Massimiliano Papis',\n",
       "       'Giovanni Lavaggi', 'Gabriele Tarquini', 'Jan Magnussen',\n",
       "       'Giancarlo Fisichella', 'Ricardo Rosset', 'Jacques Villeneuve',\n",
       "       'Tarso Marques', 'Jarno Trulli', 'Shinji Nakano',\n",
       "       'Ralf Schumacher', 'Alexander Wurz', 'Norberto Fontana',\n",
       "       'Esteban Tuero', 'Toranosuke Takagi', 'Ricardo Zonta',\n",
       "       'Pedro de la Rosa', 'Marc Gene', 'Gaston Mazzacane',\n",
       "       'Nick Heidfeld', 'Jenson Button', 'Luciano Burti',\n",
       "       'Fernando Alonso', 'Kimi Räikkönen', 'Enrique Bernoldi',\n",
       "       'Juan Pablo Montoya', 'Alex Yoong', 'Tomas Enge', 'Takuma Sato',\n",
       "       'Mark Webber', 'Allan McNish', 'Felipe Massa', 'Anthony Davidson',\n",
       "       'Antonio Pizzonia', 'Justin Wilson', 'Cristiano da Matta',\n",
       "       'Ralph Firman', 'Nicolas Kiesa', 'Zsolt Baumgartner',\n",
       "       'Gianmaria Bruni', 'Christian Klien', 'Giorgio Pantano',\n",
       "       'Timo Glock', 'Patrick Friesacher', 'Tiago Monteiro',\n",
       "       'Narain Karthikeyan', 'Christijan Albers', 'Vitantonio Liuzzi',\n",
       "       'Robert Doornbos', 'Nico Rosberg', 'Yuji Ide', 'Scott Speed',\n",
       "       'Franck Montagny', 'Robert Kubica', 'Sakon Yamamoto',\n",
       "       'Lewis Hamilton', 'Adrian Sutil', 'Heikki Kovalainen',\n",
       "       'Sebastian Vettel', 'Markus Winkelhock', 'Kazuki Nakajima',\n",
       "       'Sebastien Bourdais', 'Nelson Piquet', 'Sebastien Buemi',\n",
       "       'Jaime Alguersuari', 'Romain Grosjean', 'Kamui Kobayashi',\n",
       "       'Nico Hulkenberg', 'Bruno Senna', 'Vitaly Petrov',\n",
       "       'Karun Chandhok', 'Lucas di Grassi', 'Paul di Resta',\n",
       "       \"Jerome d'Ambrosio\", 'Sergio Perez', 'Pastor Maldonado',\n",
       "       'Daniel Ricciardo', 'Jean-Eric Vergne', 'Charles Pic',\n",
       "       'Esteban Gutierrez', 'Valtteri Bottas', 'Max Chilton',\n",
       "       'Giedo van der Garde', 'Jules Bianchi', 'Kevin Magnussen',\n",
       "       'Daniil Kvyat', 'Marcus Ericsson', 'Will Stevens', 'Carlos Sainz',\n",
       "       'Felipe Nasr', 'Max Verstappen', 'Roberto Merhi',\n",
       "       'Alexander Rossi', 'Pascal Wehrlein', 'Jolyon Palmer',\n",
       "       'Rio Haryanto', 'Stoffel Vandoorne', 'Esteban Ocon',\n",
       "       'Lance Stroll', 'Antonio Giovinazzi', 'Pierre Gasly',\n",
       "       'Brendon Hartley', 'Charles Leclerc', 'Sergey Sirotkin',\n",
       "       'Alexander Albon', 'Lando Norris', 'George Russell',\n",
       "       'Nicholas Latifi', 'Jack Aitken', 'Pietro Fittipaldi',\n",
       "       'Mick Schumacher', 'Yuki Tsunoda', 'Nikita Mazepin', 'Zhou Guanyu',\n",
       "       'Nyck De Vries'], dtype=object)"
      ]
     },
     "execution_count": 20,
     "metadata": {},
     "output_type": "execute_result"
    }
   ],
   "source": [
    "unique_drivers = race_file['pitstops']['Driver'].unique()\n",
    "unique_drivers"
   ]
  },
  {
   "cell_type": "code",
   "execution_count": 22,
   "metadata": {
    "colab": {
     "base_uri": "https://localhost:8080/",
     "height": 0
    },
    "id": "Sd3JJc5GAUbe",
    "outputId": "eb8dfb4f-2129-468c-b86b-065a0b6c0cda"
   },
   "outputs": [
    {
     "data": {
      "text/html": [
       "<div>\n",
       "<style scoped>\n",
       "    .dataframe tbody tr th:only-of-type {\n",
       "        vertical-align: middle;\n",
       "    }\n",
       "\n",
       "    .dataframe tbody tr th {\n",
       "        vertical-align: top;\n",
       "    }\n",
       "\n",
       "    .dataframe thead th {\n",
       "        text-align: right;\n",
       "    }\n",
       "</style>\n",
       "<table border=\"1\" class=\"dataframe\">\n",
       "  <thead>\n",
       "    <tr style=\"text-align: right;\">\n",
       "      <th></th>\n",
       "      <th>Stops</th>\n",
       "      <th>No</th>\n",
       "      <th>Driver</th>\n",
       "      <th>Car</th>\n",
       "      <th>Lap</th>\n",
       "      <th>Time of day</th>\n",
       "      <th>Time</th>\n",
       "      <th>Total</th>\n",
       "      <th>Year</th>\n",
       "      <th>Grand Prix</th>\n",
       "      <th>Detail</th>\n",
       "      <th>DriverCode</th>\n",
       "    </tr>\n",
       "  </thead>\n",
       "  <tbody>\n",
       "  </tbody>\n",
       "</table>\n",
       "</div>"
      ],
      "text/plain": [
       "Empty DataFrame\n",
       "Columns: [Stops, No, Driver, Car, Lap, Time of day, Time, Total, Year, Grand Prix, Detail, DriverCode]\n",
       "Index: []"
      ]
     },
     "execution_count": 22,
     "metadata": {},
     "output_type": "execute_result"
    }
   ],
   "source": [
    "race_file['pitstops'][race_file['pitstops']['Driver']=='Nino Farina']"
   ]
  },
  {
   "cell_type": "markdown",
   "metadata": {
    "id": "yoifuRwzUN0B"
   },
   "source": [
    "### 3. driver_details"
   ]
  },
  {
   "cell_type": "code",
   "execution_count": 25,
   "metadata": {
    "colab": {
     "base_uri": "https://localhost:8080/"
    },
    "id": "ys3on_vDUIKx",
    "outputId": "a500aeda-e8ed-4c27-bef2-eedce91cfd1a"
   },
   "outputs": [
    {
     "name": "stdout",
     "output_type": "stream",
     "text": [
      "<class 'pandas.core.frame.DataFrame'>\n",
      "RangeIndex: 19814 entries, 0 to 19813\n",
      "Data columns (total 7 columns):\n",
      " #   Column         Non-Null Count  Dtype  \n",
      "---  ------         --------------  -----  \n",
      " 0   Car            19807 non-null  object \n",
      " 1   Date           19814 non-null  object \n",
      " 2   Driver         19814 non-null  object \n",
      " 3   Grand Prix     19814 non-null  object \n",
      " 4   PTS            19804 non-null  float64\n",
      " 5   Race Position  19798 non-null  object \n",
      " 6   Year           19814 non-null  int64  \n",
      "dtypes: float64(1), int64(1), object(5)\n",
      "memory usage: 1.1+ MB\n"
     ]
    }
   ],
   "source": [
    "race_file['driver_details'].info()"
   ]
  },
  {
   "cell_type": "code",
   "execution_count": 27,
   "metadata": {
    "colab": {
     "base_uri": "https://localhost:8080/",
     "height": 0
    },
    "id": "msMZmGY_UPUF",
    "outputId": "b92acedb-9994-4b70-c484-836f15d922f9"
   },
   "outputs": [
    {
     "data": {
      "text/html": [
       "<div>\n",
       "<style scoped>\n",
       "    .dataframe tbody tr th:only-of-type {\n",
       "        vertical-align: middle;\n",
       "    }\n",
       "\n",
       "    .dataframe tbody tr th {\n",
       "        vertical-align: top;\n",
       "    }\n",
       "\n",
       "    .dataframe thead th {\n",
       "        text-align: right;\n",
       "    }\n",
       "</style>\n",
       "<table border=\"1\" class=\"dataframe\">\n",
       "  <thead>\n",
       "    <tr style=\"text-align: right;\">\n",
       "      <th></th>\n",
       "      <th>Car</th>\n",
       "      <th>Date</th>\n",
       "      <th>Driver</th>\n",
       "      <th>Grand Prix</th>\n",
       "      <th>PTS</th>\n",
       "      <th>Race Position</th>\n",
       "      <th>Year</th>\n",
       "    </tr>\n",
       "  </thead>\n",
       "  <tbody>\n",
       "    <tr>\n",
       "      <th>0</th>\n",
       "      <td>Ferrari</td>\n",
       "      <td>21 May 1950</td>\n",
       "      <td>Alberto Ascari</td>\n",
       "      <td>Monaco</td>\n",
       "      <td>6.0</td>\n",
       "      <td>2</td>\n",
       "      <td>1950</td>\n",
       "    </tr>\n",
       "    <tr>\n",
       "      <th>1</th>\n",
       "      <td>Ferrari</td>\n",
       "      <td>04 Jun 1950</td>\n",
       "      <td>Alberto Ascari</td>\n",
       "      <td>Switzerland</td>\n",
       "      <td>0.0</td>\n",
       "      <td>DNF</td>\n",
       "      <td>1950</td>\n",
       "    </tr>\n",
       "    <tr>\n",
       "      <th>2</th>\n",
       "      <td>Ferrari</td>\n",
       "      <td>18 Jun 1950</td>\n",
       "      <td>Alberto Ascari</td>\n",
       "      <td>Belgium</td>\n",
       "      <td>2.0</td>\n",
       "      <td>5</td>\n",
       "      <td>1950</td>\n",
       "    </tr>\n",
       "    <tr>\n",
       "      <th>3</th>\n",
       "      <td>Ferrari</td>\n",
       "      <td>03 Sep 1950</td>\n",
       "      <td>Alberto Ascari</td>\n",
       "      <td>Italy</td>\n",
       "      <td>3.0</td>\n",
       "      <td>2</td>\n",
       "      <td>1950</td>\n",
       "    </tr>\n",
       "    <tr>\n",
       "      <th>4</th>\n",
       "      <td>Deidt Offenhauser</td>\n",
       "      <td>30 May 1950</td>\n",
       "      <td>Tony Bettenhausen</td>\n",
       "      <td>Indianapolis 500</td>\n",
       "      <td>1.0</td>\n",
       "      <td>DNF</td>\n",
       "      <td>1950</td>\n",
       "    </tr>\n",
       "  </tbody>\n",
       "</table>\n",
       "</div>"
      ],
      "text/plain": [
       "                 Car         Date             Driver        Grand Prix  PTS  \\\n",
       "0            Ferrari  21 May 1950     Alberto Ascari            Monaco  6.0   \n",
       "1            Ferrari  04 Jun 1950     Alberto Ascari       Switzerland  0.0   \n",
       "2            Ferrari  18 Jun 1950     Alberto Ascari           Belgium  2.0   \n",
       "3            Ferrari  03 Sep 1950     Alberto Ascari             Italy  3.0   \n",
       "4  Deidt Offenhauser  30 May 1950  Tony Bettenhausen  Indianapolis 500  1.0   \n",
       "\n",
       "  Race Position  Year  \n",
       "0             2  1950  \n",
       "1           DNF  1950  \n",
       "2             5  1950  \n",
       "3             2  1950  \n",
       "4           DNF  1950  "
      ]
     },
     "execution_count": 27,
     "metadata": {},
     "output_type": "execute_result"
    }
   ],
   "source": [
    "race_file['driver_details'].head(5)"
   ]
  },
  {
   "cell_type": "markdown",
   "metadata": {
    "id": "Iz24GgbMUWuh"
   },
   "source": [
    "### 4.race_details"
   ]
  },
  {
   "cell_type": "code",
   "execution_count": 30,
   "metadata": {
    "colab": {
     "base_uri": "https://localhost:8080/"
    },
    "id": "fh1XbZDXUZRp",
    "outputId": "4a5c1959-d53d-4c9d-bc4e-c4507747a03f"
   },
   "outputs": [
    {
     "name": "stdout",
     "output_type": "stream",
     "text": [
      "<class 'pandas.core.frame.DataFrame'>\n",
      "RangeIndex: 23978 entries, 0 to 23977\n",
      "Data columns (total 11 columns):\n",
      " #   Column        Non-Null Count  Dtype  \n",
      "---  ------        --------------  -----  \n",
      " 0   Pos           23978 non-null  object \n",
      " 1   No            23978 non-null  int64  \n",
      " 2   Driver        23978 non-null  object \n",
      " 3   Car           23952 non-null  object \n",
      " 4   Laps          23771 non-null  float64\n",
      " 5   Time/Retired  23970 non-null  object \n",
      " 6   PTS           23978 non-null  float64\n",
      " 7   Year          23978 non-null  int64  \n",
      " 8   Grand Prix    23978 non-null  object \n",
      " 9   Detail        23978 non-null  object \n",
      " 10  DriverCode    23978 non-null  object \n",
      "dtypes: float64(2), int64(2), object(7)\n",
      "memory usage: 2.0+ MB\n"
     ]
    }
   ],
   "source": [
    "race_file['race_details'].info()"
   ]
  },
  {
   "cell_type": "code",
   "execution_count": 32,
   "metadata": {
    "colab": {
     "base_uri": "https://localhost:8080/",
     "height": 0
    },
    "id": "g5xNdtjYUZq-",
    "outputId": "d3b9b602-41fa-4b66-84b0-ff0081cbdf98"
   },
   "outputs": [
    {
     "data": {
      "text/html": [
       "<div>\n",
       "<style scoped>\n",
       "    .dataframe tbody tr th:only-of-type {\n",
       "        vertical-align: middle;\n",
       "    }\n",
       "\n",
       "    .dataframe tbody tr th {\n",
       "        vertical-align: top;\n",
       "    }\n",
       "\n",
       "    .dataframe thead th {\n",
       "        text-align: right;\n",
       "    }\n",
       "</style>\n",
       "<table border=\"1\" class=\"dataframe\">\n",
       "  <thead>\n",
       "    <tr style=\"text-align: right;\">\n",
       "      <th></th>\n",
       "      <th>Pos</th>\n",
       "      <th>No</th>\n",
       "      <th>Driver</th>\n",
       "      <th>Car</th>\n",
       "      <th>Laps</th>\n",
       "      <th>Time/Retired</th>\n",
       "      <th>PTS</th>\n",
       "      <th>Year</th>\n",
       "      <th>Grand Prix</th>\n",
       "      <th>Detail</th>\n",
       "      <th>DriverCode</th>\n",
       "    </tr>\n",
       "  </thead>\n",
       "  <tbody>\n",
       "    <tr>\n",
       "      <th>0</th>\n",
       "      <td>1</td>\n",
       "      <td>2</td>\n",
       "      <td>Nino Farina</td>\n",
       "      <td>Alfa Romeo</td>\n",
       "      <td>70.0</td>\n",
       "      <td>2:13:23.600</td>\n",
       "      <td>9.0</td>\n",
       "      <td>1950</td>\n",
       "      <td>Great Britain</td>\n",
       "      <td>Race-Result</td>\n",
       "      <td>FAR</td>\n",
       "    </tr>\n",
       "    <tr>\n",
       "      <th>1</th>\n",
       "      <td>2</td>\n",
       "      <td>3</td>\n",
       "      <td>Luigi Fagioli</td>\n",
       "      <td>Alfa Romeo</td>\n",
       "      <td>70.0</td>\n",
       "      <td>+2.600s</td>\n",
       "      <td>6.0</td>\n",
       "      <td>1950</td>\n",
       "      <td>Great Britain</td>\n",
       "      <td>Race-Result</td>\n",
       "      <td>FAG</td>\n",
       "    </tr>\n",
       "    <tr>\n",
       "      <th>2</th>\n",
       "      <td>3</td>\n",
       "      <td>4</td>\n",
       "      <td>Reg Parnell</td>\n",
       "      <td>Alfa Romeo</td>\n",
       "      <td>70.0</td>\n",
       "      <td>+52.000s</td>\n",
       "      <td>4.0</td>\n",
       "      <td>1950</td>\n",
       "      <td>Great Britain</td>\n",
       "      <td>Race-Result</td>\n",
       "      <td>PAR</td>\n",
       "    </tr>\n",
       "    <tr>\n",
       "      <th>3</th>\n",
       "      <td>4</td>\n",
       "      <td>14</td>\n",
       "      <td>Yves Giraud-Cabantous</td>\n",
       "      <td>Talbot-Lago</td>\n",
       "      <td>68.0</td>\n",
       "      <td>+2 laps</td>\n",
       "      <td>3.0</td>\n",
       "      <td>1950</td>\n",
       "      <td>Great Britain</td>\n",
       "      <td>Race-Result</td>\n",
       "      <td>GIR</td>\n",
       "    </tr>\n",
       "    <tr>\n",
       "      <th>4</th>\n",
       "      <td>5</td>\n",
       "      <td>15</td>\n",
       "      <td>Louis Rosier</td>\n",
       "      <td>Talbot-Lago</td>\n",
       "      <td>68.0</td>\n",
       "      <td>+2 laps</td>\n",
       "      <td>2.0</td>\n",
       "      <td>1950</td>\n",
       "      <td>Great Britain</td>\n",
       "      <td>Race-Result</td>\n",
       "      <td>ROS</td>\n",
       "    </tr>\n",
       "  </tbody>\n",
       "</table>\n",
       "</div>"
      ],
      "text/plain": [
       "  Pos  No                 Driver          Car  Laps Time/Retired  PTS  Year  \\\n",
       "0   1   2            Nino Farina   Alfa Romeo  70.0  2:13:23.600  9.0  1950   \n",
       "1   2   3          Luigi Fagioli   Alfa Romeo  70.0      +2.600s  6.0  1950   \n",
       "2   3   4            Reg Parnell   Alfa Romeo  70.0     +52.000s  4.0  1950   \n",
       "3   4  14  Yves Giraud-Cabantous  Talbot-Lago  68.0      +2 laps  3.0  1950   \n",
       "4   5  15           Louis Rosier  Talbot-Lago  68.0      +2 laps  2.0  1950   \n",
       "\n",
       "      Grand Prix       Detail DriverCode  \n",
       "0  Great Britain  Race-Result        FAR  \n",
       "1  Great Britain  Race-Result        FAG  \n",
       "2  Great Britain  Race-Result        PAR  \n",
       "3  Great Britain  Race-Result        GIR  \n",
       "4  Great Britain  Race-Result        ROS  "
      ]
     },
     "execution_count": 32,
     "metadata": {},
     "output_type": "execute_result"
    }
   ],
   "source": [
    "race_file['race_details'].head(5)"
   ]
  },
  {
   "cell_type": "markdown",
   "metadata": {
    "id": "sNvpy6DJUbmi"
   },
   "source": [
    "### 5. fastestlaps_detailed"
   ]
  },
  {
   "cell_type": "code",
   "execution_count": 35,
   "metadata": {
    "colab": {
     "base_uri": "https://localhost:8080/"
    },
    "id": "2OWDh18LUccS",
    "outputId": "84a2f002-03d1-4241-8cba-8d1e147894eb"
   },
   "outputs": [
    {
     "name": "stdout",
     "output_type": "stream",
     "text": [
      "<class 'pandas.core.frame.DataFrame'>\n",
      "RangeIndex: 15512 entries, 0 to 15511\n",
      "Data columns (total 12 columns):\n",
      " #   Column       Non-Null Count  Dtype  \n",
      "---  ------       --------------  -----  \n",
      " 0   Avg Speed    9400 non-null   float64\n",
      " 1   Car          15504 non-null  object \n",
      " 2   Detail       15512 non-null  object \n",
      " 3   Driver       15512 non-null  object \n",
      " 4   DriverCode   15512 non-null  object \n",
      " 5   Grand Prix   15512 non-null  object \n",
      " 6   Lap          15482 non-null  float64\n",
      " 7   No           15512 non-null  int64  \n",
      " 8   Pos          15512 non-null  int64  \n",
      " 9   Time         15508 non-null  object \n",
      " 10  Time of day  3550 non-null   object \n",
      " 11  Year         15512 non-null  int64  \n",
      "dtypes: float64(2), int64(3), object(7)\n",
      "memory usage: 1.4+ MB\n"
     ]
    }
   ],
   "source": [
    "race_file['fastestlaps_detailed'].info()"
   ]
  },
  {
   "cell_type": "code",
   "execution_count": 37,
   "metadata": {
    "colab": {
     "base_uri": "https://localhost:8080/",
     "height": 0
    },
    "id": "JDTl_r_PUcwu",
    "outputId": "7c12dda5-de51-4437-f7ea-c791b27649ff"
   },
   "outputs": [
    {
     "data": {
      "text/html": [
       "<div>\n",
       "<style scoped>\n",
       "    .dataframe tbody tr th:only-of-type {\n",
       "        vertical-align: middle;\n",
       "    }\n",
       "\n",
       "    .dataframe tbody tr th {\n",
       "        vertical-align: top;\n",
       "    }\n",
       "\n",
       "    .dataframe thead th {\n",
       "        text-align: right;\n",
       "    }\n",
       "</style>\n",
       "<table border=\"1\" class=\"dataframe\">\n",
       "  <thead>\n",
       "    <tr style=\"text-align: right;\">\n",
       "      <th></th>\n",
       "      <th>Avg Speed</th>\n",
       "      <th>Car</th>\n",
       "      <th>Detail</th>\n",
       "      <th>Driver</th>\n",
       "      <th>DriverCode</th>\n",
       "      <th>Grand Prix</th>\n",
       "      <th>Lap</th>\n",
       "      <th>No</th>\n",
       "      <th>Pos</th>\n",
       "      <th>Time</th>\n",
       "      <th>Time of day</th>\n",
       "      <th>Year</th>\n",
       "    </tr>\n",
       "  </thead>\n",
       "  <tbody>\n",
       "    <tr>\n",
       "      <th>0</th>\n",
       "      <td>NaN</td>\n",
       "      <td>Alfa Romeo</td>\n",
       "      <td>Fastest-Laps</td>\n",
       "      <td>Nino Farina</td>\n",
       "      <td>FAR</td>\n",
       "      <td>Great Britain</td>\n",
       "      <td>2.0</td>\n",
       "      <td>2</td>\n",
       "      <td>1</td>\n",
       "      <td>1:50.600</td>\n",
       "      <td>NaN</td>\n",
       "      <td>1950</td>\n",
       "    </tr>\n",
       "    <tr>\n",
       "      <th>1</th>\n",
       "      <td>NaN</td>\n",
       "      <td>Alfa Romeo</td>\n",
       "      <td>Fastest-Laps</td>\n",
       "      <td>Juan Manuel Fangio</td>\n",
       "      <td>FAN</td>\n",
       "      <td>Monaco</td>\n",
       "      <td>NaN</td>\n",
       "      <td>34</td>\n",
       "      <td>1</td>\n",
       "      <td>1:51.000</td>\n",
       "      <td>NaN</td>\n",
       "      <td>1950</td>\n",
       "    </tr>\n",
       "    <tr>\n",
       "      <th>2</th>\n",
       "      <td>NaN</td>\n",
       "      <td>Kurtis Kraft Offenhauser</td>\n",
       "      <td>Fastest-Laps</td>\n",
       "      <td>Johnnie Parsons</td>\n",
       "      <td>PAR</td>\n",
       "      <td>Indianapolis 500</td>\n",
       "      <td>NaN</td>\n",
       "      <td>1</td>\n",
       "      <td>1</td>\n",
       "      <td>NaN</td>\n",
       "      <td>NaN</td>\n",
       "      <td>1950</td>\n",
       "    </tr>\n",
       "    <tr>\n",
       "      <th>3</th>\n",
       "      <td>NaN</td>\n",
       "      <td>Alfa Romeo</td>\n",
       "      <td>Fastest-Laps</td>\n",
       "      <td>Nino Farina</td>\n",
       "      <td>FAR</td>\n",
       "      <td>Switzerland</td>\n",
       "      <td>8.0</td>\n",
       "      <td>16</td>\n",
       "      <td>1</td>\n",
       "      <td>2:41.600</td>\n",
       "      <td>NaN</td>\n",
       "      <td>1950</td>\n",
       "    </tr>\n",
       "    <tr>\n",
       "      <th>4</th>\n",
       "      <td>NaN</td>\n",
       "      <td>Alfa Romeo</td>\n",
       "      <td>Fastest-Laps</td>\n",
       "      <td>Nino Farina</td>\n",
       "      <td>FAR</td>\n",
       "      <td>Belgium</td>\n",
       "      <td>18.0</td>\n",
       "      <td>8</td>\n",
       "      <td>1</td>\n",
       "      <td>4:34.100</td>\n",
       "      <td>NaN</td>\n",
       "      <td>1950</td>\n",
       "    </tr>\n",
       "  </tbody>\n",
       "</table>\n",
       "</div>"
      ],
      "text/plain": [
       "   Avg Speed                       Car        Detail              Driver  \\\n",
       "0        NaN                Alfa Romeo  Fastest-Laps         Nino Farina   \n",
       "1        NaN                Alfa Romeo  Fastest-Laps  Juan Manuel Fangio   \n",
       "2        NaN  Kurtis Kraft Offenhauser  Fastest-Laps     Johnnie Parsons   \n",
       "3        NaN                Alfa Romeo  Fastest-Laps         Nino Farina   \n",
       "4        NaN                Alfa Romeo  Fastest-Laps         Nino Farina   \n",
       "\n",
       "  DriverCode        Grand Prix   Lap  No  Pos      Time Time of day  Year  \n",
       "0        FAR     Great Britain   2.0   2    1  1:50.600         NaN  1950  \n",
       "1        FAN            Monaco   NaN  34    1  1:51.000         NaN  1950  \n",
       "2        PAR  Indianapolis 500   NaN   1    1       NaN         NaN  1950  \n",
       "3        FAR       Switzerland   8.0  16    1  2:41.600         NaN  1950  \n",
       "4        FAR           Belgium  18.0   8    1  4:34.100         NaN  1950  "
      ]
     },
     "execution_count": 37,
     "metadata": {},
     "output_type": "execute_result"
    }
   ],
   "source": [
    "race_file['fastestlaps_detailed'].head(5)"
   ]
  },
  {
   "cell_type": "markdown",
   "metadata": {
    "id": "bQNZjQFoUdSe"
   },
   "source": [
    "### 6. driver_standings"
   ]
  },
  {
   "cell_type": "code",
   "execution_count": 40,
   "metadata": {
    "colab": {
     "base_uri": "https://localhost:8080/"
    },
    "id": "K0MzQpM0Uf_Y",
    "outputId": "f46fb250-c3fb-430e-8455-444a59936543"
   },
   "outputs": [
    {
     "name": "stdout",
     "output_type": "stream",
     "text": [
      "<class 'pandas.core.frame.DataFrame'>\n",
      "RangeIndex: 1618 entries, 0 to 1617\n",
      "Data columns (total 7 columns):\n",
      " #   Column       Non-Null Count  Dtype  \n",
      "---  ------       --------------  -----  \n",
      " 0   Pos          1618 non-null   object \n",
      " 1   Driver       1618 non-null   object \n",
      " 2   Nationality  1618 non-null   object \n",
      " 3   Car          1607 non-null   object \n",
      " 4   PTS          1618 non-null   float64\n",
      " 5   DriverCode   1618 non-null   object \n",
      " 6   Year         1618 non-null   int64  \n",
      "dtypes: float64(1), int64(1), object(5)\n",
      "memory usage: 88.6+ KB\n"
     ]
    }
   ],
   "source": [
    "race_file['driver_standings'].info()"
   ]
  },
  {
   "cell_type": "code",
   "execution_count": 42,
   "metadata": {
    "colab": {
     "base_uri": "https://localhost:8080/",
     "height": 0
    },
    "id": "lcAy-oV0UgQ8",
    "outputId": "a2f6fbaa-dcb0-4080-b8b2-e75d0037bf69"
   },
   "outputs": [
    {
     "data": {
      "text/html": [
       "<div>\n",
       "<style scoped>\n",
       "    .dataframe tbody tr th:only-of-type {\n",
       "        vertical-align: middle;\n",
       "    }\n",
       "\n",
       "    .dataframe tbody tr th {\n",
       "        vertical-align: top;\n",
       "    }\n",
       "\n",
       "    .dataframe thead th {\n",
       "        text-align: right;\n",
       "    }\n",
       "</style>\n",
       "<table border=\"1\" class=\"dataframe\">\n",
       "  <thead>\n",
       "    <tr style=\"text-align: right;\">\n",
       "      <th></th>\n",
       "      <th>Pos</th>\n",
       "      <th>Driver</th>\n",
       "      <th>Nationality</th>\n",
       "      <th>Car</th>\n",
       "      <th>PTS</th>\n",
       "      <th>DriverCode</th>\n",
       "      <th>Year</th>\n",
       "    </tr>\n",
       "  </thead>\n",
       "  <tbody>\n",
       "    <tr>\n",
       "      <th>0</th>\n",
       "      <td>1</td>\n",
       "      <td>Nino Farina</td>\n",
       "      <td>ITA</td>\n",
       "      <td>Alfa Romeo</td>\n",
       "      <td>30.0</td>\n",
       "      <td>FAR</td>\n",
       "      <td>1950</td>\n",
       "    </tr>\n",
       "    <tr>\n",
       "      <th>1</th>\n",
       "      <td>2</td>\n",
       "      <td>Juan Manuel Fangio</td>\n",
       "      <td>ARG</td>\n",
       "      <td>Alfa Romeo</td>\n",
       "      <td>27.0</td>\n",
       "      <td>FAN</td>\n",
       "      <td>1950</td>\n",
       "    </tr>\n",
       "    <tr>\n",
       "      <th>2</th>\n",
       "      <td>3</td>\n",
       "      <td>Luigi Fagioli</td>\n",
       "      <td>ITA</td>\n",
       "      <td>Alfa Romeo</td>\n",
       "      <td>24.0</td>\n",
       "      <td>FAG</td>\n",
       "      <td>1950</td>\n",
       "    </tr>\n",
       "    <tr>\n",
       "      <th>3</th>\n",
       "      <td>4</td>\n",
       "      <td>Louis Rosier</td>\n",
       "      <td>FRA</td>\n",
       "      <td>Talbot-Lago</td>\n",
       "      <td>13.0</td>\n",
       "      <td>ROS</td>\n",
       "      <td>1950</td>\n",
       "    </tr>\n",
       "    <tr>\n",
       "      <th>4</th>\n",
       "      <td>5</td>\n",
       "      <td>Alberto Ascari</td>\n",
       "      <td>ITA</td>\n",
       "      <td>Ferrari</td>\n",
       "      <td>11.0</td>\n",
       "      <td>ASC</td>\n",
       "      <td>1950</td>\n",
       "    </tr>\n",
       "  </tbody>\n",
       "</table>\n",
       "</div>"
      ],
      "text/plain": [
       "  Pos              Driver Nationality          Car   PTS DriverCode  Year\n",
       "0   1         Nino Farina         ITA   Alfa Romeo  30.0        FAR  1950\n",
       "1   2  Juan Manuel Fangio         ARG   Alfa Romeo  27.0        FAN  1950\n",
       "2   3       Luigi Fagioli         ITA   Alfa Romeo  24.0        FAG  1950\n",
       "3   4        Louis Rosier         FRA  Talbot-Lago  13.0        ROS  1950\n",
       "4   5      Alberto Ascari         ITA      Ferrari  11.0        ASC  1950"
      ]
     },
     "execution_count": 42,
     "metadata": {},
     "output_type": "execute_result"
    }
   ],
   "source": [
    "race_file['driver_standings'].head(5)"
   ]
  },
  {
   "cell_type": "markdown",
   "metadata": {
    "id": "AtHdur7RUg00"
   },
   "source": [
    "### 7. practices"
   ]
  },
  {
   "cell_type": "code",
   "execution_count": 45,
   "metadata": {
    "colab": {
     "base_uri": "https://localhost:8080/"
    },
    "id": "tXX-fA0kUiF7",
    "outputId": "7c43b6f7-e4c7-4a64-94e7-44ff04aa6b33"
   },
   "outputs": [
    {
     "name": "stdout",
     "output_type": "stream",
     "text": [
      "<class 'pandas.core.frame.DataFrame'>\n",
      "RangeIndex: 37089 entries, 0 to 37088\n",
      "Data columns (total 11 columns):\n",
      " #   Column      Non-Null Count  Dtype  \n",
      "---  ------      --------------  -----  \n",
      " 0   Car         37089 non-null  object \n",
      " 1   Detail      37089 non-null  object \n",
      " 2   Driver      37089 non-null  object \n",
      " 3   DriverCode  37089 non-null  object \n",
      " 4   Gap         34760 non-null  object \n",
      " 5   Grand Prix  37089 non-null  object \n",
      " 6   Laps        31443 non-null  float64\n",
      " 7   No          37089 non-null  int64  \n",
      " 8   Pos         37089 non-null  int64  \n",
      " 9   Time        36423 non-null  object \n",
      " 10  Year        37089 non-null  int64  \n",
      "dtypes: float64(1), int64(3), object(7)\n",
      "memory usage: 3.1+ MB\n"
     ]
    }
   ],
   "source": [
    "race_file['practices'].info()"
   ]
  },
  {
   "cell_type": "code",
   "execution_count": 47,
   "metadata": {
    "colab": {
     "base_uri": "https://localhost:8080/",
     "height": 0
    },
    "id": "NwGjSoZmUivV",
    "outputId": "3a4ded46-2d1f-457a-af9c-af16661dca61"
   },
   "outputs": [
    {
     "data": {
      "text/html": [
       "<div>\n",
       "<style scoped>\n",
       "    .dataframe tbody tr th:only-of-type {\n",
       "        vertical-align: middle;\n",
       "    }\n",
       "\n",
       "    .dataframe tbody tr th {\n",
       "        vertical-align: top;\n",
       "    }\n",
       "\n",
       "    .dataframe thead th {\n",
       "        text-align: right;\n",
       "    }\n",
       "</style>\n",
       "<table border=\"1\" class=\"dataframe\">\n",
       "  <thead>\n",
       "    <tr style=\"text-align: right;\">\n",
       "      <th></th>\n",
       "      <th>Car</th>\n",
       "      <th>Detail</th>\n",
       "      <th>Driver</th>\n",
       "      <th>DriverCode</th>\n",
       "      <th>Gap</th>\n",
       "      <th>Grand Prix</th>\n",
       "      <th>Laps</th>\n",
       "      <th>No</th>\n",
       "      <th>Pos</th>\n",
       "      <th>Time</th>\n",
       "      <th>Year</th>\n",
       "    </tr>\n",
       "  </thead>\n",
       "  <tbody>\n",
       "    <tr>\n",
       "      <th>0</th>\n",
       "      <td>Lotus Renault</td>\n",
       "      <td>Practice-2</td>\n",
       "      <td>Ayrton Senna</td>\n",
       "      <td>SEN</td>\n",
       "      <td>NaN</td>\n",
       "      <td>Mexico</td>\n",
       "      <td>NaN</td>\n",
       "      <td>12</td>\n",
       "      <td>1</td>\n",
       "      <td>1:17.977</td>\n",
       "      <td>1986</td>\n",
       "    </tr>\n",
       "    <tr>\n",
       "      <th>1</th>\n",
       "      <td>Benetton BMW</td>\n",
       "      <td>Practice-2</td>\n",
       "      <td>Gerhard Berger</td>\n",
       "      <td>BER</td>\n",
       "      <td>+0.110s</td>\n",
       "      <td>Mexico</td>\n",
       "      <td>NaN</td>\n",
       "      <td>20</td>\n",
       "      <td>2</td>\n",
       "      <td>1:18.088</td>\n",
       "      <td>1986</td>\n",
       "    </tr>\n",
       "    <tr>\n",
       "      <th>2</th>\n",
       "      <td>Benetton BMW</td>\n",
       "      <td>Practice-2</td>\n",
       "      <td>Teo Fabi</td>\n",
       "      <td>FAB</td>\n",
       "      <td>+0.176s</td>\n",
       "      <td>Mexico</td>\n",
       "      <td>NaN</td>\n",
       "      <td>19</td>\n",
       "      <td>3</td>\n",
       "      <td>1:18.154</td>\n",
       "      <td>1986</td>\n",
       "    </tr>\n",
       "    <tr>\n",
       "      <th>3</th>\n",
       "      <td>Williams Honda</td>\n",
       "      <td>Practice-2</td>\n",
       "      <td>Nelson Piquet</td>\n",
       "      <td>PIQ</td>\n",
       "      <td>+0.376s</td>\n",
       "      <td>Mexico</td>\n",
       "      <td>NaN</td>\n",
       "      <td>6</td>\n",
       "      <td>4</td>\n",
       "      <td>1:18.353</td>\n",
       "      <td>1986</td>\n",
       "    </tr>\n",
       "    <tr>\n",
       "      <th>4</th>\n",
       "      <td>Williams Honda</td>\n",
       "      <td>Practice-2</td>\n",
       "      <td>Nigel Mansell</td>\n",
       "      <td>MAN</td>\n",
       "      <td>+0.810s</td>\n",
       "      <td>Mexico</td>\n",
       "      <td>NaN</td>\n",
       "      <td>5</td>\n",
       "      <td>5</td>\n",
       "      <td>1:18.785</td>\n",
       "      <td>1986</td>\n",
       "    </tr>\n",
       "  </tbody>\n",
       "</table>\n",
       "</div>"
      ],
      "text/plain": [
       "              Car      Detail          Driver DriverCode      Gap Grand Prix  \\\n",
       "0   Lotus Renault  Practice-2    Ayrton Senna        SEN      NaN     Mexico   \n",
       "1    Benetton BMW  Practice-2  Gerhard Berger        BER  +0.110s     Mexico   \n",
       "2    Benetton BMW  Practice-2        Teo Fabi        FAB  +0.176s     Mexico   \n",
       "3  Williams Honda  Practice-2   Nelson Piquet        PIQ  +0.376s     Mexico   \n",
       "4  Williams Honda  Practice-2   Nigel Mansell        MAN  +0.810s     Mexico   \n",
       "\n",
       "   Laps  No  Pos      Time  Year  \n",
       "0   NaN  12    1  1:17.977  1986  \n",
       "1   NaN  20    2  1:18.088  1986  \n",
       "2   NaN  19    3  1:18.154  1986  \n",
       "3   NaN   6    4  1:18.353  1986  \n",
       "4   NaN   5    5  1:18.785  1986  "
      ]
     },
     "execution_count": 47,
     "metadata": {},
     "output_type": "execute_result"
    }
   ],
   "source": [
    "race_file['practices'].head(5)"
   ]
  },
  {
   "cell_type": "markdown",
   "metadata": {
    "id": "I5-5nnsxUjco"
   },
   "source": [
    "### 8. fastest_laps"
   ]
  },
  {
   "cell_type": "code",
   "execution_count": 50,
   "metadata": {
    "colab": {
     "base_uri": "https://localhost:8080/"
    },
    "id": "vG1fU3WaUj6m",
    "outputId": "9c312068-540b-44ab-af23-ac5f0065b6da"
   },
   "outputs": [
    {
     "name": "stdout",
     "output_type": "stream",
     "text": [
      "<class 'pandas.core.frame.DataFrame'>\n",
      "RangeIndex: 1078 entries, 0 to 1077\n",
      "Data columns (total 6 columns):\n",
      " #   Column      Non-Null Count  Dtype \n",
      "---  ------      --------------  ----- \n",
      " 0   Grand Prix  1078 non-null   object\n",
      " 1   Driver      1078 non-null   object\n",
      " 2   Car         1078 non-null   object\n",
      " 3   Time        1077 non-null   object\n",
      " 4   DriverCode  1078 non-null   object\n",
      " 5   Year        1078 non-null   int64 \n",
      "dtypes: int64(1), object(5)\n",
      "memory usage: 50.7+ KB\n"
     ]
    }
   ],
   "source": [
    "race_file['fastest_laps'].info()"
   ]
  },
  {
   "cell_type": "code",
   "execution_count": 52,
   "metadata": {
    "colab": {
     "base_uri": "https://localhost:8080/",
     "height": 0
    },
    "id": "mnJWfHQNUkYC",
    "outputId": "5394e8d6-8fcb-49c2-f57f-61ef112a7adc"
   },
   "outputs": [
    {
     "data": {
      "text/html": [
       "<div>\n",
       "<style scoped>\n",
       "    .dataframe tbody tr th:only-of-type {\n",
       "        vertical-align: middle;\n",
       "    }\n",
       "\n",
       "    .dataframe tbody tr th {\n",
       "        vertical-align: top;\n",
       "    }\n",
       "\n",
       "    .dataframe thead th {\n",
       "        text-align: right;\n",
       "    }\n",
       "</style>\n",
       "<table border=\"1\" class=\"dataframe\">\n",
       "  <thead>\n",
       "    <tr style=\"text-align: right;\">\n",
       "      <th></th>\n",
       "      <th>Grand Prix</th>\n",
       "      <th>Driver</th>\n",
       "      <th>Car</th>\n",
       "      <th>Time</th>\n",
       "      <th>DriverCode</th>\n",
       "      <th>Year</th>\n",
       "    </tr>\n",
       "  </thead>\n",
       "  <tbody>\n",
       "    <tr>\n",
       "      <th>0</th>\n",
       "      <td>Great Britain</td>\n",
       "      <td>Nino Farina</td>\n",
       "      <td>Alfa Romeo</td>\n",
       "      <td>1:50.600</td>\n",
       "      <td>FAR</td>\n",
       "      <td>1950</td>\n",
       "    </tr>\n",
       "    <tr>\n",
       "      <th>1</th>\n",
       "      <td>Monaco</td>\n",
       "      <td>Juan Manuel Fangio</td>\n",
       "      <td>Alfa Romeo</td>\n",
       "      <td>1:51.000</td>\n",
       "      <td>FAN</td>\n",
       "      <td>1950</td>\n",
       "    </tr>\n",
       "    <tr>\n",
       "      <th>2</th>\n",
       "      <td>Indianapolis 500</td>\n",
       "      <td>Johnnie Parsons</td>\n",
       "      <td>Kurtis Kraft Offenhauser</td>\n",
       "      <td>NaN</td>\n",
       "      <td>PAR</td>\n",
       "      <td>1950</td>\n",
       "    </tr>\n",
       "    <tr>\n",
       "      <th>3</th>\n",
       "      <td>Switzerland</td>\n",
       "      <td>Nino Farina</td>\n",
       "      <td>Alfa Romeo</td>\n",
       "      <td>2:41.600</td>\n",
       "      <td>FAR</td>\n",
       "      <td>1950</td>\n",
       "    </tr>\n",
       "    <tr>\n",
       "      <th>4</th>\n",
       "      <td>Belgium</td>\n",
       "      <td>Nino Farina</td>\n",
       "      <td>Alfa Romeo</td>\n",
       "      <td>4:34.100</td>\n",
       "      <td>FAR</td>\n",
       "      <td>1950</td>\n",
       "    </tr>\n",
       "  </tbody>\n",
       "</table>\n",
       "</div>"
      ],
      "text/plain": [
       "         Grand Prix              Driver                       Car      Time  \\\n",
       "0     Great Britain         Nino Farina                Alfa Romeo  1:50.600   \n",
       "1            Monaco  Juan Manuel Fangio                Alfa Romeo  1:51.000   \n",
       "2  Indianapolis 500     Johnnie Parsons  Kurtis Kraft Offenhauser       NaN   \n",
       "3       Switzerland         Nino Farina                Alfa Romeo  2:41.600   \n",
       "4           Belgium         Nino Farina                Alfa Romeo  4:34.100   \n",
       "\n",
       "  DriverCode  Year  \n",
       "0        FAR  1950  \n",
       "1        FAN  1950  \n",
       "2        PAR  1950  \n",
       "3        FAR  1950  \n",
       "4        FAR  1950  "
      ]
     },
     "execution_count": 52,
     "metadata": {},
     "output_type": "execute_result"
    }
   ],
   "source": [
    "race_file['fastest_laps'].head(5)"
   ]
  },
  {
   "cell_type": "markdown",
   "metadata": {
    "id": "JdQkCT6GUlCy"
   },
   "source": [
    "### 9. constructor_standings"
   ]
  },
  {
   "cell_type": "code",
   "execution_count": 55,
   "metadata": {
    "colab": {
     "base_uri": "https://localhost:8080/"
    },
    "id": "Z8HBerC9UlzP",
    "outputId": "a76c6b2c-3c45-49ea-ec99-13fa279723af"
   },
   "outputs": [
    {
     "name": "stdout",
     "output_type": "stream",
     "text": [
      "<class 'pandas.core.frame.DataFrame'>\n",
      "RangeIndex: 675 entries, 0 to 674\n",
      "Data columns (total 4 columns):\n",
      " #   Column  Non-Null Count  Dtype  \n",
      "---  ------  --------------  -----  \n",
      " 0   Pos     675 non-null    object \n",
      " 1   Team    675 non-null    object \n",
      " 2   PTS     675 non-null    float64\n",
      " 3   Year    675 non-null    int64  \n",
      "dtypes: float64(1), int64(1), object(2)\n",
      "memory usage: 21.2+ KB\n"
     ]
    }
   ],
   "source": [
    "race_file['constructor_standings'].info()"
   ]
  },
  {
   "cell_type": "code",
   "execution_count": 57,
   "metadata": {
    "colab": {
     "base_uri": "https://localhost:8080/",
     "height": 0
    },
    "id": "N046oBFgUmV4",
    "outputId": "803af7dc-6788-4d5b-d960-a76b208c5b8a"
   },
   "outputs": [
    {
     "data": {
      "text/html": [
       "<div>\n",
       "<style scoped>\n",
       "    .dataframe tbody tr th:only-of-type {\n",
       "        vertical-align: middle;\n",
       "    }\n",
       "\n",
       "    .dataframe tbody tr th {\n",
       "        vertical-align: top;\n",
       "    }\n",
       "\n",
       "    .dataframe thead th {\n",
       "        text-align: right;\n",
       "    }\n",
       "</style>\n",
       "<table border=\"1\" class=\"dataframe\">\n",
       "  <thead>\n",
       "    <tr style=\"text-align: right;\">\n",
       "      <th></th>\n",
       "      <th>Pos</th>\n",
       "      <th>Team</th>\n",
       "      <th>PTS</th>\n",
       "      <th>Year</th>\n",
       "    </tr>\n",
       "  </thead>\n",
       "  <tbody>\n",
       "    <tr>\n",
       "      <th>0</th>\n",
       "      <td>1</td>\n",
       "      <td>Vanwall</td>\n",
       "      <td>48.0</td>\n",
       "      <td>1958</td>\n",
       "    </tr>\n",
       "    <tr>\n",
       "      <th>1</th>\n",
       "      <td>2</td>\n",
       "      <td>Ferrari</td>\n",
       "      <td>40.0</td>\n",
       "      <td>1958</td>\n",
       "    </tr>\n",
       "    <tr>\n",
       "      <th>2</th>\n",
       "      <td>3</td>\n",
       "      <td>Cooper Climax</td>\n",
       "      <td>31.0</td>\n",
       "      <td>1958</td>\n",
       "    </tr>\n",
       "    <tr>\n",
       "      <th>3</th>\n",
       "      <td>4</td>\n",
       "      <td>BRM</td>\n",
       "      <td>18.0</td>\n",
       "      <td>1958</td>\n",
       "    </tr>\n",
       "    <tr>\n",
       "      <th>4</th>\n",
       "      <td>5</td>\n",
       "      <td>Maserati</td>\n",
       "      <td>6.0</td>\n",
       "      <td>1958</td>\n",
       "    </tr>\n",
       "  </tbody>\n",
       "</table>\n",
       "</div>"
      ],
      "text/plain": [
       "  Pos           Team   PTS  Year\n",
       "0   1        Vanwall  48.0  1958\n",
       "1   2        Ferrari  40.0  1958\n",
       "2   3  Cooper Climax  31.0  1958\n",
       "3   4            BRM  18.0  1958\n",
       "4   5       Maserati   6.0  1958"
      ]
     },
     "execution_count": 57,
     "metadata": {},
     "output_type": "execute_result"
    }
   ],
   "source": [
    "race_file['constructor_standings'].head( )"
   ]
  },
  {
   "cell_type": "markdown",
   "metadata": {
    "id": "9DgaaknOVd3m"
   },
   "source": [
    "### 10. sprint_results"
   ]
  },
  {
   "cell_type": "code",
   "execution_count": 60,
   "metadata": {
    "colab": {
     "base_uri": "https://localhost:8080/"
    },
    "id": "BdtN9Mt9Vepu",
    "outputId": "4295d52a-08f7-4722-ae1c-c2e3c2b6ed7d"
   },
   "outputs": [
    {
     "name": "stdout",
     "output_type": "stream",
     "text": [
      "<class 'pandas.core.frame.DataFrame'>\n",
      "RangeIndex: 120 entries, 0 to 119\n",
      "Data columns (total 11 columns):\n",
      " #   Column        Non-Null Count  Dtype \n",
      "---  ------        --------------  ----- \n",
      " 0   Pos           120 non-null    object\n",
      " 1   No            120 non-null    int64 \n",
      " 2   Driver        120 non-null    object\n",
      " 3   Car           120 non-null    object\n",
      " 4   Laps          120 non-null    int64 \n",
      " 5   Time/Retired  120 non-null    object\n",
      " 6   PTS           120 non-null    int64 \n",
      " 7   Year          120 non-null    int64 \n",
      " 8   Grand Prix    120 non-null    object\n",
      " 9   Detail        120 non-null    object\n",
      " 10  DriverCode    120 non-null    object\n",
      "dtypes: int64(4), object(7)\n",
      "memory usage: 10.4+ KB\n"
     ]
    }
   ],
   "source": [
    "race_file['sprint_results'].info()"
   ]
  },
  {
   "cell_type": "code",
   "execution_count": 62,
   "metadata": {
    "colab": {
     "base_uri": "https://localhost:8080/",
     "height": 0
    },
    "id": "ACnxNyrGVfV4",
    "outputId": "a2152d5c-b0a6-4857-adbf-f778ac71f0e4"
   },
   "outputs": [
    {
     "data": {
      "text/html": [
       "<div>\n",
       "<style scoped>\n",
       "    .dataframe tbody tr th:only-of-type {\n",
       "        vertical-align: middle;\n",
       "    }\n",
       "\n",
       "    .dataframe tbody tr th {\n",
       "        vertical-align: top;\n",
       "    }\n",
       "\n",
       "    .dataframe thead th {\n",
       "        text-align: right;\n",
       "    }\n",
       "</style>\n",
       "<table border=\"1\" class=\"dataframe\">\n",
       "  <thead>\n",
       "    <tr style=\"text-align: right;\">\n",
       "      <th></th>\n",
       "      <th>Pos</th>\n",
       "      <th>No</th>\n",
       "      <th>Driver</th>\n",
       "      <th>Car</th>\n",
       "      <th>Laps</th>\n",
       "      <th>Time/Retired</th>\n",
       "      <th>PTS</th>\n",
       "      <th>Year</th>\n",
       "      <th>Grand Prix</th>\n",
       "      <th>Detail</th>\n",
       "      <th>DriverCode</th>\n",
       "    </tr>\n",
       "  </thead>\n",
       "  <tbody>\n",
       "    <tr>\n",
       "      <th>0</th>\n",
       "      <td>1</td>\n",
       "      <td>33</td>\n",
       "      <td>Max Verstappen</td>\n",
       "      <td>Red Bull Racing Honda</td>\n",
       "      <td>17</td>\n",
       "      <td>25:38.426</td>\n",
       "      <td>3</td>\n",
       "      <td>2021</td>\n",
       "      <td>Great Britain</td>\n",
       "      <td>Sprint-Results</td>\n",
       "      <td>VER</td>\n",
       "    </tr>\n",
       "    <tr>\n",
       "      <th>1</th>\n",
       "      <td>2</td>\n",
       "      <td>44</td>\n",
       "      <td>Lewis Hamilton</td>\n",
       "      <td>Mercedes</td>\n",
       "      <td>17</td>\n",
       "      <td>+1.430s</td>\n",
       "      <td>2</td>\n",
       "      <td>2021</td>\n",
       "      <td>Great Britain</td>\n",
       "      <td>Sprint-Results</td>\n",
       "      <td>HAM</td>\n",
       "    </tr>\n",
       "    <tr>\n",
       "      <th>2</th>\n",
       "      <td>3</td>\n",
       "      <td>77</td>\n",
       "      <td>Valtteri Bottas</td>\n",
       "      <td>Mercedes</td>\n",
       "      <td>17</td>\n",
       "      <td>+7.502s</td>\n",
       "      <td>1</td>\n",
       "      <td>2021</td>\n",
       "      <td>Great Britain</td>\n",
       "      <td>Sprint-Results</td>\n",
       "      <td>BOT</td>\n",
       "    </tr>\n",
       "    <tr>\n",
       "      <th>3</th>\n",
       "      <td>4</td>\n",
       "      <td>16</td>\n",
       "      <td>Charles Leclerc</td>\n",
       "      <td>Ferrari</td>\n",
       "      <td>17</td>\n",
       "      <td>+11.278s</td>\n",
       "      <td>0</td>\n",
       "      <td>2021</td>\n",
       "      <td>Great Britain</td>\n",
       "      <td>Sprint-Results</td>\n",
       "      <td>LEC</td>\n",
       "    </tr>\n",
       "    <tr>\n",
       "      <th>4</th>\n",
       "      <td>5</td>\n",
       "      <td>4</td>\n",
       "      <td>Lando Norris</td>\n",
       "      <td>McLaren Mercedes</td>\n",
       "      <td>17</td>\n",
       "      <td>+24.111s</td>\n",
       "      <td>0</td>\n",
       "      <td>2021</td>\n",
       "      <td>Great Britain</td>\n",
       "      <td>Sprint-Results</td>\n",
       "      <td>NOR</td>\n",
       "    </tr>\n",
       "  </tbody>\n",
       "</table>\n",
       "</div>"
      ],
      "text/plain": [
       "  Pos  No           Driver                    Car  Laps Time/Retired  PTS  \\\n",
       "0   1  33   Max Verstappen  Red Bull Racing Honda    17    25:38.426    3   \n",
       "1   2  44   Lewis Hamilton               Mercedes    17      +1.430s    2   \n",
       "2   3  77  Valtteri Bottas               Mercedes    17      +7.502s    1   \n",
       "3   4  16  Charles Leclerc                Ferrari    17     +11.278s    0   \n",
       "4   5   4     Lando Norris       McLaren Mercedes    17     +24.111s    0   \n",
       "\n",
       "   Year     Grand Prix          Detail DriverCode  \n",
       "0  2021  Great Britain  Sprint-Results        VER  \n",
       "1  2021  Great Britain  Sprint-Results        HAM  \n",
       "2  2021  Great Britain  Sprint-Results        BOT  \n",
       "3  2021  Great Britain  Sprint-Results        LEC  \n",
       "4  2021  Great Britain  Sprint-Results        NOR  "
      ]
     },
     "execution_count": 62,
     "metadata": {},
     "output_type": "execute_result"
    }
   ],
   "source": [
    "race_file['sprint_results'].head(5)"
   ]
  },
  {
   "cell_type": "markdown",
   "metadata": {
    "id": "dmk8cvrTVgqz"
   },
   "source": [
    "### 11. sprint_grid"
   ]
  },
  {
   "cell_type": "code",
   "execution_count": 65,
   "metadata": {
    "colab": {
     "base_uri": "https://localhost:8080/"
    },
    "id": "bwSatRIQVgLD",
    "outputId": "4cdc108c-1a29-4b5d-97e1-35e7a3f51721"
   },
   "outputs": [
    {
     "name": "stdout",
     "output_type": "stream",
     "text": [
      "<class 'pandas.core.frame.DataFrame'>\n",
      "RangeIndex: 120 entries, 0 to 119\n",
      "Data columns (total 9 columns):\n",
      " #   Column      Non-Null Count  Dtype \n",
      "---  ------      --------------  ----- \n",
      " 0   Pos         120 non-null    int64 \n",
      " 1   No          120 non-null    int64 \n",
      " 2   Driver      120 non-null    object\n",
      " 3   Car         120 non-null    object\n",
      " 4   Time        116 non-null    object\n",
      " 5   Year        120 non-null    int64 \n",
      " 6   Grand Prix  120 non-null    object\n",
      " 7   Detail      120 non-null    object\n",
      " 8   DriverCode  120 non-null    object\n",
      "dtypes: int64(3), object(6)\n",
      "memory usage: 8.6+ KB\n"
     ]
    }
   ],
   "source": [
    "race_file['sprint_grid'].info()"
   ]
  },
  {
   "cell_type": "code",
   "execution_count": 67,
   "metadata": {
    "colab": {
     "base_uri": "https://localhost:8080/",
     "height": 0
    },
    "id": "wtaT015WViWT",
    "outputId": "a05c25b5-969f-436d-b815-6f3b5032ec78"
   },
   "outputs": [
    {
     "data": {
      "text/html": [
       "<div>\n",
       "<style scoped>\n",
       "    .dataframe tbody tr th:only-of-type {\n",
       "        vertical-align: middle;\n",
       "    }\n",
       "\n",
       "    .dataframe tbody tr th {\n",
       "        vertical-align: top;\n",
       "    }\n",
       "\n",
       "    .dataframe thead th {\n",
       "        text-align: right;\n",
       "    }\n",
       "</style>\n",
       "<table border=\"1\" class=\"dataframe\">\n",
       "  <thead>\n",
       "    <tr style=\"text-align: right;\">\n",
       "      <th></th>\n",
       "      <th>Pos</th>\n",
       "      <th>No</th>\n",
       "      <th>Driver</th>\n",
       "      <th>Car</th>\n",
       "      <th>Time</th>\n",
       "      <th>Year</th>\n",
       "      <th>Grand Prix</th>\n",
       "      <th>Detail</th>\n",
       "      <th>DriverCode</th>\n",
       "    </tr>\n",
       "  </thead>\n",
       "  <tbody>\n",
       "    <tr>\n",
       "      <th>0</th>\n",
       "      <td>1</td>\n",
       "      <td>44</td>\n",
       "      <td>Lewis Hamilton</td>\n",
       "      <td>Mercedes</td>\n",
       "      <td>1:26.134</td>\n",
       "      <td>2021</td>\n",
       "      <td>Great Britain</td>\n",
       "      <td>Sprint-Grid</td>\n",
       "      <td>HAM</td>\n",
       "    </tr>\n",
       "    <tr>\n",
       "      <th>1</th>\n",
       "      <td>2</td>\n",
       "      <td>33</td>\n",
       "      <td>Max Verstappen</td>\n",
       "      <td>Red Bull Racing Honda</td>\n",
       "      <td>1:26.209</td>\n",
       "      <td>2021</td>\n",
       "      <td>Great Britain</td>\n",
       "      <td>Sprint-Grid</td>\n",
       "      <td>VER</td>\n",
       "    </tr>\n",
       "    <tr>\n",
       "      <th>2</th>\n",
       "      <td>3</td>\n",
       "      <td>77</td>\n",
       "      <td>Valtteri Bottas</td>\n",
       "      <td>Mercedes</td>\n",
       "      <td>1:26.328</td>\n",
       "      <td>2021</td>\n",
       "      <td>Great Britain</td>\n",
       "      <td>Sprint-Grid</td>\n",
       "      <td>BOT</td>\n",
       "    </tr>\n",
       "    <tr>\n",
       "      <th>3</th>\n",
       "      <td>4</td>\n",
       "      <td>16</td>\n",
       "      <td>Charles Leclerc</td>\n",
       "      <td>Ferrari</td>\n",
       "      <td>1:26.828</td>\n",
       "      <td>2021</td>\n",
       "      <td>Great Britain</td>\n",
       "      <td>Sprint-Grid</td>\n",
       "      <td>LEC</td>\n",
       "    </tr>\n",
       "    <tr>\n",
       "      <th>4</th>\n",
       "      <td>5</td>\n",
       "      <td>11</td>\n",
       "      <td>Sergio Perez</td>\n",
       "      <td>Red Bull Racing Honda</td>\n",
       "      <td>1:26.844</td>\n",
       "      <td>2021</td>\n",
       "      <td>Great Britain</td>\n",
       "      <td>Sprint-Grid</td>\n",
       "      <td>PER</td>\n",
       "    </tr>\n",
       "  </tbody>\n",
       "</table>\n",
       "</div>"
      ],
      "text/plain": [
       "   Pos  No           Driver                    Car      Time  Year  \\\n",
       "0    1  44   Lewis Hamilton               Mercedes  1:26.134  2021   \n",
       "1    2  33   Max Verstappen  Red Bull Racing Honda  1:26.209  2021   \n",
       "2    3  77  Valtteri Bottas               Mercedes  1:26.328  2021   \n",
       "3    4  16  Charles Leclerc                Ferrari  1:26.828  2021   \n",
       "4    5  11     Sergio Perez  Red Bull Racing Honda  1:26.844  2021   \n",
       "\n",
       "      Grand Prix       Detail DriverCode  \n",
       "0  Great Britain  Sprint-Grid        HAM  \n",
       "1  Great Britain  Sprint-Grid        VER  \n",
       "2  Great Britain  Sprint-Grid        BOT  \n",
       "3  Great Britain  Sprint-Grid        LEC  \n",
       "4  Great Britain  Sprint-Grid        PER  "
      ]
     },
     "execution_count": 67,
     "metadata": {},
     "output_type": "execute_result"
    }
   ],
   "source": [
    "race_file['sprint_grid'].head()"
   ]
  },
  {
   "cell_type": "markdown",
   "metadata": {
    "id": "prmeUQroVjGB"
   },
   "source": [
    "### 12. race_summaries"
   ]
  },
  {
   "cell_type": "code",
   "execution_count": 70,
   "metadata": {
    "colab": {
     "base_uri": "https://localhost:8080/"
    },
    "id": "Y83FWJcKVjsY",
    "outputId": "660eeee6-e75c-44ce-a97b-140c585ee374"
   },
   "outputs": [
    {
     "name": "stdout",
     "output_type": "stream",
     "text": [
      "<class 'pandas.core.frame.DataFrame'>\n",
      "RangeIndex: 1082 entries, 0 to 1081\n",
      "Data columns (total 8 columns):\n",
      " #   Column      Non-Null Count  Dtype  \n",
      "---  ------      --------------  -----  \n",
      " 0   Grand Prix  1082 non-null   object \n",
      " 1   Date        1082 non-null   object \n",
      " 2   Winner      1082 non-null   object \n",
      " 3   Car         1082 non-null   object \n",
      " 4   Laps        1079 non-null   float64\n",
      " 5   Time        1079 non-null   object \n",
      " 6   WinnerCode  1082 non-null   object \n",
      " 7   Year        1082 non-null   int64  \n",
      "dtypes: float64(1), int64(1), object(6)\n",
      "memory usage: 67.8+ KB\n"
     ]
    }
   ],
   "source": [
    "race_file['race_summaries'].info()"
   ]
  },
  {
   "cell_type": "code",
   "execution_count": 72,
   "metadata": {
    "colab": {
     "base_uri": "https://localhost:8080/",
     "height": 0
    },
    "id": "fAenOztqVkTY",
    "outputId": "ccf3ab60-87d7-4853-da27-4a167b09ae6f"
   },
   "outputs": [
    {
     "data": {
      "text/html": [
       "<div>\n",
       "<style scoped>\n",
       "    .dataframe tbody tr th:only-of-type {\n",
       "        vertical-align: middle;\n",
       "    }\n",
       "\n",
       "    .dataframe tbody tr th {\n",
       "        vertical-align: top;\n",
       "    }\n",
       "\n",
       "    .dataframe thead th {\n",
       "        text-align: right;\n",
       "    }\n",
       "</style>\n",
       "<table border=\"1\" class=\"dataframe\">\n",
       "  <thead>\n",
       "    <tr style=\"text-align: right;\">\n",
       "      <th></th>\n",
       "      <th>Grand Prix</th>\n",
       "      <th>Date</th>\n",
       "      <th>Winner</th>\n",
       "      <th>Car</th>\n",
       "      <th>Laps</th>\n",
       "      <th>Time</th>\n",
       "      <th>WinnerCode</th>\n",
       "      <th>Year</th>\n",
       "    </tr>\n",
       "  </thead>\n",
       "  <tbody>\n",
       "    <tr>\n",
       "      <th>0</th>\n",
       "      <td>Great Britain</td>\n",
       "      <td>13 May 1950</td>\n",
       "      <td>Nino Farina</td>\n",
       "      <td>Alfa Romeo</td>\n",
       "      <td>70.0</td>\n",
       "      <td>2:13:23.600</td>\n",
       "      <td>FAR</td>\n",
       "      <td>1950</td>\n",
       "    </tr>\n",
       "    <tr>\n",
       "      <th>1</th>\n",
       "      <td>Monaco</td>\n",
       "      <td>21 May 1950</td>\n",
       "      <td>Juan Manuel Fangio</td>\n",
       "      <td>Alfa Romeo</td>\n",
       "      <td>100.0</td>\n",
       "      <td>3:13:18.700</td>\n",
       "      <td>FAN</td>\n",
       "      <td>1950</td>\n",
       "    </tr>\n",
       "    <tr>\n",
       "      <th>2</th>\n",
       "      <td>Indianapolis 500</td>\n",
       "      <td>30 May 1950</td>\n",
       "      <td>Johnnie Parsons</td>\n",
       "      <td>Kurtis Kraft Offenhauser</td>\n",
       "      <td>138.0</td>\n",
       "      <td>2:46:55.970</td>\n",
       "      <td>PAR</td>\n",
       "      <td>1950</td>\n",
       "    </tr>\n",
       "    <tr>\n",
       "      <th>3</th>\n",
       "      <td>Switzerland</td>\n",
       "      <td>04 Jun 1950</td>\n",
       "      <td>Nino Farina</td>\n",
       "      <td>Alfa Romeo</td>\n",
       "      <td>42.0</td>\n",
       "      <td>2:02:53.700</td>\n",
       "      <td>FAR</td>\n",
       "      <td>1950</td>\n",
       "    </tr>\n",
       "    <tr>\n",
       "      <th>4</th>\n",
       "      <td>Belgium</td>\n",
       "      <td>18 Jun 1950</td>\n",
       "      <td>Juan Manuel Fangio</td>\n",
       "      <td>Alfa Romeo</td>\n",
       "      <td>35.0</td>\n",
       "      <td>2:47:26.000</td>\n",
       "      <td>FAN</td>\n",
       "      <td>1950</td>\n",
       "    </tr>\n",
       "  </tbody>\n",
       "</table>\n",
       "</div>"
      ],
      "text/plain": [
       "         Grand Prix         Date              Winner  \\\n",
       "0     Great Britain  13 May 1950         Nino Farina   \n",
       "1            Monaco  21 May 1950  Juan Manuel Fangio   \n",
       "2  Indianapolis 500  30 May 1950     Johnnie Parsons   \n",
       "3       Switzerland  04 Jun 1950         Nino Farina   \n",
       "4           Belgium  18 Jun 1950  Juan Manuel Fangio   \n",
       "\n",
       "                        Car   Laps         Time WinnerCode  Year  \n",
       "0                Alfa Romeo   70.0  2:13:23.600        FAR  1950  \n",
       "1                Alfa Romeo  100.0  3:13:18.700        FAN  1950  \n",
       "2  Kurtis Kraft Offenhauser  138.0  2:46:55.970        PAR  1950  \n",
       "3                Alfa Romeo   42.0  2:02:53.700        FAR  1950  \n",
       "4                Alfa Romeo   35.0  2:47:26.000        FAN  1950  "
      ]
     },
     "execution_count": 72,
     "metadata": {},
     "output_type": "execute_result"
    }
   ],
   "source": [
    "race_file['race_summaries'].head()"
   ]
  },
  {
   "cell_type": "markdown",
   "metadata": {
    "id": "Mxsmy061VlLb"
   },
   "source": [
    "### 13. team_details"
   ]
  },
  {
   "cell_type": "code",
   "execution_count": 75,
   "metadata": {
    "colab": {
     "base_uri": "https://localhost:8080/"
    },
    "id": "fhTcQlA0VltJ",
    "outputId": "857e12e0-84b7-41a6-ea4c-cb258ffc557c"
   },
   "outputs": [
    {
     "name": "stdout",
     "output_type": "stream",
     "text": [
      "<class 'pandas.core.frame.DataFrame'>\n",
      "RangeIndex: 10334 entries, 0 to 10333\n",
      "Data columns (total 5 columns):\n",
      " #   Column      Non-Null Count  Dtype  \n",
      "---  ------      --------------  -----  \n",
      " 0   Grand Prix  10334 non-null  object \n",
      " 1   Date        10334 non-null  object \n",
      " 2   PTS         10334 non-null  float64\n",
      " 3   Year        10334 non-null  int64  \n",
      " 4   Team        10334 non-null  object \n",
      "dtypes: float64(1), int64(1), object(3)\n",
      "memory usage: 403.8+ KB\n"
     ]
    }
   ],
   "source": [
    "race_file['team_details'].info()"
   ]
  },
  {
   "cell_type": "code",
   "execution_count": 77,
   "metadata": {
    "colab": {
     "base_uri": "https://localhost:8080/",
     "height": 0
    },
    "id": "ajnjDadHVmbr",
    "outputId": "416de9a4-e4cf-4446-bd28-6f3452beb5bc"
   },
   "outputs": [
    {
     "data": {
      "text/html": [
       "<div>\n",
       "<style scoped>\n",
       "    .dataframe tbody tr th:only-of-type {\n",
       "        vertical-align: middle;\n",
       "    }\n",
       "\n",
       "    .dataframe tbody tr th {\n",
       "        vertical-align: top;\n",
       "    }\n",
       "\n",
       "    .dataframe thead th {\n",
       "        text-align: right;\n",
       "    }\n",
       "</style>\n",
       "<table border=\"1\" class=\"dataframe\">\n",
       "  <thead>\n",
       "    <tr style=\"text-align: right;\">\n",
       "      <th></th>\n",
       "      <th>Grand Prix</th>\n",
       "      <th>Date</th>\n",
       "      <th>PTS</th>\n",
       "      <th>Year</th>\n",
       "      <th>Team</th>\n",
       "    </tr>\n",
       "  </thead>\n",
       "  <tbody>\n",
       "    <tr>\n",
       "      <th>0</th>\n",
       "      <td>Monaco</td>\n",
       "      <td>18 May 1958</td>\n",
       "      <td>2.0</td>\n",
       "      <td>1958</td>\n",
       "      <td>Brm</td>\n",
       "    </tr>\n",
       "    <tr>\n",
       "      <th>1</th>\n",
       "      <td>Netherlands</td>\n",
       "      <td>26 May 1958</td>\n",
       "      <td>6.0</td>\n",
       "      <td>1958</td>\n",
       "      <td>Brm</td>\n",
       "    </tr>\n",
       "    <tr>\n",
       "      <th>2</th>\n",
       "      <td>Belgium</td>\n",
       "      <td>15 Jun 1958</td>\n",
       "      <td>2.0</td>\n",
       "      <td>1958</td>\n",
       "      <td>Brm</td>\n",
       "    </tr>\n",
       "    <tr>\n",
       "      <th>3</th>\n",
       "      <td>France</td>\n",
       "      <td>06 Jul 1958</td>\n",
       "      <td>0.0</td>\n",
       "      <td>1958</td>\n",
       "      <td>Brm</td>\n",
       "    </tr>\n",
       "    <tr>\n",
       "      <th>4</th>\n",
       "      <td>Great Britain</td>\n",
       "      <td>19 Jul 1958</td>\n",
       "      <td>2.0</td>\n",
       "      <td>1958</td>\n",
       "      <td>Brm</td>\n",
       "    </tr>\n",
       "  </tbody>\n",
       "</table>\n",
       "</div>"
      ],
      "text/plain": [
       "      Grand Prix         Date  PTS  Year Team\n",
       "0         Monaco  18 May 1958  2.0  1958  Brm\n",
       "1    Netherlands  26 May 1958  6.0  1958  Brm\n",
       "2        Belgium  15 Jun 1958  2.0  1958  Brm\n",
       "3         France  06 Jul 1958  0.0  1958  Brm\n",
       "4  Great Britain  19 Jul 1958  2.0  1958  Brm"
      ]
     },
     "execution_count": 77,
     "metadata": {},
     "output_type": "execute_result"
    }
   ],
   "source": [
    "race_file['team_details'].head(5)"
   ]
  },
  {
   "cell_type": "markdown",
   "metadata": {
    "id": "XvFMuN47WCK5"
   },
   "source": [
    "### 14. starting_grids"
   ]
  },
  {
   "cell_type": "code",
   "execution_count": 80,
   "metadata": {
    "colab": {
     "base_uri": "https://localhost:8080/"
    },
    "id": "7-SZyg2HWJR5",
    "outputId": "c8f69da6-00ac-4839-b1d8-9ba781ef8803"
   },
   "outputs": [
    {
     "name": "stdout",
     "output_type": "stream",
     "text": [
      "<class 'pandas.core.frame.DataFrame'>\n",
      "RangeIndex: 22529 entries, 0 to 22528\n",
      "Data columns (total 9 columns):\n",
      " #   Column      Non-Null Count  Dtype \n",
      "---  ------      --------------  ----- \n",
      " 0   Car         22527 non-null  object\n",
      " 1   Detail      22529 non-null  object\n",
      " 2   Driver      22529 non-null  object\n",
      " 3   DriverCode  22529 non-null  object\n",
      " 4   Grand Prix  22529 non-null  object\n",
      " 5   No          22529 non-null  int64 \n",
      " 6   Pos         22529 non-null  int64 \n",
      " 7   Time        15657 non-null  object\n",
      " 8   Year        22529 non-null  int64 \n",
      "dtypes: int64(3), object(6)\n",
      "memory usage: 1.5+ MB\n"
     ]
    }
   ],
   "source": [
    "race_file['starting_grids'].info()"
   ]
  },
  {
   "cell_type": "code",
   "execution_count": 82,
   "metadata": {
    "colab": {
     "base_uri": "https://localhost:8080/",
     "height": 0
    },
    "id": "nbLUQD6XWKpE",
    "outputId": "624939af-5a77-435c-904a-6f799a2e0f7a"
   },
   "outputs": [
    {
     "data": {
      "text/html": [
       "<div>\n",
       "<style scoped>\n",
       "    .dataframe tbody tr th:only-of-type {\n",
       "        vertical-align: middle;\n",
       "    }\n",
       "\n",
       "    .dataframe tbody tr th {\n",
       "        vertical-align: top;\n",
       "    }\n",
       "\n",
       "    .dataframe thead th {\n",
       "        text-align: right;\n",
       "    }\n",
       "</style>\n",
       "<table border=\"1\" class=\"dataframe\">\n",
       "  <thead>\n",
       "    <tr style=\"text-align: right;\">\n",
       "      <th></th>\n",
       "      <th>Car</th>\n",
       "      <th>Detail</th>\n",
       "      <th>Driver</th>\n",
       "      <th>DriverCode</th>\n",
       "      <th>Grand Prix</th>\n",
       "      <th>No</th>\n",
       "      <th>Pos</th>\n",
       "      <th>Time</th>\n",
       "      <th>Year</th>\n",
       "    </tr>\n",
       "  </thead>\n",
       "  <tbody>\n",
       "    <tr>\n",
       "      <th>0</th>\n",
       "      <td>Alfa Romeo</td>\n",
       "      <td>Starting-Grid</td>\n",
       "      <td>Juan Manuel Fangio</td>\n",
       "      <td>FAN</td>\n",
       "      <td>Monaco</td>\n",
       "      <td>34</td>\n",
       "      <td>1</td>\n",
       "      <td>1:50.200</td>\n",
       "      <td>1950</td>\n",
       "    </tr>\n",
       "    <tr>\n",
       "      <th>1</th>\n",
       "      <td>Alfa Romeo</td>\n",
       "      <td>Starting-Grid</td>\n",
       "      <td>Nino Farina</td>\n",
       "      <td>FAR</td>\n",
       "      <td>Monaco</td>\n",
       "      <td>32</td>\n",
       "      <td>2</td>\n",
       "      <td>NaN</td>\n",
       "      <td>1950</td>\n",
       "    </tr>\n",
       "    <tr>\n",
       "      <th>2</th>\n",
       "      <td>Maserati</td>\n",
       "      <td>Starting-Grid</td>\n",
       "      <td>Jose Froilan Gonzalez</td>\n",
       "      <td>GON</td>\n",
       "      <td>Monaco</td>\n",
       "      <td>2</td>\n",
       "      <td>3</td>\n",
       "      <td>NaN</td>\n",
       "      <td>1950</td>\n",
       "    </tr>\n",
       "    <tr>\n",
       "      <th>3</th>\n",
       "      <td>Talbot-Lago</td>\n",
       "      <td>Starting-Grid</td>\n",
       "      <td>Philippe Etancelin</td>\n",
       "      <td>ETA</td>\n",
       "      <td>Monaco</td>\n",
       "      <td>14</td>\n",
       "      <td>4</td>\n",
       "      <td>NaN</td>\n",
       "      <td>1950</td>\n",
       "    </tr>\n",
       "    <tr>\n",
       "      <th>4</th>\n",
       "      <td>Alfa Romeo</td>\n",
       "      <td>Starting-Grid</td>\n",
       "      <td>Luigi Fagioli</td>\n",
       "      <td>FAG</td>\n",
       "      <td>Monaco</td>\n",
       "      <td>36</td>\n",
       "      <td>5</td>\n",
       "      <td>NaN</td>\n",
       "      <td>1950</td>\n",
       "    </tr>\n",
       "  </tbody>\n",
       "</table>\n",
       "</div>"
      ],
      "text/plain": [
       "           Car         Detail                 Driver DriverCode Grand Prix  \\\n",
       "0   Alfa Romeo  Starting-Grid     Juan Manuel Fangio        FAN     Monaco   \n",
       "1   Alfa Romeo  Starting-Grid            Nino Farina        FAR     Monaco   \n",
       "2     Maserati  Starting-Grid  Jose Froilan Gonzalez        GON     Monaco   \n",
       "3  Talbot-Lago  Starting-Grid     Philippe Etancelin        ETA     Monaco   \n",
       "4   Alfa Romeo  Starting-Grid          Luigi Fagioli        FAG     Monaco   \n",
       "\n",
       "   No  Pos      Time  Year  \n",
       "0  34    1  1:50.200  1950  \n",
       "1  32    2       NaN  1950  \n",
       "2   2    3       NaN  1950  \n",
       "3  14    4       NaN  1950  \n",
       "4  36    5       NaN  1950  "
      ]
     },
     "execution_count": 82,
     "metadata": {},
     "output_type": "execute_result"
    }
   ],
   "source": [
    "race_file['starting_grids'].head()"
   ]
  },
  {
   "cell_type": "markdown",
   "metadata": {
    "id": "tyb8V_f4ouOL"
   },
   "source": [
    "# **Datasets used**\n",
    "\n",
    "---\n",
    "\n",
    "\n",
    "\n",
    "\n",
    "\n",
    "*   driver_details\n",
    "*   driver_standings\n",
    "*   fastest_laps\n",
    "*   pitstops\n",
    "*   race_details\n",
    "*   race_summaries\n",
    "*   Qualifyings\n"
   ]
  },
  {
   "cell_type": "code",
   "execution_count": 85,
   "metadata": {
    "colab": {
     "base_uri": "https://localhost:8080/"
    },
    "id": "xTqGkD5QoYUb",
    "outputId": "09764f42-a5d5-49a0-801e-d09f0dfc7669"
   },
   "outputs": [
    {
     "name": "stdout",
     "output_type": "stream",
     "text": [
      "driver_details.csv\n",
      "driver_standings.csv\n",
      "fastest_laps.csv\n",
      "pitstops.csv\n",
      "qualifyings.csv\n",
      "race_details.csv\n",
      "race_summaries.csv\n"
     ]
    }
   ],
   "source": [
    "# select those file are require for our result\n",
    "select={}\n",
    "selected_files = ['driver_details','driver_standings','fastest_laps','qualifyings','pitstops','race_details','race_summaries']\n",
    "for mix in os.listdir(path):\n",
    "    if mix.endswith('.csv')and(mix.split('.')[0] in selected_files):\n",
    "        fee = mix.split('.')[0]\n",
    "        select[fee] = pd.read_csv(os.path.join(path, mix))\n",
    "        print(mix)"
   ]
  },
  {
   "cell_type": "markdown",
   "metadata": {
    "id": "7bG4cVAOLYsf"
   },
   "source": [
    "### Race Summaries"
   ]
  },
  {
   "cell_type": "code",
   "execution_count": 88,
   "metadata": {
    "colab": {
     "base_uri": "https://localhost:8080/",
     "height": 293
    },
    "id": "wtO1SCXHDW7w",
    "outputId": "d53bad65-8866-4c4d-fc64-b31cfd9b2a02"
   },
   "outputs": [
    {
     "data": {
      "text/html": [
       "<div>\n",
       "<style scoped>\n",
       "    .dataframe tbody tr th:only-of-type {\n",
       "        vertical-align: middle;\n",
       "    }\n",
       "\n",
       "    .dataframe tbody tr th {\n",
       "        vertical-align: top;\n",
       "    }\n",
       "\n",
       "    .dataframe thead th {\n",
       "        text-align: right;\n",
       "    }\n",
       "</style>\n",
       "<table border=\"1\" class=\"dataframe\">\n",
       "  <thead>\n",
       "    <tr style=\"text-align: right;\">\n",
       "      <th></th>\n",
       "      <th>Grand Prix</th>\n",
       "      <th>Date</th>\n",
       "      <th>Winner</th>\n",
       "      <th>Car</th>\n",
       "      <th>Laps</th>\n",
       "      <th>Time</th>\n",
       "      <th>WinnerCode</th>\n",
       "      <th>Year</th>\n",
       "    </tr>\n",
       "  </thead>\n",
       "  <tbody>\n",
       "    <tr>\n",
       "      <th>0</th>\n",
       "      <td>Great Britain</td>\n",
       "      <td>13 May 1950</td>\n",
       "      <td>Nino Farina</td>\n",
       "      <td>Alfa Romeo</td>\n",
       "      <td>70.0</td>\n",
       "      <td>2:13:23.600</td>\n",
       "      <td>FAR</td>\n",
       "      <td>1950</td>\n",
       "    </tr>\n",
       "    <tr>\n",
       "      <th>1</th>\n",
       "      <td>Monaco</td>\n",
       "      <td>21 May 1950</td>\n",
       "      <td>Juan Manuel Fangio</td>\n",
       "      <td>Alfa Romeo</td>\n",
       "      <td>100.0</td>\n",
       "      <td>3:13:18.700</td>\n",
       "      <td>FAN</td>\n",
       "      <td>1950</td>\n",
       "    </tr>\n",
       "    <tr>\n",
       "      <th>2</th>\n",
       "      <td>Indianapolis 500</td>\n",
       "      <td>30 May 1950</td>\n",
       "      <td>Johnnie Parsons</td>\n",
       "      <td>Kurtis Kraft Offenhauser</td>\n",
       "      <td>138.0</td>\n",
       "      <td>2:46:55.970</td>\n",
       "      <td>PAR</td>\n",
       "      <td>1950</td>\n",
       "    </tr>\n",
       "    <tr>\n",
       "      <th>3</th>\n",
       "      <td>Switzerland</td>\n",
       "      <td>04 Jun 1950</td>\n",
       "      <td>Nino Farina</td>\n",
       "      <td>Alfa Romeo</td>\n",
       "      <td>42.0</td>\n",
       "      <td>2:02:53.700</td>\n",
       "      <td>FAR</td>\n",
       "      <td>1950</td>\n",
       "    </tr>\n",
       "    <tr>\n",
       "      <th>4</th>\n",
       "      <td>Belgium</td>\n",
       "      <td>18 Jun 1950</td>\n",
       "      <td>Juan Manuel Fangio</td>\n",
       "      <td>Alfa Romeo</td>\n",
       "      <td>35.0</td>\n",
       "      <td>2:47:26.000</td>\n",
       "      <td>FAN</td>\n",
       "      <td>1950</td>\n",
       "    </tr>\n",
       "  </tbody>\n",
       "</table>\n",
       "</div>"
      ],
      "text/plain": [
       "         Grand Prix         Date              Winner  \\\n",
       "0     Great Britain  13 May 1950         Nino Farina   \n",
       "1            Monaco  21 May 1950  Juan Manuel Fangio   \n",
       "2  Indianapolis 500  30 May 1950     Johnnie Parsons   \n",
       "3       Switzerland  04 Jun 1950         Nino Farina   \n",
       "4           Belgium  18 Jun 1950  Juan Manuel Fangio   \n",
       "\n",
       "                        Car   Laps         Time WinnerCode  Year  \n",
       "0                Alfa Romeo   70.0  2:13:23.600        FAR  1950  \n",
       "1                Alfa Romeo  100.0  3:13:18.700        FAN  1950  \n",
       "2  Kurtis Kraft Offenhauser  138.0  2:46:55.970        PAR  1950  \n",
       "3                Alfa Romeo   42.0  2:02:53.700        FAR  1950  \n",
       "4                Alfa Romeo   35.0  2:47:26.000        FAN  1950  "
      ]
     },
     "execution_count": 88,
     "metadata": {},
     "output_type": "execute_result"
    }
   ],
   "source": [
    "select['race_summaries'].head()"
   ]
  },
  {
   "cell_type": "markdown",
   "metadata": {
    "id": "RCra4m8iLdXn"
   },
   "source": [
    "### Fastest laps"
   ]
  },
  {
   "cell_type": "code",
   "execution_count": 91,
   "metadata": {
    "colab": {
     "base_uri": "https://localhost:8080/",
     "height": 206
    },
    "id": "rxzLcVBEDwRr",
    "outputId": "145cb75c-17c5-4eb2-97f4-7c430f0938aa"
   },
   "outputs": [
    {
     "data": {
      "text/html": [
       "<div>\n",
       "<style scoped>\n",
       "    .dataframe tbody tr th:only-of-type {\n",
       "        vertical-align: middle;\n",
       "    }\n",
       "\n",
       "    .dataframe tbody tr th {\n",
       "        vertical-align: top;\n",
       "    }\n",
       "\n",
       "    .dataframe thead th {\n",
       "        text-align: right;\n",
       "    }\n",
       "</style>\n",
       "<table border=\"1\" class=\"dataframe\">\n",
       "  <thead>\n",
       "    <tr style=\"text-align: right;\">\n",
       "      <th></th>\n",
       "      <th>Grand Prix</th>\n",
       "      <th>Driver</th>\n",
       "      <th>Car</th>\n",
       "      <th>Time</th>\n",
       "      <th>DriverCode</th>\n",
       "      <th>Year</th>\n",
       "    </tr>\n",
       "  </thead>\n",
       "  <tbody>\n",
       "    <tr>\n",
       "      <th>0</th>\n",
       "      <td>Great Britain</td>\n",
       "      <td>Nino Farina</td>\n",
       "      <td>Alfa Romeo</td>\n",
       "      <td>1:50.600</td>\n",
       "      <td>FAR</td>\n",
       "      <td>1950</td>\n",
       "    </tr>\n",
       "    <tr>\n",
       "      <th>1</th>\n",
       "      <td>Monaco</td>\n",
       "      <td>Juan Manuel Fangio</td>\n",
       "      <td>Alfa Romeo</td>\n",
       "      <td>1:51.000</td>\n",
       "      <td>FAN</td>\n",
       "      <td>1950</td>\n",
       "    </tr>\n",
       "    <tr>\n",
       "      <th>2</th>\n",
       "      <td>Indianapolis 500</td>\n",
       "      <td>Johnnie Parsons</td>\n",
       "      <td>Kurtis Kraft Offenhauser</td>\n",
       "      <td>NaN</td>\n",
       "      <td>PAR</td>\n",
       "      <td>1950</td>\n",
       "    </tr>\n",
       "    <tr>\n",
       "      <th>3</th>\n",
       "      <td>Switzerland</td>\n",
       "      <td>Nino Farina</td>\n",
       "      <td>Alfa Romeo</td>\n",
       "      <td>2:41.600</td>\n",
       "      <td>FAR</td>\n",
       "      <td>1950</td>\n",
       "    </tr>\n",
       "    <tr>\n",
       "      <th>4</th>\n",
       "      <td>Belgium</td>\n",
       "      <td>Nino Farina</td>\n",
       "      <td>Alfa Romeo</td>\n",
       "      <td>4:34.100</td>\n",
       "      <td>FAR</td>\n",
       "      <td>1950</td>\n",
       "    </tr>\n",
       "  </tbody>\n",
       "</table>\n",
       "</div>"
      ],
      "text/plain": [
       "         Grand Prix              Driver                       Car      Time  \\\n",
       "0     Great Britain         Nino Farina                Alfa Romeo  1:50.600   \n",
       "1            Monaco  Juan Manuel Fangio                Alfa Romeo  1:51.000   \n",
       "2  Indianapolis 500     Johnnie Parsons  Kurtis Kraft Offenhauser       NaN   \n",
       "3       Switzerland         Nino Farina                Alfa Romeo  2:41.600   \n",
       "4           Belgium         Nino Farina                Alfa Romeo  4:34.100   \n",
       "\n",
       "  DriverCode  Year  \n",
       "0        FAR  1950  \n",
       "1        FAN  1950  \n",
       "2        PAR  1950  \n",
       "3        FAR  1950  \n",
       "4        FAR  1950  "
      ]
     },
     "execution_count": 91,
     "metadata": {},
     "output_type": "execute_result"
    }
   ],
   "source": [
    "select['fastest_laps'].head()"
   ]
  },
  {
   "cell_type": "markdown",
   "metadata": {
    "id": "mTKZO8QGLg2m"
   },
   "source": [
    "### Race details"
   ]
  },
  {
   "cell_type": "code",
   "execution_count": 94,
   "metadata": {
    "colab": {
     "base_uri": "https://localhost:8080/",
     "height": 310
    },
    "id": "9HAQBfw0EwIn",
    "outputId": "46f5dfd6-27f4-4fc5-8e29-363795e8de33"
   },
   "outputs": [
    {
     "data": {
      "text/html": [
       "<div>\n",
       "<style scoped>\n",
       "    .dataframe tbody tr th:only-of-type {\n",
       "        vertical-align: middle;\n",
       "    }\n",
       "\n",
       "    .dataframe tbody tr th {\n",
       "        vertical-align: top;\n",
       "    }\n",
       "\n",
       "    .dataframe thead th {\n",
       "        text-align: right;\n",
       "    }\n",
       "</style>\n",
       "<table border=\"1\" class=\"dataframe\">\n",
       "  <thead>\n",
       "    <tr style=\"text-align: right;\">\n",
       "      <th></th>\n",
       "      <th>Pos</th>\n",
       "      <th>No</th>\n",
       "      <th>Driver</th>\n",
       "      <th>Car</th>\n",
       "      <th>Laps</th>\n",
       "      <th>Time/Retired</th>\n",
       "      <th>PTS</th>\n",
       "      <th>Year</th>\n",
       "      <th>Grand Prix</th>\n",
       "      <th>Detail</th>\n",
       "      <th>DriverCode</th>\n",
       "    </tr>\n",
       "  </thead>\n",
       "  <tbody>\n",
       "    <tr>\n",
       "      <th>8556</th>\n",
       "      <td>4</td>\n",
       "      <td>15</td>\n",
       "      <td>Alain Prost</td>\n",
       "      <td>Renault</td>\n",
       "      <td>45.0</td>\n",
       "      <td>+120.750s</td>\n",
       "      <td>3.0</td>\n",
       "      <td>1983</td>\n",
       "      <td>Germany</td>\n",
       "      <td>Race-Result</td>\n",
       "      <td>PRO</td>\n",
       "    </tr>\n",
       "    <tr>\n",
       "      <th>11523</th>\n",
       "      <td>7</td>\n",
       "      <td>25</td>\n",
       "      <td>Thierry Boutsen</td>\n",
       "      <td>Ligier Lamborghini</td>\n",
       "      <td>58.0</td>\n",
       "      <td>+3 laps</td>\n",
       "      <td>0.0</td>\n",
       "      <td>1991</td>\n",
       "      <td>San Marino</td>\n",
       "      <td>Race-Result</td>\n",
       "      <td>BOU</td>\n",
       "    </tr>\n",
       "    <tr>\n",
       "      <th>7937</th>\n",
       "      <td>NC</td>\n",
       "      <td>3</td>\n",
       "      <td>Eddie Cheever</td>\n",
       "      <td>Tyrrell Ford</td>\n",
       "      <td>10.0</td>\n",
       "      <td>DNF</td>\n",
       "      <td>0.0</td>\n",
       "      <td>1981</td>\n",
       "      <td>Las Vegas</td>\n",
       "      <td>Race-Result</td>\n",
       "      <td>CHE</td>\n",
       "    </tr>\n",
       "    <tr>\n",
       "      <th>21978</th>\n",
       "      <td>1</td>\n",
       "      <td>44</td>\n",
       "      <td>Lewis Hamilton</td>\n",
       "      <td>Mercedes</td>\n",
       "      <td>66.0</td>\n",
       "      <td>1:35:29.972</td>\n",
       "      <td>25.0</td>\n",
       "      <td>2018</td>\n",
       "      <td>Spain</td>\n",
       "      <td>Race-Result</td>\n",
       "      <td>HAM</td>\n",
       "    </tr>\n",
       "    <tr>\n",
       "      <th>3219</th>\n",
       "      <td>8</td>\n",
       "      <td>19</td>\n",
       "      <td>Bob Anderson</td>\n",
       "      <td>Brabham Climax</td>\n",
       "      <td>26.0</td>\n",
       "      <td>+2 laps</td>\n",
       "      <td>0.0</td>\n",
       "      <td>1967</td>\n",
       "      <td>Belgium</td>\n",
       "      <td>Race-Result</td>\n",
       "      <td>AND</td>\n",
       "    </tr>\n",
       "  </tbody>\n",
       "</table>\n",
       "</div>"
      ],
      "text/plain": [
       "      Pos  No           Driver                 Car  Laps Time/Retired   PTS  \\\n",
       "8556    4  15      Alain Prost             Renault  45.0    +120.750s   3.0   \n",
       "11523   7  25  Thierry Boutsen  Ligier Lamborghini  58.0      +3 laps   0.0   \n",
       "7937   NC   3    Eddie Cheever        Tyrrell Ford  10.0          DNF   0.0   \n",
       "21978   1  44   Lewis Hamilton            Mercedes  66.0  1:35:29.972  25.0   \n",
       "3219    8  19     Bob Anderson      Brabham Climax  26.0      +2 laps   0.0   \n",
       "\n",
       "       Year  Grand Prix       Detail DriverCode  \n",
       "8556   1983     Germany  Race-Result        PRO  \n",
       "11523  1991  San Marino  Race-Result        BOU  \n",
       "7937   1981   Las Vegas  Race-Result        CHE  \n",
       "21978  2018       Spain  Race-Result        HAM  \n",
       "3219   1967     Belgium  Race-Result        AND  "
      ]
     },
     "execution_count": 94,
     "metadata": {},
     "output_type": "execute_result"
    }
   ],
   "source": [
    "select['race_details'].sample(5)"
   ]
  },
  {
   "cell_type": "code",
   "execution_count": 96,
   "metadata": {
    "colab": {
     "base_uri": "https://localhost:8080/"
    },
    "id": "mIjDKQ3VYysM",
    "outputId": "0cfe845c-689c-43f7-ac6e-9464c37e0dd4"
   },
   "outputs": [
    {
     "data": {
      "text/plain": [
       "Time/Retired\n",
       "+0 lap            75\n",
       "+0.010s            1\n",
       "+0.011s            1\n",
       "+0.014s            1\n",
       "+0.050s            1\n",
       "                ... \n",
       "DNF             9255\n",
       "DNS              107\n",
       "DSQ               48\n",
       "OK                23\n",
       "SHC              108\n",
       "Name: count, Length: 6774, dtype: int64"
      ]
     },
     "execution_count": 96,
     "metadata": {},
     "output_type": "execute_result"
    }
   ],
   "source": [
    "select['race_details'][['Time/Retired']].value_counts().sort_index()"
   ]
  },
  {
   "cell_type": "code",
   "execution_count": 97,
   "metadata": {
    "colab": {
     "base_uri": "https://localhost:8080/"
    },
    "id": "eJACPcYaLvta",
    "outputId": "c89a0c6c-00f1-4657-8cb7-8867914d4954"
   },
   "outputs": [
    {
     "data": {
      "text/plain": [
       "Laps \n",
       "0.0      657\n",
       "1.0      307\n",
       "2.0      221\n",
       "3.0      196\n",
       "4.0      182\n",
       "        ... \n",
       "195.0      4\n",
       "196.0     10\n",
       "197.0      5\n",
       "199.0      3\n",
       "200.0    111\n",
       "Name: count, Length: 172, dtype: int64"
      ]
     },
     "execution_count": 97,
     "metadata": {},
     "output_type": "execute_result"
    }
   ],
   "source": [
    "select['race_details'][['Laps']].value_counts().sort_index()"
   ]
  },
  {
   "cell_type": "code",
   "execution_count": 99,
   "metadata": {
    "colab": {
     "base_uri": "https://localhost:8080/"
    },
    "id": "HEEOBYMFLpzu",
    "outputId": "c7d9989c-465b-49b7-8cb6-8eb673047cc4"
   },
   "outputs": [
    {
     "data": {
      "text/plain": [
       "PTS \n",
       "0.0     16262\n",
       "0.1         3\n",
       "0.5         6\n",
       "1.0      1021\n",
       "1.3         1\n",
       "1.5        16\n",
       "2.0      1076\n",
       "2.5         1\n",
       "3.0       822\n",
       "3.1         1\n",
       "3.3         2\n",
       "3.5         2\n",
       "4.0      1069\n",
       "4.1         1\n",
       "4.5         4\n",
       "5.0       133\n",
       "6.0      1049\n",
       "6.1         1\n",
       "6.5         3\n",
       "7.0        12\n",
       "7.5         1\n",
       "8.0       431\n",
       "8.1         1\n",
       "8.5         2\n",
       "9.0       442\n",
       "10.0      570\n",
       "11.0        6\n",
       "12.0      252\n",
       "12.5        1\n",
       "13.0        7\n",
       "15.0      250\n",
       "16.0        9\n",
       "18.0      240\n",
       "19.0       18\n",
       "20.0        1\n",
       "24.0        1\n",
       "25.0      233\n",
       "26.0       25\n",
       "30.0        1\n",
       "36.0        1\n",
       "50.0        1\n",
       "Name: count, dtype: int64"
      ]
     },
     "execution_count": 99,
     "metadata": {},
     "output_type": "execute_result"
    }
   ],
   "source": [
    "select['race_details'][['PTS']].value_counts().sort_index()"
   ]
  },
  {
   "cell_type": "code",
   "execution_count": 102,
   "metadata": {
    "colab": {
     "base_uri": "https://localhost:8080/"
    },
    "id": "p1TZkvefFsBc",
    "outputId": "32163e16-d5ef-4399-cbb5-10e0c0c24ad8"
   },
   "outputs": [
    {
     "data": {
      "text/plain": [
       "Pos\n",
       "1      1083\n",
       "10      933\n",
       "11      859\n",
       "12      761\n",
       "13      669\n",
       "14      568\n",
       "15      489\n",
       "16      399\n",
       "17      308\n",
       "18      207\n",
       "19      136\n",
       "2      1088\n",
       "20       74\n",
       "21       40\n",
       "22       28\n",
       "23       18\n",
       "24       14\n",
       "25       12\n",
       "26       10\n",
       "27       12\n",
       "28       11\n",
       "29        9\n",
       "3      1088\n",
       "30       12\n",
       "31       12\n",
       "32       10\n",
       "33       11\n",
       "4      1089\n",
       "5      1086\n",
       "6      1079\n",
       "7      1062\n",
       "8      1033\n",
       "9       994\n",
       "DQ       59\n",
       "EX        2\n",
       "NC     8713\n",
       "Name: count, dtype: int64"
      ]
     },
     "execution_count": 102,
     "metadata": {},
     "output_type": "execute_result"
    }
   ],
   "source": [
    "# select['race_details'][['Pos']].value_counts().sort_index(ignore_index=False,level= )\n",
    "select['race_details'][['Pos']].value_counts().sort_index(key=lambda x: x.str.lower())"
   ]
  },
  {
   "cell_type": "code",
   "execution_count": 104,
   "metadata": {
    "colab": {
     "base_uri": "https://localhost:8080/"
    },
    "id": "Wh9iJ74hKt67",
    "outputId": "9541c1c9-a807-4dfd-c80d-01dfed73cb4b"
   },
   "outputs": [
    {
     "data": {
      "text/plain": [
       "No \n",
       "0       34\n",
       "1      783\n",
       "2      908\n",
       "3      934\n",
       "4      921\n",
       "      ... \n",
       "128      1\n",
       "129      1\n",
       "130      1\n",
       "135      1\n",
       "136      1\n",
       "Name: count, Length: 127, dtype: int64"
      ]
     },
     "execution_count": 104,
     "metadata": {},
     "output_type": "execute_result"
    }
   ],
   "source": [
    "select['race_details'][['No']].value_counts().sort_index()"
   ]
  },
  {
   "cell_type": "code",
   "execution_count": 106,
   "metadata": {
    "colab": {
     "base_uri": "https://localhost:8080/"
    },
    "id": "oXkpY2W6LH8A",
    "outputId": "8b0b66c9-c348-4260-c251-15e474c1e669"
   },
   "outputs": [
    {
     "data": {
      "text/plain": [
       "Driver               \n",
       "Adolf Brudes               1\n",
       "Adolfo Schewelm Cruz       1\n",
       "Adrian Campos             17\n",
       "Adrian Sutil             128\n",
       "Aguri Suzuki              62\n",
       "                        ... \n",
       "Yuji Ide                   4\n",
       "Yuki Tsunoda              45\n",
       "Yves Giraud-Cabantous     13\n",
       "Zhou Guanyu               23\n",
       "Zsolt Baumgartner         20\n",
       "Name: count, Length: 781, dtype: int64"
      ]
     },
     "execution_count": 106,
     "metadata": {},
     "output_type": "execute_result"
    }
   ],
   "source": [
    "select['race_details'][['Driver']].value_counts().sort_index()"
   ]
  },
  {
   "cell_type": "markdown",
   "metadata": {
    "id": "XX1D07c9L4Tx"
   },
   "source": [
    "### Driver_standing"
   ]
  },
  {
   "cell_type": "code",
   "execution_count": 109,
   "metadata": {
    "colab": {
     "base_uri": "https://localhost:8080/",
     "height": 206
    },
    "id": "kQpb6Ot5qr1r",
    "outputId": "8840b5f2-e421-41ac-8c20-ada2d7655fb6"
   },
   "outputs": [
    {
     "data": {
      "text/html": [
       "<div>\n",
       "<style scoped>\n",
       "    .dataframe tbody tr th:only-of-type {\n",
       "        vertical-align: middle;\n",
       "    }\n",
       "\n",
       "    .dataframe tbody tr th {\n",
       "        vertical-align: top;\n",
       "    }\n",
       "\n",
       "    .dataframe thead th {\n",
       "        text-align: right;\n",
       "    }\n",
       "</style>\n",
       "<table border=\"1\" class=\"dataframe\">\n",
       "  <thead>\n",
       "    <tr style=\"text-align: right;\">\n",
       "      <th></th>\n",
       "      <th>Pos</th>\n",
       "      <th>Driver</th>\n",
       "      <th>Nationality</th>\n",
       "      <th>Car</th>\n",
       "      <th>PTS</th>\n",
       "      <th>DriverCode</th>\n",
       "      <th>Year</th>\n",
       "    </tr>\n",
       "  </thead>\n",
       "  <tbody>\n",
       "    <tr>\n",
       "      <th>0</th>\n",
       "      <td>1</td>\n",
       "      <td>Nino Farina</td>\n",
       "      <td>ITA</td>\n",
       "      <td>Alfa Romeo</td>\n",
       "      <td>30.0</td>\n",
       "      <td>FAR</td>\n",
       "      <td>1950</td>\n",
       "    </tr>\n",
       "    <tr>\n",
       "      <th>1</th>\n",
       "      <td>2</td>\n",
       "      <td>Juan Manuel Fangio</td>\n",
       "      <td>ARG</td>\n",
       "      <td>Alfa Romeo</td>\n",
       "      <td>27.0</td>\n",
       "      <td>FAN</td>\n",
       "      <td>1950</td>\n",
       "    </tr>\n",
       "    <tr>\n",
       "      <th>2</th>\n",
       "      <td>3</td>\n",
       "      <td>Luigi Fagioli</td>\n",
       "      <td>ITA</td>\n",
       "      <td>Alfa Romeo</td>\n",
       "      <td>24.0</td>\n",
       "      <td>FAG</td>\n",
       "      <td>1950</td>\n",
       "    </tr>\n",
       "    <tr>\n",
       "      <th>3</th>\n",
       "      <td>4</td>\n",
       "      <td>Louis Rosier</td>\n",
       "      <td>FRA</td>\n",
       "      <td>Talbot-Lago</td>\n",
       "      <td>13.0</td>\n",
       "      <td>ROS</td>\n",
       "      <td>1950</td>\n",
       "    </tr>\n",
       "    <tr>\n",
       "      <th>4</th>\n",
       "      <td>5</td>\n",
       "      <td>Alberto Ascari</td>\n",
       "      <td>ITA</td>\n",
       "      <td>Ferrari</td>\n",
       "      <td>11.0</td>\n",
       "      <td>ASC</td>\n",
       "      <td>1950</td>\n",
       "    </tr>\n",
       "  </tbody>\n",
       "</table>\n",
       "</div>"
      ],
      "text/plain": [
       "  Pos              Driver Nationality          Car   PTS DriverCode  Year\n",
       "0   1         Nino Farina         ITA   Alfa Romeo  30.0        FAR  1950\n",
       "1   2  Juan Manuel Fangio         ARG   Alfa Romeo  27.0        FAN  1950\n",
       "2   3       Luigi Fagioli         ITA   Alfa Romeo  24.0        FAG  1950\n",
       "3   4        Louis Rosier         FRA  Talbot-Lago  13.0        ROS  1950\n",
       "4   5      Alberto Ascari         ITA      Ferrari  11.0        ASC  1950"
      ]
     },
     "execution_count": 109,
     "metadata": {},
     "output_type": "execute_result"
    }
   ],
   "source": [
    "select['driver_standings'].head()"
   ]
  },
  {
   "cell_type": "code",
   "execution_count": 111,
   "metadata": {
    "colab": {
     "base_uri": "https://localhost:8080/"
    },
    "id": "FXMbdYVmM7S9",
    "outputId": "e40636e7-95bb-4e29-ddfe-0718b86133a0"
   },
   "outputs": [
    {
     "data": {
      "text/plain": [
       "PTS  \n",
       "0.0      134\n",
       "0.1        1\n",
       "0.5        2\n",
       "1.0      120\n",
       "1.1        1\n",
       "        ... \n",
       "395.5      1\n",
       "397.0      1\n",
       "408.0      1\n",
       "413.0      1\n",
       "454.0      1\n",
       "Name: count, Length: 205, dtype: int64"
      ]
     },
     "execution_count": 111,
     "metadata": {},
     "output_type": "execute_result"
    }
   ],
   "source": [
    "select['driver_standings'][['PTS']].value_counts().sort_index()"
   ]
  },
  {
   "cell_type": "code",
   "execution_count": 113,
   "metadata": {
    "colab": {
     "base_uri": "https://localhost:8080/"
    },
    "id": "aJR6qkblNC3V",
    "outputId": "ec582710-8370-4d65-dc81-c8fc8e5888a0"
   },
   "outputs": [
    {
     "data": {
      "text/plain": [
       "Pos\n",
       "1      73\n",
       "10     75\n",
       "11     76\n",
       "12     78\n",
       "13     81\n",
       "14     66\n",
       "15     81\n",
       "16     72\n",
       "17     67\n",
       "18     97\n",
       "19     74\n",
       "2      75\n",
       "20     44\n",
       "21     32\n",
       "22     34\n",
       "23     24\n",
       "24     16\n",
       "25     13\n",
       "26      9\n",
       "27      4\n",
       "28      1\n",
       "3      73\n",
       "4      75\n",
       "5      71\n",
       "6      77\n",
       "7      77\n",
       "8      75\n",
       "9      77\n",
       "DQ      1\n",
       "Name: count, dtype: int64"
      ]
     },
     "execution_count": 113,
     "metadata": {},
     "output_type": "execute_result"
    }
   ],
   "source": [
    "select['driver_standings'][['Pos']].value_counts().sort_index()"
   ]
  },
  {
   "cell_type": "markdown",
   "metadata": {
    "id": "x8u_Y-VFL_0m"
   },
   "source": [
    "### Driver Details"
   ]
  },
  {
   "cell_type": "code",
   "execution_count": 116,
   "metadata": {
    "colab": {
     "base_uri": "https://localhost:8080/",
     "height": 363
    },
    "id": "3__N8mn2rJmZ",
    "outputId": "68b4192f-c444-4a37-e3c0-a04457097fc6"
   },
   "outputs": [
    {
     "data": {
      "text/html": [
       "<div>\n",
       "<style scoped>\n",
       "    .dataframe tbody tr th:only-of-type {\n",
       "        vertical-align: middle;\n",
       "    }\n",
       "\n",
       "    .dataframe tbody tr th {\n",
       "        vertical-align: top;\n",
       "    }\n",
       "\n",
       "    .dataframe thead th {\n",
       "        text-align: right;\n",
       "    }\n",
       "</style>\n",
       "<table border=\"1\" class=\"dataframe\">\n",
       "  <thead>\n",
       "    <tr style=\"text-align: right;\">\n",
       "      <th></th>\n",
       "      <th>Car</th>\n",
       "      <th>Date</th>\n",
       "      <th>Driver</th>\n",
       "      <th>Grand Prix</th>\n",
       "      <th>PTS</th>\n",
       "      <th>Race Position</th>\n",
       "      <th>Year</th>\n",
       "    </tr>\n",
       "  </thead>\n",
       "  <tbody>\n",
       "    <tr>\n",
       "      <th>0</th>\n",
       "      <td>Ferrari</td>\n",
       "      <td>21 May 1950</td>\n",
       "      <td>Alberto Ascari</td>\n",
       "      <td>Monaco</td>\n",
       "      <td>6.0</td>\n",
       "      <td>2</td>\n",
       "      <td>1950</td>\n",
       "    </tr>\n",
       "    <tr>\n",
       "      <th>1</th>\n",
       "      <td>Ferrari</td>\n",
       "      <td>04 Jun 1950</td>\n",
       "      <td>Alberto Ascari</td>\n",
       "      <td>Switzerland</td>\n",
       "      <td>0.0</td>\n",
       "      <td>DNF</td>\n",
       "      <td>1950</td>\n",
       "    </tr>\n",
       "    <tr>\n",
       "      <th>2</th>\n",
       "      <td>Ferrari</td>\n",
       "      <td>18 Jun 1950</td>\n",
       "      <td>Alberto Ascari</td>\n",
       "      <td>Belgium</td>\n",
       "      <td>2.0</td>\n",
       "      <td>5</td>\n",
       "      <td>1950</td>\n",
       "    </tr>\n",
       "    <tr>\n",
       "      <th>3</th>\n",
       "      <td>Ferrari</td>\n",
       "      <td>03 Sep 1950</td>\n",
       "      <td>Alberto Ascari</td>\n",
       "      <td>Italy</td>\n",
       "      <td>3.0</td>\n",
       "      <td>2</td>\n",
       "      <td>1950</td>\n",
       "    </tr>\n",
       "    <tr>\n",
       "      <th>4</th>\n",
       "      <td>Deidt Offenhauser</td>\n",
       "      <td>30 May 1950</td>\n",
       "      <td>Tony Bettenhausen</td>\n",
       "      <td>Indianapolis 500</td>\n",
       "      <td>1.0</td>\n",
       "      <td>DNF</td>\n",
       "      <td>1950</td>\n",
       "    </tr>\n",
       "    <tr>\n",
       "      <th>5</th>\n",
       "      <td>Kurtis Kraft Offenhauser</td>\n",
       "      <td>30 May 1950</td>\n",
       "      <td>Tony Bettenhausen</td>\n",
       "      <td>Indianapolis 500</td>\n",
       "      <td>1.0</td>\n",
       "      <td>5</td>\n",
       "      <td>1950</td>\n",
       "    </tr>\n",
       "    <tr>\n",
       "      <th>6</th>\n",
       "      <td>Maserati</td>\n",
       "      <td>13 May 1950</td>\n",
       "      <td>Prince Bira</td>\n",
       "      <td>Great Britain</td>\n",
       "      <td>0.0</td>\n",
       "      <td>DNF</td>\n",
       "      <td>1950</td>\n",
       "    </tr>\n",
       "    <tr>\n",
       "      <th>7</th>\n",
       "      <td>Maserati</td>\n",
       "      <td>21 May 1950</td>\n",
       "      <td>Prince Bira</td>\n",
       "      <td>Monaco</td>\n",
       "      <td>2.0</td>\n",
       "      <td>5</td>\n",
       "      <td>1950</td>\n",
       "    </tr>\n",
       "    <tr>\n",
       "      <th>8</th>\n",
       "      <td>Maserati</td>\n",
       "      <td>04 Jun 1950</td>\n",
       "      <td>Prince Bira</td>\n",
       "      <td>Switzerland</td>\n",
       "      <td>3.0</td>\n",
       "      <td>4</td>\n",
       "      <td>1950</td>\n",
       "    </tr>\n",
       "    <tr>\n",
       "      <th>9</th>\n",
       "      <td>Maserati</td>\n",
       "      <td>03 Sep 1950</td>\n",
       "      <td>Prince Bira</td>\n",
       "      <td>Italy</td>\n",
       "      <td>0.0</td>\n",
       "      <td>DNF</td>\n",
       "      <td>1950</td>\n",
       "    </tr>\n",
       "  </tbody>\n",
       "</table>\n",
       "</div>"
      ],
      "text/plain": [
       "                        Car         Date             Driver        Grand Prix  \\\n",
       "0                   Ferrari  21 May 1950     Alberto Ascari            Monaco   \n",
       "1                   Ferrari  04 Jun 1950     Alberto Ascari       Switzerland   \n",
       "2                   Ferrari  18 Jun 1950     Alberto Ascari           Belgium   \n",
       "3                   Ferrari  03 Sep 1950     Alberto Ascari             Italy   \n",
       "4         Deidt Offenhauser  30 May 1950  Tony Bettenhausen  Indianapolis 500   \n",
       "5  Kurtis Kraft Offenhauser  30 May 1950  Tony Bettenhausen  Indianapolis 500   \n",
       "6                  Maserati  13 May 1950        Prince Bira     Great Britain   \n",
       "7                  Maserati  21 May 1950        Prince Bira            Monaco   \n",
       "8                  Maserati  04 Jun 1950        Prince Bira       Switzerland   \n",
       "9                  Maserati  03 Sep 1950        Prince Bira             Italy   \n",
       "\n",
       "   PTS Race Position  Year  \n",
       "0  6.0             2  1950  \n",
       "1  0.0           DNF  1950  \n",
       "2  2.0             5  1950  \n",
       "3  3.0             2  1950  \n",
       "4  1.0           DNF  1950  \n",
       "5  1.0             5  1950  \n",
       "6  0.0           DNF  1950  \n",
       "7  2.0             5  1950  \n",
       "8  3.0             4  1950  \n",
       "9  0.0           DNF  1950  "
      ]
     },
     "execution_count": 116,
     "metadata": {},
     "output_type": "execute_result"
    }
   ],
   "source": [
    "df=select['driver_details']\n",
    "df.head(10)"
   ]
  },
  {
   "cell_type": "code",
   "execution_count": 118,
   "metadata": {
    "colab": {
     "base_uri": "https://localhost:8080/"
    },
    "id": "wsw4GmV_ML3d",
    "outputId": "cf303fe5-ab9e-4151-dd04-1fba1724d169"
   },
   "outputs": [
    {
     "data": {
      "text/plain": [
       "Race Position\n",
       "1                1077\n",
       "10                669\n",
       "11                601\n",
       "12                530\n",
       "13                487\n",
       "14                407\n",
       "15                359\n",
       "16                284\n",
       "17                225\n",
       "18                145\n",
       "19                 91\n",
       "2                1072\n",
       "20                 45\n",
       "21                 23\n",
       "22                 12\n",
       "23                  5\n",
       "24                  1\n",
       "3                1068\n",
       "4                1062\n",
       "5                1052\n",
       "6                1003\n",
       "7                 861\n",
       "8                 820\n",
       "9                 745\n",
       "DNC                75\n",
       "DNF              6924\n",
       "DNS                60\n",
       "DSQ                42\n",
       "EXR                 2\n",
       "SHC                51\n",
       "Name: count, dtype: int64"
      ]
     },
     "execution_count": 118,
     "metadata": {},
     "output_type": "execute_result"
    }
   ],
   "source": [
    "select['driver_details'][['Race Position']].value_counts().sort_index()"
   ]
  },
  {
   "cell_type": "code",
   "execution_count": 120,
   "metadata": {
    "colab": {
     "base_uri": "https://localhost:8080/"
    },
    "id": "EQ8Bgvk8M1Dx",
    "outputId": "a00e3eb5-0fe5-408f-ed8f-4b44d4947896"
   },
   "outputs": [
    {
     "data": {
      "text/plain": [
       "PTS \n",
       "0.0     12085\n",
       "0.1         3\n",
       "0.5         6\n",
       "1.0      1024\n",
       "1.3         1\n",
       "1.5        16\n",
       "2.0      1079\n",
       "2.5         1\n",
       "3.0       824\n",
       "3.1         1\n",
       "3.3         2\n",
       "3.5         2\n",
       "4.0      1068\n",
       "4.1         1\n",
       "4.5         4\n",
       "5.0       134\n",
       "6.0      1049\n",
       "6.1         1\n",
       "6.5         3\n",
       "7.0        12\n",
       "7.5         1\n",
       "8.0       427\n",
       "8.1         1\n",
       "8.5         2\n",
       "9.0       443\n",
       "10.0      568\n",
       "11.0        6\n",
       "12.0      250\n",
       "12.5        1\n",
       "13.0        9\n",
       "15.0      245\n",
       "16.0       11\n",
       "17.0        1\n",
       "18.0      239\n",
       "19.0       17\n",
       "20.0        2\n",
       "22.0        1\n",
       "24.0        3\n",
       "25.0      230\n",
       "26.0       22\n",
       "27.0        3\n",
       "30.0        1\n",
       "32.0        1\n",
       "34.0        2\n",
       "36.0        1\n",
       "50.0        1\n",
       "Name: count, dtype: int64"
      ]
     },
     "execution_count": 120,
     "metadata": {},
     "output_type": "execute_result"
    }
   ],
   "source": [
    "select['driver_details'][['PTS']].value_counts().sort_index()"
   ]
  },
  {
   "cell_type": "markdown",
   "metadata": {
    "id": "ZJzupz_Na_av"
   },
   "source": [
    "### Pitstops"
   ]
  },
  {
   "cell_type": "code",
   "execution_count": 123,
   "metadata": {
    "colab": {
     "base_uri": "https://localhost:8080/",
     "height": 330
    },
    "id": "8zxrGlXXa-gO",
    "outputId": "b79a260b-88af-48af-9e7d-498ee0bede03"
   },
   "outputs": [
    {
     "data": {
      "text/html": [
       "<div>\n",
       "<style scoped>\n",
       "    .dataframe tbody tr th:only-of-type {\n",
       "        vertical-align: middle;\n",
       "    }\n",
       "\n",
       "    .dataframe tbody tr th {\n",
       "        vertical-align: top;\n",
       "    }\n",
       "\n",
       "    .dataframe thead th {\n",
       "        text-align: right;\n",
       "    }\n",
       "</style>\n",
       "<table border=\"1\" class=\"dataframe\">\n",
       "  <thead>\n",
       "    <tr style=\"text-align: right;\">\n",
       "      <th></th>\n",
       "      <th>Stops</th>\n",
       "      <th>No</th>\n",
       "      <th>Driver</th>\n",
       "      <th>Car</th>\n",
       "      <th>Lap</th>\n",
       "      <th>Time of day</th>\n",
       "      <th>Time</th>\n",
       "      <th>Total</th>\n",
       "      <th>Year</th>\n",
       "      <th>Grand Prix</th>\n",
       "      <th>Detail</th>\n",
       "      <th>DriverCode</th>\n",
       "    </tr>\n",
       "  </thead>\n",
       "  <tbody>\n",
       "    <tr>\n",
       "      <th>0</th>\n",
       "      <td>1</td>\n",
       "      <td>20</td>\n",
       "      <td>Erik Comas</td>\n",
       "      <td>Larrousse Ford</td>\n",
       "      <td>1</td>\n",
       "      <td>14:01:34</td>\n",
       "      <td>49.111000000000004</td>\n",
       "      <td>49.111</td>\n",
       "      <td>1994</td>\n",
       "      <td>Pacific</td>\n",
       "      <td>Pit-Stop-Summary</td>\n",
       "      <td>COM</td>\n",
       "    </tr>\n",
       "    <tr>\n",
       "      <th>1</th>\n",
       "      <td>1</td>\n",
       "      <td>3</td>\n",
       "      <td>Ukyo Katayama</td>\n",
       "      <td>Tyrrell Yamaha</td>\n",
       "      <td>17</td>\n",
       "      <td>14:20:46</td>\n",
       "      <td>28.482</td>\n",
       "      <td>28.482</td>\n",
       "      <td>1994</td>\n",
       "      <td>Pacific</td>\n",
       "      <td>Pit-Stop-Summary</td>\n",
       "      <td>KAT</td>\n",
       "    </tr>\n",
       "    <tr>\n",
       "      <th>2</th>\n",
       "      <td>1</td>\n",
       "      <td>7</td>\n",
       "      <td>Mika Hakkinen</td>\n",
       "      <td>McLaren Peugeot</td>\n",
       "      <td>18</td>\n",
       "      <td>14:22:35</td>\n",
       "      <td>43.745</td>\n",
       "      <td>43.745</td>\n",
       "      <td>1994</td>\n",
       "      <td>Pacific</td>\n",
       "      <td>Pit-Stop-Summary</td>\n",
       "      <td>HAK</td>\n",
       "    </tr>\n",
       "    <tr>\n",
       "      <th>3</th>\n",
       "      <td>1</td>\n",
       "      <td>0</td>\n",
       "      <td>Damon Hill</td>\n",
       "      <td>Williams Renault</td>\n",
       "      <td>18</td>\n",
       "      <td>14:23:00</td>\n",
       "      <td>21.991999999999997</td>\n",
       "      <td>21.992</td>\n",
       "      <td>1994</td>\n",
       "      <td>Pacific</td>\n",
       "      <td>Pit-Stop-Summary</td>\n",
       "      <td>HIL</td>\n",
       "    </tr>\n",
       "    <tr>\n",
       "      <th>4</th>\n",
       "      <td>1</td>\n",
       "      <td>24</td>\n",
       "      <td>Michele Alboreto</td>\n",
       "      <td>Minardi Ford</td>\n",
       "      <td>19</td>\n",
       "      <td>14:24:39</td>\n",
       "      <td>27.693</td>\n",
       "      <td>27.693</td>\n",
       "      <td>1994</td>\n",
       "      <td>Pacific</td>\n",
       "      <td>Pit-Stop-Summary</td>\n",
       "      <td>ALB</td>\n",
       "    </tr>\n",
       "  </tbody>\n",
       "</table>\n",
       "</div>"
      ],
      "text/plain": [
       "   Stops  No            Driver               Car  Lap Time of day  \\\n",
       "0      1  20        Erik Comas    Larrousse Ford    1    14:01:34   \n",
       "1      1   3     Ukyo Katayama    Tyrrell Yamaha   17    14:20:46   \n",
       "2      1   7     Mika Hakkinen   McLaren Peugeot   18    14:22:35   \n",
       "3      1   0        Damon Hill  Williams Renault   18    14:23:00   \n",
       "4      1  24  Michele Alboreto      Minardi Ford   19    14:24:39   \n",
       "\n",
       "                 Time   Total  Year Grand Prix            Detail DriverCode  \n",
       "0  49.111000000000004  49.111  1994    Pacific  Pit-Stop-Summary        COM  \n",
       "1              28.482  28.482  1994    Pacific  Pit-Stop-Summary        KAT  \n",
       "2              43.745  43.745  1994    Pacific  Pit-Stop-Summary        HAK  \n",
       "3  21.991999999999997  21.992  1994    Pacific  Pit-Stop-Summary        HIL  \n",
       "4              27.693  27.693  1994    Pacific  Pit-Stop-Summary        ALB  "
      ]
     },
     "execution_count": 123,
     "metadata": {},
     "output_type": "execute_result"
    }
   ],
   "source": [
    "select['pitstops'].head()"
   ]
  },
  {
   "cell_type": "code",
   "execution_count": 125,
   "metadata": {
    "colab": {
     "base_uri": "https://localhost:8080/"
    },
    "id": "3maZAqDTa-e6",
    "outputId": "bf312cb9-6133-402d-e50c-b42be607963d"
   },
   "outputs": [
    {
     "data": {
      "text/plain": [
       "No\n",
       "0      22\n",
       "1     765\n",
       "2     707\n",
       "3     980\n",
       "4     844\n",
       "5     953\n",
       "6     857\n",
       "7     905\n",
       "8     814\n",
       "9     816\n",
       "10    759\n",
       "11    921\n",
       "12    643\n",
       "13     66\n",
       "14    882\n",
       "15    531\n",
       "16    779\n",
       "17    583\n",
       "18    715\n",
       "19    612\n",
       "20    821\n",
       "21    640\n",
       "22    677\n",
       "23    599\n",
       "24    240\n",
       "25    210\n",
       "26    273\n",
       "27    253\n",
       "28    111\n",
       "29     36\n",
       "30     99\n",
       "31    223\n",
       "32     14\n",
       "33    245\n",
       "34      3\n",
       "35     31\n",
       "36      2\n",
       "39      2\n",
       "40      1\n",
       "44    363\n",
       "45      2\n",
       "46      2\n",
       "47    119\n",
       "51      6\n",
       "53     11\n",
       "55    299\n",
       "63    192\n",
       "77    350\n",
       "88     67\n",
       "89      3\n",
       "94     78\n",
       "98     25\n",
       "99    142\n",
       "Name: count, dtype: int64"
      ]
     },
     "execution_count": 125,
     "metadata": {},
     "output_type": "execute_result"
    }
   ],
   "source": [
    "select['pitstops'][['No']].value_counts().sort_index()"
   ]
  },
  {
   "cell_type": "markdown",
   "metadata": {
    "id": "dJ4XebwjbYuG"
   },
   "source": [
    "### qualifyings"
   ]
  },
  {
   "cell_type": "code",
   "execution_count": 128,
   "metadata": {
    "colab": {
     "base_uri": "https://localhost:8080/",
     "height": 365
    },
    "id": "UFrj_0qCa-b4",
    "outputId": "1795cfef-60ff-47c0-ee08-acc887fa36f7"
   },
   "outputs": [
    {
     "data": {
      "text/html": [
       "<div>\n",
       "<style scoped>\n",
       "    .dataframe tbody tr th:only-of-type {\n",
       "        vertical-align: middle;\n",
       "    }\n",
       "\n",
       "    .dataframe tbody tr th {\n",
       "        vertical-align: top;\n",
       "    }\n",
       "\n",
       "    .dataframe thead th {\n",
       "        text-align: right;\n",
       "    }\n",
       "</style>\n",
       "<table border=\"1\" class=\"dataframe\">\n",
       "  <thead>\n",
       "    <tr style=\"text-align: right;\">\n",
       "      <th></th>\n",
       "      <th>Car</th>\n",
       "      <th>Detail</th>\n",
       "      <th>Driver</th>\n",
       "      <th>DriverCode</th>\n",
       "      <th>Grand Prix</th>\n",
       "      <th>Laps</th>\n",
       "      <th>No</th>\n",
       "      <th>Pos</th>\n",
       "      <th>Q1</th>\n",
       "      <th>Q2</th>\n",
       "      <th>Q3</th>\n",
       "      <th>Time</th>\n",
       "      <th>Year</th>\n",
       "    </tr>\n",
       "  </thead>\n",
       "  <tbody>\n",
       "    <tr>\n",
       "      <th>0</th>\n",
       "      <td>Alfa Romeo</td>\n",
       "      <td>Qualifying</td>\n",
       "      <td>Nino Farina</td>\n",
       "      <td>FAR</td>\n",
       "      <td>Great Britain</td>\n",
       "      <td>NaN</td>\n",
       "      <td>2</td>\n",
       "      <td>1</td>\n",
       "      <td>NaN</td>\n",
       "      <td>NaN</td>\n",
       "      <td>NaN</td>\n",
       "      <td>1:50.800</td>\n",
       "      <td>1950</td>\n",
       "    </tr>\n",
       "    <tr>\n",
       "      <th>1</th>\n",
       "      <td>Alfa Romeo</td>\n",
       "      <td>Qualifying</td>\n",
       "      <td>Juan Manuel Fangio</td>\n",
       "      <td>FAN</td>\n",
       "      <td>Monaco</td>\n",
       "      <td>NaN</td>\n",
       "      <td>34</td>\n",
       "      <td>1</td>\n",
       "      <td>NaN</td>\n",
       "      <td>NaN</td>\n",
       "      <td>NaN</td>\n",
       "      <td>1:50.200</td>\n",
       "      <td>1950</td>\n",
       "    </tr>\n",
       "    <tr>\n",
       "      <th>2</th>\n",
       "      <td>Kurtis Kraft Offenhauser</td>\n",
       "      <td>Qualifying</td>\n",
       "      <td>Walt Faulkner</td>\n",
       "      <td>FAU</td>\n",
       "      <td>Indianapolis 500</td>\n",
       "      <td>NaN</td>\n",
       "      <td>98</td>\n",
       "      <td>1</td>\n",
       "      <td>NaN</td>\n",
       "      <td>NaN</td>\n",
       "      <td>NaN</td>\n",
       "      <td>1:06.992</td>\n",
       "      <td>1950</td>\n",
       "    </tr>\n",
       "    <tr>\n",
       "      <th>3</th>\n",
       "      <td>Alfa Romeo</td>\n",
       "      <td>Qualifying</td>\n",
       "      <td>Juan Manuel Fangio</td>\n",
       "      <td>FAN</td>\n",
       "      <td>Switzerland</td>\n",
       "      <td>NaN</td>\n",
       "      <td>14</td>\n",
       "      <td>1</td>\n",
       "      <td>NaN</td>\n",
       "      <td>NaN</td>\n",
       "      <td>NaN</td>\n",
       "      <td>2:42.100</td>\n",
       "      <td>1950</td>\n",
       "    </tr>\n",
       "    <tr>\n",
       "      <th>4</th>\n",
       "      <td>Alfa Romeo</td>\n",
       "      <td>Qualifying</td>\n",
       "      <td>Nino Farina</td>\n",
       "      <td>FAR</td>\n",
       "      <td>Belgium</td>\n",
       "      <td>NaN</td>\n",
       "      <td>8</td>\n",
       "      <td>1</td>\n",
       "      <td>NaN</td>\n",
       "      <td>NaN</td>\n",
       "      <td>NaN</td>\n",
       "      <td>4:37.000</td>\n",
       "      <td>1950</td>\n",
       "    </tr>\n",
       "  </tbody>\n",
       "</table>\n",
       "</div>"
      ],
      "text/plain": [
       "                        Car      Detail              Driver DriverCode  \\\n",
       "0                Alfa Romeo  Qualifying         Nino Farina        FAR   \n",
       "1                Alfa Romeo  Qualifying  Juan Manuel Fangio        FAN   \n",
       "2  Kurtis Kraft Offenhauser  Qualifying       Walt Faulkner        FAU   \n",
       "3                Alfa Romeo  Qualifying  Juan Manuel Fangio        FAN   \n",
       "4                Alfa Romeo  Qualifying         Nino Farina        FAR   \n",
       "\n",
       "         Grand Prix  Laps  No Pos   Q1   Q2   Q3      Time  Year  \n",
       "0     Great Britain   NaN   2   1  NaN  NaN  NaN  1:50.800  1950  \n",
       "1            Monaco   NaN  34   1  NaN  NaN  NaN  1:50.200  1950  \n",
       "2  Indianapolis 500   NaN  98   1  NaN  NaN  NaN  1:06.992  1950  \n",
       "3       Switzerland   NaN  14   1  NaN  NaN  NaN  2:42.100  1950  \n",
       "4           Belgium   NaN   8   1  NaN  NaN  NaN  4:37.000  1950  "
      ]
     },
     "execution_count": 128,
     "metadata": {},
     "output_type": "execute_result"
    }
   ],
   "source": [
    "select['qualifyings'].head()"
   ]
  },
  {
   "cell_type": "code",
   "execution_count": 130,
   "metadata": {
    "colab": {
     "base_uri": "https://localhost:8080/"
    },
    "id": "qHU3yE7la-Ww",
    "outputId": "719d927c-c472-4a80-c9e8-70d3f23c21b8"
   },
   "outputs": [
    {
     "data": {
      "text/plain": [
       "Laps\n",
       "0.0        3\n",
       "1.0       23\n",
       "2.0       59\n",
       "3.0      616\n",
       "4.0       50\n",
       "5.0       97\n",
       "6.0      784\n",
       "7.0      253\n",
       "8.0      395\n",
       "9.0      589\n",
       "10.0     573\n",
       "11.0    1044\n",
       "12.0    1849\n",
       "13.0     326\n",
       "14.0     479\n",
       "15.0     502\n",
       "16.0     465\n",
       "17.0     519\n",
       "18.0     510\n",
       "19.0     420\n",
       "20.0     426\n",
       "21.0     403\n",
       "22.0     353\n",
       "23.0     310\n",
       "24.0     287\n",
       "25.0      97\n",
       "26.0      93\n",
       "27.0      48\n",
       "28.0      45\n",
       "29.0      37\n",
       "30.0      33\n",
       "31.0      27\n",
       "32.0      10\n",
       "33.0       9\n",
       "34.0       5\n",
       "35.0       2\n",
       "Name: count, dtype: int64"
      ]
     },
     "execution_count": 130,
     "metadata": {},
     "output_type": "execute_result"
    }
   ],
   "source": [
    "select['qualifyings'][['Laps']].value_counts().sort_index()"
   ]
  },
  {
   "cell_type": "code",
   "execution_count": 132,
   "metadata": {
    "colab": {
     "base_uri": "https://localhost:8080/"
    },
    "id": "FOZ0GuEwa-T4",
    "outputId": "d662f22d-9f66-4e72-dee2-b8db2667c4cb"
   },
   "outputs": [
    {
     "data": {
      "text/plain": [
       "No \n",
       "0       32\n",
       "1      582\n",
       "2      603\n",
       "3      717\n",
       "4      638\n",
       "5      739\n",
       "6      678\n",
       "7      675\n",
       "8      647\n",
       "9      626\n",
       "10     634\n",
       "11     726\n",
       "12     581\n",
       "13      38\n",
       "14     636\n",
       "15     514\n",
       "16     633\n",
       "17     503\n",
       "18     542\n",
       "19     521\n",
       "20     641\n",
       "21     509\n",
       "22     555\n",
       "23     538\n",
       "24     310\n",
       "25     303\n",
       "26     326\n",
       "27     341\n",
       "28     252\n",
       "29     175\n",
       "30     216\n",
       "31     219\n",
       "32      95\n",
       "33     249\n",
       "34      84\n",
       "35      83\n",
       "36      57\n",
       "37      16\n",
       "38      17\n",
       "39      28\n",
       "40      22\n",
       "41      16\n",
       "42       1\n",
       "44     198\n",
       "45       3\n",
       "46       1\n",
       "47      60\n",
       "51       2\n",
       "53       5\n",
       "55     180\n",
       "63      99\n",
       "71       1\n",
       "77     199\n",
       "88      35\n",
       "89       1\n",
       "94      39\n",
       "97       1\n",
       "98      14\n",
       "99      79\n",
       "101      1\n",
       "Name: count, dtype: int64"
      ]
     },
     "execution_count": 132,
     "metadata": {},
     "output_type": "execute_result"
    }
   ],
   "source": [
    "select['qualifyings'][['No']].value_counts().sort_index()"
   ]
  },
  {
   "cell_type": "code",
   "execution_count": 134,
   "metadata": {
    "colab": {
     "base_uri": "https://localhost:8080/"
    },
    "id": "HELwLo0na-Qn",
    "outputId": "1b858d4f-d137-4631-aa8d-ea104d416223"
   },
   "outputs": [
    {
     "data": {
      "text/plain": [
       "Pos\n",
       "1      1095\n",
       "10      739\n",
       "11      739\n",
       "12      739\n",
       "13      738\n",
       "14      723\n",
       "15      723\n",
       "16      723\n",
       "17      722\n",
       "18      721\n",
       "19      704\n",
       "2       723\n",
       "20      668\n",
       "21      454\n",
       "22      422\n",
       "23      258\n",
       "24      243\n",
       "25      186\n",
       "26      167\n",
       "27      104\n",
       "28       91\n",
       "29       75\n",
       "3       725\n",
       "30       66\n",
       "4       723\n",
       "5       775\n",
       "6       772\n",
       "7       766\n",
       "8       759\n",
       "9       746\n",
       "DQ        1\n",
       "EX        2\n",
       "NC      136\n",
       "RT        8\n",
       "Name: count, dtype: int64"
      ]
     },
     "execution_count": 134,
     "metadata": {},
     "output_type": "execute_result"
    }
   ],
   "source": [
    "select['qualifyings'][['Pos']].value_counts().sort_index()"
   ]
  },
  {
   "cell_type": "markdown",
   "metadata": {
    "id": "nZxujsnmMD_2"
   },
   "source": [
    "# **Data Merge**\n",
    "\n",
    "---\n",
    "\n"
   ]
  },
  {
   "cell_type": "markdown",
   "metadata": {
    "id": "4Ikmq3bHeVJo"
   },
   "source": [
    "### driver_standings and driver_details"
   ]
  },
  {
   "cell_type": "code",
   "execution_count": 138,
   "metadata": {
    "colab": {
     "base_uri": "https://localhost:8080/",
     "height": 0
    },
    "id": "eVnJ4GM3ieib",
    "outputId": "7290c9f0-be7f-4b63-a437-640936538bd7"
   },
   "outputs": [
    {
     "data": {
      "text/html": [
       "<div>\n",
       "<style scoped>\n",
       "    .dataframe tbody tr th:only-of-type {\n",
       "        vertical-align: middle;\n",
       "    }\n",
       "\n",
       "    .dataframe tbody tr th {\n",
       "        vertical-align: top;\n",
       "    }\n",
       "\n",
       "    .dataframe thead th {\n",
       "        text-align: right;\n",
       "    }\n",
       "</style>\n",
       "<table border=\"1\" class=\"dataframe\">\n",
       "  <thead>\n",
       "    <tr style=\"text-align: right;\">\n",
       "      <th></th>\n",
       "      <th>Car</th>\n",
       "      <th>Date</th>\n",
       "      <th>Driver</th>\n",
       "      <th>Grand Prix</th>\n",
       "      <th>PTS</th>\n",
       "      <th>Race Position</th>\n",
       "      <th>Year</th>\n",
       "    </tr>\n",
       "  </thead>\n",
       "  <tbody>\n",
       "    <tr>\n",
       "      <th>0</th>\n",
       "      <td>Ferrari</td>\n",
       "      <td>21 May 1950</td>\n",
       "      <td>Alberto Ascari</td>\n",
       "      <td>Monaco</td>\n",
       "      <td>6.0</td>\n",
       "      <td>2</td>\n",
       "      <td>1950</td>\n",
       "    </tr>\n",
       "    <tr>\n",
       "      <th>1</th>\n",
       "      <td>Ferrari</td>\n",
       "      <td>04 Jun 1950</td>\n",
       "      <td>Alberto Ascari</td>\n",
       "      <td>Switzerland</td>\n",
       "      <td>0.0</td>\n",
       "      <td>DNF</td>\n",
       "      <td>1950</td>\n",
       "    </tr>\n",
       "    <tr>\n",
       "      <th>2</th>\n",
       "      <td>Ferrari</td>\n",
       "      <td>18 Jun 1950</td>\n",
       "      <td>Alberto Ascari</td>\n",
       "      <td>Belgium</td>\n",
       "      <td>2.0</td>\n",
       "      <td>5</td>\n",
       "      <td>1950</td>\n",
       "    </tr>\n",
       "    <tr>\n",
       "      <th>3</th>\n",
       "      <td>Ferrari</td>\n",
       "      <td>03 Sep 1950</td>\n",
       "      <td>Alberto Ascari</td>\n",
       "      <td>Italy</td>\n",
       "      <td>3.0</td>\n",
       "      <td>2</td>\n",
       "      <td>1950</td>\n",
       "    </tr>\n",
       "    <tr>\n",
       "      <th>4</th>\n",
       "      <td>Deidt Offenhauser</td>\n",
       "      <td>30 May 1950</td>\n",
       "      <td>Tony Bettenhausen</td>\n",
       "      <td>Indianapolis 500</td>\n",
       "      <td>1.0</td>\n",
       "      <td>DNF</td>\n",
       "      <td>1950</td>\n",
       "    </tr>\n",
       "  </tbody>\n",
       "</table>\n",
       "</div>"
      ],
      "text/plain": [
       "                 Car         Date             Driver        Grand Prix  PTS  \\\n",
       "0            Ferrari  21 May 1950     Alberto Ascari            Monaco  6.0   \n",
       "1            Ferrari  04 Jun 1950     Alberto Ascari       Switzerland  0.0   \n",
       "2            Ferrari  18 Jun 1950     Alberto Ascari           Belgium  2.0   \n",
       "3            Ferrari  03 Sep 1950     Alberto Ascari             Italy  3.0   \n",
       "4  Deidt Offenhauser  30 May 1950  Tony Bettenhausen  Indianapolis 500  1.0   \n",
       "\n",
       "  Race Position  Year  \n",
       "0             2  1950  \n",
       "1           DNF  1950  \n",
       "2             5  1950  \n",
       "3             2  1950  \n",
       "4           DNF  1950  "
      ]
     },
     "execution_count": 138,
     "metadata": {},
     "output_type": "execute_result"
    }
   ],
   "source": [
    "select['driver_details'].head()"
   ]
  },
  {
   "cell_type": "code",
   "execution_count": 140,
   "metadata": {
    "colab": {
     "base_uri": "https://localhost:8080/",
     "height": 0
    },
    "id": "gWmMOntWij67",
    "outputId": "6fefe1c7-4f9a-4475-a22a-5d8bf3932e69"
   },
   "outputs": [
    {
     "data": {
      "text/html": [
       "<div>\n",
       "<style scoped>\n",
       "    .dataframe tbody tr th:only-of-type {\n",
       "        vertical-align: middle;\n",
       "    }\n",
       "\n",
       "    .dataframe tbody tr th {\n",
       "        vertical-align: top;\n",
       "    }\n",
       "\n",
       "    .dataframe thead th {\n",
       "        text-align: right;\n",
       "    }\n",
       "</style>\n",
       "<table border=\"1\" class=\"dataframe\">\n",
       "  <thead>\n",
       "    <tr style=\"text-align: right;\">\n",
       "      <th></th>\n",
       "      <th>Pos</th>\n",
       "      <th>Driver</th>\n",
       "      <th>Nationality</th>\n",
       "      <th>Car</th>\n",
       "      <th>PTS</th>\n",
       "      <th>DriverCode</th>\n",
       "      <th>Year</th>\n",
       "    </tr>\n",
       "  </thead>\n",
       "  <tbody>\n",
       "    <tr>\n",
       "      <th>0</th>\n",
       "      <td>1</td>\n",
       "      <td>Nino Farina</td>\n",
       "      <td>ITA</td>\n",
       "      <td>Alfa Romeo</td>\n",
       "      <td>30.0</td>\n",
       "      <td>FAR</td>\n",
       "      <td>1950</td>\n",
       "    </tr>\n",
       "    <tr>\n",
       "      <th>1</th>\n",
       "      <td>2</td>\n",
       "      <td>Juan Manuel Fangio</td>\n",
       "      <td>ARG</td>\n",
       "      <td>Alfa Romeo</td>\n",
       "      <td>27.0</td>\n",
       "      <td>FAN</td>\n",
       "      <td>1950</td>\n",
       "    </tr>\n",
       "    <tr>\n",
       "      <th>2</th>\n",
       "      <td>3</td>\n",
       "      <td>Luigi Fagioli</td>\n",
       "      <td>ITA</td>\n",
       "      <td>Alfa Romeo</td>\n",
       "      <td>24.0</td>\n",
       "      <td>FAG</td>\n",
       "      <td>1950</td>\n",
       "    </tr>\n",
       "    <tr>\n",
       "      <th>3</th>\n",
       "      <td>4</td>\n",
       "      <td>Louis Rosier</td>\n",
       "      <td>FRA</td>\n",
       "      <td>Talbot-Lago</td>\n",
       "      <td>13.0</td>\n",
       "      <td>ROS</td>\n",
       "      <td>1950</td>\n",
       "    </tr>\n",
       "    <tr>\n",
       "      <th>4</th>\n",
       "      <td>5</td>\n",
       "      <td>Alberto Ascari</td>\n",
       "      <td>ITA</td>\n",
       "      <td>Ferrari</td>\n",
       "      <td>11.0</td>\n",
       "      <td>ASC</td>\n",
       "      <td>1950</td>\n",
       "    </tr>\n",
       "  </tbody>\n",
       "</table>\n",
       "</div>"
      ],
      "text/plain": [
       "  Pos              Driver Nationality          Car   PTS DriverCode  Year\n",
       "0   1         Nino Farina         ITA   Alfa Romeo  30.0        FAR  1950\n",
       "1   2  Juan Manuel Fangio         ARG   Alfa Romeo  27.0        FAN  1950\n",
       "2   3       Luigi Fagioli         ITA   Alfa Romeo  24.0        FAG  1950\n",
       "3   4        Louis Rosier         FRA  Talbot-Lago  13.0        ROS  1950\n",
       "4   5      Alberto Ascari         ITA      Ferrari  11.0        ASC  1950"
      ]
     },
     "execution_count": 140,
     "metadata": {},
     "output_type": "execute_result"
    }
   ],
   "source": [
    "select['driver_standings'].head()"
   ]
  },
  {
   "cell_type": "code",
   "execution_count": 142,
   "metadata": {
    "id": "tEbGknBbpkTo"
   },
   "outputs": [],
   "source": [
    "#use left data merge\n",
    "df=select['driver_details'].merge(select['driver_standings'][['Driver','PTS','Year','Pos']],on=['Year','Driver'],how='left')"
   ]
  },
  {
   "cell_type": "markdown",
   "metadata": {
    "id": "D3I7RAHuu1fV"
   },
   "source": [
    "left ke 'driver_details se common columns right side dataset 'driver_standings'se 'Driver','PTS','Year' columns merge kiya h"
   ]
  },
  {
   "cell_type": "code",
   "execution_count": 145,
   "metadata": {
    "colab": {
     "base_uri": "https://localhost:8080/",
     "height": 0
    },
    "id": "-VE_4d8csXZ1",
    "outputId": "4d518583-a4f7-4407-a66b-fa63cec4b4cc"
   },
   "outputs": [
    {
     "data": {
      "text/html": [
       "<div>\n",
       "<style scoped>\n",
       "    .dataframe tbody tr th:only-of-type {\n",
       "        vertical-align: middle;\n",
       "    }\n",
       "\n",
       "    .dataframe tbody tr th {\n",
       "        vertical-align: top;\n",
       "    }\n",
       "\n",
       "    .dataframe thead th {\n",
       "        text-align: right;\n",
       "    }\n",
       "</style>\n",
       "<table border=\"1\" class=\"dataframe\">\n",
       "  <thead>\n",
       "    <tr style=\"text-align: right;\">\n",
       "      <th></th>\n",
       "      <th>Car</th>\n",
       "      <th>Date</th>\n",
       "      <th>Driver</th>\n",
       "      <th>Grand Prix</th>\n",
       "      <th>PTS_x</th>\n",
       "      <th>Race Position</th>\n",
       "      <th>Year</th>\n",
       "      <th>PTS_y</th>\n",
       "      <th>Pos</th>\n",
       "    </tr>\n",
       "  </thead>\n",
       "  <tbody>\n",
       "    <tr>\n",
       "      <th>0</th>\n",
       "      <td>Ferrari</td>\n",
       "      <td>21 May 1950</td>\n",
       "      <td>Alberto Ascari</td>\n",
       "      <td>Monaco</td>\n",
       "      <td>6.0</td>\n",
       "      <td>2</td>\n",
       "      <td>1950</td>\n",
       "      <td>11.0</td>\n",
       "      <td>5</td>\n",
       "    </tr>\n",
       "    <tr>\n",
       "      <th>1</th>\n",
       "      <td>Ferrari</td>\n",
       "      <td>04 Jun 1950</td>\n",
       "      <td>Alberto Ascari</td>\n",
       "      <td>Switzerland</td>\n",
       "      <td>0.0</td>\n",
       "      <td>DNF</td>\n",
       "      <td>1950</td>\n",
       "      <td>11.0</td>\n",
       "      <td>5</td>\n",
       "    </tr>\n",
       "    <tr>\n",
       "      <th>2</th>\n",
       "      <td>Ferrari</td>\n",
       "      <td>18 Jun 1950</td>\n",
       "      <td>Alberto Ascari</td>\n",
       "      <td>Belgium</td>\n",
       "      <td>2.0</td>\n",
       "      <td>5</td>\n",
       "      <td>1950</td>\n",
       "      <td>11.0</td>\n",
       "      <td>5</td>\n",
       "    </tr>\n",
       "    <tr>\n",
       "      <th>3</th>\n",
       "      <td>Ferrari</td>\n",
       "      <td>03 Sep 1950</td>\n",
       "      <td>Alberto Ascari</td>\n",
       "      <td>Italy</td>\n",
       "      <td>3.0</td>\n",
       "      <td>2</td>\n",
       "      <td>1950</td>\n",
       "      <td>11.0</td>\n",
       "      <td>5</td>\n",
       "    </tr>\n",
       "    <tr>\n",
       "      <th>4</th>\n",
       "      <td>Deidt Offenhauser</td>\n",
       "      <td>30 May 1950</td>\n",
       "      <td>Tony Bettenhausen</td>\n",
       "      <td>Indianapolis 500</td>\n",
       "      <td>1.0</td>\n",
       "      <td>DNF</td>\n",
       "      <td>1950</td>\n",
       "      <td>1.0</td>\n",
       "      <td>20</td>\n",
       "    </tr>\n",
       "  </tbody>\n",
       "</table>\n",
       "</div>"
      ],
      "text/plain": [
       "                 Car         Date             Driver        Grand Prix  PTS_x  \\\n",
       "0            Ferrari  21 May 1950     Alberto Ascari            Monaco    6.0   \n",
       "1            Ferrari  04 Jun 1950     Alberto Ascari       Switzerland    0.0   \n",
       "2            Ferrari  18 Jun 1950     Alberto Ascari           Belgium    2.0   \n",
       "3            Ferrari  03 Sep 1950     Alberto Ascari             Italy    3.0   \n",
       "4  Deidt Offenhauser  30 May 1950  Tony Bettenhausen  Indianapolis 500    1.0   \n",
       "\n",
       "  Race Position  Year  PTS_y Pos  \n",
       "0             2  1950   11.0   5  \n",
       "1           DNF  1950   11.0   5  \n",
       "2             5  1950   11.0   5  \n",
       "3             2  1950   11.0   5  \n",
       "4           DNF  1950    1.0  20  "
      ]
     },
     "execution_count": 145,
     "metadata": {},
     "output_type": "execute_result"
    }
   ],
   "source": [
    "df.head()"
   ]
  },
  {
   "cell_type": "markdown",
   "metadata": {
    "id": "jJJM0GSDePCy"
   },
   "source": [
    "### New dataset df and race_summaries"
   ]
  },
  {
   "cell_type": "code",
   "execution_count": 148,
   "metadata": {
    "colab": {
     "base_uri": "https://localhost:8080/",
     "height": 0
    },
    "id": "54mfJYAZek40",
    "outputId": "c8f21353-8589-4d9e-fa70-45b4866e1c11"
   },
   "outputs": [
    {
     "data": {
      "text/html": [
       "<div>\n",
       "<style scoped>\n",
       "    .dataframe tbody tr th:only-of-type {\n",
       "        vertical-align: middle;\n",
       "    }\n",
       "\n",
       "    .dataframe tbody tr th {\n",
       "        vertical-align: top;\n",
       "    }\n",
       "\n",
       "    .dataframe thead th {\n",
       "        text-align: right;\n",
       "    }\n",
       "</style>\n",
       "<table border=\"1\" class=\"dataframe\">\n",
       "  <thead>\n",
       "    <tr style=\"text-align: right;\">\n",
       "      <th></th>\n",
       "      <th>Grand Prix</th>\n",
       "      <th>Date</th>\n",
       "      <th>Winner</th>\n",
       "      <th>Car</th>\n",
       "      <th>Laps</th>\n",
       "      <th>Time</th>\n",
       "      <th>WinnerCode</th>\n",
       "      <th>Year</th>\n",
       "    </tr>\n",
       "  </thead>\n",
       "  <tbody>\n",
       "    <tr>\n",
       "      <th>0</th>\n",
       "      <td>Great Britain</td>\n",
       "      <td>13 May 1950</td>\n",
       "      <td>Nino Farina</td>\n",
       "      <td>Alfa Romeo</td>\n",
       "      <td>70.0</td>\n",
       "      <td>2:13:23.600</td>\n",
       "      <td>FAR</td>\n",
       "      <td>1950</td>\n",
       "    </tr>\n",
       "    <tr>\n",
       "      <th>1</th>\n",
       "      <td>Monaco</td>\n",
       "      <td>21 May 1950</td>\n",
       "      <td>Juan Manuel Fangio</td>\n",
       "      <td>Alfa Romeo</td>\n",
       "      <td>100.0</td>\n",
       "      <td>3:13:18.700</td>\n",
       "      <td>FAN</td>\n",
       "      <td>1950</td>\n",
       "    </tr>\n",
       "    <tr>\n",
       "      <th>2</th>\n",
       "      <td>Indianapolis 500</td>\n",
       "      <td>30 May 1950</td>\n",
       "      <td>Johnnie Parsons</td>\n",
       "      <td>Kurtis Kraft Offenhauser</td>\n",
       "      <td>138.0</td>\n",
       "      <td>2:46:55.970</td>\n",
       "      <td>PAR</td>\n",
       "      <td>1950</td>\n",
       "    </tr>\n",
       "    <tr>\n",
       "      <th>3</th>\n",
       "      <td>Switzerland</td>\n",
       "      <td>04 Jun 1950</td>\n",
       "      <td>Nino Farina</td>\n",
       "      <td>Alfa Romeo</td>\n",
       "      <td>42.0</td>\n",
       "      <td>2:02:53.700</td>\n",
       "      <td>FAR</td>\n",
       "      <td>1950</td>\n",
       "    </tr>\n",
       "    <tr>\n",
       "      <th>4</th>\n",
       "      <td>Belgium</td>\n",
       "      <td>18 Jun 1950</td>\n",
       "      <td>Juan Manuel Fangio</td>\n",
       "      <td>Alfa Romeo</td>\n",
       "      <td>35.0</td>\n",
       "      <td>2:47:26.000</td>\n",
       "      <td>FAN</td>\n",
       "      <td>1950</td>\n",
       "    </tr>\n",
       "  </tbody>\n",
       "</table>\n",
       "</div>"
      ],
      "text/plain": [
       "         Grand Prix         Date              Winner  \\\n",
       "0     Great Britain  13 May 1950         Nino Farina   \n",
       "1            Monaco  21 May 1950  Juan Manuel Fangio   \n",
       "2  Indianapolis 500  30 May 1950     Johnnie Parsons   \n",
       "3       Switzerland  04 Jun 1950         Nino Farina   \n",
       "4           Belgium  18 Jun 1950  Juan Manuel Fangio   \n",
       "\n",
       "                        Car   Laps         Time WinnerCode  Year  \n",
       "0                Alfa Romeo   70.0  2:13:23.600        FAR  1950  \n",
       "1                Alfa Romeo  100.0  3:13:18.700        FAN  1950  \n",
       "2  Kurtis Kraft Offenhauser  138.0  2:46:55.970        PAR  1950  \n",
       "3                Alfa Romeo   42.0  2:02:53.700        FAR  1950  \n",
       "4                Alfa Romeo   35.0  2:47:26.000        FAN  1950  "
      ]
     },
     "execution_count": 148,
     "metadata": {},
     "output_type": "execute_result"
    }
   ],
   "source": [
    "select['race_summaries'].head()"
   ]
  },
  {
   "cell_type": "code",
   "execution_count": 150,
   "metadata": {
    "id": "T4MjNHp2c3qU"
   },
   "outputs": [],
   "source": [
    "#use left data merge\n",
    "df=df.merge(select['race_summaries'][['Winner','Laps','Year','Grand Prix','Time','Date']],on=['Year','Grand Prix','Date'],how='right')"
   ]
  },
  {
   "cell_type": "code",
   "execution_count": 152,
   "metadata": {
    "colab": {
     "base_uri": "https://localhost:8080/",
     "height": 0
    },
    "id": "3XE6PNvZeGNC",
    "outputId": "6d6c8b8a-843d-44cb-d74b-4ea78d1e40b8"
   },
   "outputs": [
    {
     "data": {
      "text/html": [
       "<div>\n",
       "<style scoped>\n",
       "    .dataframe tbody tr th:only-of-type {\n",
       "        vertical-align: middle;\n",
       "    }\n",
       "\n",
       "    .dataframe tbody tr th {\n",
       "        vertical-align: top;\n",
       "    }\n",
       "\n",
       "    .dataframe thead th {\n",
       "        text-align: right;\n",
       "    }\n",
       "</style>\n",
       "<table border=\"1\" class=\"dataframe\">\n",
       "  <thead>\n",
       "    <tr style=\"text-align: right;\">\n",
       "      <th></th>\n",
       "      <th>Car</th>\n",
       "      <th>Date</th>\n",
       "      <th>Driver</th>\n",
       "      <th>Grand Prix</th>\n",
       "      <th>PTS_x</th>\n",
       "      <th>Race Position</th>\n",
       "      <th>Year</th>\n",
       "      <th>PTS_y</th>\n",
       "      <th>Pos</th>\n",
       "      <th>Winner</th>\n",
       "      <th>Laps</th>\n",
       "      <th>Time</th>\n",
       "    </tr>\n",
       "  </thead>\n",
       "  <tbody>\n",
       "    <tr>\n",
       "      <th>0</th>\n",
       "      <td>Maserati</td>\n",
       "      <td>13 May 1950</td>\n",
       "      <td>Prince Bira</td>\n",
       "      <td>Great Britain</td>\n",
       "      <td>0.0</td>\n",
       "      <td>DNF</td>\n",
       "      <td>1950</td>\n",
       "      <td>5.0</td>\n",
       "      <td>8</td>\n",
       "      <td>Nino Farina</td>\n",
       "      <td>70.0</td>\n",
       "      <td>2:13:23.600</td>\n",
       "    </tr>\n",
       "    <tr>\n",
       "      <th>1</th>\n",
       "      <td>Talbot-Lago</td>\n",
       "      <td>13 May 1950</td>\n",
       "      <td>Yves Giraud Cabantous</td>\n",
       "      <td>Great Britain</td>\n",
       "      <td>NaN</td>\n",
       "      <td>4</td>\n",
       "      <td>1950</td>\n",
       "      <td>3.0</td>\n",
       "      <td>13</td>\n",
       "      <td>Nino Farina</td>\n",
       "      <td>70.0</td>\n",
       "      <td>2:13:23.600</td>\n",
       "    </tr>\n",
       "    <tr>\n",
       "      <th>2</th>\n",
       "      <td>Maserati</td>\n",
       "      <td>13 May 1950</td>\n",
       "      <td>Louis Chiron</td>\n",
       "      <td>Great Britain</td>\n",
       "      <td>0.0</td>\n",
       "      <td>DNF</td>\n",
       "      <td>1950</td>\n",
       "      <td>4.0</td>\n",
       "      <td>9</td>\n",
       "      <td>Nino Farina</td>\n",
       "      <td>70.0</td>\n",
       "      <td>2:13:23.600</td>\n",
       "    </tr>\n",
       "    <tr>\n",
       "      <th>3</th>\n",
       "      <td>Talbot-Lago</td>\n",
       "      <td>13 May 1950</td>\n",
       "      <td>Philippe Etancelin</td>\n",
       "      <td>Great Britain</td>\n",
       "      <td>0.0</td>\n",
       "      <td>8</td>\n",
       "      <td>1950</td>\n",
       "      <td>3.0</td>\n",
       "      <td>13</td>\n",
       "      <td>Nino Farina</td>\n",
       "      <td>70.0</td>\n",
       "      <td>2:13:23.600</td>\n",
       "    </tr>\n",
       "    <tr>\n",
       "      <th>4</th>\n",
       "      <td>Alfa Romeo</td>\n",
       "      <td>13 May 1950</td>\n",
       "      <td>Luigi Fagioli</td>\n",
       "      <td>Great Britain</td>\n",
       "      <td>6.0</td>\n",
       "      <td>2</td>\n",
       "      <td>1950</td>\n",
       "      <td>24.0</td>\n",
       "      <td>3</td>\n",
       "      <td>Nino Farina</td>\n",
       "      <td>70.0</td>\n",
       "      <td>2:13:23.600</td>\n",
       "    </tr>\n",
       "    <tr>\n",
       "      <th>5</th>\n",
       "      <td>Alfa Romeo</td>\n",
       "      <td>13 May 1950</td>\n",
       "      <td>Juan Manuel Fangio</td>\n",
       "      <td>Great Britain</td>\n",
       "      <td>0.0</td>\n",
       "      <td>DNF</td>\n",
       "      <td>1950</td>\n",
       "      <td>27.0</td>\n",
       "      <td>2</td>\n",
       "      <td>Nino Farina</td>\n",
       "      <td>70.0</td>\n",
       "      <td>2:13:23.600</td>\n",
       "    </tr>\n",
       "    <tr>\n",
       "      <th>6</th>\n",
       "      <td>Alfa Romeo</td>\n",
       "      <td>13 May 1950</td>\n",
       "      <td>Nino Farina</td>\n",
       "      <td>Great Britain</td>\n",
       "      <td>9.0</td>\n",
       "      <td>1</td>\n",
       "      <td>1950</td>\n",
       "      <td>30.0</td>\n",
       "      <td>1</td>\n",
       "      <td>Nino Farina</td>\n",
       "      <td>70.0</td>\n",
       "      <td>2:13:23.600</td>\n",
       "    </tr>\n",
       "    <tr>\n",
       "      <th>7</th>\n",
       "      <td>Alfa Romeo</td>\n",
       "      <td>13 May 1950</td>\n",
       "      <td>Reg Parnell</td>\n",
       "      <td>Great Britain</td>\n",
       "      <td>4.0</td>\n",
       "      <td>3</td>\n",
       "      <td>1950</td>\n",
       "      <td>4.0</td>\n",
       "      <td>9</td>\n",
       "      <td>Nino Farina</td>\n",
       "      <td>70.0</td>\n",
       "      <td>2:13:23.600</td>\n",
       "    </tr>\n",
       "    <tr>\n",
       "      <th>8</th>\n",
       "      <td>Talbot-Lago</td>\n",
       "      <td>13 May 1950</td>\n",
       "      <td>Louis Rosier</td>\n",
       "      <td>Great Britain</td>\n",
       "      <td>2.0</td>\n",
       "      <td>5</td>\n",
       "      <td>1950</td>\n",
       "      <td>13.0</td>\n",
       "      <td>4</td>\n",
       "      <td>Nino Farina</td>\n",
       "      <td>70.0</td>\n",
       "      <td>2:13:23.600</td>\n",
       "    </tr>\n",
       "    <tr>\n",
       "      <th>9</th>\n",
       "      <td>Ferrari</td>\n",
       "      <td>21 May 1950</td>\n",
       "      <td>Alberto Ascari</td>\n",
       "      <td>Monaco</td>\n",
       "      <td>6.0</td>\n",
       "      <td>2</td>\n",
       "      <td>1950</td>\n",
       "      <td>11.0</td>\n",
       "      <td>5</td>\n",
       "      <td>Juan Manuel Fangio</td>\n",
       "      <td>100.0</td>\n",
       "      <td>3:13:18.700</td>\n",
       "    </tr>\n",
       "  </tbody>\n",
       "</table>\n",
       "</div>"
      ],
      "text/plain": [
       "           Car         Date                 Driver     Grand Prix  PTS_x  \\\n",
       "0     Maserati  13 May 1950            Prince Bira  Great Britain    0.0   \n",
       "1  Talbot-Lago  13 May 1950  Yves Giraud Cabantous  Great Britain    NaN   \n",
       "2     Maserati  13 May 1950           Louis Chiron  Great Britain    0.0   \n",
       "3  Talbot-Lago  13 May 1950     Philippe Etancelin  Great Britain    0.0   \n",
       "4   Alfa Romeo  13 May 1950          Luigi Fagioli  Great Britain    6.0   \n",
       "5   Alfa Romeo  13 May 1950     Juan Manuel Fangio  Great Britain    0.0   \n",
       "6   Alfa Romeo  13 May 1950            Nino Farina  Great Britain    9.0   \n",
       "7   Alfa Romeo  13 May 1950            Reg Parnell  Great Britain    4.0   \n",
       "8  Talbot-Lago  13 May 1950           Louis Rosier  Great Britain    2.0   \n",
       "9      Ferrari  21 May 1950         Alberto Ascari         Monaco    6.0   \n",
       "\n",
       "  Race Position  Year  PTS_y Pos              Winner   Laps         Time  \n",
       "0           DNF  1950    5.0   8         Nino Farina   70.0  2:13:23.600  \n",
       "1             4  1950    3.0  13         Nino Farina   70.0  2:13:23.600  \n",
       "2           DNF  1950    4.0   9         Nino Farina   70.0  2:13:23.600  \n",
       "3             8  1950    3.0  13         Nino Farina   70.0  2:13:23.600  \n",
       "4             2  1950   24.0   3         Nino Farina   70.0  2:13:23.600  \n",
       "5           DNF  1950   27.0   2         Nino Farina   70.0  2:13:23.600  \n",
       "6             1  1950   30.0   1         Nino Farina   70.0  2:13:23.600  \n",
       "7             3  1950    4.0   9         Nino Farina   70.0  2:13:23.600  \n",
       "8             5  1950   13.0   4         Nino Farina   70.0  2:13:23.600  \n",
       "9             2  1950   11.0   5  Juan Manuel Fangio  100.0  3:13:18.700  "
      ]
     },
     "execution_count": 152,
     "metadata": {},
     "output_type": "execute_result"
    }
   ],
   "source": [
    "df.head(10)"
   ]
  },
  {
   "cell_type": "markdown",
   "metadata": {
    "id": "VzZrfxz8kqgc"
   },
   "source": [
    " Rename columns"
   ]
  },
  {
   "cell_type": "code",
   "execution_count": 155,
   "metadata": {
    "id": "_gKwxlPekyik"
   },
   "outputs": [],
   "source": [
    "df=df.rename(columns={'GrandPrix':'Grand Prix','PTS_x':'StandingPoints','Race Position':'RacePosition','PTS_y':'DriverPoints','Time':'FinshTime','Pos':'StandingPosition'})"
   ]
  },
  {
   "cell_type": "code",
   "execution_count": 157,
   "metadata": {
    "colab": {
     "base_uri": "https://localhost:8080/",
     "height": 0
    },
    "id": "9IWkWLzPkySE",
    "outputId": "c46b58a9-6457-4466-92a5-40ab88cc2782"
   },
   "outputs": [
    {
     "data": {
      "text/html": [
       "<div>\n",
       "<style scoped>\n",
       "    .dataframe tbody tr th:only-of-type {\n",
       "        vertical-align: middle;\n",
       "    }\n",
       "\n",
       "    .dataframe tbody tr th {\n",
       "        vertical-align: top;\n",
       "    }\n",
       "\n",
       "    .dataframe thead th {\n",
       "        text-align: right;\n",
       "    }\n",
       "</style>\n",
       "<table border=\"1\" class=\"dataframe\">\n",
       "  <thead>\n",
       "    <tr style=\"text-align: right;\">\n",
       "      <th></th>\n",
       "      <th>Car</th>\n",
       "      <th>Date</th>\n",
       "      <th>Driver</th>\n",
       "      <th>Grand Prix</th>\n",
       "      <th>StandingPoints</th>\n",
       "      <th>RacePosition</th>\n",
       "      <th>Year</th>\n",
       "      <th>DriverPoints</th>\n",
       "      <th>StandingPosition</th>\n",
       "      <th>Winner</th>\n",
       "      <th>Laps</th>\n",
       "      <th>FinshTime</th>\n",
       "    </tr>\n",
       "  </thead>\n",
       "  <tbody>\n",
       "    <tr>\n",
       "      <th>0</th>\n",
       "      <td>Maserati</td>\n",
       "      <td>13 May 1950</td>\n",
       "      <td>Prince Bira</td>\n",
       "      <td>Great Britain</td>\n",
       "      <td>0.0</td>\n",
       "      <td>DNF</td>\n",
       "      <td>1950</td>\n",
       "      <td>5.0</td>\n",
       "      <td>8</td>\n",
       "      <td>Nino Farina</td>\n",
       "      <td>70.0</td>\n",
       "      <td>2:13:23.600</td>\n",
       "    </tr>\n",
       "    <tr>\n",
       "      <th>1</th>\n",
       "      <td>Talbot-Lago</td>\n",
       "      <td>13 May 1950</td>\n",
       "      <td>Yves Giraud Cabantous</td>\n",
       "      <td>Great Britain</td>\n",
       "      <td>NaN</td>\n",
       "      <td>4</td>\n",
       "      <td>1950</td>\n",
       "      <td>3.0</td>\n",
       "      <td>13</td>\n",
       "      <td>Nino Farina</td>\n",
       "      <td>70.0</td>\n",
       "      <td>2:13:23.600</td>\n",
       "    </tr>\n",
       "    <tr>\n",
       "      <th>2</th>\n",
       "      <td>Maserati</td>\n",
       "      <td>13 May 1950</td>\n",
       "      <td>Louis Chiron</td>\n",
       "      <td>Great Britain</td>\n",
       "      <td>0.0</td>\n",
       "      <td>DNF</td>\n",
       "      <td>1950</td>\n",
       "      <td>4.0</td>\n",
       "      <td>9</td>\n",
       "      <td>Nino Farina</td>\n",
       "      <td>70.0</td>\n",
       "      <td>2:13:23.600</td>\n",
       "    </tr>\n",
       "    <tr>\n",
       "      <th>3</th>\n",
       "      <td>Talbot-Lago</td>\n",
       "      <td>13 May 1950</td>\n",
       "      <td>Philippe Etancelin</td>\n",
       "      <td>Great Britain</td>\n",
       "      <td>0.0</td>\n",
       "      <td>8</td>\n",
       "      <td>1950</td>\n",
       "      <td>3.0</td>\n",
       "      <td>13</td>\n",
       "      <td>Nino Farina</td>\n",
       "      <td>70.0</td>\n",
       "      <td>2:13:23.600</td>\n",
       "    </tr>\n",
       "    <tr>\n",
       "      <th>4</th>\n",
       "      <td>Alfa Romeo</td>\n",
       "      <td>13 May 1950</td>\n",
       "      <td>Luigi Fagioli</td>\n",
       "      <td>Great Britain</td>\n",
       "      <td>6.0</td>\n",
       "      <td>2</td>\n",
       "      <td>1950</td>\n",
       "      <td>24.0</td>\n",
       "      <td>3</td>\n",
       "      <td>Nino Farina</td>\n",
       "      <td>70.0</td>\n",
       "      <td>2:13:23.600</td>\n",
       "    </tr>\n",
       "  </tbody>\n",
       "</table>\n",
       "</div>"
      ],
      "text/plain": [
       "           Car         Date                 Driver     Grand Prix  \\\n",
       "0     Maserati  13 May 1950            Prince Bira  Great Britain   \n",
       "1  Talbot-Lago  13 May 1950  Yves Giraud Cabantous  Great Britain   \n",
       "2     Maserati  13 May 1950           Louis Chiron  Great Britain   \n",
       "3  Talbot-Lago  13 May 1950     Philippe Etancelin  Great Britain   \n",
       "4   Alfa Romeo  13 May 1950          Luigi Fagioli  Great Britain   \n",
       "\n",
       "   StandingPoints RacePosition  Year  DriverPoints StandingPosition  \\\n",
       "0             0.0          DNF  1950           5.0                8   \n",
       "1             NaN            4  1950           3.0               13   \n",
       "2             0.0          DNF  1950           4.0                9   \n",
       "3             0.0            8  1950           3.0               13   \n",
       "4             6.0            2  1950          24.0                3   \n",
       "\n",
       "        Winner  Laps    FinshTime  \n",
       "0  Nino Farina  70.0  2:13:23.600  \n",
       "1  Nino Farina  70.0  2:13:23.600  \n",
       "2  Nino Farina  70.0  2:13:23.600  \n",
       "3  Nino Farina  70.0  2:13:23.600  \n",
       "4  Nino Farina  70.0  2:13:23.600  "
      ]
     },
     "execution_count": 157,
     "metadata": {},
     "output_type": "execute_result"
    }
   ],
   "source": [
    "df.head()"
   ]
  },
  {
   "cell_type": "markdown",
   "metadata": {
    "id": "3e4TaEkReexT"
   },
   "source": [
    "### New dataset df and race details"
   ]
  },
  {
   "cell_type": "code",
   "execution_count": 160,
   "metadata": {
    "colab": {
     "base_uri": "https://localhost:8080/",
     "height": 0
    },
    "id": "DMdLycuvnd6P",
    "outputId": "d784ac3a-7adf-4744-b843-9eedb7508c46"
   },
   "outputs": [
    {
     "data": {
      "text/html": [
       "<div>\n",
       "<style scoped>\n",
       "    .dataframe tbody tr th:only-of-type {\n",
       "        vertical-align: middle;\n",
       "    }\n",
       "\n",
       "    .dataframe tbody tr th {\n",
       "        vertical-align: top;\n",
       "    }\n",
       "\n",
       "    .dataframe thead th {\n",
       "        text-align: right;\n",
       "    }\n",
       "</style>\n",
       "<table border=\"1\" class=\"dataframe\">\n",
       "  <thead>\n",
       "    <tr style=\"text-align: right;\">\n",
       "      <th></th>\n",
       "      <th>Car</th>\n",
       "      <th>Date</th>\n",
       "      <th>Driver</th>\n",
       "      <th>Grand Prix</th>\n",
       "      <th>StandingPoints</th>\n",
       "      <th>RacePosition</th>\n",
       "      <th>Year</th>\n",
       "      <th>DriverPoints</th>\n",
       "      <th>StandingPosition</th>\n",
       "      <th>Winner</th>\n",
       "      <th>Laps</th>\n",
       "      <th>FinshTime</th>\n",
       "    </tr>\n",
       "  </thead>\n",
       "  <tbody>\n",
       "    <tr>\n",
       "      <th>0</th>\n",
       "      <td>Maserati</td>\n",
       "      <td>13 May 1950</td>\n",
       "      <td>Prince Bira</td>\n",
       "      <td>Great Britain</td>\n",
       "      <td>0.0</td>\n",
       "      <td>DNF</td>\n",
       "      <td>1950</td>\n",
       "      <td>5.0</td>\n",
       "      <td>8</td>\n",
       "      <td>Nino Farina</td>\n",
       "      <td>70.0</td>\n",
       "      <td>2:13:23.600</td>\n",
       "    </tr>\n",
       "    <tr>\n",
       "      <th>1</th>\n",
       "      <td>Talbot-Lago</td>\n",
       "      <td>13 May 1950</td>\n",
       "      <td>Yves Giraud Cabantous</td>\n",
       "      <td>Great Britain</td>\n",
       "      <td>NaN</td>\n",
       "      <td>4</td>\n",
       "      <td>1950</td>\n",
       "      <td>3.0</td>\n",
       "      <td>13</td>\n",
       "      <td>Nino Farina</td>\n",
       "      <td>70.0</td>\n",
       "      <td>2:13:23.600</td>\n",
       "    </tr>\n",
       "    <tr>\n",
       "      <th>2</th>\n",
       "      <td>Maserati</td>\n",
       "      <td>13 May 1950</td>\n",
       "      <td>Louis Chiron</td>\n",
       "      <td>Great Britain</td>\n",
       "      <td>0.0</td>\n",
       "      <td>DNF</td>\n",
       "      <td>1950</td>\n",
       "      <td>4.0</td>\n",
       "      <td>9</td>\n",
       "      <td>Nino Farina</td>\n",
       "      <td>70.0</td>\n",
       "      <td>2:13:23.600</td>\n",
       "    </tr>\n",
       "    <tr>\n",
       "      <th>3</th>\n",
       "      <td>Talbot-Lago</td>\n",
       "      <td>13 May 1950</td>\n",
       "      <td>Philippe Etancelin</td>\n",
       "      <td>Great Britain</td>\n",
       "      <td>0.0</td>\n",
       "      <td>8</td>\n",
       "      <td>1950</td>\n",
       "      <td>3.0</td>\n",
       "      <td>13</td>\n",
       "      <td>Nino Farina</td>\n",
       "      <td>70.0</td>\n",
       "      <td>2:13:23.600</td>\n",
       "    </tr>\n",
       "    <tr>\n",
       "      <th>4</th>\n",
       "      <td>Alfa Romeo</td>\n",
       "      <td>13 May 1950</td>\n",
       "      <td>Luigi Fagioli</td>\n",
       "      <td>Great Britain</td>\n",
       "      <td>6.0</td>\n",
       "      <td>2</td>\n",
       "      <td>1950</td>\n",
       "      <td>24.0</td>\n",
       "      <td>3</td>\n",
       "      <td>Nino Farina</td>\n",
       "      <td>70.0</td>\n",
       "      <td>2:13:23.600</td>\n",
       "    </tr>\n",
       "  </tbody>\n",
       "</table>\n",
       "</div>"
      ],
      "text/plain": [
       "           Car         Date                 Driver     Grand Prix  \\\n",
       "0     Maserati  13 May 1950            Prince Bira  Great Britain   \n",
       "1  Talbot-Lago  13 May 1950  Yves Giraud Cabantous  Great Britain   \n",
       "2     Maserati  13 May 1950           Louis Chiron  Great Britain   \n",
       "3  Talbot-Lago  13 May 1950     Philippe Etancelin  Great Britain   \n",
       "4   Alfa Romeo  13 May 1950          Luigi Fagioli  Great Britain   \n",
       "\n",
       "   StandingPoints RacePosition  Year  DriverPoints StandingPosition  \\\n",
       "0             0.0          DNF  1950           5.0                8   \n",
       "1             NaN            4  1950           3.0               13   \n",
       "2             0.0          DNF  1950           4.0                9   \n",
       "3             0.0            8  1950           3.0               13   \n",
       "4             6.0            2  1950          24.0                3   \n",
       "\n",
       "        Winner  Laps    FinshTime  \n",
       "0  Nino Farina  70.0  2:13:23.600  \n",
       "1  Nino Farina  70.0  2:13:23.600  \n",
       "2  Nino Farina  70.0  2:13:23.600  \n",
       "3  Nino Farina  70.0  2:13:23.600  \n",
       "4  Nino Farina  70.0  2:13:23.600  "
      ]
     },
     "execution_count": 160,
     "metadata": {},
     "output_type": "execute_result"
    }
   ],
   "source": [
    "df.head()"
   ]
  },
  {
   "cell_type": "code",
   "execution_count": 162,
   "metadata": {
    "colab": {
     "base_uri": "https://localhost:8080/",
     "height": 0
    },
    "id": "6k3wkffue957",
    "outputId": "c49908ad-77bf-4b13-9275-9681292867dd"
   },
   "outputs": [
    {
     "data": {
      "text/html": [
       "<div>\n",
       "<style scoped>\n",
       "    .dataframe tbody tr th:only-of-type {\n",
       "        vertical-align: middle;\n",
       "    }\n",
       "\n",
       "    .dataframe tbody tr th {\n",
       "        vertical-align: top;\n",
       "    }\n",
       "\n",
       "    .dataframe thead th {\n",
       "        text-align: right;\n",
       "    }\n",
       "</style>\n",
       "<table border=\"1\" class=\"dataframe\">\n",
       "  <thead>\n",
       "    <tr style=\"text-align: right;\">\n",
       "      <th></th>\n",
       "      <th>Pos</th>\n",
       "      <th>No</th>\n",
       "      <th>Driver</th>\n",
       "      <th>Car</th>\n",
       "      <th>Laps</th>\n",
       "      <th>Time/Retired</th>\n",
       "      <th>PTS</th>\n",
       "      <th>Year</th>\n",
       "      <th>Grand Prix</th>\n",
       "      <th>Detail</th>\n",
       "      <th>DriverCode</th>\n",
       "    </tr>\n",
       "  </thead>\n",
       "  <tbody>\n",
       "    <tr>\n",
       "      <th>0</th>\n",
       "      <td>1</td>\n",
       "      <td>2</td>\n",
       "      <td>Nino Farina</td>\n",
       "      <td>Alfa Romeo</td>\n",
       "      <td>70.0</td>\n",
       "      <td>2:13:23.600</td>\n",
       "      <td>9.0</td>\n",
       "      <td>1950</td>\n",
       "      <td>Great Britain</td>\n",
       "      <td>Race-Result</td>\n",
       "      <td>FAR</td>\n",
       "    </tr>\n",
       "    <tr>\n",
       "      <th>1</th>\n",
       "      <td>2</td>\n",
       "      <td>3</td>\n",
       "      <td>Luigi Fagioli</td>\n",
       "      <td>Alfa Romeo</td>\n",
       "      <td>70.0</td>\n",
       "      <td>+2.600s</td>\n",
       "      <td>6.0</td>\n",
       "      <td>1950</td>\n",
       "      <td>Great Britain</td>\n",
       "      <td>Race-Result</td>\n",
       "      <td>FAG</td>\n",
       "    </tr>\n",
       "    <tr>\n",
       "      <th>2</th>\n",
       "      <td>3</td>\n",
       "      <td>4</td>\n",
       "      <td>Reg Parnell</td>\n",
       "      <td>Alfa Romeo</td>\n",
       "      <td>70.0</td>\n",
       "      <td>+52.000s</td>\n",
       "      <td>4.0</td>\n",
       "      <td>1950</td>\n",
       "      <td>Great Britain</td>\n",
       "      <td>Race-Result</td>\n",
       "      <td>PAR</td>\n",
       "    </tr>\n",
       "    <tr>\n",
       "      <th>3</th>\n",
       "      <td>4</td>\n",
       "      <td>14</td>\n",
       "      <td>Yves Giraud-Cabantous</td>\n",
       "      <td>Talbot-Lago</td>\n",
       "      <td>68.0</td>\n",
       "      <td>+2 laps</td>\n",
       "      <td>3.0</td>\n",
       "      <td>1950</td>\n",
       "      <td>Great Britain</td>\n",
       "      <td>Race-Result</td>\n",
       "      <td>GIR</td>\n",
       "    </tr>\n",
       "    <tr>\n",
       "      <th>4</th>\n",
       "      <td>5</td>\n",
       "      <td>15</td>\n",
       "      <td>Louis Rosier</td>\n",
       "      <td>Talbot-Lago</td>\n",
       "      <td>68.0</td>\n",
       "      <td>+2 laps</td>\n",
       "      <td>2.0</td>\n",
       "      <td>1950</td>\n",
       "      <td>Great Britain</td>\n",
       "      <td>Race-Result</td>\n",
       "      <td>ROS</td>\n",
       "    </tr>\n",
       "  </tbody>\n",
       "</table>\n",
       "</div>"
      ],
      "text/plain": [
       "  Pos  No                 Driver          Car  Laps Time/Retired  PTS  Year  \\\n",
       "0   1   2            Nino Farina   Alfa Romeo  70.0  2:13:23.600  9.0  1950   \n",
       "1   2   3          Luigi Fagioli   Alfa Romeo  70.0      +2.600s  6.0  1950   \n",
       "2   3   4            Reg Parnell   Alfa Romeo  70.0     +52.000s  4.0  1950   \n",
       "3   4  14  Yves Giraud-Cabantous  Talbot-Lago  68.0      +2 laps  3.0  1950   \n",
       "4   5  15           Louis Rosier  Talbot-Lago  68.0      +2 laps  2.0  1950   \n",
       "\n",
       "      Grand Prix       Detail DriverCode  \n",
       "0  Great Britain  Race-Result        FAR  \n",
       "1  Great Britain  Race-Result        FAG  \n",
       "2  Great Britain  Race-Result        PAR  \n",
       "3  Great Britain  Race-Result        GIR  \n",
       "4  Great Britain  Race-Result        ROS  "
      ]
     },
     "execution_count": 162,
     "metadata": {},
     "output_type": "execute_result"
    }
   ],
   "source": [
    "select['race_details'].head()"
   ]
  },
  {
   "cell_type": "code",
   "execution_count": 164,
   "metadata": {
    "id": "SEDrn7ZCefOF"
   },
   "outputs": [],
   "source": [
    "#use left data merge\n",
    "df=df.merge(select['race_details'][['Pos','Laps','Year','Grand Prix','No','PTS','Car','Driver']],on=['Year','Grand Prix','Driver','Laps'],how='left')"
   ]
  },
  {
   "cell_type": "code",
   "execution_count": 166,
   "metadata": {
    "colab": {
     "base_uri": "https://localhost:8080/",
     "height": 0
    },
    "id": "SXt59qhPefpS",
    "outputId": "de2280ba-ad9b-4645-c27e-c5da8c26453a"
   },
   "outputs": [
    {
     "data": {
      "text/html": [
       "<div>\n",
       "<style scoped>\n",
       "    .dataframe tbody tr th:only-of-type {\n",
       "        vertical-align: middle;\n",
       "    }\n",
       "\n",
       "    .dataframe tbody tr th {\n",
       "        vertical-align: top;\n",
       "    }\n",
       "\n",
       "    .dataframe thead th {\n",
       "        text-align: right;\n",
       "    }\n",
       "</style>\n",
       "<table border=\"1\" class=\"dataframe\">\n",
       "  <thead>\n",
       "    <tr style=\"text-align: right;\">\n",
       "      <th></th>\n",
       "      <th>Car_x</th>\n",
       "      <th>Date</th>\n",
       "      <th>Driver</th>\n",
       "      <th>Grand Prix</th>\n",
       "      <th>StandingPoints</th>\n",
       "      <th>RacePosition</th>\n",
       "      <th>Year</th>\n",
       "      <th>DriverPoints</th>\n",
       "      <th>StandingPosition</th>\n",
       "      <th>Winner</th>\n",
       "      <th>Laps</th>\n",
       "      <th>FinshTime</th>\n",
       "      <th>Pos</th>\n",
       "      <th>No</th>\n",
       "      <th>PTS</th>\n",
       "      <th>Car_y</th>\n",
       "    </tr>\n",
       "  </thead>\n",
       "  <tbody>\n",
       "    <tr>\n",
       "      <th>0</th>\n",
       "      <td>Maserati</td>\n",
       "      <td>13 May 1950</td>\n",
       "      <td>Prince Bira</td>\n",
       "      <td>Great Britain</td>\n",
       "      <td>0.0</td>\n",
       "      <td>DNF</td>\n",
       "      <td>1950</td>\n",
       "      <td>5.0</td>\n",
       "      <td>8</td>\n",
       "      <td>Nino Farina</td>\n",
       "      <td>70.0</td>\n",
       "      <td>2:13:23.600</td>\n",
       "      <td>NaN</td>\n",
       "      <td>NaN</td>\n",
       "      <td>NaN</td>\n",
       "      <td>NaN</td>\n",
       "    </tr>\n",
       "    <tr>\n",
       "      <th>1</th>\n",
       "      <td>Talbot-Lago</td>\n",
       "      <td>13 May 1950</td>\n",
       "      <td>Yves Giraud Cabantous</td>\n",
       "      <td>Great Britain</td>\n",
       "      <td>NaN</td>\n",
       "      <td>4</td>\n",
       "      <td>1950</td>\n",
       "      <td>3.0</td>\n",
       "      <td>13</td>\n",
       "      <td>Nino Farina</td>\n",
       "      <td>70.0</td>\n",
       "      <td>2:13:23.600</td>\n",
       "      <td>NaN</td>\n",
       "      <td>NaN</td>\n",
       "      <td>NaN</td>\n",
       "      <td>NaN</td>\n",
       "    </tr>\n",
       "    <tr>\n",
       "      <th>2</th>\n",
       "      <td>Maserati</td>\n",
       "      <td>13 May 1950</td>\n",
       "      <td>Louis Chiron</td>\n",
       "      <td>Great Britain</td>\n",
       "      <td>0.0</td>\n",
       "      <td>DNF</td>\n",
       "      <td>1950</td>\n",
       "      <td>4.0</td>\n",
       "      <td>9</td>\n",
       "      <td>Nino Farina</td>\n",
       "      <td>70.0</td>\n",
       "      <td>2:13:23.600</td>\n",
       "      <td>NaN</td>\n",
       "      <td>NaN</td>\n",
       "      <td>NaN</td>\n",
       "      <td>NaN</td>\n",
       "    </tr>\n",
       "    <tr>\n",
       "      <th>3</th>\n",
       "      <td>Talbot-Lago</td>\n",
       "      <td>13 May 1950</td>\n",
       "      <td>Philippe Etancelin</td>\n",
       "      <td>Great Britain</td>\n",
       "      <td>0.0</td>\n",
       "      <td>8</td>\n",
       "      <td>1950</td>\n",
       "      <td>3.0</td>\n",
       "      <td>13</td>\n",
       "      <td>Nino Farina</td>\n",
       "      <td>70.0</td>\n",
       "      <td>2:13:23.600</td>\n",
       "      <td>NaN</td>\n",
       "      <td>NaN</td>\n",
       "      <td>NaN</td>\n",
       "      <td>NaN</td>\n",
       "    </tr>\n",
       "    <tr>\n",
       "      <th>4</th>\n",
       "      <td>Alfa Romeo</td>\n",
       "      <td>13 May 1950</td>\n",
       "      <td>Luigi Fagioli</td>\n",
       "      <td>Great Britain</td>\n",
       "      <td>6.0</td>\n",
       "      <td>2</td>\n",
       "      <td>1950</td>\n",
       "      <td>24.0</td>\n",
       "      <td>3</td>\n",
       "      <td>Nino Farina</td>\n",
       "      <td>70.0</td>\n",
       "      <td>2:13:23.600</td>\n",
       "      <td>2</td>\n",
       "      <td>3.0</td>\n",
       "      <td>6.0</td>\n",
       "      <td>Alfa Romeo</td>\n",
       "    </tr>\n",
       "  </tbody>\n",
       "</table>\n",
       "</div>"
      ],
      "text/plain": [
       "         Car_x         Date                 Driver     Grand Prix  \\\n",
       "0     Maserati  13 May 1950            Prince Bira  Great Britain   \n",
       "1  Talbot-Lago  13 May 1950  Yves Giraud Cabantous  Great Britain   \n",
       "2     Maserati  13 May 1950           Louis Chiron  Great Britain   \n",
       "3  Talbot-Lago  13 May 1950     Philippe Etancelin  Great Britain   \n",
       "4   Alfa Romeo  13 May 1950          Luigi Fagioli  Great Britain   \n",
       "\n",
       "   StandingPoints RacePosition  Year  DriverPoints StandingPosition  \\\n",
       "0             0.0          DNF  1950           5.0                8   \n",
       "1             NaN            4  1950           3.0               13   \n",
       "2             0.0          DNF  1950           4.0                9   \n",
       "3             0.0            8  1950           3.0               13   \n",
       "4             6.0            2  1950          24.0                3   \n",
       "\n",
       "        Winner  Laps    FinshTime  Pos   No  PTS       Car_y  \n",
       "0  Nino Farina  70.0  2:13:23.600  NaN  NaN  NaN         NaN  \n",
       "1  Nino Farina  70.0  2:13:23.600  NaN  NaN  NaN         NaN  \n",
       "2  Nino Farina  70.0  2:13:23.600  NaN  NaN  NaN         NaN  \n",
       "3  Nino Farina  70.0  2:13:23.600  NaN  NaN  NaN         NaN  \n",
       "4  Nino Farina  70.0  2:13:23.600    2  3.0  6.0  Alfa Romeo  "
      ]
     },
     "execution_count": 166,
     "metadata": {},
     "output_type": "execute_result"
    }
   ],
   "source": [
    "df.head()"
   ]
  },
  {
   "cell_type": "code",
   "execution_count": 168,
   "metadata": {
    "id": "AG3T_y07pyem"
   },
   "outputs": [],
   "source": [
    "# Rename columns\n",
    "df=df.rename(columns={'Car_x':'DriverCars','Car_y':'WinnerCars'})"
   ]
  },
  {
   "cell_type": "code",
   "execution_count": 170,
   "metadata": {
    "colab": {
     "base_uri": "https://localhost:8080/",
     "height": 0
    },
    "id": "JLzjovcvqpxW",
    "outputId": "c982d055-3e31-43fd-bba9-f4aa0fcef3f7"
   },
   "outputs": [
    {
     "data": {
      "text/html": [
       "<div>\n",
       "<style scoped>\n",
       "    .dataframe tbody tr th:only-of-type {\n",
       "        vertical-align: middle;\n",
       "    }\n",
       "\n",
       "    .dataframe tbody tr th {\n",
       "        vertical-align: top;\n",
       "    }\n",
       "\n",
       "    .dataframe thead th {\n",
       "        text-align: right;\n",
       "    }\n",
       "</style>\n",
       "<table border=\"1\" class=\"dataframe\">\n",
       "  <thead>\n",
       "    <tr style=\"text-align: right;\">\n",
       "      <th></th>\n",
       "      <th>DriverCars</th>\n",
       "      <th>Date</th>\n",
       "      <th>Driver</th>\n",
       "      <th>Grand Prix</th>\n",
       "      <th>StandingPoints</th>\n",
       "      <th>RacePosition</th>\n",
       "      <th>Year</th>\n",
       "      <th>DriverPoints</th>\n",
       "      <th>StandingPosition</th>\n",
       "      <th>Winner</th>\n",
       "      <th>Laps</th>\n",
       "      <th>FinshTime</th>\n",
       "      <th>Pos</th>\n",
       "      <th>No</th>\n",
       "      <th>PTS</th>\n",
       "      <th>WinnerCars</th>\n",
       "    </tr>\n",
       "  </thead>\n",
       "  <tbody>\n",
       "    <tr>\n",
       "      <th>0</th>\n",
       "      <td>Maserati</td>\n",
       "      <td>13 May 1950</td>\n",
       "      <td>Prince Bira</td>\n",
       "      <td>Great Britain</td>\n",
       "      <td>0.0</td>\n",
       "      <td>DNF</td>\n",
       "      <td>1950</td>\n",
       "      <td>5.0</td>\n",
       "      <td>8</td>\n",
       "      <td>Nino Farina</td>\n",
       "      <td>70.0</td>\n",
       "      <td>2:13:23.600</td>\n",
       "      <td>NaN</td>\n",
       "      <td>NaN</td>\n",
       "      <td>NaN</td>\n",
       "      <td>NaN</td>\n",
       "    </tr>\n",
       "    <tr>\n",
       "      <th>1</th>\n",
       "      <td>Talbot-Lago</td>\n",
       "      <td>13 May 1950</td>\n",
       "      <td>Yves Giraud Cabantous</td>\n",
       "      <td>Great Britain</td>\n",
       "      <td>NaN</td>\n",
       "      <td>4</td>\n",
       "      <td>1950</td>\n",
       "      <td>3.0</td>\n",
       "      <td>13</td>\n",
       "      <td>Nino Farina</td>\n",
       "      <td>70.0</td>\n",
       "      <td>2:13:23.600</td>\n",
       "      <td>NaN</td>\n",
       "      <td>NaN</td>\n",
       "      <td>NaN</td>\n",
       "      <td>NaN</td>\n",
       "    </tr>\n",
       "    <tr>\n",
       "      <th>2</th>\n",
       "      <td>Maserati</td>\n",
       "      <td>13 May 1950</td>\n",
       "      <td>Louis Chiron</td>\n",
       "      <td>Great Britain</td>\n",
       "      <td>0.0</td>\n",
       "      <td>DNF</td>\n",
       "      <td>1950</td>\n",
       "      <td>4.0</td>\n",
       "      <td>9</td>\n",
       "      <td>Nino Farina</td>\n",
       "      <td>70.0</td>\n",
       "      <td>2:13:23.600</td>\n",
       "      <td>NaN</td>\n",
       "      <td>NaN</td>\n",
       "      <td>NaN</td>\n",
       "      <td>NaN</td>\n",
       "    </tr>\n",
       "    <tr>\n",
       "      <th>3</th>\n",
       "      <td>Talbot-Lago</td>\n",
       "      <td>13 May 1950</td>\n",
       "      <td>Philippe Etancelin</td>\n",
       "      <td>Great Britain</td>\n",
       "      <td>0.0</td>\n",
       "      <td>8</td>\n",
       "      <td>1950</td>\n",
       "      <td>3.0</td>\n",
       "      <td>13</td>\n",
       "      <td>Nino Farina</td>\n",
       "      <td>70.0</td>\n",
       "      <td>2:13:23.600</td>\n",
       "      <td>NaN</td>\n",
       "      <td>NaN</td>\n",
       "      <td>NaN</td>\n",
       "      <td>NaN</td>\n",
       "    </tr>\n",
       "    <tr>\n",
       "      <th>4</th>\n",
       "      <td>Alfa Romeo</td>\n",
       "      <td>13 May 1950</td>\n",
       "      <td>Luigi Fagioli</td>\n",
       "      <td>Great Britain</td>\n",
       "      <td>6.0</td>\n",
       "      <td>2</td>\n",
       "      <td>1950</td>\n",
       "      <td>24.0</td>\n",
       "      <td>3</td>\n",
       "      <td>Nino Farina</td>\n",
       "      <td>70.0</td>\n",
       "      <td>2:13:23.600</td>\n",
       "      <td>2</td>\n",
       "      <td>3.0</td>\n",
       "      <td>6.0</td>\n",
       "      <td>Alfa Romeo</td>\n",
       "    </tr>\n",
       "  </tbody>\n",
       "</table>\n",
       "</div>"
      ],
      "text/plain": [
       "    DriverCars         Date                 Driver     Grand Prix  \\\n",
       "0     Maserati  13 May 1950            Prince Bira  Great Britain   \n",
       "1  Talbot-Lago  13 May 1950  Yves Giraud Cabantous  Great Britain   \n",
       "2     Maserati  13 May 1950           Louis Chiron  Great Britain   \n",
       "3  Talbot-Lago  13 May 1950     Philippe Etancelin  Great Britain   \n",
       "4   Alfa Romeo  13 May 1950          Luigi Fagioli  Great Britain   \n",
       "\n",
       "   StandingPoints RacePosition  Year  DriverPoints StandingPosition  \\\n",
       "0             0.0          DNF  1950           5.0                8   \n",
       "1             NaN            4  1950           3.0               13   \n",
       "2             0.0          DNF  1950           4.0                9   \n",
       "3             0.0            8  1950           3.0               13   \n",
       "4             6.0            2  1950          24.0                3   \n",
       "\n",
       "        Winner  Laps    FinshTime  Pos   No  PTS  WinnerCars  \n",
       "0  Nino Farina  70.0  2:13:23.600  NaN  NaN  NaN         NaN  \n",
       "1  Nino Farina  70.0  2:13:23.600  NaN  NaN  NaN         NaN  \n",
       "2  Nino Farina  70.0  2:13:23.600  NaN  NaN  NaN         NaN  \n",
       "3  Nino Farina  70.0  2:13:23.600  NaN  NaN  NaN         NaN  \n",
       "4  Nino Farina  70.0  2:13:23.600    2  3.0  6.0  Alfa Romeo  "
      ]
     },
     "execution_count": 170,
     "metadata": {},
     "output_type": "execute_result"
    }
   ],
   "source": [
    "df.head()"
   ]
  },
  {
   "cell_type": "markdown",
   "metadata": {
    "id": "pv57RCXNgew2"
   },
   "source": [
    "### New dataset and qualifyings"
   ]
  },
  {
   "cell_type": "code",
   "execution_count": 173,
   "metadata": {
    "colab": {
     "base_uri": "https://localhost:8080/",
     "height": 0
    },
    "id": "SZe0iQ3prIom",
    "outputId": "461d2333-6ea8-487e-a037-1cb51d2bbbec"
   },
   "outputs": [
    {
     "data": {
      "text/html": [
       "<div>\n",
       "<style scoped>\n",
       "    .dataframe tbody tr th:only-of-type {\n",
       "        vertical-align: middle;\n",
       "    }\n",
       "\n",
       "    .dataframe tbody tr th {\n",
       "        vertical-align: top;\n",
       "    }\n",
       "\n",
       "    .dataframe thead th {\n",
       "        text-align: right;\n",
       "    }\n",
       "</style>\n",
       "<table border=\"1\" class=\"dataframe\">\n",
       "  <thead>\n",
       "    <tr style=\"text-align: right;\">\n",
       "      <th></th>\n",
       "      <th>DriverCars</th>\n",
       "      <th>Date</th>\n",
       "      <th>Driver</th>\n",
       "      <th>Grand Prix</th>\n",
       "      <th>StandingPoints</th>\n",
       "      <th>RacePosition</th>\n",
       "      <th>Year</th>\n",
       "      <th>DriverPoints</th>\n",
       "      <th>StandingPosition</th>\n",
       "      <th>Winner</th>\n",
       "      <th>Laps</th>\n",
       "      <th>FinshTime</th>\n",
       "      <th>Pos</th>\n",
       "      <th>No</th>\n",
       "      <th>PTS</th>\n",
       "      <th>WinnerCars</th>\n",
       "    </tr>\n",
       "  </thead>\n",
       "  <tbody>\n",
       "    <tr>\n",
       "      <th>0</th>\n",
       "      <td>Maserati</td>\n",
       "      <td>13 May 1950</td>\n",
       "      <td>Prince Bira</td>\n",
       "      <td>Great Britain</td>\n",
       "      <td>0.0</td>\n",
       "      <td>DNF</td>\n",
       "      <td>1950</td>\n",
       "      <td>5.0</td>\n",
       "      <td>8</td>\n",
       "      <td>Nino Farina</td>\n",
       "      <td>70.0</td>\n",
       "      <td>2:13:23.600</td>\n",
       "      <td>NaN</td>\n",
       "      <td>NaN</td>\n",
       "      <td>NaN</td>\n",
       "      <td>NaN</td>\n",
       "    </tr>\n",
       "    <tr>\n",
       "      <th>1</th>\n",
       "      <td>Talbot-Lago</td>\n",
       "      <td>13 May 1950</td>\n",
       "      <td>Yves Giraud Cabantous</td>\n",
       "      <td>Great Britain</td>\n",
       "      <td>NaN</td>\n",
       "      <td>4</td>\n",
       "      <td>1950</td>\n",
       "      <td>3.0</td>\n",
       "      <td>13</td>\n",
       "      <td>Nino Farina</td>\n",
       "      <td>70.0</td>\n",
       "      <td>2:13:23.600</td>\n",
       "      <td>NaN</td>\n",
       "      <td>NaN</td>\n",
       "      <td>NaN</td>\n",
       "      <td>NaN</td>\n",
       "    </tr>\n",
       "    <tr>\n",
       "      <th>2</th>\n",
       "      <td>Maserati</td>\n",
       "      <td>13 May 1950</td>\n",
       "      <td>Louis Chiron</td>\n",
       "      <td>Great Britain</td>\n",
       "      <td>0.0</td>\n",
       "      <td>DNF</td>\n",
       "      <td>1950</td>\n",
       "      <td>4.0</td>\n",
       "      <td>9</td>\n",
       "      <td>Nino Farina</td>\n",
       "      <td>70.0</td>\n",
       "      <td>2:13:23.600</td>\n",
       "      <td>NaN</td>\n",
       "      <td>NaN</td>\n",
       "      <td>NaN</td>\n",
       "      <td>NaN</td>\n",
       "    </tr>\n",
       "    <tr>\n",
       "      <th>3</th>\n",
       "      <td>Talbot-Lago</td>\n",
       "      <td>13 May 1950</td>\n",
       "      <td>Philippe Etancelin</td>\n",
       "      <td>Great Britain</td>\n",
       "      <td>0.0</td>\n",
       "      <td>8</td>\n",
       "      <td>1950</td>\n",
       "      <td>3.0</td>\n",
       "      <td>13</td>\n",
       "      <td>Nino Farina</td>\n",
       "      <td>70.0</td>\n",
       "      <td>2:13:23.600</td>\n",
       "      <td>NaN</td>\n",
       "      <td>NaN</td>\n",
       "      <td>NaN</td>\n",
       "      <td>NaN</td>\n",
       "    </tr>\n",
       "    <tr>\n",
       "      <th>4</th>\n",
       "      <td>Alfa Romeo</td>\n",
       "      <td>13 May 1950</td>\n",
       "      <td>Luigi Fagioli</td>\n",
       "      <td>Great Britain</td>\n",
       "      <td>6.0</td>\n",
       "      <td>2</td>\n",
       "      <td>1950</td>\n",
       "      <td>24.0</td>\n",
       "      <td>3</td>\n",
       "      <td>Nino Farina</td>\n",
       "      <td>70.0</td>\n",
       "      <td>2:13:23.600</td>\n",
       "      <td>2</td>\n",
       "      <td>3.0</td>\n",
       "      <td>6.0</td>\n",
       "      <td>Alfa Romeo</td>\n",
       "    </tr>\n",
       "    <tr>\n",
       "      <th>5</th>\n",
       "      <td>Alfa Romeo</td>\n",
       "      <td>13 May 1950</td>\n",
       "      <td>Juan Manuel Fangio</td>\n",
       "      <td>Great Britain</td>\n",
       "      <td>0.0</td>\n",
       "      <td>DNF</td>\n",
       "      <td>1950</td>\n",
       "      <td>27.0</td>\n",
       "      <td>2</td>\n",
       "      <td>Nino Farina</td>\n",
       "      <td>70.0</td>\n",
       "      <td>2:13:23.600</td>\n",
       "      <td>NaN</td>\n",
       "      <td>NaN</td>\n",
       "      <td>NaN</td>\n",
       "      <td>NaN</td>\n",
       "    </tr>\n",
       "    <tr>\n",
       "      <th>6</th>\n",
       "      <td>Alfa Romeo</td>\n",
       "      <td>13 May 1950</td>\n",
       "      <td>Nino Farina</td>\n",
       "      <td>Great Britain</td>\n",
       "      <td>9.0</td>\n",
       "      <td>1</td>\n",
       "      <td>1950</td>\n",
       "      <td>30.0</td>\n",
       "      <td>1</td>\n",
       "      <td>Nino Farina</td>\n",
       "      <td>70.0</td>\n",
       "      <td>2:13:23.600</td>\n",
       "      <td>1</td>\n",
       "      <td>2.0</td>\n",
       "      <td>9.0</td>\n",
       "      <td>Alfa Romeo</td>\n",
       "    </tr>\n",
       "    <tr>\n",
       "      <th>7</th>\n",
       "      <td>Alfa Romeo</td>\n",
       "      <td>13 May 1950</td>\n",
       "      <td>Reg Parnell</td>\n",
       "      <td>Great Britain</td>\n",
       "      <td>4.0</td>\n",
       "      <td>3</td>\n",
       "      <td>1950</td>\n",
       "      <td>4.0</td>\n",
       "      <td>9</td>\n",
       "      <td>Nino Farina</td>\n",
       "      <td>70.0</td>\n",
       "      <td>2:13:23.600</td>\n",
       "      <td>3</td>\n",
       "      <td>4.0</td>\n",
       "      <td>4.0</td>\n",
       "      <td>Alfa Romeo</td>\n",
       "    </tr>\n",
       "    <tr>\n",
       "      <th>8</th>\n",
       "      <td>Talbot-Lago</td>\n",
       "      <td>13 May 1950</td>\n",
       "      <td>Louis Rosier</td>\n",
       "      <td>Great Britain</td>\n",
       "      <td>2.0</td>\n",
       "      <td>5</td>\n",
       "      <td>1950</td>\n",
       "      <td>13.0</td>\n",
       "      <td>4</td>\n",
       "      <td>Nino Farina</td>\n",
       "      <td>70.0</td>\n",
       "      <td>2:13:23.600</td>\n",
       "      <td>NaN</td>\n",
       "      <td>NaN</td>\n",
       "      <td>NaN</td>\n",
       "      <td>NaN</td>\n",
       "    </tr>\n",
       "    <tr>\n",
       "      <th>9</th>\n",
       "      <td>Ferrari</td>\n",
       "      <td>21 May 1950</td>\n",
       "      <td>Alberto Ascari</td>\n",
       "      <td>Monaco</td>\n",
       "      <td>6.0</td>\n",
       "      <td>2</td>\n",
       "      <td>1950</td>\n",
       "      <td>11.0</td>\n",
       "      <td>5</td>\n",
       "      <td>Juan Manuel Fangio</td>\n",
       "      <td>100.0</td>\n",
       "      <td>3:13:18.700</td>\n",
       "      <td>NaN</td>\n",
       "      <td>NaN</td>\n",
       "      <td>NaN</td>\n",
       "      <td>NaN</td>\n",
       "    </tr>\n",
       "  </tbody>\n",
       "</table>\n",
       "</div>"
      ],
      "text/plain": [
       "    DriverCars         Date                 Driver     Grand Prix  \\\n",
       "0     Maserati  13 May 1950            Prince Bira  Great Britain   \n",
       "1  Talbot-Lago  13 May 1950  Yves Giraud Cabantous  Great Britain   \n",
       "2     Maserati  13 May 1950           Louis Chiron  Great Britain   \n",
       "3  Talbot-Lago  13 May 1950     Philippe Etancelin  Great Britain   \n",
       "4   Alfa Romeo  13 May 1950          Luigi Fagioli  Great Britain   \n",
       "5   Alfa Romeo  13 May 1950     Juan Manuel Fangio  Great Britain   \n",
       "6   Alfa Romeo  13 May 1950            Nino Farina  Great Britain   \n",
       "7   Alfa Romeo  13 May 1950            Reg Parnell  Great Britain   \n",
       "8  Talbot-Lago  13 May 1950           Louis Rosier  Great Britain   \n",
       "9      Ferrari  21 May 1950         Alberto Ascari         Monaco   \n",
       "\n",
       "   StandingPoints RacePosition  Year  DriverPoints StandingPosition  \\\n",
       "0             0.0          DNF  1950           5.0                8   \n",
       "1             NaN            4  1950           3.0               13   \n",
       "2             0.0          DNF  1950           4.0                9   \n",
       "3             0.0            8  1950           3.0               13   \n",
       "4             6.0            2  1950          24.0                3   \n",
       "5             0.0          DNF  1950          27.0                2   \n",
       "6             9.0            1  1950          30.0                1   \n",
       "7             4.0            3  1950           4.0                9   \n",
       "8             2.0            5  1950          13.0                4   \n",
       "9             6.0            2  1950          11.0                5   \n",
       "\n",
       "               Winner   Laps    FinshTime  Pos   No  PTS  WinnerCars  \n",
       "0         Nino Farina   70.0  2:13:23.600  NaN  NaN  NaN         NaN  \n",
       "1         Nino Farina   70.0  2:13:23.600  NaN  NaN  NaN         NaN  \n",
       "2         Nino Farina   70.0  2:13:23.600  NaN  NaN  NaN         NaN  \n",
       "3         Nino Farina   70.0  2:13:23.600  NaN  NaN  NaN         NaN  \n",
       "4         Nino Farina   70.0  2:13:23.600    2  3.0  6.0  Alfa Romeo  \n",
       "5         Nino Farina   70.0  2:13:23.600  NaN  NaN  NaN         NaN  \n",
       "6         Nino Farina   70.0  2:13:23.600    1  2.0  9.0  Alfa Romeo  \n",
       "7         Nino Farina   70.0  2:13:23.600    3  4.0  4.0  Alfa Romeo  \n",
       "8         Nino Farina   70.0  2:13:23.600  NaN  NaN  NaN         NaN  \n",
       "9  Juan Manuel Fangio  100.0  3:13:18.700  NaN  NaN  NaN         NaN  "
      ]
     },
     "execution_count": 173,
     "metadata": {},
     "output_type": "execute_result"
    }
   ],
   "source": [
    "df.head(10)"
   ]
  },
  {
   "cell_type": "code",
   "execution_count": 175,
   "metadata": {
    "colab": {
     "base_uri": "https://localhost:8080/",
     "height": 0
    },
    "id": "9UHSmktngqCK",
    "outputId": "ed4401d6-24e6-49ca-e835-1dfb9f0f57d4"
   },
   "outputs": [
    {
     "data": {
      "text/html": [
       "<div>\n",
       "<style scoped>\n",
       "    .dataframe tbody tr th:only-of-type {\n",
       "        vertical-align: middle;\n",
       "    }\n",
       "\n",
       "    .dataframe tbody tr th {\n",
       "        vertical-align: top;\n",
       "    }\n",
       "\n",
       "    .dataframe thead th {\n",
       "        text-align: right;\n",
       "    }\n",
       "</style>\n",
       "<table border=\"1\" class=\"dataframe\">\n",
       "  <thead>\n",
       "    <tr style=\"text-align: right;\">\n",
       "      <th></th>\n",
       "      <th>Car</th>\n",
       "      <th>Detail</th>\n",
       "      <th>Driver</th>\n",
       "      <th>DriverCode</th>\n",
       "      <th>Grand Prix</th>\n",
       "      <th>Laps</th>\n",
       "      <th>No</th>\n",
       "      <th>Pos</th>\n",
       "      <th>Q1</th>\n",
       "      <th>Q2</th>\n",
       "      <th>Q3</th>\n",
       "      <th>Time</th>\n",
       "      <th>Year</th>\n",
       "    </tr>\n",
       "  </thead>\n",
       "  <tbody>\n",
       "    <tr>\n",
       "      <th>0</th>\n",
       "      <td>Alfa Romeo</td>\n",
       "      <td>Qualifying</td>\n",
       "      <td>Nino Farina</td>\n",
       "      <td>FAR</td>\n",
       "      <td>Great Britain</td>\n",
       "      <td>NaN</td>\n",
       "      <td>2</td>\n",
       "      <td>1</td>\n",
       "      <td>NaN</td>\n",
       "      <td>NaN</td>\n",
       "      <td>NaN</td>\n",
       "      <td>1:50.800</td>\n",
       "      <td>1950</td>\n",
       "    </tr>\n",
       "    <tr>\n",
       "      <th>1</th>\n",
       "      <td>Alfa Romeo</td>\n",
       "      <td>Qualifying</td>\n",
       "      <td>Juan Manuel Fangio</td>\n",
       "      <td>FAN</td>\n",
       "      <td>Monaco</td>\n",
       "      <td>NaN</td>\n",
       "      <td>34</td>\n",
       "      <td>1</td>\n",
       "      <td>NaN</td>\n",
       "      <td>NaN</td>\n",
       "      <td>NaN</td>\n",
       "      <td>1:50.200</td>\n",
       "      <td>1950</td>\n",
       "    </tr>\n",
       "    <tr>\n",
       "      <th>2</th>\n",
       "      <td>Kurtis Kraft Offenhauser</td>\n",
       "      <td>Qualifying</td>\n",
       "      <td>Walt Faulkner</td>\n",
       "      <td>FAU</td>\n",
       "      <td>Indianapolis 500</td>\n",
       "      <td>NaN</td>\n",
       "      <td>98</td>\n",
       "      <td>1</td>\n",
       "      <td>NaN</td>\n",
       "      <td>NaN</td>\n",
       "      <td>NaN</td>\n",
       "      <td>1:06.992</td>\n",
       "      <td>1950</td>\n",
       "    </tr>\n",
       "    <tr>\n",
       "      <th>3</th>\n",
       "      <td>Alfa Romeo</td>\n",
       "      <td>Qualifying</td>\n",
       "      <td>Juan Manuel Fangio</td>\n",
       "      <td>FAN</td>\n",
       "      <td>Switzerland</td>\n",
       "      <td>NaN</td>\n",
       "      <td>14</td>\n",
       "      <td>1</td>\n",
       "      <td>NaN</td>\n",
       "      <td>NaN</td>\n",
       "      <td>NaN</td>\n",
       "      <td>2:42.100</td>\n",
       "      <td>1950</td>\n",
       "    </tr>\n",
       "    <tr>\n",
       "      <th>4</th>\n",
       "      <td>Alfa Romeo</td>\n",
       "      <td>Qualifying</td>\n",
       "      <td>Nino Farina</td>\n",
       "      <td>FAR</td>\n",
       "      <td>Belgium</td>\n",
       "      <td>NaN</td>\n",
       "      <td>8</td>\n",
       "      <td>1</td>\n",
       "      <td>NaN</td>\n",
       "      <td>NaN</td>\n",
       "      <td>NaN</td>\n",
       "      <td>4:37.000</td>\n",
       "      <td>1950</td>\n",
       "    </tr>\n",
       "    <tr>\n",
       "      <th>5</th>\n",
       "      <td>Alfa Romeo</td>\n",
       "      <td>Qualifying</td>\n",
       "      <td>Juan Manuel Fangio</td>\n",
       "      <td>FAN</td>\n",
       "      <td>France</td>\n",
       "      <td>NaN</td>\n",
       "      <td>6</td>\n",
       "      <td>1</td>\n",
       "      <td>NaN</td>\n",
       "      <td>NaN</td>\n",
       "      <td>NaN</td>\n",
       "      <td>2:30.600</td>\n",
       "      <td>1950</td>\n",
       "    </tr>\n",
       "    <tr>\n",
       "      <th>6</th>\n",
       "      <td>Alfa Romeo</td>\n",
       "      <td>Qualifying</td>\n",
       "      <td>Juan Manuel Fangio</td>\n",
       "      <td>FAN</td>\n",
       "      <td>Italy</td>\n",
       "      <td>NaN</td>\n",
       "      <td>18</td>\n",
       "      <td>1</td>\n",
       "      <td>NaN</td>\n",
       "      <td>NaN</td>\n",
       "      <td>NaN</td>\n",
       "      <td>1:58.600</td>\n",
       "      <td>1950</td>\n",
       "    </tr>\n",
       "    <tr>\n",
       "      <th>7</th>\n",
       "      <td>Alfa Romeo</td>\n",
       "      <td>Qualifying</td>\n",
       "      <td>Juan Manuel Fangio</td>\n",
       "      <td>FAN</td>\n",
       "      <td>Switzerland</td>\n",
       "      <td>NaN</td>\n",
       "      <td>24</td>\n",
       "      <td>1</td>\n",
       "      <td>NaN</td>\n",
       "      <td>NaN</td>\n",
       "      <td>NaN</td>\n",
       "      <td>2:35.900</td>\n",
       "      <td>1951</td>\n",
       "    </tr>\n",
       "    <tr>\n",
       "      <th>8</th>\n",
       "      <td>Kurtis Kraft Novi</td>\n",
       "      <td>Qualifying</td>\n",
       "      <td>Duke Nalon</td>\n",
       "      <td>NAL</td>\n",
       "      <td>Indianapolis 500</td>\n",
       "      <td>NaN</td>\n",
       "      <td>18</td>\n",
       "      <td>1</td>\n",
       "      <td>NaN</td>\n",
       "      <td>NaN</td>\n",
       "      <td>NaN</td>\n",
       "      <td>1:05.935</td>\n",
       "      <td>1951</td>\n",
       "    </tr>\n",
       "    <tr>\n",
       "      <th>9</th>\n",
       "      <td>Alfa Romeo</td>\n",
       "      <td>Qualifying</td>\n",
       "      <td>Juan Manuel Fangio</td>\n",
       "      <td>FAN</td>\n",
       "      <td>Belgium</td>\n",
       "      <td>NaN</td>\n",
       "      <td>2</td>\n",
       "      <td>1</td>\n",
       "      <td>NaN</td>\n",
       "      <td>NaN</td>\n",
       "      <td>NaN</td>\n",
       "      <td>4:25.000</td>\n",
       "      <td>1951</td>\n",
       "    </tr>\n",
       "  </tbody>\n",
       "</table>\n",
       "</div>"
      ],
      "text/plain": [
       "                        Car      Detail              Driver DriverCode  \\\n",
       "0                Alfa Romeo  Qualifying         Nino Farina        FAR   \n",
       "1                Alfa Romeo  Qualifying  Juan Manuel Fangio        FAN   \n",
       "2  Kurtis Kraft Offenhauser  Qualifying       Walt Faulkner        FAU   \n",
       "3                Alfa Romeo  Qualifying  Juan Manuel Fangio        FAN   \n",
       "4                Alfa Romeo  Qualifying         Nino Farina        FAR   \n",
       "5                Alfa Romeo  Qualifying  Juan Manuel Fangio        FAN   \n",
       "6                Alfa Romeo  Qualifying  Juan Manuel Fangio        FAN   \n",
       "7                Alfa Romeo  Qualifying  Juan Manuel Fangio        FAN   \n",
       "8         Kurtis Kraft Novi  Qualifying          Duke Nalon        NAL   \n",
       "9                Alfa Romeo  Qualifying  Juan Manuel Fangio        FAN   \n",
       "\n",
       "         Grand Prix  Laps  No Pos   Q1   Q2   Q3      Time  Year  \n",
       "0     Great Britain   NaN   2   1  NaN  NaN  NaN  1:50.800  1950  \n",
       "1            Monaco   NaN  34   1  NaN  NaN  NaN  1:50.200  1950  \n",
       "2  Indianapolis 500   NaN  98   1  NaN  NaN  NaN  1:06.992  1950  \n",
       "3       Switzerland   NaN  14   1  NaN  NaN  NaN  2:42.100  1950  \n",
       "4           Belgium   NaN   8   1  NaN  NaN  NaN  4:37.000  1950  \n",
       "5            France   NaN   6   1  NaN  NaN  NaN  2:30.600  1950  \n",
       "6             Italy   NaN  18   1  NaN  NaN  NaN  1:58.600  1950  \n",
       "7       Switzerland   NaN  24   1  NaN  NaN  NaN  2:35.900  1951  \n",
       "8  Indianapolis 500   NaN  18   1  NaN  NaN  NaN  1:05.935  1951  \n",
       "9           Belgium   NaN   2   1  NaN  NaN  NaN  4:25.000  1951  "
      ]
     },
     "execution_count": 175,
     "metadata": {},
     "output_type": "execute_result"
    }
   ],
   "source": [
    "select['qualifyings'].head(10)"
   ]
  },
  {
   "cell_type": "code",
   "execution_count": 177,
   "metadata": {
    "colab": {
     "base_uri": "https://localhost:8080/"
    },
    "id": "7GmFwMKnwYsw",
    "outputId": "ecc134ff-a3bf-44ea-ddc5-520a39d8b879"
   },
   "outputs": [
    {
     "data": {
      "text/plain": [
       "(17236, 13)"
      ]
     },
     "execution_count": 177,
     "metadata": {},
     "output_type": "execute_result"
    }
   ],
   "source": [
    "select['qualifyings'].shape"
   ]
  },
  {
   "cell_type": "code",
   "execution_count": 179,
   "metadata": {
    "id": "FYBXTZiFgjbJ"
   },
   "outputs": [],
   "source": [
    "#use left data merge\n",
    "df=df.merge(select['qualifyings'][['Pos','Laps','Year','Grand Prix','No','Q1','Q2','Q3','Time','Driver']],on=['Year','Grand Prix','Driver','No'],how='left')"
   ]
  },
  {
   "cell_type": "code",
   "execution_count": 181,
   "metadata": {
    "colab": {
     "base_uri": "https://localhost:8080/",
     "height": 0
    },
    "id": "bJWliZo6gjXq",
    "outputId": "a47855c7-db31-4457-a8a6-936bbf81241e"
   },
   "outputs": [
    {
     "data": {
      "text/html": [
       "<div>\n",
       "<style scoped>\n",
       "    .dataframe tbody tr th:only-of-type {\n",
       "        vertical-align: middle;\n",
       "    }\n",
       "\n",
       "    .dataframe tbody tr th {\n",
       "        vertical-align: top;\n",
       "    }\n",
       "\n",
       "    .dataframe thead th {\n",
       "        text-align: right;\n",
       "    }\n",
       "</style>\n",
       "<table border=\"1\" class=\"dataframe\">\n",
       "  <thead>\n",
       "    <tr style=\"text-align: right;\">\n",
       "      <th></th>\n",
       "      <th>DriverCars</th>\n",
       "      <th>Date</th>\n",
       "      <th>Driver</th>\n",
       "      <th>Grand Prix</th>\n",
       "      <th>StandingPoints</th>\n",
       "      <th>RacePosition</th>\n",
       "      <th>Year</th>\n",
       "      <th>DriverPoints</th>\n",
       "      <th>StandingPosition</th>\n",
       "      <th>Winner</th>\n",
       "      <th>...</th>\n",
       "      <th>Pos_x</th>\n",
       "      <th>No</th>\n",
       "      <th>PTS</th>\n",
       "      <th>WinnerCars</th>\n",
       "      <th>Pos_y</th>\n",
       "      <th>Laps_y</th>\n",
       "      <th>Q1</th>\n",
       "      <th>Q2</th>\n",
       "      <th>Q3</th>\n",
       "      <th>Time</th>\n",
       "    </tr>\n",
       "  </thead>\n",
       "  <tbody>\n",
       "    <tr>\n",
       "      <th>0</th>\n",
       "      <td>Maserati</td>\n",
       "      <td>13 May 1950</td>\n",
       "      <td>Prince Bira</td>\n",
       "      <td>Great Britain</td>\n",
       "      <td>0.0</td>\n",
       "      <td>DNF</td>\n",
       "      <td>1950</td>\n",
       "      <td>5.0</td>\n",
       "      <td>8</td>\n",
       "      <td>Nino Farina</td>\n",
       "      <td>...</td>\n",
       "      <td>NaN</td>\n",
       "      <td>NaN</td>\n",
       "      <td>NaN</td>\n",
       "      <td>NaN</td>\n",
       "      <td>NaN</td>\n",
       "      <td>NaN</td>\n",
       "      <td>NaN</td>\n",
       "      <td>NaN</td>\n",
       "      <td>NaN</td>\n",
       "      <td>NaN</td>\n",
       "    </tr>\n",
       "    <tr>\n",
       "      <th>1</th>\n",
       "      <td>Talbot-Lago</td>\n",
       "      <td>13 May 1950</td>\n",
       "      <td>Yves Giraud Cabantous</td>\n",
       "      <td>Great Britain</td>\n",
       "      <td>NaN</td>\n",
       "      <td>4</td>\n",
       "      <td>1950</td>\n",
       "      <td>3.0</td>\n",
       "      <td>13</td>\n",
       "      <td>Nino Farina</td>\n",
       "      <td>...</td>\n",
       "      <td>NaN</td>\n",
       "      <td>NaN</td>\n",
       "      <td>NaN</td>\n",
       "      <td>NaN</td>\n",
       "      <td>NaN</td>\n",
       "      <td>NaN</td>\n",
       "      <td>NaN</td>\n",
       "      <td>NaN</td>\n",
       "      <td>NaN</td>\n",
       "      <td>NaN</td>\n",
       "    </tr>\n",
       "    <tr>\n",
       "      <th>2</th>\n",
       "      <td>Maserati</td>\n",
       "      <td>13 May 1950</td>\n",
       "      <td>Louis Chiron</td>\n",
       "      <td>Great Britain</td>\n",
       "      <td>0.0</td>\n",
       "      <td>DNF</td>\n",
       "      <td>1950</td>\n",
       "      <td>4.0</td>\n",
       "      <td>9</td>\n",
       "      <td>Nino Farina</td>\n",
       "      <td>...</td>\n",
       "      <td>NaN</td>\n",
       "      <td>NaN</td>\n",
       "      <td>NaN</td>\n",
       "      <td>NaN</td>\n",
       "      <td>NaN</td>\n",
       "      <td>NaN</td>\n",
       "      <td>NaN</td>\n",
       "      <td>NaN</td>\n",
       "      <td>NaN</td>\n",
       "      <td>NaN</td>\n",
       "    </tr>\n",
       "    <tr>\n",
       "      <th>3</th>\n",
       "      <td>Talbot-Lago</td>\n",
       "      <td>13 May 1950</td>\n",
       "      <td>Philippe Etancelin</td>\n",
       "      <td>Great Britain</td>\n",
       "      <td>0.0</td>\n",
       "      <td>8</td>\n",
       "      <td>1950</td>\n",
       "      <td>3.0</td>\n",
       "      <td>13</td>\n",
       "      <td>Nino Farina</td>\n",
       "      <td>...</td>\n",
       "      <td>NaN</td>\n",
       "      <td>NaN</td>\n",
       "      <td>NaN</td>\n",
       "      <td>NaN</td>\n",
       "      <td>NaN</td>\n",
       "      <td>NaN</td>\n",
       "      <td>NaN</td>\n",
       "      <td>NaN</td>\n",
       "      <td>NaN</td>\n",
       "      <td>NaN</td>\n",
       "    </tr>\n",
       "    <tr>\n",
       "      <th>4</th>\n",
       "      <td>Alfa Romeo</td>\n",
       "      <td>13 May 1950</td>\n",
       "      <td>Luigi Fagioli</td>\n",
       "      <td>Great Britain</td>\n",
       "      <td>6.0</td>\n",
       "      <td>2</td>\n",
       "      <td>1950</td>\n",
       "      <td>24.0</td>\n",
       "      <td>3</td>\n",
       "      <td>Nino Farina</td>\n",
       "      <td>...</td>\n",
       "      <td>2</td>\n",
       "      <td>3.0</td>\n",
       "      <td>6.0</td>\n",
       "      <td>Alfa Romeo</td>\n",
       "      <td>NaN</td>\n",
       "      <td>NaN</td>\n",
       "      <td>NaN</td>\n",
       "      <td>NaN</td>\n",
       "      <td>NaN</td>\n",
       "      <td>NaN</td>\n",
       "    </tr>\n",
       "  </tbody>\n",
       "</table>\n",
       "<p>5 rows × 22 columns</p>\n",
       "</div>"
      ],
      "text/plain": [
       "    DriverCars         Date                 Driver     Grand Prix  \\\n",
       "0     Maserati  13 May 1950            Prince Bira  Great Britain   \n",
       "1  Talbot-Lago  13 May 1950  Yves Giraud Cabantous  Great Britain   \n",
       "2     Maserati  13 May 1950           Louis Chiron  Great Britain   \n",
       "3  Talbot-Lago  13 May 1950     Philippe Etancelin  Great Britain   \n",
       "4   Alfa Romeo  13 May 1950          Luigi Fagioli  Great Britain   \n",
       "\n",
       "   StandingPoints RacePosition  Year  DriverPoints StandingPosition  \\\n",
       "0             0.0          DNF  1950           5.0                8   \n",
       "1             NaN            4  1950           3.0               13   \n",
       "2             0.0          DNF  1950           4.0                9   \n",
       "3             0.0            8  1950           3.0               13   \n",
       "4             6.0            2  1950          24.0                3   \n",
       "\n",
       "        Winner  ...  Pos_x   No  PTS  WinnerCars  Pos_y Laps_y   Q1   Q2   Q3  \\\n",
       "0  Nino Farina  ...    NaN  NaN  NaN         NaN    NaN    NaN  NaN  NaN  NaN   \n",
       "1  Nino Farina  ...    NaN  NaN  NaN         NaN    NaN    NaN  NaN  NaN  NaN   \n",
       "2  Nino Farina  ...    NaN  NaN  NaN         NaN    NaN    NaN  NaN  NaN  NaN   \n",
       "3  Nino Farina  ...    NaN  NaN  NaN         NaN    NaN    NaN  NaN  NaN  NaN   \n",
       "4  Nino Farina  ...      2  3.0  6.0  Alfa Romeo    NaN    NaN  NaN  NaN  NaN   \n",
       "\n",
       "  Time  \n",
       "0  NaN  \n",
       "1  NaN  \n",
       "2  NaN  \n",
       "3  NaN  \n",
       "4  NaN  \n",
       "\n",
       "[5 rows x 22 columns]"
      ]
     },
     "execution_count": 181,
     "metadata": {},
     "output_type": "execute_result"
    }
   ],
   "source": [
    "df.head()"
   ]
  },
  {
   "cell_type": "code",
   "execution_count": 183,
   "metadata": {
    "id": "2TokgNM-s8jk"
   },
   "outputs": [],
   "source": [
    "# Rename columns\n",
    "df=df.rename(columns={'Laps_x':'winnerLaps','Pos_x':'WinnerPosition','Pos_y':'QualifyPositions','Laps_y':'QualifyLaps'})"
   ]
  },
  {
   "cell_type": "code",
   "execution_count": 185,
   "metadata": {
    "colab": {
     "base_uri": "https://localhost:8080/"
    },
    "id": "UQFfJnCohWEK",
    "outputId": "6546d280-00d8-4d4c-9b77-8a660a9a9499"
   },
   "outputs": [
    {
     "name": "stdout",
     "output_type": "stream",
     "text": [
      "<class 'pandas.core.frame.DataFrame'>\n",
      "RangeIndex: 20074 entries, 0 to 20073\n",
      "Data columns (total 22 columns):\n",
      " #   Column            Non-Null Count  Dtype  \n",
      "---  ------            --------------  -----  \n",
      " 0   DriverCars        20067 non-null  object \n",
      " 1   Date              20074 non-null  object \n",
      " 2   Driver            20074 non-null  object \n",
      " 3   Grand Prix        20074 non-null  object \n",
      " 4   StandingPoints    20063 non-null  float64\n",
      " 5   RacePosition      20058 non-null  object \n",
      " 6   Year              20074 non-null  int64  \n",
      " 7   DriverPoints      18451 non-null  float64\n",
      " 8   StandingPosition  18451 non-null  object \n",
      " 9   Winner            20074 non-null  object \n",
      " 10  winnerLaps        20041 non-null  float64\n",
      " 11  FinshTime         20041 non-null  object \n",
      " 12  WinnerPosition    6737 non-null   object \n",
      " 13  No                6737 non-null   float64\n",
      " 14  PTS               6737 non-null   float64\n",
      " 15  WinnerCars        6737 non-null   object \n",
      " 16  QualifyPositions  5427 non-null   object \n",
      " 17  QualifyLaps       4523 non-null   float64\n",
      " 18  Q1                3385 non-null   object \n",
      " 19  Q2                3009 non-null   object \n",
      " 20  Q3                2311 non-null   object \n",
      " 21  Time              2032 non-null   object \n",
      "dtypes: float64(6), int64(1), object(15)\n",
      "memory usage: 3.4+ MB\n"
     ]
    }
   ],
   "source": [
    "df.info()"
   ]
  },
  {
   "cell_type": "markdown",
   "metadata": {
    "id": "M_rM0QmA1WGz"
   },
   "source": [
    "#**Export file**\n",
    "\n",
    "---\n",
    "\n"
   ]
  },
  {
   "cell_type": "code",
   "execution_count": 188,
   "metadata": {
    "id": "6LBfl23G1A4G"
   },
   "outputs": [],
   "source": [
    "df.to_csv(\"Final_data_11.csv\")"
   ]
  },
  {
   "cell_type": "code",
   "execution_count": 190,
   "metadata": {
    "colab": {
     "base_uri": "https://localhost:8080/",
     "height": 446
    },
    "id": "YNKgM51r1qth",
    "outputId": "b9523d92-3066-4787-df41-597f0ac0e178"
   },
   "outputs": [
    {
     "data": {
      "text/html": [
       "<div>\n",
       "<style scoped>\n",
       "    .dataframe tbody tr th:only-of-type {\n",
       "        vertical-align: middle;\n",
       "    }\n",
       "\n",
       "    .dataframe tbody tr th {\n",
       "        vertical-align: top;\n",
       "    }\n",
       "\n",
       "    .dataframe thead th {\n",
       "        text-align: right;\n",
       "    }\n",
       "</style>\n",
       "<table border=\"1\" class=\"dataframe\">\n",
       "  <thead>\n",
       "    <tr style=\"text-align: right;\">\n",
       "      <th></th>\n",
       "      <th>Unnamed: 0</th>\n",
       "      <th>DriverCars</th>\n",
       "      <th>Date</th>\n",
       "      <th>Driver</th>\n",
       "      <th>Grand Prix</th>\n",
       "      <th>StandingPoints</th>\n",
       "      <th>RacePosition</th>\n",
       "      <th>Year</th>\n",
       "      <th>DriverPoints</th>\n",
       "      <th>StandingPosition</th>\n",
       "      <th>...</th>\n",
       "      <th>WinnerPosition</th>\n",
       "      <th>No</th>\n",
       "      <th>PTS</th>\n",
       "      <th>WinnerCars</th>\n",
       "      <th>QualifyPositions</th>\n",
       "      <th>QualifyLaps</th>\n",
       "      <th>Q1</th>\n",
       "      <th>Q2</th>\n",
       "      <th>Q3</th>\n",
       "      <th>Time</th>\n",
       "    </tr>\n",
       "  </thead>\n",
       "  <tbody>\n",
       "    <tr>\n",
       "      <th>0</th>\n",
       "      <td>0</td>\n",
       "      <td>Maserati</td>\n",
       "      <td>13 May 1950</td>\n",
       "      <td>Prince Bira</td>\n",
       "      <td>Great Britain</td>\n",
       "      <td>0.0</td>\n",
       "      <td>DNF</td>\n",
       "      <td>1950</td>\n",
       "      <td>5.0</td>\n",
       "      <td>8</td>\n",
       "      <td>...</td>\n",
       "      <td>NaN</td>\n",
       "      <td>NaN</td>\n",
       "      <td>NaN</td>\n",
       "      <td>NaN</td>\n",
       "      <td>NaN</td>\n",
       "      <td>NaN</td>\n",
       "      <td>NaN</td>\n",
       "      <td>NaN</td>\n",
       "      <td>NaN</td>\n",
       "      <td>NaN</td>\n",
       "    </tr>\n",
       "    <tr>\n",
       "      <th>1</th>\n",
       "      <td>1</td>\n",
       "      <td>Talbot-Lago</td>\n",
       "      <td>13 May 1950</td>\n",
       "      <td>Yves Giraud Cabantous</td>\n",
       "      <td>Great Britain</td>\n",
       "      <td>NaN</td>\n",
       "      <td>4</td>\n",
       "      <td>1950</td>\n",
       "      <td>3.0</td>\n",
       "      <td>13</td>\n",
       "      <td>...</td>\n",
       "      <td>NaN</td>\n",
       "      <td>NaN</td>\n",
       "      <td>NaN</td>\n",
       "      <td>NaN</td>\n",
       "      <td>NaN</td>\n",
       "      <td>NaN</td>\n",
       "      <td>NaN</td>\n",
       "      <td>NaN</td>\n",
       "      <td>NaN</td>\n",
       "      <td>NaN</td>\n",
       "    </tr>\n",
       "    <tr>\n",
       "      <th>2</th>\n",
       "      <td>2</td>\n",
       "      <td>Maserati</td>\n",
       "      <td>13 May 1950</td>\n",
       "      <td>Louis Chiron</td>\n",
       "      <td>Great Britain</td>\n",
       "      <td>0.0</td>\n",
       "      <td>DNF</td>\n",
       "      <td>1950</td>\n",
       "      <td>4.0</td>\n",
       "      <td>9</td>\n",
       "      <td>...</td>\n",
       "      <td>NaN</td>\n",
       "      <td>NaN</td>\n",
       "      <td>NaN</td>\n",
       "      <td>NaN</td>\n",
       "      <td>NaN</td>\n",
       "      <td>NaN</td>\n",
       "      <td>NaN</td>\n",
       "      <td>NaN</td>\n",
       "      <td>NaN</td>\n",
       "      <td>NaN</td>\n",
       "    </tr>\n",
       "    <tr>\n",
       "      <th>3</th>\n",
       "      <td>3</td>\n",
       "      <td>Talbot-Lago</td>\n",
       "      <td>13 May 1950</td>\n",
       "      <td>Philippe Etancelin</td>\n",
       "      <td>Great Britain</td>\n",
       "      <td>0.0</td>\n",
       "      <td>8</td>\n",
       "      <td>1950</td>\n",
       "      <td>3.0</td>\n",
       "      <td>13</td>\n",
       "      <td>...</td>\n",
       "      <td>NaN</td>\n",
       "      <td>NaN</td>\n",
       "      <td>NaN</td>\n",
       "      <td>NaN</td>\n",
       "      <td>NaN</td>\n",
       "      <td>NaN</td>\n",
       "      <td>NaN</td>\n",
       "      <td>NaN</td>\n",
       "      <td>NaN</td>\n",
       "      <td>NaN</td>\n",
       "    </tr>\n",
       "    <tr>\n",
       "      <th>4</th>\n",
       "      <td>4</td>\n",
       "      <td>Alfa Romeo</td>\n",
       "      <td>13 May 1950</td>\n",
       "      <td>Luigi Fagioli</td>\n",
       "      <td>Great Britain</td>\n",
       "      <td>6.0</td>\n",
       "      <td>2</td>\n",
       "      <td>1950</td>\n",
       "      <td>24.0</td>\n",
       "      <td>3</td>\n",
       "      <td>...</td>\n",
       "      <td>2</td>\n",
       "      <td>3.0</td>\n",
       "      <td>6.0</td>\n",
       "      <td>Alfa Romeo</td>\n",
       "      <td>NaN</td>\n",
       "      <td>NaN</td>\n",
       "      <td>NaN</td>\n",
       "      <td>NaN</td>\n",
       "      <td>NaN</td>\n",
       "      <td>NaN</td>\n",
       "    </tr>\n",
       "  </tbody>\n",
       "</table>\n",
       "<p>5 rows × 23 columns</p>\n",
       "</div>"
      ],
      "text/plain": [
       "   Unnamed: 0   DriverCars         Date                 Driver     Grand Prix  \\\n",
       "0           0     Maserati  13 May 1950            Prince Bira  Great Britain   \n",
       "1           1  Talbot-Lago  13 May 1950  Yves Giraud Cabantous  Great Britain   \n",
       "2           2     Maserati  13 May 1950           Louis Chiron  Great Britain   \n",
       "3           3  Talbot-Lago  13 May 1950     Philippe Etancelin  Great Britain   \n",
       "4           4   Alfa Romeo  13 May 1950          Luigi Fagioli  Great Britain   \n",
       "\n",
       "   StandingPoints RacePosition  Year  DriverPoints StandingPosition  ...  \\\n",
       "0             0.0          DNF  1950           5.0                8  ...   \n",
       "1             NaN            4  1950           3.0               13  ...   \n",
       "2             0.0          DNF  1950           4.0                9  ...   \n",
       "3             0.0            8  1950           3.0               13  ...   \n",
       "4             6.0            2  1950          24.0                3  ...   \n",
       "\n",
       "  WinnerPosition   No  PTS  WinnerCars  QualifyPositions  QualifyLaps   Q1  \\\n",
       "0            NaN  NaN  NaN         NaN               NaN          NaN  NaN   \n",
       "1            NaN  NaN  NaN         NaN               NaN          NaN  NaN   \n",
       "2            NaN  NaN  NaN         NaN               NaN          NaN  NaN   \n",
       "3            NaN  NaN  NaN         NaN               NaN          NaN  NaN   \n",
       "4              2  3.0  6.0  Alfa Romeo               NaN          NaN  NaN   \n",
       "\n",
       "    Q2   Q3 Time  \n",
       "0  NaN  NaN  NaN  \n",
       "1  NaN  NaN  NaN  \n",
       "2  NaN  NaN  NaN  \n",
       "3  NaN  NaN  NaN  \n",
       "4  NaN  NaN  NaN  \n",
       "\n",
       "[5 rows x 23 columns]"
      ]
     },
     "execution_count": 190,
     "metadata": {},
     "output_type": "execute_result"
    }
   ],
   "source": [
    "df=pd.read_csv(\"Final_data_11.csv\")\n",
    "df.head()"
   ]
  },
  {
   "cell_type": "code",
   "execution_count": 192,
   "metadata": {
    "colab": {
     "base_uri": "https://localhost:8080/"
    },
    "id": "rAOMxo8x49Pq",
    "outputId": "ec073970-cb68-4a78-cd7d-9fe776fbc3dd"
   },
   "outputs": [
    {
     "data": {
      "text/plain": [
       "Index(['Unnamed: 0', 'DriverCars', 'Date', 'Driver', 'Grand Prix',\n",
       "       'StandingPoints', 'RacePosition', 'Year', 'DriverPoints',\n",
       "       'StandingPosition', 'Winner', 'winnerLaps', 'FinshTime',\n",
       "       'WinnerPosition', 'No', 'PTS', 'WinnerCars', 'QualifyPositions',\n",
       "       'QualifyLaps', 'Q1', 'Q2', 'Q3', 'Time'],\n",
       "      dtype='object')"
      ]
     },
     "execution_count": 192,
     "metadata": {},
     "output_type": "execute_result"
    }
   ],
   "source": [
    "df.columns"
   ]
  },
  {
   "cell_type": "markdown",
   "metadata": {
    "id": "pH-IBPPX1AWN"
   },
   "source": [
    "* DriverCars:- Indicates the car used by the driver during the race.\n",
    "* StandingPoints:-\n",
    "* DriverPoints:-\n",
    "* StandingPosition:-\n",
    "* Winner:-The name of the driver wins in the race.\n",
    "* winnerLaps:- how many laps take to compelete race\n",
    "* FinshTime:- winner finish time\n",
    "* WinnerPosition:- Winner position after wins the race\n",
    "* No:-\n",
    "* PTS:- The points earned by the driver in that particular race.The higher a driver finishes, the more points they accumulate.\n",
    "* WinnerCars:- Indicates the car used by the driver wins the race.\n",
    "* QualifyPositions:-\n",
    "* QualifyLaps:-\n",
    "* Q1:-Qualifiy 1\n",
    "* Q2:-Qualifiy 2\n",
    "* Q3:-Qualifiy 3\n",
    "* Time:-\n",
    "* Date: The date of the Grand Prix event.\n",
    "* Grand Prix: The specific Grand Prix event (race) where the driver competed.\n",
    "* Race Position:-The finishing position of the driver in the race,DNC: Stands for Did Not Compete,DNS: Stands for Did Not Start,EXR: Stands for Excluded from Race,DSQ: Stands for Disqualified.\n",
    "* Year: The year of the Formula 1 season.."
   ]
  },
  {
   "cell_type": "markdown",
   "metadata": {
    "id": "wRnxvyIijmeN"
   },
   "source": [
    "# **Data Processing**\n",
    "\n",
    "---\n",
    "\n"
   ]
  },
  {
   "cell_type": "code",
   "execution_count": 196,
   "metadata": {
    "colab": {
     "base_uri": "https://localhost:8080/",
     "height": 446
    },
    "id": "BLJJwrbHjj99",
    "outputId": "c0325d48-7c55-4e38-c36a-eaaafdb00445"
   },
   "outputs": [
    {
     "data": {
      "text/html": [
       "<div>\n",
       "<style scoped>\n",
       "    .dataframe tbody tr th:only-of-type {\n",
       "        vertical-align: middle;\n",
       "    }\n",
       "\n",
       "    .dataframe tbody tr th {\n",
       "        vertical-align: top;\n",
       "    }\n",
       "\n",
       "    .dataframe thead th {\n",
       "        text-align: right;\n",
       "    }\n",
       "</style>\n",
       "<table border=\"1\" class=\"dataframe\">\n",
       "  <thead>\n",
       "    <tr style=\"text-align: right;\">\n",
       "      <th></th>\n",
       "      <th>Unnamed: 0</th>\n",
       "      <th>DriverCars</th>\n",
       "      <th>Date</th>\n",
       "      <th>Driver</th>\n",
       "      <th>Grand Prix</th>\n",
       "      <th>StandingPoints</th>\n",
       "      <th>RacePosition</th>\n",
       "      <th>Year</th>\n",
       "      <th>DriverPoints</th>\n",
       "      <th>StandingPosition</th>\n",
       "      <th>...</th>\n",
       "      <th>WinnerPosition</th>\n",
       "      <th>No</th>\n",
       "      <th>PTS</th>\n",
       "      <th>WinnerCars</th>\n",
       "      <th>QualifyPositions</th>\n",
       "      <th>QualifyLaps</th>\n",
       "      <th>Q1</th>\n",
       "      <th>Q2</th>\n",
       "      <th>Q3</th>\n",
       "      <th>Time</th>\n",
       "    </tr>\n",
       "  </thead>\n",
       "  <tbody>\n",
       "    <tr>\n",
       "      <th>0</th>\n",
       "      <td>0</td>\n",
       "      <td>Maserati</td>\n",
       "      <td>13 May 1950</td>\n",
       "      <td>Prince Bira</td>\n",
       "      <td>Great Britain</td>\n",
       "      <td>0.0</td>\n",
       "      <td>DNF</td>\n",
       "      <td>1950</td>\n",
       "      <td>5.0</td>\n",
       "      <td>8</td>\n",
       "      <td>...</td>\n",
       "      <td>NaN</td>\n",
       "      <td>NaN</td>\n",
       "      <td>NaN</td>\n",
       "      <td>NaN</td>\n",
       "      <td>NaN</td>\n",
       "      <td>NaN</td>\n",
       "      <td>NaN</td>\n",
       "      <td>NaN</td>\n",
       "      <td>NaN</td>\n",
       "      <td>NaN</td>\n",
       "    </tr>\n",
       "    <tr>\n",
       "      <th>1</th>\n",
       "      <td>1</td>\n",
       "      <td>Talbot-Lago</td>\n",
       "      <td>13 May 1950</td>\n",
       "      <td>Yves Giraud Cabantous</td>\n",
       "      <td>Great Britain</td>\n",
       "      <td>NaN</td>\n",
       "      <td>4</td>\n",
       "      <td>1950</td>\n",
       "      <td>3.0</td>\n",
       "      <td>13</td>\n",
       "      <td>...</td>\n",
       "      <td>NaN</td>\n",
       "      <td>NaN</td>\n",
       "      <td>NaN</td>\n",
       "      <td>NaN</td>\n",
       "      <td>NaN</td>\n",
       "      <td>NaN</td>\n",
       "      <td>NaN</td>\n",
       "      <td>NaN</td>\n",
       "      <td>NaN</td>\n",
       "      <td>NaN</td>\n",
       "    </tr>\n",
       "    <tr>\n",
       "      <th>2</th>\n",
       "      <td>2</td>\n",
       "      <td>Maserati</td>\n",
       "      <td>13 May 1950</td>\n",
       "      <td>Louis Chiron</td>\n",
       "      <td>Great Britain</td>\n",
       "      <td>0.0</td>\n",
       "      <td>DNF</td>\n",
       "      <td>1950</td>\n",
       "      <td>4.0</td>\n",
       "      <td>9</td>\n",
       "      <td>...</td>\n",
       "      <td>NaN</td>\n",
       "      <td>NaN</td>\n",
       "      <td>NaN</td>\n",
       "      <td>NaN</td>\n",
       "      <td>NaN</td>\n",
       "      <td>NaN</td>\n",
       "      <td>NaN</td>\n",
       "      <td>NaN</td>\n",
       "      <td>NaN</td>\n",
       "      <td>NaN</td>\n",
       "    </tr>\n",
       "    <tr>\n",
       "      <th>3</th>\n",
       "      <td>3</td>\n",
       "      <td>Talbot-Lago</td>\n",
       "      <td>13 May 1950</td>\n",
       "      <td>Philippe Etancelin</td>\n",
       "      <td>Great Britain</td>\n",
       "      <td>0.0</td>\n",
       "      <td>8</td>\n",
       "      <td>1950</td>\n",
       "      <td>3.0</td>\n",
       "      <td>13</td>\n",
       "      <td>...</td>\n",
       "      <td>NaN</td>\n",
       "      <td>NaN</td>\n",
       "      <td>NaN</td>\n",
       "      <td>NaN</td>\n",
       "      <td>NaN</td>\n",
       "      <td>NaN</td>\n",
       "      <td>NaN</td>\n",
       "      <td>NaN</td>\n",
       "      <td>NaN</td>\n",
       "      <td>NaN</td>\n",
       "    </tr>\n",
       "    <tr>\n",
       "      <th>4</th>\n",
       "      <td>4</td>\n",
       "      <td>Alfa Romeo</td>\n",
       "      <td>13 May 1950</td>\n",
       "      <td>Luigi Fagioli</td>\n",
       "      <td>Great Britain</td>\n",
       "      <td>6.0</td>\n",
       "      <td>2</td>\n",
       "      <td>1950</td>\n",
       "      <td>24.0</td>\n",
       "      <td>3</td>\n",
       "      <td>...</td>\n",
       "      <td>2</td>\n",
       "      <td>3.0</td>\n",
       "      <td>6.0</td>\n",
       "      <td>Alfa Romeo</td>\n",
       "      <td>NaN</td>\n",
       "      <td>NaN</td>\n",
       "      <td>NaN</td>\n",
       "      <td>NaN</td>\n",
       "      <td>NaN</td>\n",
       "      <td>NaN</td>\n",
       "    </tr>\n",
       "  </tbody>\n",
       "</table>\n",
       "<p>5 rows × 23 columns</p>\n",
       "</div>"
      ],
      "text/plain": [
       "   Unnamed: 0   DriverCars         Date                 Driver     Grand Prix  \\\n",
       "0           0     Maserati  13 May 1950            Prince Bira  Great Britain   \n",
       "1           1  Talbot-Lago  13 May 1950  Yves Giraud Cabantous  Great Britain   \n",
       "2           2     Maserati  13 May 1950           Louis Chiron  Great Britain   \n",
       "3           3  Talbot-Lago  13 May 1950     Philippe Etancelin  Great Britain   \n",
       "4           4   Alfa Romeo  13 May 1950          Luigi Fagioli  Great Britain   \n",
       "\n",
       "   StandingPoints RacePosition  Year  DriverPoints StandingPosition  ...  \\\n",
       "0             0.0          DNF  1950           5.0                8  ...   \n",
       "1             NaN            4  1950           3.0               13  ...   \n",
       "2             0.0          DNF  1950           4.0                9  ...   \n",
       "3             0.0            8  1950           3.0               13  ...   \n",
       "4             6.0            2  1950          24.0                3  ...   \n",
       "\n",
       "  WinnerPosition   No  PTS  WinnerCars  QualifyPositions  QualifyLaps   Q1  \\\n",
       "0            NaN  NaN  NaN         NaN               NaN          NaN  NaN   \n",
       "1            NaN  NaN  NaN         NaN               NaN          NaN  NaN   \n",
       "2            NaN  NaN  NaN         NaN               NaN          NaN  NaN   \n",
       "3            NaN  NaN  NaN         NaN               NaN          NaN  NaN   \n",
       "4              2  3.0  6.0  Alfa Romeo               NaN          NaN  NaN   \n",
       "\n",
       "    Q2   Q3 Time  \n",
       "0  NaN  NaN  NaN  \n",
       "1  NaN  NaN  NaN  \n",
       "2  NaN  NaN  NaN  \n",
       "3  NaN  NaN  NaN  \n",
       "4  NaN  NaN  NaN  \n",
       "\n",
       "[5 rows x 23 columns]"
      ]
     },
     "execution_count": 196,
     "metadata": {},
     "output_type": "execute_result"
    }
   ],
   "source": [
    "df.head()"
   ]
  },
  {
   "cell_type": "code",
   "execution_count": 198,
   "metadata": {
    "colab": {
     "base_uri": "https://localhost:8080/"
    },
    "id": "0iw2xP-njrjG",
    "outputId": "5755a73a-3453-4cf1-adf3-390494d37724"
   },
   "outputs": [
    {
     "name": "stdout",
     "output_type": "stream",
     "text": [
      "<class 'pandas.core.frame.DataFrame'>\n",
      "RangeIndex: 20074 entries, 0 to 20073\n",
      "Data columns (total 23 columns):\n",
      " #   Column            Non-Null Count  Dtype  \n",
      "---  ------            --------------  -----  \n",
      " 0   Unnamed: 0        20074 non-null  int64  \n",
      " 1   DriverCars        20067 non-null  object \n",
      " 2   Date              20074 non-null  object \n",
      " 3   Driver            20074 non-null  object \n",
      " 4   Grand Prix        20074 non-null  object \n",
      " 5   StandingPoints    20063 non-null  float64\n",
      " 6   RacePosition      20058 non-null  object \n",
      " 7   Year              20074 non-null  int64  \n",
      " 8   DriverPoints      18451 non-null  float64\n",
      " 9   StandingPosition  18451 non-null  object \n",
      " 10  Winner            20074 non-null  object \n",
      " 11  winnerLaps        20041 non-null  float64\n",
      " 12  FinshTime         20041 non-null  object \n",
      " 13  WinnerPosition    6737 non-null   object \n",
      " 14  No                6737 non-null   float64\n",
      " 15  PTS               6737 non-null   float64\n",
      " 16  WinnerCars        6737 non-null   object \n",
      " 17  QualifyPositions  5427 non-null   object \n",
      " 18  QualifyLaps       4523 non-null   float64\n",
      " 19  Q1                3385 non-null   object \n",
      " 20  Q2                3009 non-null   object \n",
      " 21  Q3                2311 non-null   object \n",
      " 22  Time              2032 non-null   object \n",
      "dtypes: float64(6), int64(2), object(15)\n",
      "memory usage: 3.5+ MB\n"
     ]
    }
   ],
   "source": [
    "df.info()"
   ]
  },
  {
   "cell_type": "code",
   "execution_count": 200,
   "metadata": {
    "colab": {
     "base_uri": "https://localhost:8080/"
    },
    "id": "PYDuHzmUjrYd",
    "outputId": "84ac9674-10f4-47bc-8fbd-2e705e160d60"
   },
   "outputs": [
    {
     "data": {
      "text/plain": [
       "Unnamed: 0            int64\n",
       "DriverCars           object\n",
       "Date                 object\n",
       "Driver               object\n",
       "Grand Prix           object\n",
       "StandingPoints      float64\n",
       "RacePosition         object\n",
       "Year                  int64\n",
       "DriverPoints        float64\n",
       "StandingPosition     object\n",
       "Winner               object\n",
       "winnerLaps          float64\n",
       "FinshTime            object\n",
       "WinnerPosition       object\n",
       "No                  float64\n",
       "PTS                 float64\n",
       "WinnerCars           object\n",
       "QualifyPositions     object\n",
       "QualifyLaps         float64\n",
       "Q1                   object\n",
       "Q2                   object\n",
       "Q3                   object\n",
       "Time                 object\n",
       "dtype: object"
      ]
     },
     "execution_count": 200,
     "metadata": {},
     "output_type": "execute_result"
    }
   ],
   "source": [
    "df.dtypes"
   ]
  },
  {
   "cell_type": "markdown",
   "metadata": {
    "id": "roHEzGBOkPSG"
   },
   "source": [
    "## EDA[Exploratory Data Analysis]"
   ]
  },
  {
   "cell_type": "code",
   "execution_count": 203,
   "metadata": {
    "colab": {
     "base_uri": "https://localhost:8080/",
     "height": 300
    },
    "id": "bX8NSzu8jrNb",
    "outputId": "74d219df-6285-4c55-fcda-963ffd4d00c1"
   },
   "outputs": [
    {
     "data": {
      "text/html": [
       "<div>\n",
       "<style scoped>\n",
       "    .dataframe tbody tr th:only-of-type {\n",
       "        vertical-align: middle;\n",
       "    }\n",
       "\n",
       "    .dataframe tbody tr th {\n",
       "        vertical-align: top;\n",
       "    }\n",
       "\n",
       "    .dataframe thead th {\n",
       "        text-align: right;\n",
       "    }\n",
       "</style>\n",
       "<table border=\"1\" class=\"dataframe\">\n",
       "  <thead>\n",
       "    <tr style=\"text-align: right;\">\n",
       "      <th></th>\n",
       "      <th>Unnamed: 0</th>\n",
       "      <th>StandingPoints</th>\n",
       "      <th>Year</th>\n",
       "      <th>DriverPoints</th>\n",
       "      <th>winnerLaps</th>\n",
       "      <th>No</th>\n",
       "      <th>PTS</th>\n",
       "      <th>QualifyLaps</th>\n",
       "    </tr>\n",
       "  </thead>\n",
       "  <tbody>\n",
       "    <tr>\n",
       "      <th>count</th>\n",
       "      <td>20074.000000</td>\n",
       "      <td>20063.000000</td>\n",
       "      <td>20074.000000</td>\n",
       "      <td>18451.000000</td>\n",
       "      <td>20041.000000</td>\n",
       "      <td>6737.000000</td>\n",
       "      <td>6737.000000</td>\n",
       "      <td>4523.000000</td>\n",
       "    </tr>\n",
       "    <tr>\n",
       "      <th>mean</th>\n",
       "      <td>10036.500000</td>\n",
       "      <td>2.521687</td>\n",
       "      <td>1994.431105</td>\n",
       "      <td>44.445423</td>\n",
       "      <td>63.513497</td>\n",
       "      <td>15.100638</td>\n",
       "      <td>6.488348</td>\n",
       "      <td>15.129560</td>\n",
       "    </tr>\n",
       "    <tr>\n",
       "      <th>std</th>\n",
       "      <td>5795.008988</td>\n",
       "      <td>4.723089</td>\n",
       "      <td>19.079052</td>\n",
       "      <td>74.260753</td>\n",
       "      <td>16.557829</td>\n",
       "      <td>16.688042</td>\n",
       "      <td>6.045635</td>\n",
       "      <td>6.093661</td>\n",
       "    </tr>\n",
       "    <tr>\n",
       "      <th>min</th>\n",
       "      <td>0.000000</td>\n",
       "      <td>0.000000</td>\n",
       "      <td>1950.000000</td>\n",
       "      <td>0.000000</td>\n",
       "      <td>1.000000</td>\n",
       "      <td>0.000000</td>\n",
       "      <td>0.000000</td>\n",
       "      <td>0.000000</td>\n",
       "    </tr>\n",
       "    <tr>\n",
       "      <th>25%</th>\n",
       "      <td>5018.250000</td>\n",
       "      <td>0.000000</td>\n",
       "      <td>1979.000000</td>\n",
       "      <td>4.000000</td>\n",
       "      <td>54.000000</td>\n",
       "      <td>5.000000</td>\n",
       "      <td>2.000000</td>\n",
       "      <td>11.000000</td>\n",
       "    </tr>\n",
       "    <tr>\n",
       "      <th>50%</th>\n",
       "      <td>10036.500000</td>\n",
       "      <td>0.000000</td>\n",
       "      <td>1997.000000</td>\n",
       "      <td>16.000000</td>\n",
       "      <td>63.000000</td>\n",
       "      <td>10.000000</td>\n",
       "      <td>5.000000</td>\n",
       "      <td>15.000000</td>\n",
       "    </tr>\n",
       "    <tr>\n",
       "      <th>75%</th>\n",
       "      <td>15054.750000</td>\n",
       "      <td>3.000000</td>\n",
       "      <td>2011.000000</td>\n",
       "      <td>49.000000</td>\n",
       "      <td>72.000000</td>\n",
       "      <td>19.000000</td>\n",
       "      <td>9.000000</td>\n",
       "      <td>20.000000</td>\n",
       "    </tr>\n",
       "    <tr>\n",
       "      <th>max</th>\n",
       "      <td>20073.000000</td>\n",
       "      <td>50.000000</td>\n",
       "      <td>2022.000000</td>\n",
       "      <td>454.000000</td>\n",
       "      <td>200.000000</td>\n",
       "      <td>117.000000</td>\n",
       "      <td>50.000000</td>\n",
       "      <td>35.000000</td>\n",
       "    </tr>\n",
       "  </tbody>\n",
       "</table>\n",
       "</div>"
      ],
      "text/plain": [
       "         Unnamed: 0  StandingPoints          Year  DriverPoints    winnerLaps  \\\n",
       "count  20074.000000    20063.000000  20074.000000  18451.000000  20041.000000   \n",
       "mean   10036.500000        2.521687   1994.431105     44.445423     63.513497   \n",
       "std     5795.008988        4.723089     19.079052     74.260753     16.557829   \n",
       "min        0.000000        0.000000   1950.000000      0.000000      1.000000   \n",
       "25%     5018.250000        0.000000   1979.000000      4.000000     54.000000   \n",
       "50%    10036.500000        0.000000   1997.000000     16.000000     63.000000   \n",
       "75%    15054.750000        3.000000   2011.000000     49.000000     72.000000   \n",
       "max    20073.000000       50.000000   2022.000000    454.000000    200.000000   \n",
       "\n",
       "                No          PTS  QualifyLaps  \n",
       "count  6737.000000  6737.000000  4523.000000  \n",
       "mean     15.100638     6.488348    15.129560  \n",
       "std      16.688042     6.045635     6.093661  \n",
       "min       0.000000     0.000000     0.000000  \n",
       "25%       5.000000     2.000000    11.000000  \n",
       "50%      10.000000     5.000000    15.000000  \n",
       "75%      19.000000     9.000000    20.000000  \n",
       "max     117.000000    50.000000    35.000000  "
      ]
     },
     "execution_count": 203,
     "metadata": {},
     "output_type": "execute_result"
    }
   ],
   "source": [
    "df.describe()"
   ]
  },
  {
   "cell_type": "code",
   "execution_count": 205,
   "metadata": {
    "colab": {
     "base_uri": "https://localhost:8080/",
     "height": 300
    },
    "id": "a3GpSRyIjrGP",
    "outputId": "b30e21aa-4dfb-42d6-f4dc-4599efda4202"
   },
   "outputs": [
    {
     "data": {
      "text/html": [
       "<div>\n",
       "<style scoped>\n",
       "    .dataframe tbody tr th:only-of-type {\n",
       "        vertical-align: middle;\n",
       "    }\n",
       "\n",
       "    .dataframe tbody tr th {\n",
       "        vertical-align: top;\n",
       "    }\n",
       "\n",
       "    .dataframe thead th {\n",
       "        text-align: right;\n",
       "    }\n",
       "</style>\n",
       "<table border=\"1\" class=\"dataframe\">\n",
       "  <thead>\n",
       "    <tr style=\"text-align: right;\">\n",
       "      <th></th>\n",
       "      <th>Unnamed: 0</th>\n",
       "      <th>StandingPoints</th>\n",
       "      <th>Year</th>\n",
       "      <th>DriverPoints</th>\n",
       "      <th>winnerLaps</th>\n",
       "      <th>No</th>\n",
       "      <th>PTS</th>\n",
       "      <th>QualifyLaps</th>\n",
       "    </tr>\n",
       "  </thead>\n",
       "  <tbody>\n",
       "    <tr>\n",
       "      <th>Unnamed: 0</th>\n",
       "      <td>1.000000</td>\n",
       "      <td>0.262432</td>\n",
       "      <td>0.989697</td>\n",
       "      <td>0.424260</td>\n",
       "      <td>-0.196849</td>\n",
       "      <td>0.245387</td>\n",
       "      <td>0.274032</td>\n",
       "      <td>0.301488</td>\n",
       "    </tr>\n",
       "    <tr>\n",
       "      <th>StandingPoints</th>\n",
       "      <td>0.262432</td>\n",
       "      <td>1.000000</td>\n",
       "      <td>0.235075</td>\n",
       "      <td>0.759740</td>\n",
       "      <td>-0.028996</td>\n",
       "      <td>0.124892</td>\n",
       "      <td>0.998617</td>\n",
       "      <td>0.272759</td>\n",
       "    </tr>\n",
       "    <tr>\n",
       "      <th>Year</th>\n",
       "      <td>0.989697</td>\n",
       "      <td>0.235075</td>\n",
       "      <td>1.000000</td>\n",
       "      <td>0.394359</td>\n",
       "      <td>-0.204384</td>\n",
       "      <td>0.200584</td>\n",
       "      <td>0.248710</td>\n",
       "      <td>0.301402</td>\n",
       "    </tr>\n",
       "    <tr>\n",
       "      <th>DriverPoints</th>\n",
       "      <td>0.424260</td>\n",
       "      <td>0.759740</td>\n",
       "      <td>0.394359</td>\n",
       "      <td>1.000000</td>\n",
       "      <td>-0.080143</td>\n",
       "      <td>0.193230</td>\n",
       "      <td>0.778323</td>\n",
       "      <td>0.291765</td>\n",
       "    </tr>\n",
       "    <tr>\n",
       "      <th>winnerLaps</th>\n",
       "      <td>-0.196849</td>\n",
       "      <td>-0.028996</td>\n",
       "      <td>-0.204384</td>\n",
       "      <td>-0.080143</td>\n",
       "      <td>1.000000</td>\n",
       "      <td>0.018250</td>\n",
       "      <td>0.033922</td>\n",
       "      <td>0.108119</td>\n",
       "    </tr>\n",
       "    <tr>\n",
       "      <th>No</th>\n",
       "      <td>0.245387</td>\n",
       "      <td>0.124892</td>\n",
       "      <td>0.200584</td>\n",
       "      <td>0.193230</td>\n",
       "      <td>0.018250</td>\n",
       "      <td>1.000000</td>\n",
       "      <td>0.123232</td>\n",
       "      <td>0.145101</td>\n",
       "    </tr>\n",
       "    <tr>\n",
       "      <th>PTS</th>\n",
       "      <td>0.274032</td>\n",
       "      <td>0.998617</td>\n",
       "      <td>0.248710</td>\n",
       "      <td>0.778323</td>\n",
       "      <td>0.033922</td>\n",
       "      <td>0.123232</td>\n",
       "      <td>1.000000</td>\n",
       "      <td>0.269623</td>\n",
       "    </tr>\n",
       "    <tr>\n",
       "      <th>QualifyLaps</th>\n",
       "      <td>0.301488</td>\n",
       "      <td>0.272759</td>\n",
       "      <td>0.301402</td>\n",
       "      <td>0.291765</td>\n",
       "      <td>0.108119</td>\n",
       "      <td>0.145101</td>\n",
       "      <td>0.269623</td>\n",
       "      <td>1.000000</td>\n",
       "    </tr>\n",
       "  </tbody>\n",
       "</table>\n",
       "</div>"
      ],
      "text/plain": [
       "                Unnamed: 0  StandingPoints      Year  DriverPoints  \\\n",
       "Unnamed: 0        1.000000        0.262432  0.989697      0.424260   \n",
       "StandingPoints    0.262432        1.000000  0.235075      0.759740   \n",
       "Year              0.989697        0.235075  1.000000      0.394359   \n",
       "DriverPoints      0.424260        0.759740  0.394359      1.000000   \n",
       "winnerLaps       -0.196849       -0.028996 -0.204384     -0.080143   \n",
       "No                0.245387        0.124892  0.200584      0.193230   \n",
       "PTS               0.274032        0.998617  0.248710      0.778323   \n",
       "QualifyLaps       0.301488        0.272759  0.301402      0.291765   \n",
       "\n",
       "                winnerLaps        No       PTS  QualifyLaps  \n",
       "Unnamed: 0       -0.196849  0.245387  0.274032     0.301488  \n",
       "StandingPoints   -0.028996  0.124892  0.998617     0.272759  \n",
       "Year             -0.204384  0.200584  0.248710     0.301402  \n",
       "DriverPoints     -0.080143  0.193230  0.778323     0.291765  \n",
       "winnerLaps        1.000000  0.018250  0.033922     0.108119  \n",
       "No                0.018250  1.000000  0.123232     0.145101  \n",
       "PTS               0.033922  0.123232  1.000000     0.269623  \n",
       "QualifyLaps       0.108119  0.145101  0.269623     1.000000  "
      ]
     },
     "execution_count": 205,
     "metadata": {},
     "output_type": "execute_result"
    }
   ],
   "source": [
    "# Select only numeric columns for correlation calculation\n",
    "numeric_df = df.select_dtypes(include=['number'])\n",
    "numeric_df.corr()"
   ]
  },
  {
   "cell_type": "code",
   "execution_count": 207,
   "metadata": {
    "colab": {
     "base_uri": "https://localhost:8080/",
     "height": 557
    },
    "id": "FV-J71pvjq_2",
    "outputId": "ddcef121-f065-427e-a866-ed332c079759"
   },
   "outputs": [
    {
     "data": {
      "text/plain": [
       "<Axes: >"
      ]
     },
     "execution_count": 207,
     "metadata": {},
     "output_type": "execute_result"
    },
    {
     "data": {
      "image/png": "[encoded data removed]",
      "text/plain": [
       "<Figure size 900x500 with 2 Axes>"
      ]
     },
     "metadata": {},
     "output_type": "display_data"
    }
   ],
   "source": [
    "plt.figure(figsize=(9, 5))\n",
    "sns.heatmap(numeric_df.corr(), annot=True, linewidth=5, linecolor='white')"
   ]
  },
  {
   "cell_type": "code",
   "execution_count": 208,
   "metadata": {
    "colab": {
     "base_uri": "https://localhost:8080/",
     "height": 462
    },
    "id": "qSx93XeXg8sj",
    "outputId": "f4ce0edf-8692-4163-cc6b-9ece62f9d55d"
   },
   "outputs": [
    {
     "data": {
      "text/plain": [
       "<Axes: >"
      ]
     },
     "execution_count": 208,
     "metadata": {},
     "output_type": "execute_result"
    },
    {
     "data": {
      "image/png": "[encoded data removed]",
      "text/plain": [
       "<Figure size 1400x500 with 1 Axes>"
      ]
     },
     "metadata": {},
     "output_type": "display_data"
    }
   ],
   "source": [
    "plt.figure(figsize=(14,5))\n",
    "sns.boxplot(df)"
   ]
  },
  {
   "cell_type": "code",
   "execution_count": 209,
   "metadata": {
    "colab": {
     "base_uri": "https://localhost:8080/"
    },
    "id": "pM_57G43lEtd",
    "outputId": "c9333fcd-4e8a-4510-bd47-72e7e2a7ac9f"
   },
   "outputs": [
    {
     "data": {
      "text/plain": [
       "(20074, 23)"
      ]
     },
     "execution_count": 209,
     "metadata": {},
     "output_type": "execute_result"
    }
   ],
   "source": [
    "df.shape"
   ]
  },
  {
   "cell_type": "markdown",
   "metadata": {
    "id": "bSd8QnSS7yHg"
   },
   "source": [
    "### Remove unrelated columns"
   ]
  },
  {
   "cell_type": "code",
   "execution_count": 212,
   "metadata": {
    "id": "Sf75zD22jrVD"
   },
   "outputs": [],
   "source": [
    "# remove unrelated columns\n",
    "df.drop(['Unnamed: 0','Driver','DriverPoints','winnerLaps','FinshTime','WinnerPosition','QualifyPositions','QualifyLaps','Time','DriverCars','WinnerCars','QualifyLaps'],inplace=True,axis=1)"
   ]
  },
  {
   "cell_type": "code",
   "execution_count": 213,
   "metadata": {
    "colab": {
     "base_uri": "https://localhost:8080/"
    },
    "id": "2-cVgktWlK8e",
    "outputId": "d873304a-c4f9-41e2-8d49-2e036877d056"
   },
   "outputs": [
    {
     "data": {
      "text/plain": [
       "(20074, 12)"
      ]
     },
     "execution_count": 213,
     "metadata": {},
     "output_type": "execute_result"
    }
   ],
   "source": [
    "df.shape"
   ]
  },
  {
   "cell_type": "code",
   "execution_count": 214,
   "metadata": {
    "colab": {
     "base_uri": "https://localhost:8080/",
     "height": 0
    },
    "id": "OX_jVruilVgy",
    "outputId": "0a211227-aee9-44d3-80a2-b5f7517388a4"
   },
   "outputs": [
    {
     "data": {
      "text/html": [
       "<div>\n",
       "<style scoped>\n",
       "    .dataframe tbody tr th:only-of-type {\n",
       "        vertical-align: middle;\n",
       "    }\n",
       "\n",
       "    .dataframe tbody tr th {\n",
       "        vertical-align: top;\n",
       "    }\n",
       "\n",
       "    .dataframe thead th {\n",
       "        text-align: right;\n",
       "    }\n",
       "</style>\n",
       "<table border=\"1\" class=\"dataframe\">\n",
       "  <thead>\n",
       "    <tr style=\"text-align: right;\">\n",
       "      <th></th>\n",
       "      <th>Date</th>\n",
       "      <th>Grand Prix</th>\n",
       "      <th>StandingPoints</th>\n",
       "      <th>RacePosition</th>\n",
       "      <th>Year</th>\n",
       "      <th>StandingPosition</th>\n",
       "      <th>Winner</th>\n",
       "      <th>No</th>\n",
       "      <th>PTS</th>\n",
       "      <th>Q1</th>\n",
       "      <th>Q2</th>\n",
       "      <th>Q3</th>\n",
       "    </tr>\n",
       "  </thead>\n",
       "  <tbody>\n",
       "    <tr>\n",
       "      <th>0</th>\n",
       "      <td>13 May 1950</td>\n",
       "      <td>Great Britain</td>\n",
       "      <td>0.0</td>\n",
       "      <td>DNF</td>\n",
       "      <td>1950</td>\n",
       "      <td>8</td>\n",
       "      <td>Nino Farina</td>\n",
       "      <td>NaN</td>\n",
       "      <td>NaN</td>\n",
       "      <td>NaN</td>\n",
       "      <td>NaN</td>\n",
       "      <td>NaN</td>\n",
       "    </tr>\n",
       "    <tr>\n",
       "      <th>1</th>\n",
       "      <td>13 May 1950</td>\n",
       "      <td>Great Britain</td>\n",
       "      <td>NaN</td>\n",
       "      <td>4</td>\n",
       "      <td>1950</td>\n",
       "      <td>13</td>\n",
       "      <td>Nino Farina</td>\n",
       "      <td>NaN</td>\n",
       "      <td>NaN</td>\n",
       "      <td>NaN</td>\n",
       "      <td>NaN</td>\n",
       "      <td>NaN</td>\n",
       "    </tr>\n",
       "    <tr>\n",
       "      <th>2</th>\n",
       "      <td>13 May 1950</td>\n",
       "      <td>Great Britain</td>\n",
       "      <td>0.0</td>\n",
       "      <td>DNF</td>\n",
       "      <td>1950</td>\n",
       "      <td>9</td>\n",
       "      <td>Nino Farina</td>\n",
       "      <td>NaN</td>\n",
       "      <td>NaN</td>\n",
       "      <td>NaN</td>\n",
       "      <td>NaN</td>\n",
       "      <td>NaN</td>\n",
       "    </tr>\n",
       "    <tr>\n",
       "      <th>3</th>\n",
       "      <td>13 May 1950</td>\n",
       "      <td>Great Britain</td>\n",
       "      <td>0.0</td>\n",
       "      <td>8</td>\n",
       "      <td>1950</td>\n",
       "      <td>13</td>\n",
       "      <td>Nino Farina</td>\n",
       "      <td>NaN</td>\n",
       "      <td>NaN</td>\n",
       "      <td>NaN</td>\n",
       "      <td>NaN</td>\n",
       "      <td>NaN</td>\n",
       "    </tr>\n",
       "    <tr>\n",
       "      <th>4</th>\n",
       "      <td>13 May 1950</td>\n",
       "      <td>Great Britain</td>\n",
       "      <td>6.0</td>\n",
       "      <td>2</td>\n",
       "      <td>1950</td>\n",
       "      <td>3</td>\n",
       "      <td>Nino Farina</td>\n",
       "      <td>3.0</td>\n",
       "      <td>6.0</td>\n",
       "      <td>NaN</td>\n",
       "      <td>NaN</td>\n",
       "      <td>NaN</td>\n",
       "    </tr>\n",
       "  </tbody>\n",
       "</table>\n",
       "</div>"
      ],
      "text/plain": [
       "          Date     Grand Prix  StandingPoints RacePosition  Year  \\\n",
       "0  13 May 1950  Great Britain             0.0          DNF  1950   \n",
       "1  13 May 1950  Great Britain             NaN            4  1950   \n",
       "2  13 May 1950  Great Britain             0.0          DNF  1950   \n",
       "3  13 May 1950  Great Britain             0.0            8  1950   \n",
       "4  13 May 1950  Great Britain             6.0            2  1950   \n",
       "\n",
       "  StandingPosition       Winner   No  PTS   Q1   Q2   Q3  \n",
       "0                8  Nino Farina  NaN  NaN  NaN  NaN  NaN  \n",
       "1               13  Nino Farina  NaN  NaN  NaN  NaN  NaN  \n",
       "2                9  Nino Farina  NaN  NaN  NaN  NaN  NaN  \n",
       "3               13  Nino Farina  NaN  NaN  NaN  NaN  NaN  \n",
       "4                3  Nino Farina  3.0  6.0  NaN  NaN  NaN  "
      ]
     },
     "execution_count": 214,
     "metadata": {},
     "output_type": "execute_result"
    }
   ],
   "source": [
    "df.head()"
   ]
  },
  {
   "cell_type": "code",
   "execution_count": 215,
   "metadata": {
    "colab": {
     "base_uri": "https://localhost:8080/"
    },
    "id": "R8g4_Yn2jq2-",
    "outputId": "543dacca-cf9e-4fd0-f747-d5ebee046081"
   },
   "outputs": [
    {
     "data": {
      "text/plain": [
       "Index(['Date', 'Grand Prix', 'StandingPoints', 'RacePosition', 'Year',\n",
       "       'StandingPosition', 'Winner', 'No', 'PTS', 'Q1', 'Q2', 'Q3'],\n",
       "      dtype='object')"
      ]
     },
     "execution_count": 215,
     "metadata": {},
     "output_type": "execute_result"
    }
   ],
   "source": [
    "df.columns"
   ]
  },
  {
   "cell_type": "markdown",
   "metadata": {
    "id": "NPk3XTMu8_GW"
   },
   "source": [
    "#### **Removed Columns**\n",
    "\n",
    "\n",
    "*   Unamed:0\n",
    "*   Driver\n",
    "*   DriverPoints\n",
    "*   winnerlaps\n",
    "*   FinishTime\n",
    "*   WinnerPosition\n",
    "*   QulifyPositoins\n",
    "*   QualifyLaps\n",
    "*   Time\n",
    "*   DriversCars\n",
    "*   winnersCars\n",
    "*   QulifyLaps\n"
   ]
  },
  {
   "cell_type": "markdown",
   "metadata": {
    "id": "NqxSsWvN7s40"
   },
   "source": [
    "### Remove Duplicate values"
   ]
  },
  {
   "cell_type": "code",
   "execution_count": 224,
   "metadata": {
    "colab": {
     "base_uri": "https://localhost:8080/"
    },
    "id": "JHIiKQi4k9al",
    "outputId": "00a474dc-73c3-4876-8c78-1a172a9f0fec"
   },
   "outputs": [
    {
     "data": {
      "text/plain": [
       "700"
      ]
     },
     "execution_count": 224,
     "metadata": {},
     "output_type": "execute_result"
    }
   ],
   "source": [
    "# How many duplicate data present?\n",
    "df.duplicated().sum()"
   ]
  },
  {
   "cell_type": "code",
   "execution_count": 226,
   "metadata": {
    "id": "JEPYHj9BlKRB"
   },
   "outputs": [],
   "source": [
    "# REMOVE:- duplicate data\n",
    "df=df.drop_duplicates()"
   ]
  },
  {
   "cell_type": "code",
   "execution_count": 228,
   "metadata": {
    "colab": {
     "base_uri": "https://localhost:8080/",
     "height": 0
    },
    "id": "3zvK2TYpeREh",
    "outputId": "4d848546-bd22-4903-a2b5-dacc2fa0e9b0"
   },
   "outputs": [
    {
     "data": {
      "text/html": [
       "<div>\n",
       "<style scoped>\n",
       "    .dataframe tbody tr th:only-of-type {\n",
       "        vertical-align: middle;\n",
       "    }\n",
       "\n",
       "    .dataframe tbody tr th {\n",
       "        vertical-align: top;\n",
       "    }\n",
       "\n",
       "    .dataframe thead th {\n",
       "        text-align: right;\n",
       "    }\n",
       "</style>\n",
       "<table border=\"1\" class=\"dataframe\">\n",
       "  <thead>\n",
       "    <tr style=\"text-align: right;\">\n",
       "      <th></th>\n",
       "      <th>Date</th>\n",
       "      <th>Grand Prix</th>\n",
       "      <th>StandingPoints</th>\n",
       "      <th>RacePosition</th>\n",
       "      <th>Year</th>\n",
       "      <th>StandingPosition</th>\n",
       "      <th>Winner</th>\n",
       "      <th>No</th>\n",
       "      <th>PTS</th>\n",
       "      <th>Q1</th>\n",
       "      <th>Q2</th>\n",
       "      <th>Q3</th>\n",
       "    </tr>\n",
       "  </thead>\n",
       "  <tbody>\n",
       "    <tr>\n",
       "      <th>0</th>\n",
       "      <td>13 May 1950</td>\n",
       "      <td>Great Britain</td>\n",
       "      <td>0.0</td>\n",
       "      <td>DNF</td>\n",
       "      <td>1950</td>\n",
       "      <td>8</td>\n",
       "      <td>Nino Farina</td>\n",
       "      <td>NaN</td>\n",
       "      <td>NaN</td>\n",
       "      <td>NaN</td>\n",
       "      <td>NaN</td>\n",
       "      <td>NaN</td>\n",
       "    </tr>\n",
       "    <tr>\n",
       "      <th>1</th>\n",
       "      <td>13 May 1950</td>\n",
       "      <td>Great Britain</td>\n",
       "      <td>NaN</td>\n",
       "      <td>4</td>\n",
       "      <td>1950</td>\n",
       "      <td>13</td>\n",
       "      <td>Nino Farina</td>\n",
       "      <td>NaN</td>\n",
       "      <td>NaN</td>\n",
       "      <td>NaN</td>\n",
       "      <td>NaN</td>\n",
       "      <td>NaN</td>\n",
       "    </tr>\n",
       "    <tr>\n",
       "      <th>2</th>\n",
       "      <td>13 May 1950</td>\n",
       "      <td>Great Britain</td>\n",
       "      <td>0.0</td>\n",
       "      <td>DNF</td>\n",
       "      <td>1950</td>\n",
       "      <td>9</td>\n",
       "      <td>Nino Farina</td>\n",
       "      <td>NaN</td>\n",
       "      <td>NaN</td>\n",
       "      <td>NaN</td>\n",
       "      <td>NaN</td>\n",
       "      <td>NaN</td>\n",
       "    </tr>\n",
       "    <tr>\n",
       "      <th>3</th>\n",
       "      <td>13 May 1950</td>\n",
       "      <td>Great Britain</td>\n",
       "      <td>0.0</td>\n",
       "      <td>8</td>\n",
       "      <td>1950</td>\n",
       "      <td>13</td>\n",
       "      <td>Nino Farina</td>\n",
       "      <td>NaN</td>\n",
       "      <td>NaN</td>\n",
       "      <td>NaN</td>\n",
       "      <td>NaN</td>\n",
       "      <td>NaN</td>\n",
       "    </tr>\n",
       "    <tr>\n",
       "      <th>4</th>\n",
       "      <td>13 May 1950</td>\n",
       "      <td>Great Britain</td>\n",
       "      <td>6.0</td>\n",
       "      <td>2</td>\n",
       "      <td>1950</td>\n",
       "      <td>3</td>\n",
       "      <td>Nino Farina</td>\n",
       "      <td>3.0</td>\n",
       "      <td>6.0</td>\n",
       "      <td>NaN</td>\n",
       "      <td>NaN</td>\n",
       "      <td>NaN</td>\n",
       "    </tr>\n",
       "  </tbody>\n",
       "</table>\n",
       "</div>"
      ],
      "text/plain": [
       "          Date     Grand Prix  StandingPoints RacePosition  Year  \\\n",
       "0  13 May 1950  Great Britain             0.0          DNF  1950   \n",
       "1  13 May 1950  Great Britain             NaN            4  1950   \n",
       "2  13 May 1950  Great Britain             0.0          DNF  1950   \n",
       "3  13 May 1950  Great Britain             0.0            8  1950   \n",
       "4  13 May 1950  Great Britain             6.0            2  1950   \n",
       "\n",
       "  StandingPosition       Winner   No  PTS   Q1   Q2   Q3  \n",
       "0                8  Nino Farina  NaN  NaN  NaN  NaN  NaN  \n",
       "1               13  Nino Farina  NaN  NaN  NaN  NaN  NaN  \n",
       "2                9  Nino Farina  NaN  NaN  NaN  NaN  NaN  \n",
       "3               13  Nino Farina  NaN  NaN  NaN  NaN  NaN  \n",
       "4                3  Nino Farina  3.0  6.0  NaN  NaN  NaN  "
      ]
     },
     "execution_count": 228,
     "metadata": {},
     "output_type": "execute_result"
    }
   ],
   "source": [
    "df.head()"
   ]
  },
  {
   "cell_type": "code",
   "execution_count": 230,
   "metadata": {
    "colab": {
     "base_uri": "https://localhost:8080/"
    },
    "id": "PwNVOYMJgpQt",
    "outputId": "eaf2120a-d71d-4820-9eb7-d6be7ec828a2"
   },
   "outputs": [
    {
     "name": "stdout",
     "output_type": "stream",
     "text": [
      "<class 'pandas.core.frame.DataFrame'>\n",
      "Index: 19374 entries, 0 to 20073\n",
      "Data columns (total 12 columns):\n",
      " #   Column            Non-Null Count  Dtype  \n",
      "---  ------            --------------  -----  \n",
      " 0   Date              19374 non-null  object \n",
      " 1   Grand Prix        19374 non-null  object \n",
      " 2   StandingPoints    19363 non-null  float64\n",
      " 3   RacePosition      19358 non-null  object \n",
      " 4   Year              19374 non-null  int64  \n",
      " 5   StandingPosition  17894 non-null  object \n",
      " 6   Winner            19374 non-null  object \n",
      " 7   No                6507 non-null   float64\n",
      " 8   PTS               6507 non-null   float64\n",
      " 9   Q1                3155 non-null   object \n",
      " 10  Q2                2820 non-null   object \n",
      " 11  Q3                2172 non-null   object \n",
      "dtypes: float64(3), int64(1), object(8)\n",
      "memory usage: 1.9+ MB\n"
     ]
    }
   ],
   "source": [
    "df.info()"
   ]
  },
  {
   "cell_type": "markdown",
   "metadata": {
    "id": "8E8Deutb8o0i"
   },
   "source": [
    "### Analayed unique values"
   ]
  },
  {
   "cell_type": "markdown",
   "metadata": {
    "id": "Yk_09TUeAtxX"
   },
   "source": [
    "##### StandingPosition"
   ]
  },
  {
   "cell_type": "code",
   "execution_count": 234,
   "metadata": {
    "colab": {
     "base_uri": "https://localhost:8080/"
    },
    "id": "aHtUif24vFxu",
    "outputId": "4833a9bb-1119-4b01-a1a7-2312eeeac463"
   },
   "outputs": [
    {
     "data": {
      "text/plain": [
       "StandingPosition\n",
       "1     1032\n",
       "10     917\n",
       "11     872\n",
       "12     835\n",
       "13     764\n",
       "14     772\n",
       "15     827\n",
       "16     717\n",
       "17     666\n",
       "18     657\n",
       "19     689\n",
       "2     1005\n",
       "20     476\n",
       "21     343\n",
       "22     263\n",
       "23     191\n",
       "24     108\n",
       "25     110\n",
       "26      62\n",
       "27      22\n",
       "28       1\n",
       "3      942\n",
       "4     1014\n",
       "5      921\n",
       "6      961\n",
       "7      952\n",
       "8      881\n",
       "9      877\n",
       "DQ      17\n",
       "Name: count, dtype: int64"
      ]
     },
     "execution_count": 234,
     "metadata": {},
     "output_type": "execute_result"
    }
   ],
   "source": [
    "df['StandingPosition'].value_counts().sort_index()"
   ]
  },
  {
   "cell_type": "code",
   "execution_count": 236,
   "metadata": {
    "id": "4McvgjkiAmf3"
   },
   "outputs": [],
   "source": [
    "# StandingPosition REPLACE :-\n",
    "df['StandingPosition']=df['StandingPosition'].replace({'DQ': '0'})"
   ]
  },
  {
   "cell_type": "code",
   "execution_count": 238,
   "metadata": {
    "colab": {
     "base_uri": "https://localhost:8080/"
    },
    "id": "osxSSvcZAoqd",
    "outputId": "5caafc23-09f9-45a5-cc01-5bafcaa00f06"
   },
   "outputs": [
    {
     "data": {
      "text/plain": [
       "array(['8', '13', '9', '3', '2', '1', '4', '5', '20', '7', '6', '19',\n",
       "       '15', nan, '12', '11', '10', '16', '22', '18', '26', '17', '23',\n",
       "       '25', '21', '27', '14', '24', '0', '28'], dtype=object)"
      ]
     },
     "execution_count": 238,
     "metadata": {},
     "output_type": "execute_result"
    }
   ],
   "source": [
    "df['StandingPosition'].unique()"
   ]
  },
  {
   "cell_type": "markdown",
   "metadata": {
    "id": "I2OiIsYi_SDt"
   },
   "source": [
    "##### RacePosition :-"
   ]
  },
  {
   "cell_type": "code",
   "execution_count": 241,
   "metadata": {
    "colab": {
     "base_uri": "https://localhost:8080/"
    },
    "id": "EQHZE-FnlY8N",
    "outputId": "a17d2ede-42a6-472b-9d50-74a13ec181fc"
   },
   "outputs": [
    {
     "data": {
      "text/plain": [
       "array(['DNF', '4', '8', '2', '1', '3', '5', 'SHC', '9', '6', '7', '11',\n",
       "       '10', '13', 'DSQ', '15', 'DNC', '14', '12', '16', 'DNS', '17',\n",
       "       '18', '19', nan, '20', '21', '22', '23', '24', 'EXR'], dtype=object)"
      ]
     },
     "execution_count": 241,
     "metadata": {},
     "output_type": "execute_result"
    }
   ],
   "source": [
    "# How many unique values are there ?\n",
    "df['RacePosition'].unique()"
   ]
  },
  {
   "cell_type": "markdown",
   "metadata": {
    "id": "p7C1hrKblwRS"
   },
   "source": [
    "* DNC: Stands for Did Not Compete.\n",
    "* DNS: Stands for Did Not Start.\n",
    "* EXR: Stands for Excluded from Race.\n",
    "* DSQ: Stands for Disqualifie.\n",
    "* DNF: did not finish.\n",
    "* SHC: the driver who gave up his car"
   ]
  },
  {
   "cell_type": "code",
   "execution_count": 244,
   "metadata": {
    "colab": {
     "base_uri": "https://localhost:8080/"
    },
    "id": "k-dl3esglmhq",
    "outputId": "7e8dcf17-df0d-4467-aee1-f6baefa40a2b"
   },
   "outputs": [
    {
     "data": {
      "text/plain": [
       "RacePosition\n",
       "DNF    6468\n",
       "1      1078\n",
       "2      1074\n",
       "3      1071\n",
       "4      1064\n",
       "5      1055\n",
       "6      1003\n",
       "7       863\n",
       "8       820\n",
       "9       744\n",
       "10      670\n",
       "11      602\n",
       "12      529\n",
       "13      487\n",
       "14      407\n",
       "15      359\n",
       "16      284\n",
       "17      224\n",
       "18      145\n",
       "19       91\n",
       "DNC      75\n",
       "DNS      59\n",
       "SHC      56\n",
       "20       45\n",
       "DSQ      42\n",
       "21       23\n",
       "22       12\n",
       "23        5\n",
       "EXR       2\n",
       "24        1\n",
       "Name: count, dtype: int64"
      ]
     },
     "execution_count": 244,
     "metadata": {},
     "output_type": "execute_result"
    }
   ],
   "source": [
    "df['RacePosition'].value_counts()"
   ]
  },
  {
   "cell_type": "code",
   "execution_count": 246,
   "metadata": {
    "id": "4hSbqUWBmKl6"
   },
   "outputs": [],
   "source": [
    "# REPLACE :- value that means nothing\n",
    "df['RacePosition']=df['RacePosition'].replace({'DNC':0,'DNS':0,'DSQ':0,'EXR':0,'DNF':0,'SHC':0})"
   ]
  },
  {
   "cell_type": "code",
   "execution_count": 248,
   "metadata": {
    "colab": {
     "base_uri": "https://localhost:8080/"
    },
    "id": "sj3249BAA-Yn",
    "outputId": "429c832c-c937-4d54-8779-f357afd5cbed"
   },
   "outputs": [
    {
     "data": {
      "text/plain": [
       "array([0, '4', '8', '2', '1', '3', '5', '9', '6', '7', '11', '10', '13',\n",
       "       '15', '14', '12', '16', '17', '18', '19', nan, '20', '21', '22',\n",
       "       '23', '24'], dtype=object)"
      ]
     },
     "execution_count": 248,
     "metadata": {},
     "output_type": "execute_result"
    }
   ],
   "source": [
    "df['RacePosition'].unique()"
   ]
  },
  {
   "cell_type": "markdown",
   "metadata": {
    "id": "xPvacbbf_Zhs"
   },
   "source": [
    "##### Year:-"
   ]
  },
  {
   "cell_type": "code",
   "execution_count": 251,
   "metadata": {
    "colab": {
     "base_uri": "https://localhost:8080/"
    },
    "id": "STdBliMVnnwy",
    "outputId": "a1a891f9-f4c3-4dc8-e0cf-e0b690626a9f"
   },
   "outputs": [
    {
     "data": {
      "text/plain": [
       "Year\n",
       "1950     66\n",
       "1951     85\n",
       "1952     71\n",
       "1953     80\n",
       "1954    106\n",
       "       ... \n",
       "2018    420\n",
       "2019    420\n",
       "2020    340\n",
       "2021    440\n",
       "2022    440\n",
       "Name: count, Length: 73, dtype: int64"
      ]
     },
     "execution_count": 251,
     "metadata": {},
     "output_type": "execute_result"
    }
   ],
   "source": [
    "df['Year'].value_counts().sort_index()"
   ]
  },
  {
   "cell_type": "markdown",
   "metadata": {
    "id": "LiXzNq7FCGBO"
   },
   "source": [
    "#### StandingPoints"
   ]
  },
  {
   "cell_type": "code",
   "execution_count": 254,
   "metadata": {
    "colab": {
     "base_uri": "https://localhost:8080/"
    },
    "id": "p6lGLkt-CKB1",
    "outputId": "e4ac632a-3456-43fd-ccb2-83c76cfd4c6f"
   },
   "outputs": [
    {
     "data": {
      "text/plain": [
       "array([ 0. ,  nan,  6. ,  9. ,  4. ,  2. ,  3. ,  1. ,  8. ,  5. ,  7. ,\n",
       "        8.5,  6.5,  1.5,  3.5,  0.1,  3.1,  8.1,  6.1,  4.1,  3.3,  1.3,\n",
       "        4.5,  0.5, 10. ,  2.5, 25. , 15. , 18. , 12. , 30. , 20. , 50. ,\n",
       "       16. , 36. , 24. , 26. , 11. , 13. , 19. , 27. ,  7.5, 12.5, 34. ,\n",
       "       32. , 17. , 22. ])"
      ]
     },
     "execution_count": 254,
     "metadata": {},
     "output_type": "execute_result"
    }
   ],
   "source": [
    "df['StandingPoints'].unique()"
   ]
  },
  {
   "cell_type": "markdown",
   "metadata": {
    "id": "aOI0uYa4A3b4"
   },
   "source": [
    "### Null values"
   ]
  },
  {
   "cell_type": "code",
   "execution_count": 257,
   "metadata": {
    "colab": {
     "base_uri": "https://localhost:8080/"
    },
    "id": "zdPs6MLGl1AX",
    "outputId": "8ed0cf20-3b1e-486d-890b-d1b76c2933bc"
   },
   "outputs": [
    {
     "data": {
      "text/plain": [
       "Date                    0\n",
       "Grand Prix              0\n",
       "StandingPoints         11\n",
       "RacePosition           16\n",
       "Year                    0\n",
       "StandingPosition     1480\n",
       "Winner                  0\n",
       "No                  12867\n",
       "PTS                 12867\n",
       "Q1                  16219\n",
       "Q2                  16554\n",
       "Q3                  17202\n",
       "dtype: int64"
      ]
     },
     "execution_count": 257,
     "metadata": {},
     "output_type": "execute_result"
    }
   ],
   "source": [
    "df.isna().sum()"
   ]
  },
  {
   "cell_type": "markdown",
   "metadata": {
    "id": "dji3dmAV-ZXZ"
   },
   "source": [
    "### Type Casting:-"
   ]
  },
  {
   "cell_type": "code",
   "execution_count": 260,
   "metadata": {
    "id": "v_vo5oZvuX6o"
   },
   "outputs": [],
   "source": [
    "# Handle non-finite values before conversion\n",
    "# Fill remaining NaN values with a suitable value (e.g., 0)\n",
    "df.RacePosition = df.RacePosition.fillna(0).astype('int64')  # Replace NaN with 0, for example\n",
    "\n",
    "df.StandingPosition = df.StandingPosition.fillna(0).astype('int64')\n",
    "df.StandingPoints = df.StandingPoints.fillna(0).astype('int64')\n",
    "\n",
    "df.PTS = df.PTS.fillna(0).astype('int64')\n",
    "df.No = df.No.fillna(0).astype('int64')"
   ]
  },
  {
   "cell_type": "code",
   "execution_count": 262,
   "metadata": {
    "colab": {
     "base_uri": "https://localhost:8080/"
    },
    "id": "TPR6u1BDCtbX",
    "outputId": "1bc6d5b3-a478-47e1-f603-a7d32e028f57"
   },
   "outputs": [
    {
     "name": "stdout",
     "output_type": "stream",
     "text": [
      "<class 'pandas.core.frame.DataFrame'>\n",
      "Index: 19374 entries, 0 to 20073\n",
      "Data columns (total 12 columns):\n",
      " #   Column            Non-Null Count  Dtype \n",
      "---  ------            --------------  ----- \n",
      " 0   Date              19374 non-null  object\n",
      " 1   Grand Prix        19374 non-null  object\n",
      " 2   StandingPoints    19374 non-null  int64 \n",
      " 3   RacePosition      19374 non-null  int64 \n",
      " 4   Year              19374 non-null  int64 \n",
      " 5   StandingPosition  19374 non-null  int64 \n",
      " 6   Winner            19374 non-null  object\n",
      " 7   No                19374 non-null  int64 \n",
      " 8   PTS               19374 non-null  int64 \n",
      " 9   Q1                3155 non-null   object\n",
      " 10  Q2                2820 non-null   object\n",
      " 11  Q3                2172 non-null   object\n",
      "dtypes: int64(6), object(6)\n",
      "memory usage: 1.9+ MB\n"
     ]
    }
   ],
   "source": [
    "df.info()"
   ]
  },
  {
   "cell_type": "code",
   "execution_count": 264,
   "metadata": {
    "colab": {
     "base_uri": "https://localhost:8080/"
    },
    "id": "tfZeCzFfvq4Z",
    "outputId": "401cb2d7-224f-40fc-fd8f-6a1637f305ab"
   },
   "outputs": [
    {
     "data": {
      "text/plain": [
       "Date                    0\n",
       "Grand Prix              0\n",
       "StandingPoints          0\n",
       "RacePosition            0\n",
       "Year                    0\n",
       "StandingPosition        0\n",
       "Winner                  0\n",
       "No                      0\n",
       "PTS                     0\n",
       "Q1                  16219\n",
       "Q2                  16554\n",
       "Q3                  17202\n",
       "dtype: int64"
      ]
     },
     "execution_count": 264,
     "metadata": {},
     "output_type": "execute_result"
    }
   ],
   "source": [
    "df.isna().sum()"
   ]
  },
  {
   "cell_type": "code",
   "execution_count": 266,
   "metadata": {
    "id": "SpWdUZAp5f8f"
   },
   "outputs": [],
   "source": [
    "df_1=df.copy()"
   ]
  },
  {
   "cell_type": "markdown",
   "metadata": {
    "id": "sXHSM0PA6Pga"
   },
   "source": [
    "# **Transforming the data**\n",
    "\n",
    "---\n"
   ]
  },
  {
   "cell_type": "markdown",
   "metadata": {
    "id": "X-ks0U_3-FVZ"
   },
   "source": [
    "In the dataset, the first year for which there is information about qualifying is 1994. The closest to the current format of qualifying was first introduced in 1996. It differs from the current system in limiting drivers to 12 laps only, while currently there is no limits on the number of laps to be completed. Huge changes and a lot af variation was introduced to the qualifying format between 2003 and 2005."
   ]
  },
  {
   "cell_type": "markdown",
   "metadata": {
    "id": "V-kPNzO2IeOg"
   },
   "source": [
    "Starting with the year 2006, a three-part system of qualifying was introduced. These days, drivers are limited by the time in which they have to complete the fastest lap they can. After each qualifying round, 5 drivers with the worst lap times are eliminated, so only 10 advance to the final round (Q3). For these reasons, we limit the data to 1996 - 2001 and 2006 - 2022. (For which we have the full quality information)\n",
    "\n",
    "SOURCE: https://www.formula1.com/en/latest/features/2016/3/deciding-the-grid-a-history-of-f1-qualifying-formats.html"
   ]
  },
  {
   "cell_type": "code",
   "execution_count": 271,
   "metadata": {
    "colab": {
     "base_uri": "https://localhost:8080/",
     "height": 206
    },
    "id": "VS36b4yODLUu",
    "outputId": "1599b4af-e186-4540-b95d-a77b9dd64f1f"
   },
   "outputs": [
    {
     "data": {
      "text/html": [
       "<div>\n",
       "<style scoped>\n",
       "    .dataframe tbody tr th:only-of-type {\n",
       "        vertical-align: middle;\n",
       "    }\n",
       "\n",
       "    .dataframe tbody tr th {\n",
       "        vertical-align: top;\n",
       "    }\n",
       "\n",
       "    .dataframe thead th {\n",
       "        text-align: right;\n",
       "    }\n",
       "</style>\n",
       "<table border=\"1\" class=\"dataframe\">\n",
       "  <thead>\n",
       "    <tr style=\"text-align: right;\">\n",
       "      <th></th>\n",
       "      <th>Date</th>\n",
       "      <th>Grand Prix</th>\n",
       "      <th>StandingPoints</th>\n",
       "      <th>RacePosition</th>\n",
       "      <th>Year</th>\n",
       "      <th>StandingPosition</th>\n",
       "      <th>Winner</th>\n",
       "      <th>No</th>\n",
       "      <th>PTS</th>\n",
       "      <th>Q1</th>\n",
       "      <th>Q2</th>\n",
       "      <th>Q3</th>\n",
       "    </tr>\n",
       "  </thead>\n",
       "  <tbody>\n",
       "    <tr>\n",
       "      <th>0</th>\n",
       "      <td>13 May 1950</td>\n",
       "      <td>Great Britain</td>\n",
       "      <td>0</td>\n",
       "      <td>0</td>\n",
       "      <td>1950</td>\n",
       "      <td>8</td>\n",
       "      <td>Nino Farina</td>\n",
       "      <td>0</td>\n",
       "      <td>0</td>\n",
       "      <td>NaN</td>\n",
       "      <td>NaN</td>\n",
       "      <td>NaN</td>\n",
       "    </tr>\n",
       "    <tr>\n",
       "      <th>1</th>\n",
       "      <td>13 May 1950</td>\n",
       "      <td>Great Britain</td>\n",
       "      <td>0</td>\n",
       "      <td>4</td>\n",
       "      <td>1950</td>\n",
       "      <td>13</td>\n",
       "      <td>Nino Farina</td>\n",
       "      <td>0</td>\n",
       "      <td>0</td>\n",
       "      <td>NaN</td>\n",
       "      <td>NaN</td>\n",
       "      <td>NaN</td>\n",
       "    </tr>\n",
       "    <tr>\n",
       "      <th>2</th>\n",
       "      <td>13 May 1950</td>\n",
       "      <td>Great Britain</td>\n",
       "      <td>0</td>\n",
       "      <td>0</td>\n",
       "      <td>1950</td>\n",
       "      <td>9</td>\n",
       "      <td>Nino Farina</td>\n",
       "      <td>0</td>\n",
       "      <td>0</td>\n",
       "      <td>NaN</td>\n",
       "      <td>NaN</td>\n",
       "      <td>NaN</td>\n",
       "    </tr>\n",
       "    <tr>\n",
       "      <th>3</th>\n",
       "      <td>13 May 1950</td>\n",
       "      <td>Great Britain</td>\n",
       "      <td>0</td>\n",
       "      <td>8</td>\n",
       "      <td>1950</td>\n",
       "      <td>13</td>\n",
       "      <td>Nino Farina</td>\n",
       "      <td>0</td>\n",
       "      <td>0</td>\n",
       "      <td>NaN</td>\n",
       "      <td>NaN</td>\n",
       "      <td>NaN</td>\n",
       "    </tr>\n",
       "    <tr>\n",
       "      <th>4</th>\n",
       "      <td>13 May 1950</td>\n",
       "      <td>Great Britain</td>\n",
       "      <td>6</td>\n",
       "      <td>2</td>\n",
       "      <td>1950</td>\n",
       "      <td>3</td>\n",
       "      <td>Nino Farina</td>\n",
       "      <td>3</td>\n",
       "      <td>6</td>\n",
       "      <td>NaN</td>\n",
       "      <td>NaN</td>\n",
       "      <td>NaN</td>\n",
       "    </tr>\n",
       "  </tbody>\n",
       "</table>\n",
       "</div>"
      ],
      "text/plain": [
       "          Date     Grand Prix  StandingPoints  RacePosition  Year  \\\n",
       "0  13 May 1950  Great Britain               0             0  1950   \n",
       "1  13 May 1950  Great Britain               0             4  1950   \n",
       "2  13 May 1950  Great Britain               0             0  1950   \n",
       "3  13 May 1950  Great Britain               0             8  1950   \n",
       "4  13 May 1950  Great Britain               6             2  1950   \n",
       "\n",
       "   StandingPosition       Winner  No  PTS   Q1   Q2   Q3  \n",
       "0                 8  Nino Farina   0    0  NaN  NaN  NaN  \n",
       "1                13  Nino Farina   0    0  NaN  NaN  NaN  \n",
       "2                 9  Nino Farina   0    0  NaN  NaN  NaN  \n",
       "3                13  Nino Farina   0    0  NaN  NaN  NaN  \n",
       "4                 3  Nino Farina   3    6  NaN  NaN  NaN  "
      ]
     },
     "execution_count": 271,
     "metadata": {},
     "output_type": "execute_result"
    }
   ],
   "source": [
    "df_1.head()"
   ]
  },
  {
   "cell_type": "markdown",
   "metadata": {
    "id": "ca7o0fHdFFRT"
   },
   "source": [
    "The goal is to replace the strings representing lap times to numbers (msec). It will make the operations needed to be completed to create additional variables easier."
   ]
  },
  {
   "cell_type": "code",
   "execution_count": 274,
   "metadata": {
    "colab": {
     "base_uri": "https://localhost:8080/"
    },
    "id": "0r_oor8gvum8",
    "outputId": "e874d23f-f7d2-4fae-ae5e-a26d0960290d"
   },
   "outputs": [
    {
     "name": "stdout",
     "output_type": "stream",
     "text": [
      "No lap time in q1 set:  16219\n",
      "No lap time in q1 set (after removing):  0\n"
     ]
    }
   ],
   "source": [
    "#PROBLEM: How many winner drivers didn't set a time in Q1 (= no pace established in quali)\n",
    "\n",
    "print(\"No lap time in q1 set: \", df_1['Q1'].isnull().values.sum())\n",
    "\n",
    "df_1 = df_1[df_1['Q1'].notnull()]\n",
    "\n",
    "print(\"No lap time in q1 set (after removing): \", df_1['Q1'].isnull().values.sum())"
   ]
  },
  {
   "cell_type": "code",
   "execution_count": 276,
   "metadata": {
    "colab": {
     "base_uri": "https://localhost:8080/"
    },
    "id": "2BPyYznqv4Sz",
    "outputId": "a760f6d0-01f2-4fef-8672-d749625d01a9"
   },
   "outputs": [
    {
     "name": "stdout",
     "output_type": "stream",
     "text": [
      "No lap time in q1 set:  335\n",
      "No lap time in q1 set (after removing):  0\n"
     ]
    }
   ],
   "source": [
    "#PROBLEM: How many drivers didn't set a time in Q2 (= no pace established in quali)\n",
    "\n",
    "print(\"No lap time in q1 set: \", df_1['Q2'].isnull().values.sum())\n",
    "\n",
    "df_1 = df_1[df_1['Q2'].notnull()]\n",
    "\n",
    "print(\"No lap time in q1 set (after removing): \", df_1['Q2'].isnull().values.sum())"
   ]
  },
  {
   "cell_type": "code",
   "execution_count": 278,
   "metadata": {
    "colab": {
     "base_uri": "https://localhost:8080/"
    },
    "id": "YN3W4NUuv71q",
    "outputId": "ad33cddd-05a8-4182-a9ea-6f9ca1828be6"
   },
   "outputs": [
    {
     "name": "stdout",
     "output_type": "stream",
     "text": [
      "No lap time in q1 set:  648\n",
      "No lap time in q1 set (after removing):  0\n"
     ]
    }
   ],
   "source": [
    "  #PROBLEM: How many drivers didn't set a time in Q3 (= no pace established in quali)\n",
    "\n",
    "print(\"No lap time in q1 set: \", df_1['Q3'].isnull().values.sum())\n",
    "\n",
    "df_1= df_1[df_1['Q3'].notna()]\n",
    "\n",
    "print(\"No lap time in q1 set (after removing): \", df_1['Q3'].isnull().values.sum())"
   ]
  },
  {
   "cell_type": "code",
   "execution_count": 280,
   "metadata": {
    "id": "e9fdg66f5mKd"
   },
   "outputs": [],
   "source": [
    "# Need to reset indexing\n",
    "df_1=df_1.reset_index()"
   ]
  },
  {
   "cell_type": "code",
   "execution_count": 282,
   "metadata": {
    "id": "UlatIYh_6DWE"
   },
   "outputs": [],
   "source": [
    "#DROP:- index column\n",
    "df_1.drop(columns='index',inplace=True,axis=1)"
   ]
  },
  {
   "cell_type": "code",
   "execution_count": 284,
   "metadata": {
    "colab": {
     "base_uri": "https://localhost:8080/",
     "height": 206
    },
    "id": "OYtPKRgk6Juf",
    "outputId": "c1eccd0c-2fc7-4f74-a44c-8ec8d18aa1a1"
   },
   "outputs": [
    {
     "data": {
      "text/html": [
       "<div>\n",
       "<style scoped>\n",
       "    .dataframe tbody tr th:only-of-type {\n",
       "        vertical-align: middle;\n",
       "    }\n",
       "\n",
       "    .dataframe tbody tr th {\n",
       "        vertical-align: top;\n",
       "    }\n",
       "\n",
       "    .dataframe thead th {\n",
       "        text-align: right;\n",
       "    }\n",
       "</style>\n",
       "<table border=\"1\" class=\"dataframe\">\n",
       "  <thead>\n",
       "    <tr style=\"text-align: right;\">\n",
       "      <th></th>\n",
       "      <th>Date</th>\n",
       "      <th>Grand Prix</th>\n",
       "      <th>StandingPoints</th>\n",
       "      <th>RacePosition</th>\n",
       "      <th>Year</th>\n",
       "      <th>StandingPosition</th>\n",
       "      <th>Winner</th>\n",
       "      <th>No</th>\n",
       "      <th>PTS</th>\n",
       "      <th>Q1</th>\n",
       "      <th>Q2</th>\n",
       "      <th>Q3</th>\n",
       "    </tr>\n",
       "  </thead>\n",
       "  <tbody>\n",
       "    <tr>\n",
       "      <th>0</th>\n",
       "      <td>12 Mar 2006</td>\n",
       "      <td>Bahrain</td>\n",
       "      <td>10</td>\n",
       "      <td>1</td>\n",
       "      <td>2006</td>\n",
       "      <td>1</td>\n",
       "      <td>Fernando Alonso</td>\n",
       "      <td>1</td>\n",
       "      <td>10</td>\n",
       "      <td>1:32.433</td>\n",
       "      <td>1:31.215</td>\n",
       "      <td>1:31.702</td>\n",
       "    </tr>\n",
       "    <tr>\n",
       "      <th>1</th>\n",
       "      <td>12 Mar 2006</td>\n",
       "      <td>Bahrain</td>\n",
       "      <td>5</td>\n",
       "      <td>4</td>\n",
       "      <td>2006</td>\n",
       "      <td>6</td>\n",
       "      <td>Fernando Alonso</td>\n",
       "      <td>12</td>\n",
       "      <td>5</td>\n",
       "      <td>1:32.603</td>\n",
       "      <td>1:32.025</td>\n",
       "      <td>1:31.549</td>\n",
       "    </tr>\n",
       "    <tr>\n",
       "      <th>2</th>\n",
       "      <td>12 Mar 2006</td>\n",
       "      <td>Bahrain</td>\n",
       "      <td>1</td>\n",
       "      <td>8</td>\n",
       "      <td>2006</td>\n",
       "      <td>18</td>\n",
       "      <td>Fernando Alonso</td>\n",
       "      <td>15</td>\n",
       "      <td>1</td>\n",
       "      <td>1:34.308</td>\n",
       "      <td>1:32.106</td>\n",
       "      <td>1:33.112</td>\n",
       "    </tr>\n",
       "    <tr>\n",
       "      <th>3</th>\n",
       "      <td>12 Mar 2006</td>\n",
       "      <td>Bahrain</td>\n",
       "      <td>0</td>\n",
       "      <td>9</td>\n",
       "      <td>2006</td>\n",
       "      <td>3</td>\n",
       "      <td>Fernando Alonso</td>\n",
       "      <td>6</td>\n",
       "      <td>0</td>\n",
       "      <td>1:33.579</td>\n",
       "      <td>1:32.014</td>\n",
       "      <td>1:31.478</td>\n",
       "    </tr>\n",
       "    <tr>\n",
       "      <th>4</th>\n",
       "      <td>12 Mar 2006</td>\n",
       "      <td>Bahrain</td>\n",
       "      <td>4</td>\n",
       "      <td>5</td>\n",
       "      <td>2006</td>\n",
       "      <td>8</td>\n",
       "      <td>Fernando Alonso</td>\n",
       "      <td>4</td>\n",
       "      <td>4</td>\n",
       "      <td>1:33.233</td>\n",
       "      <td>1:31.487</td>\n",
       "      <td>1:32.164</td>\n",
       "    </tr>\n",
       "  </tbody>\n",
       "</table>\n",
       "</div>"
      ],
      "text/plain": [
       "          Date Grand Prix  StandingPoints  RacePosition  Year  \\\n",
       "0  12 Mar 2006    Bahrain              10             1  2006   \n",
       "1  12 Mar 2006    Bahrain               5             4  2006   \n",
       "2  12 Mar 2006    Bahrain               1             8  2006   \n",
       "3  12 Mar 2006    Bahrain               0             9  2006   \n",
       "4  12 Mar 2006    Bahrain               4             5  2006   \n",
       "\n",
       "   StandingPosition           Winner  No  PTS        Q1        Q2        Q3  \n",
       "0                 1  Fernando Alonso   1   10  1:32.433  1:31.215  1:31.702  \n",
       "1                 6  Fernando Alonso  12    5  1:32.603  1:32.025  1:31.549  \n",
       "2                18  Fernando Alonso  15    1  1:34.308  1:32.106  1:33.112  \n",
       "3                 3  Fernando Alonso   6    0  1:33.579  1:32.014  1:31.478  \n",
       "4                 8  Fernando Alonso   4    4  1:33.233  1:31.487  1:32.164  "
      ]
     },
     "execution_count": 284,
     "metadata": {},
     "output_type": "execute_result"
    }
   ],
   "source": [
    "df_1.head()"
   ]
  },
  {
   "cell_type": "code",
   "execution_count": 286,
   "metadata": {
    "colab": {
     "base_uri": "https://localhost:8080/"
    },
    "id": "zIThKJiVh9dq",
    "outputId": "3f7dc559-3876-4cd9-8eb7-630a8505e091"
   },
   "outputs": [
    {
     "data": {
      "text/plain": [
       "(Q1\n",
       " False    2172\n",
       " Name: count, dtype: int64,\n",
       " Q2\n",
       " False    2172\n",
       " Name: count, dtype: int64,\n",
       " Q3\n",
       " False    2137\n",
       " True       35\n",
       " Name: count, dtype: int64)"
      ]
     },
     "execution_count": 286,
     "metadata": {},
     "output_type": "execute_result"
    }
   ],
   "source": [
    "#Q1 Column\n",
    "(df_1['Q1'].isin(['DNC', 'DNS', 'DSQ','EXR','DNF','SHC'])).value_counts(),(df_1['Q2'].isin(['DNC', 'DNS', 'DSQ','EXR','DNF','SHC'])).value_counts(),(df_1['Q3'].isin(['DNC', 'DNS', 'DSQ','EXR','DNF','SHC'])).value_counts()"
   ]
  },
  {
   "cell_type": "code",
   "execution_count": 288,
   "metadata": {
    "id": "hn6g2tBLixjb"
   },
   "outputs": [],
   "source": [
    "# Q3 REPLACE :- value that means nothing\n",
    "df_1['Q3']=df_1['Q3'].replace({'DNC':'0','DNS':'0','DSQ':'0','EXR':'0','DNF':'0','SHC':'0'})"
   ]
  },
  {
   "cell_type": "code",
   "execution_count": 290,
   "metadata": {
    "colab": {
     "base_uri": "https://localhost:8080/"
    },
    "id": "f9N8HqpAi1aT",
    "outputId": "6d7833b8-20cc-4ce2-ffdd-1728d762b26a"
   },
   "outputs": [
    {
     "data": {
      "text/plain": [
       "Q3\n",
       "False    2172\n",
       "Name: count, dtype: int64"
      ]
     },
     "execution_count": 290,
     "metadata": {},
     "output_type": "execute_result"
    }
   ],
   "source": [
    "(df_1['Q3'].isin(['DNC', 'DNS', 'DSQ','EXR','DNF','SHC'])).value_counts()"
   ]
  },
  {
   "cell_type": "code",
   "execution_count": 292,
   "metadata": {
    "colab": {
     "base_uri": "https://localhost:8080/"
    },
    "id": "ftIS42W5wACz",
    "outputId": "b7712a96-6e36-4a3e-c9c0-87fecbf5e9e1"
   },
   "outputs": [
    {
     "name": "stdout",
     "output_type": "stream",
     "text": [
      "Null values in dataframe:  False\n"
     ]
    }
   ],
   "source": [
    "#PROBLEM: splitting lap time strings into format [min, sec, msec]\n",
    "\n",
    "\n",
    "def get_time_lst(df, col):\n",
    "\n",
    "    col_lst = df[col].str.split(pat=':|\\.').fillna(0)\n",
    "\n",
    "    return col_lst\n",
    "\n",
    "\n",
    "df_1['Q1_lst'] = get_time_lst(df_1, 'Q1')\n",
    "df_1['Q2_lst'] = get_time_lst(df_1, 'Q2')\n",
    "df_1['Q3_lst'] = get_time_lst(df_1, 'Q3')\n",
    "\n",
    "\n",
    "print(\"Null values in dataframe: \",df_1.isnull().values.any())"
   ]
  },
  {
   "cell_type": "code",
   "execution_count": 294,
   "metadata": {
    "colab": {
     "base_uri": "https://localhost:8080/",
     "height": 206
    },
    "id": "cKV0sDWry9Zf",
    "outputId": "de5b6e4b-a60d-4d98-dd97-f3cd84847f3d"
   },
   "outputs": [
    {
     "data": {
      "text/html": [
       "<div>\n",
       "<style scoped>\n",
       "    .dataframe tbody tr th:only-of-type {\n",
       "        vertical-align: middle;\n",
       "    }\n",
       "\n",
       "    .dataframe tbody tr th {\n",
       "        vertical-align: top;\n",
       "    }\n",
       "\n",
       "    .dataframe thead th {\n",
       "        text-align: right;\n",
       "    }\n",
       "</style>\n",
       "<table border=\"1\" class=\"dataframe\">\n",
       "  <thead>\n",
       "    <tr style=\"text-align: right;\">\n",
       "      <th></th>\n",
       "      <th>Date</th>\n",
       "      <th>Grand Prix</th>\n",
       "      <th>StandingPoints</th>\n",
       "      <th>RacePosition</th>\n",
       "      <th>Year</th>\n",
       "      <th>StandingPosition</th>\n",
       "      <th>Winner</th>\n",
       "      <th>No</th>\n",
       "      <th>PTS</th>\n",
       "      <th>Q1</th>\n",
       "      <th>Q2</th>\n",
       "      <th>Q3</th>\n",
       "      <th>Q1_lst</th>\n",
       "      <th>Q2_lst</th>\n",
       "      <th>Q3_lst</th>\n",
       "    </tr>\n",
       "  </thead>\n",
       "  <tbody>\n",
       "    <tr>\n",
       "      <th>0</th>\n",
       "      <td>12 Mar 2006</td>\n",
       "      <td>Bahrain</td>\n",
       "      <td>10</td>\n",
       "      <td>1</td>\n",
       "      <td>2006</td>\n",
       "      <td>1</td>\n",
       "      <td>Fernando Alonso</td>\n",
       "      <td>1</td>\n",
       "      <td>10</td>\n",
       "      <td>1:32.433</td>\n",
       "      <td>1:31.215</td>\n",
       "      <td>1:31.702</td>\n",
       "      <td>[1, 32, 433]</td>\n",
       "      <td>[1, 31, 215]</td>\n",
       "      <td>[1, 31, 702]</td>\n",
       "    </tr>\n",
       "    <tr>\n",
       "      <th>1</th>\n",
       "      <td>12 Mar 2006</td>\n",
       "      <td>Bahrain</td>\n",
       "      <td>5</td>\n",
       "      <td>4</td>\n",
       "      <td>2006</td>\n",
       "      <td>6</td>\n",
       "      <td>Fernando Alonso</td>\n",
       "      <td>12</td>\n",
       "      <td>5</td>\n",
       "      <td>1:32.603</td>\n",
       "      <td>1:32.025</td>\n",
       "      <td>1:31.549</td>\n",
       "      <td>[1, 32, 603]</td>\n",
       "      <td>[1, 32, 025]</td>\n",
       "      <td>[1, 31, 549]</td>\n",
       "    </tr>\n",
       "    <tr>\n",
       "      <th>2</th>\n",
       "      <td>12 Mar 2006</td>\n",
       "      <td>Bahrain</td>\n",
       "      <td>1</td>\n",
       "      <td>8</td>\n",
       "      <td>2006</td>\n",
       "      <td>18</td>\n",
       "      <td>Fernando Alonso</td>\n",
       "      <td>15</td>\n",
       "      <td>1</td>\n",
       "      <td>1:34.308</td>\n",
       "      <td>1:32.106</td>\n",
       "      <td>1:33.112</td>\n",
       "      <td>[1, 34, 308]</td>\n",
       "      <td>[1, 32, 106]</td>\n",
       "      <td>[1, 33, 112]</td>\n",
       "    </tr>\n",
       "    <tr>\n",
       "      <th>3</th>\n",
       "      <td>12 Mar 2006</td>\n",
       "      <td>Bahrain</td>\n",
       "      <td>0</td>\n",
       "      <td>9</td>\n",
       "      <td>2006</td>\n",
       "      <td>3</td>\n",
       "      <td>Fernando Alonso</td>\n",
       "      <td>6</td>\n",
       "      <td>0</td>\n",
       "      <td>1:33.579</td>\n",
       "      <td>1:32.014</td>\n",
       "      <td>1:31.478</td>\n",
       "      <td>[1, 33, 579]</td>\n",
       "      <td>[1, 32, 014]</td>\n",
       "      <td>[1, 31, 478]</td>\n",
       "    </tr>\n",
       "    <tr>\n",
       "      <th>4</th>\n",
       "      <td>12 Mar 2006</td>\n",
       "      <td>Bahrain</td>\n",
       "      <td>4</td>\n",
       "      <td>5</td>\n",
       "      <td>2006</td>\n",
       "      <td>8</td>\n",
       "      <td>Fernando Alonso</td>\n",
       "      <td>4</td>\n",
       "      <td>4</td>\n",
       "      <td>1:33.233</td>\n",
       "      <td>1:31.487</td>\n",
       "      <td>1:32.164</td>\n",
       "      <td>[1, 33, 233]</td>\n",
       "      <td>[1, 31, 487]</td>\n",
       "      <td>[1, 32, 164]</td>\n",
       "    </tr>\n",
       "  </tbody>\n",
       "</table>\n",
       "</div>"
      ],
      "text/plain": [
       "          Date Grand Prix  StandingPoints  RacePosition  Year  \\\n",
       "0  12 Mar 2006    Bahrain              10             1  2006   \n",
       "1  12 Mar 2006    Bahrain               5             4  2006   \n",
       "2  12 Mar 2006    Bahrain               1             8  2006   \n",
       "3  12 Mar 2006    Bahrain               0             9  2006   \n",
       "4  12 Mar 2006    Bahrain               4             5  2006   \n",
       "\n",
       "   StandingPosition           Winner  No  PTS        Q1        Q2        Q3  \\\n",
       "0                 1  Fernando Alonso   1   10  1:32.433  1:31.215  1:31.702   \n",
       "1                 6  Fernando Alonso  12    5  1:32.603  1:32.025  1:31.549   \n",
       "2                18  Fernando Alonso  15    1  1:34.308  1:32.106  1:33.112   \n",
       "3                 3  Fernando Alonso   6    0  1:33.579  1:32.014  1:31.478   \n",
       "4                 8  Fernando Alonso   4    4  1:33.233  1:31.487  1:32.164   \n",
       "\n",
       "         Q1_lst        Q2_lst        Q3_lst  \n",
       "0  [1, 32, 433]  [1, 31, 215]  [1, 31, 702]  \n",
       "1  [1, 32, 603]  [1, 32, 025]  [1, 31, 549]  \n",
       "2  [1, 34, 308]  [1, 32, 106]  [1, 33, 112]  \n",
       "3  [1, 33, 579]  [1, 32, 014]  [1, 31, 478]  \n",
       "4  [1, 33, 233]  [1, 31, 487]  [1, 32, 164]  "
      ]
     },
     "execution_count": 294,
     "metadata": {},
     "output_type": "execute_result"
    }
   ],
   "source": [
    "df_1.head()"
   ]
  },
  {
   "cell_type": "markdown",
   "metadata": {
    "id": "USQregtBjE4x"
   },
   "source": [
    "**Convert min to seconds for better calcuation**"
   ]
  },
  {
   "cell_type": "code",
   "execution_count": 297,
   "metadata": {
    "colab": {
     "base_uri": "https://localhost:8080/"
    },
    "id": "B4laAV88zBFC",
    "outputId": "5a5d0e07-999b-4fd6-8ae0-c30aee6c1b4a"
   },
   "outputs": [
    {
     "name": "stdout",
     "output_type": "stream",
     "text": [
      "Null values in dataframe (added q_Msec):  False\n"
     ]
    }
   ],
   "source": [
    "def convert_to_msec(time_lst):\n",
    "\n",
    "    if time_lst != 0 and len(time_lst) == 3:\n",
    "\n",
    "      return int(time_lst[0])*60000 + int(time_lst[1])*1000 + int(time_lst[2])\n",
    "\n",
    "    return 0\n",
    "\n",
    "df_1['q1Msec'] = df_1.apply(lambda x: convert_to_msec(x['Q1_lst']), axis=1)\n",
    "df_1['q2Msec'] = df_1.apply(lambda x: convert_to_msec(x['Q2_lst']), axis=1)\n",
    "df_1['q3Msec'] = df_1.apply(lambda x: convert_to_msec(x['Q3_lst']), axis=1)\n",
    "\n",
    "\n",
    "print(\"Null values in dataframe (added q_Msec): \",df_1.isnull().values.any())"
   ]
  },
  {
   "cell_type": "code",
   "execution_count": 299,
   "metadata": {
    "colab": {
     "base_uri": "https://localhost:8080/"
    },
    "id": "8LQ0sQHuzHqm",
    "outputId": "f5204bc0-a6bc-4131-e7d1-fb37f113a82d"
   },
   "outputs": [
    {
     "name": "stdout",
     "output_type": "stream",
     "text": [
      "Null values in dataframe (added maxPace):  False\n"
     ]
    }
   ],
   "source": [
    "#ADD: Max Pace in session\n",
    "\n",
    "df_1['maxPace'] = df_1.loc[:, ['q1Msec', 'q2Msec', 'q3Msec']].max(axis=1)\n",
    "\n",
    "print(\"Null values in dataframe (added maxPace): \",df_1.isnull().values.any())"
   ]
  },
  {
   "cell_type": "code",
   "execution_count": 301,
   "metadata": {
    "colab": {
     "base_uri": "https://localhost:8080/",
     "height": 397
    },
    "id": "zpjdVAlxzVWw",
    "outputId": "075ef55b-2beb-458a-8633-b596ae30bfe3"
   },
   "outputs": [
    {
     "data": {
      "text/html": [
       "<div>\n",
       "<style scoped>\n",
       "    .dataframe tbody tr th:only-of-type {\n",
       "        vertical-align: middle;\n",
       "    }\n",
       "\n",
       "    .dataframe tbody tr th {\n",
       "        vertical-align: top;\n",
       "    }\n",
       "\n",
       "    .dataframe thead th {\n",
       "        text-align: right;\n",
       "    }\n",
       "</style>\n",
       "<table border=\"1\" class=\"dataframe\">\n",
       "  <thead>\n",
       "    <tr style=\"text-align: right;\">\n",
       "      <th></th>\n",
       "      <th>Date</th>\n",
       "      <th>Grand Prix</th>\n",
       "      <th>StandingPoints</th>\n",
       "      <th>RacePosition</th>\n",
       "      <th>Year</th>\n",
       "      <th>StandingPosition</th>\n",
       "      <th>Winner</th>\n",
       "      <th>No</th>\n",
       "      <th>PTS</th>\n",
       "      <th>Q1</th>\n",
       "      <th>Q2</th>\n",
       "      <th>Q3</th>\n",
       "      <th>Q1_lst</th>\n",
       "      <th>Q2_lst</th>\n",
       "      <th>Q3_lst</th>\n",
       "      <th>q1Msec</th>\n",
       "      <th>q2Msec</th>\n",
       "      <th>q3Msec</th>\n",
       "      <th>maxPace</th>\n",
       "    </tr>\n",
       "  </thead>\n",
       "  <tbody>\n",
       "    <tr>\n",
       "      <th>0</th>\n",
       "      <td>12 Mar 2006</td>\n",
       "      <td>Bahrain</td>\n",
       "      <td>10</td>\n",
       "      <td>1</td>\n",
       "      <td>2006</td>\n",
       "      <td>1</td>\n",
       "      <td>Fernando Alonso</td>\n",
       "      <td>1</td>\n",
       "      <td>10</td>\n",
       "      <td>1:32.433</td>\n",
       "      <td>1:31.215</td>\n",
       "      <td>1:31.702</td>\n",
       "      <td>[1, 32, 433]</td>\n",
       "      <td>[1, 31, 215]</td>\n",
       "      <td>[1, 31, 702]</td>\n",
       "      <td>92433</td>\n",
       "      <td>91215</td>\n",
       "      <td>91702</td>\n",
       "      <td>92433</td>\n",
       "    </tr>\n",
       "    <tr>\n",
       "      <th>1</th>\n",
       "      <td>12 Mar 2006</td>\n",
       "      <td>Bahrain</td>\n",
       "      <td>5</td>\n",
       "      <td>4</td>\n",
       "      <td>2006</td>\n",
       "      <td>6</td>\n",
       "      <td>Fernando Alonso</td>\n",
       "      <td>12</td>\n",
       "      <td>5</td>\n",
       "      <td>1:32.603</td>\n",
       "      <td>1:32.025</td>\n",
       "      <td>1:31.549</td>\n",
       "      <td>[1, 32, 603]</td>\n",
       "      <td>[1, 32, 025]</td>\n",
       "      <td>[1, 31, 549]</td>\n",
       "      <td>92603</td>\n",
       "      <td>92025</td>\n",
       "      <td>91549</td>\n",
       "      <td>92603</td>\n",
       "    </tr>\n",
       "    <tr>\n",
       "      <th>2</th>\n",
       "      <td>12 Mar 2006</td>\n",
       "      <td>Bahrain</td>\n",
       "      <td>1</td>\n",
       "      <td>8</td>\n",
       "      <td>2006</td>\n",
       "      <td>18</td>\n",
       "      <td>Fernando Alonso</td>\n",
       "      <td>15</td>\n",
       "      <td>1</td>\n",
       "      <td>1:34.308</td>\n",
       "      <td>1:32.106</td>\n",
       "      <td>1:33.112</td>\n",
       "      <td>[1, 34, 308]</td>\n",
       "      <td>[1, 32, 106]</td>\n",
       "      <td>[1, 33, 112]</td>\n",
       "      <td>94308</td>\n",
       "      <td>92106</td>\n",
       "      <td>93112</td>\n",
       "      <td>94308</td>\n",
       "    </tr>\n",
       "    <tr>\n",
       "      <th>3</th>\n",
       "      <td>12 Mar 2006</td>\n",
       "      <td>Bahrain</td>\n",
       "      <td>0</td>\n",
       "      <td>9</td>\n",
       "      <td>2006</td>\n",
       "      <td>3</td>\n",
       "      <td>Fernando Alonso</td>\n",
       "      <td>6</td>\n",
       "      <td>0</td>\n",
       "      <td>1:33.579</td>\n",
       "      <td>1:32.014</td>\n",
       "      <td>1:31.478</td>\n",
       "      <td>[1, 33, 579]</td>\n",
       "      <td>[1, 32, 014]</td>\n",
       "      <td>[1, 31, 478]</td>\n",
       "      <td>93579</td>\n",
       "      <td>92014</td>\n",
       "      <td>91478</td>\n",
       "      <td>93579</td>\n",
       "    </tr>\n",
       "    <tr>\n",
       "      <th>4</th>\n",
       "      <td>12 Mar 2006</td>\n",
       "      <td>Bahrain</td>\n",
       "      <td>4</td>\n",
       "      <td>5</td>\n",
       "      <td>2006</td>\n",
       "      <td>8</td>\n",
       "      <td>Fernando Alonso</td>\n",
       "      <td>4</td>\n",
       "      <td>4</td>\n",
       "      <td>1:33.233</td>\n",
       "      <td>1:31.487</td>\n",
       "      <td>1:32.164</td>\n",
       "      <td>[1, 33, 233]</td>\n",
       "      <td>[1, 31, 487]</td>\n",
       "      <td>[1, 32, 164]</td>\n",
       "      <td>93233</td>\n",
       "      <td>91487</td>\n",
       "      <td>92164</td>\n",
       "      <td>93233</td>\n",
       "    </tr>\n",
       "  </tbody>\n",
       "</table>\n",
       "</div>"
      ],
      "text/plain": [
       "          Date Grand Prix  StandingPoints  RacePosition  Year  \\\n",
       "0  12 Mar 2006    Bahrain              10             1  2006   \n",
       "1  12 Mar 2006    Bahrain               5             4  2006   \n",
       "2  12 Mar 2006    Bahrain               1             8  2006   \n",
       "3  12 Mar 2006    Bahrain               0             9  2006   \n",
       "4  12 Mar 2006    Bahrain               4             5  2006   \n",
       "\n",
       "   StandingPosition           Winner  No  PTS        Q1        Q2        Q3  \\\n",
       "0                 1  Fernando Alonso   1   10  1:32.433  1:31.215  1:31.702   \n",
       "1                 6  Fernando Alonso  12    5  1:32.603  1:32.025  1:31.549   \n",
       "2                18  Fernando Alonso  15    1  1:34.308  1:32.106  1:33.112   \n",
       "3                 3  Fernando Alonso   6    0  1:33.579  1:32.014  1:31.478   \n",
       "4                 8  Fernando Alonso   4    4  1:33.233  1:31.487  1:32.164   \n",
       "\n",
       "         Q1_lst        Q2_lst        Q3_lst  q1Msec  q2Msec  q3Msec  maxPace  \n",
       "0  [1, 32, 433]  [1, 31, 215]  [1, 31, 702]   92433   91215   91702    92433  \n",
       "1  [1, 32, 603]  [1, 32, 025]  [1, 31, 549]   92603   92025   91549    92603  \n",
       "2  [1, 34, 308]  [1, 32, 106]  [1, 33, 112]   94308   92106   93112    94308  \n",
       "3  [1, 33, 579]  [1, 32, 014]  [1, 31, 478]   93579   92014   91478    93579  \n",
       "4  [1, 33, 233]  [1, 31, 487]  [1, 32, 164]   93233   91487   92164    93233  "
      ]
     },
     "execution_count": 301,
     "metadata": {},
     "output_type": "execute_result"
    }
   ],
   "source": [
    "df_1.head()"
   ]
  },
  {
   "cell_type": "code",
   "execution_count": 303,
   "metadata": {
    "colab": {
     "base_uri": "https://localhost:8080/",
     "height": 380
    },
    "id": "dqgfffT-zXgb",
    "outputId": "e591b359-04a2-4443-8e6e-685dabfe3cb9"
   },
   "outputs": [
    {
     "name": "stdout",
     "output_type": "stream",
     "text": [
      "Null values in dataframe (added meanPace):  True\n",
      "Null values in dataframe (After removing):  False\n"
     ]
    }
   ],
   "source": [
    "#ADD: Mean Pace per session\n",
    "\n",
    "df_1['meanPace'] = df_1.loc[:, ['q1Msec', 'q2Msec', 'q3Msec']].sum(axis=1) / (df_1.loc[:, ['q1Msec', 'q2Msec', 'q3Msec']] != 0).sum(axis=1)\n",
    "\n",
    "print(\"Null values in dataframe (added meanPace): \",df_1.isnull().values.any())\n",
    "\n",
    "df_1= df_1.drop(['Q1_lst', 'Q2_lst', 'Q3_lst', 'Q1', 'Q2', 'Q3'], axis = 1)\n",
    "\n",
    "df_1= df_1[df_1['meanPace'].notna()]\n",
    "\n",
    "print(\"Null values in dataframe (After removing): \",df_1.isnull().values.any())\n"
   ]
  },
  {
   "cell_type": "markdown",
   "metadata": {
    "id": "VBZMrHeE6-vy"
   },
   "source": [
    "# **Checking the outliers and correlations**\n",
    "\n",
    "---\n",
    "\n"
   ]
  },
  {
   "cell_type": "code",
   "execution_count": 306,
   "metadata": {
    "colab": {
     "base_uri": "https://localhost:8080/",
     "height": 206
    },
    "id": "aw_vutexHN3U",
    "outputId": "0792a401-3f29-4270-8493-9dbbb8173c6f"
   },
   "outputs": [
    {
     "data": {
      "text/html": [
       "<div>\n",
       "<style scoped>\n",
       "    .dataframe tbody tr th:only-of-type {\n",
       "        vertical-align: middle;\n",
       "    }\n",
       "\n",
       "    .dataframe tbody tr th {\n",
       "        vertical-align: top;\n",
       "    }\n",
       "\n",
       "    .dataframe thead th {\n",
       "        text-align: right;\n",
       "    }\n",
       "</style>\n",
       "<table border=\"1\" class=\"dataframe\">\n",
       "  <thead>\n",
       "    <tr style=\"text-align: right;\">\n",
       "      <th></th>\n",
       "      <th>Date</th>\n",
       "      <th>Grand Prix</th>\n",
       "      <th>StandingPoints</th>\n",
       "      <th>RacePosition</th>\n",
       "      <th>Year</th>\n",
       "      <th>StandingPosition</th>\n",
       "      <th>Winner</th>\n",
       "      <th>No</th>\n",
       "      <th>PTS</th>\n",
       "      <th>q1Msec</th>\n",
       "      <th>q2Msec</th>\n",
       "      <th>q3Msec</th>\n",
       "      <th>maxPace</th>\n",
       "      <th>meanPace</th>\n",
       "    </tr>\n",
       "  </thead>\n",
       "  <tbody>\n",
       "    <tr>\n",
       "      <th>0</th>\n",
       "      <td>12 Mar 2006</td>\n",
       "      <td>Bahrain</td>\n",
       "      <td>10</td>\n",
       "      <td>1</td>\n",
       "      <td>2006</td>\n",
       "      <td>1</td>\n",
       "      <td>Fernando Alonso</td>\n",
       "      <td>1</td>\n",
       "      <td>10</td>\n",
       "      <td>92433</td>\n",
       "      <td>91215</td>\n",
       "      <td>91702</td>\n",
       "      <td>92433</td>\n",
       "      <td>91783.333333</td>\n",
       "    </tr>\n",
       "    <tr>\n",
       "      <th>1</th>\n",
       "      <td>12 Mar 2006</td>\n",
       "      <td>Bahrain</td>\n",
       "      <td>5</td>\n",
       "      <td>4</td>\n",
       "      <td>2006</td>\n",
       "      <td>6</td>\n",
       "      <td>Fernando Alonso</td>\n",
       "      <td>12</td>\n",
       "      <td>5</td>\n",
       "      <td>92603</td>\n",
       "      <td>92025</td>\n",
       "      <td>91549</td>\n",
       "      <td>92603</td>\n",
       "      <td>92059.000000</td>\n",
       "    </tr>\n",
       "    <tr>\n",
       "      <th>2</th>\n",
       "      <td>12 Mar 2006</td>\n",
       "      <td>Bahrain</td>\n",
       "      <td>1</td>\n",
       "      <td>8</td>\n",
       "      <td>2006</td>\n",
       "      <td>18</td>\n",
       "      <td>Fernando Alonso</td>\n",
       "      <td>15</td>\n",
       "      <td>1</td>\n",
       "      <td>94308</td>\n",
       "      <td>92106</td>\n",
       "      <td>93112</td>\n",
       "      <td>94308</td>\n",
       "      <td>93175.333333</td>\n",
       "    </tr>\n",
       "    <tr>\n",
       "      <th>3</th>\n",
       "      <td>12 Mar 2006</td>\n",
       "      <td>Bahrain</td>\n",
       "      <td>0</td>\n",
       "      <td>9</td>\n",
       "      <td>2006</td>\n",
       "      <td>3</td>\n",
       "      <td>Fernando Alonso</td>\n",
       "      <td>6</td>\n",
       "      <td>0</td>\n",
       "      <td>93579</td>\n",
       "      <td>92014</td>\n",
       "      <td>91478</td>\n",
       "      <td>93579</td>\n",
       "      <td>92357.000000</td>\n",
       "    </tr>\n",
       "    <tr>\n",
       "      <th>4</th>\n",
       "      <td>12 Mar 2006</td>\n",
       "      <td>Bahrain</td>\n",
       "      <td>4</td>\n",
       "      <td>5</td>\n",
       "      <td>2006</td>\n",
       "      <td>8</td>\n",
       "      <td>Fernando Alonso</td>\n",
       "      <td>4</td>\n",
       "      <td>4</td>\n",
       "      <td>93233</td>\n",
       "      <td>91487</td>\n",
       "      <td>92164</td>\n",
       "      <td>93233</td>\n",
       "      <td>92294.666667</td>\n",
       "    </tr>\n",
       "  </tbody>\n",
       "</table>\n",
       "</div>"
      ],
      "text/plain": [
       "          Date Grand Prix  StandingPoints  RacePosition  Year  \\\n",
       "0  12 Mar 2006    Bahrain              10             1  2006   \n",
       "1  12 Mar 2006    Bahrain               5             4  2006   \n",
       "2  12 Mar 2006    Bahrain               1             8  2006   \n",
       "3  12 Mar 2006    Bahrain               0             9  2006   \n",
       "4  12 Mar 2006    Bahrain               4             5  2006   \n",
       "\n",
       "   StandingPosition           Winner  No  PTS  q1Msec  q2Msec  q3Msec  \\\n",
       "0                 1  Fernando Alonso   1   10   92433   91215   91702   \n",
       "1                 6  Fernando Alonso  12    5   92603   92025   91549   \n",
       "2                18  Fernando Alonso  15    1   94308   92106   93112   \n",
       "3                 3  Fernando Alonso   6    0   93579   92014   91478   \n",
       "4                 8  Fernando Alonso   4    4   93233   91487   92164   \n",
       "\n",
       "   maxPace      meanPace  \n",
       "0    92433  91783.333333  \n",
       "1    92603  92059.000000  \n",
       "2    94308  93175.333333  \n",
       "3    93579  92357.000000  \n",
       "4    93233  92294.666667  "
      ]
     },
     "execution_count": 306,
     "metadata": {},
     "output_type": "execute_result"
    }
   ],
   "source": [
    "df_1.head()"
   ]
  },
  {
   "cell_type": "code",
   "execution_count": 308,
   "metadata": {
    "colab": {
     "base_uri": "https://localhost:8080/"
    },
    "id": "5RjRiWx1PqLT",
    "outputId": "f63e3d6d-31b8-486c-f3d6-5aaa5eb5e618"
   },
   "outputs": [
    {
     "data": {
      "text/plain": [
       "(2164, 14)"
      ]
     },
     "execution_count": 308,
     "metadata": {},
     "output_type": "execute_result"
    }
   ],
   "source": [
    "df_1.shape"
   ]
  },
  {
   "cell_type": "code",
   "execution_count": 310,
   "metadata": {
    "colab": {
     "base_uri": "https://localhost:8080/"
    },
    "id": "X3kko-a-7wIn",
    "outputId": "394d7650-8c05-412c-8cbe-6be0ff88b051"
   },
   "outputs": [
    {
     "name": "stdout",
     "output_type": "stream",
     "text": [
      "<class 'pandas.core.frame.DataFrame'>\n",
      "Index: 2164 entries, 0 to 2171\n",
      "Data columns (total 14 columns):\n",
      " #   Column            Non-Null Count  Dtype  \n",
      "---  ------            --------------  -----  \n",
      " 0   Date              2164 non-null   object \n",
      " 1   Grand Prix        2164 non-null   object \n",
      " 2   StandingPoints    2164 non-null   int64  \n",
      " 3   RacePosition      2164 non-null   int64  \n",
      " 4   Year              2164 non-null   int64  \n",
      " 5   StandingPosition  2164 non-null   int64  \n",
      " 6   Winner            2164 non-null   object \n",
      " 7   No                2164 non-null   int64  \n",
      " 8   PTS               2164 non-null   int64  \n",
      " 9   q1Msec            2164 non-null   int64  \n",
      " 10  q2Msec            2164 non-null   int64  \n",
      " 11  q3Msec            2164 non-null   int64  \n",
      " 12  maxPace           2164 non-null   int64  \n",
      " 13  meanPace          2164 non-null   float64\n",
      "dtypes: float64(1), int64(10), object(3)\n",
      "memory usage: 253.6+ KB\n"
     ]
    }
   ],
   "source": [
    "df_1.info()"
   ]
  },
  {
   "cell_type": "code",
   "execution_count": 312,
   "metadata": {
    "id": "dehYD8vH_U-W"
   },
   "outputs": [],
   "source": [
    "# type casting:-\n",
    "df_1.meanPace = df_1.meanPace.astype('int64')"
   ]
  },
  {
   "cell_type": "code",
   "execution_count": 314,
   "metadata": {
    "colab": {
     "base_uri": "https://localhost:8080/"
    },
    "id": "XUSt70Bu8rFK",
    "outputId": "3d7951c9-4663-4dc2-ca7d-f03a2f0cb712"
   },
   "outputs": [
    {
     "data": {
      "text/plain": [
       "(2164, 14)"
      ]
     },
     "execution_count": 314,
     "metadata": {},
     "output_type": "execute_result"
    }
   ],
   "source": [
    "df_1.shape"
   ]
  },
  {
   "cell_type": "code",
   "execution_count": 316,
   "metadata": {
    "id": "PK5ZLeDh0Hx4"
   },
   "outputs": [],
   "source": [
    "import matplotlib.pyplot as plt\n",
    "import seaborn as sns"
   ]
  },
  {
   "cell_type": "code",
   "execution_count": 318,
   "metadata": {
    "colab": {
     "base_uri": "https://localhost:8080/",
     "height": 462
    },
    "id": "xOnhevkb7Ccr",
    "outputId": "f3bc3a80-8f0d-4a38-a09d-56bb4f4853de"
   },
   "outputs": [
    {
     "data": {
      "text/plain": [
       "<Axes: >"
      ]
     },
     "execution_count": 318,
     "metadata": {},
     "output_type": "execute_result"
    },
    {
     "data": {
      "image/png": "[encoded data removed]",
      "text/plain": [
       "<Figure size 1400x500 with 1 Axes>"
      ]
     },
     "metadata": {},
     "output_type": "display_data"
    }
   ],
   "source": [
    "plt.figure(figsize=(14,5))\n",
    "sns.boxplot(df_1)"
   ]
  },
  {
   "cell_type": "markdown",
   "metadata": {
    "id": "ZFFEUyqFIzF6"
   },
   "source": [
    "not able to comprehend whether outliears are present. Every column needs to be examined."
   ]
  },
  {
   "cell_type": "code",
   "execution_count": 321,
   "metadata": {
    "colab": {
     "base_uri": "https://localhost:8080/",
     "height": 1000
    },
    "id": "gvfyT2Nb7D7U",
    "outputId": "674558c3-93e6-4e30-f628-944684c5c45b"
   },
   "outputs": [
    {
     "data": {
      "text/plain": [
       "StandingPoints         Axes(0.125,0.653529;0.133621x0.226471)\n",
       "RacePosition        Axes(0.285345,0.653529;0.133621x0.226471)\n",
       "Year                 Axes(0.44569,0.653529;0.133621x0.226471)\n",
       "StandingPosition    Axes(0.606034,0.653529;0.133621x0.226471)\n",
       "No                  Axes(0.766379,0.653529;0.133621x0.226471)\n",
       "PTS                    Axes(0.125,0.381765;0.133621x0.226471)\n",
       "q1Msec              Axes(0.285345,0.381765;0.133621x0.226471)\n",
       "q2Msec               Axes(0.44569,0.381765;0.133621x0.226471)\n",
       "q3Msec              Axes(0.606034,0.381765;0.133621x0.226471)\n",
       "maxPace             Axes(0.766379,0.381765;0.133621x0.226471)\n",
       "meanPace                   Axes(0.125,0.11;0.133621x0.226471)\n",
       "dtype: object"
      ]
     },
     "execution_count": 321,
     "metadata": {},
     "output_type": "execute_result"
    },
    {
     "data": {
      "image/png": "[encoded data removed]",
      "text/plain": [
       "<Figure size 1000x1000 with 15 Axes>"
      ]
     },
     "metadata": {},
     "output_type": "display_data"
    }
   ],
   "source": [
    "df_1.plot(kind=\"box\", subplots=True, layout=(3,5), figsize=(10,10))"
   ]
  },
  {
   "cell_type": "markdown",
   "metadata": {
    "id": "n-oYY1IjG9z3"
   },
   "source": [
    "cannot remove any leftover outliers; those outliers may be ignored"
   ]
  },
  {
   "cell_type": "code",
   "execution_count": 323,
   "metadata": {
    "colab": {
     "base_uri": "https://localhost:8080/",
     "height": 394
    },
    "id": "lc-Kz_ne7KV1",
    "outputId": "a697e65a-75de-41b1-d4bb-9d5935e530b0"
   },
   "outputs": [
    {
     "data": {
      "text/html": [
       "<div>\n",
       "<style scoped>\n",
       "    .dataframe tbody tr th:only-of-type {\n",
       "        vertical-align: middle;\n",
       "    }\n",
       "\n",
       "    .dataframe tbody tr th {\n",
       "        vertical-align: top;\n",
       "    }\n",
       "\n",
       "    .dataframe thead th {\n",
       "        text-align: right;\n",
       "    }\n",
       "</style>\n",
       "<table border=\"1\" class=\"dataframe\">\n",
       "  <thead>\n",
       "    <tr style=\"text-align: right;\">\n",
       "      <th></th>\n",
       "      <th>StandingPoints</th>\n",
       "      <th>RacePosition</th>\n",
       "      <th>Year</th>\n",
       "      <th>StandingPosition</th>\n",
       "      <th>No</th>\n",
       "      <th>PTS</th>\n",
       "      <th>q1Msec</th>\n",
       "      <th>q2Msec</th>\n",
       "      <th>q3Msec</th>\n",
       "      <th>maxPace</th>\n",
       "      <th>meanPace</th>\n",
       "    </tr>\n",
       "  </thead>\n",
       "  <tbody>\n",
       "    <tr>\n",
       "      <th>StandingPoints</th>\n",
       "      <td>1.000000</td>\n",
       "      <td>-0.823108</td>\n",
       "      <td>0.305428</td>\n",
       "      <td>-0.576464</td>\n",
       "      <td>0.152084</td>\n",
       "      <td>0.997824</td>\n",
       "      <td>-0.067097</td>\n",
       "      <td>-0.077421</td>\n",
       "      <td>-0.011061</td>\n",
       "      <td>-0.072857</td>\n",
       "      <td>-0.082711</td>\n",
       "    </tr>\n",
       "    <tr>\n",
       "      <th>RacePosition</th>\n",
       "      <td>-0.823108</td>\n",
       "      <td>1.000000</td>\n",
       "      <td>-0.028658</td>\n",
       "      <td>0.611428</td>\n",
       "      <td>-0.049174</td>\n",
       "      <td>-0.825475</td>\n",
       "      <td>0.113296</td>\n",
       "      <td>0.120704</td>\n",
       "      <td>0.002513</td>\n",
       "      <td>0.115478</td>\n",
       "      <td>0.123062</td>\n",
       "    </tr>\n",
       "    <tr>\n",
       "      <th>Year</th>\n",
       "      <td>0.305428</td>\n",
       "      <td>-0.028658</td>\n",
       "      <td>1.000000</td>\n",
       "      <td>-0.044867</td>\n",
       "      <td>0.439690</td>\n",
       "      <td>0.298322</td>\n",
       "      <td>-0.068381</td>\n",
       "      <td>-0.075700</td>\n",
       "      <td>-0.056329</td>\n",
       "      <td>-0.076595</td>\n",
       "      <td>-0.080062</td>\n",
       "    </tr>\n",
       "    <tr>\n",
       "      <th>StandingPosition</th>\n",
       "      <td>-0.576464</td>\n",
       "      <td>0.611428</td>\n",
       "      <td>-0.044867</td>\n",
       "      <td>1.000000</td>\n",
       "      <td>-0.087972</td>\n",
       "      <td>-0.576983</td>\n",
       "      <td>0.083504</td>\n",
       "      <td>0.095200</td>\n",
       "      <td>0.035129</td>\n",
       "      <td>0.095419</td>\n",
       "      <td>0.099173</td>\n",
       "    </tr>\n",
       "    <tr>\n",
       "      <th>No</th>\n",
       "      <td>0.152084</td>\n",
       "      <td>-0.049174</td>\n",
       "      <td>0.439690</td>\n",
       "      <td>-0.087972</td>\n",
       "      <td>1.000000</td>\n",
       "      <td>0.149820</td>\n",
       "      <td>-0.070364</td>\n",
       "      <td>-0.071118</td>\n",
       "      <td>-0.043027</td>\n",
       "      <td>-0.075891</td>\n",
       "      <td>-0.073520</td>\n",
       "    </tr>\n",
       "    <tr>\n",
       "      <th>PTS</th>\n",
       "      <td>0.997824</td>\n",
       "      <td>-0.825475</td>\n",
       "      <td>0.298322</td>\n",
       "      <td>-0.576983</td>\n",
       "      <td>0.149820</td>\n",
       "      <td>1.000000</td>\n",
       "      <td>-0.060030</td>\n",
       "      <td>-0.070023</td>\n",
       "      <td>-0.006281</td>\n",
       "      <td>-0.067139</td>\n",
       "      <td>-0.075998</td>\n",
       "    </tr>\n",
       "    <tr>\n",
       "      <th>q1Msec</th>\n",
       "      <td>-0.067097</td>\n",
       "      <td>0.113296</td>\n",
       "      <td>-0.068381</td>\n",
       "      <td>0.083504</td>\n",
       "      <td>-0.070364</td>\n",
       "      <td>-0.060030</td>\n",
       "      <td>1.000000</td>\n",
       "      <td>0.980931</td>\n",
       "      <td>0.698180</td>\n",
       "      <td>0.978488</td>\n",
       "      <td>0.989128</td>\n",
       "    </tr>\n",
       "    <tr>\n",
       "      <th>q2Msec</th>\n",
       "      <td>-0.077421</td>\n",
       "      <td>0.120704</td>\n",
       "      <td>-0.075700</td>\n",
       "      <td>0.095200</td>\n",
       "      <td>-0.071118</td>\n",
       "      <td>-0.070023</td>\n",
       "      <td>0.980931</td>\n",
       "      <td>1.000000</td>\n",
       "      <td>0.714188</td>\n",
       "      <td>0.982596</td>\n",
       "      <td>0.995609</td>\n",
       "    </tr>\n",
       "    <tr>\n",
       "      <th>q3Msec</th>\n",
       "      <td>-0.011061</td>\n",
       "      <td>0.002513</td>\n",
       "      <td>-0.056329</td>\n",
       "      <td>0.035129</td>\n",
       "      <td>-0.043027</td>\n",
       "      <td>-0.006281</td>\n",
       "      <td>0.698180</td>\n",
       "      <td>0.714188</td>\n",
       "      <td>1.000000</td>\n",
       "      <td>0.722147</td>\n",
       "      <td>0.719612</td>\n",
       "    </tr>\n",
       "    <tr>\n",
       "      <th>maxPace</th>\n",
       "      <td>-0.072857</td>\n",
       "      <td>0.115478</td>\n",
       "      <td>-0.076595</td>\n",
       "      <td>0.095419</td>\n",
       "      <td>-0.075891</td>\n",
       "      <td>-0.067139</td>\n",
       "      <td>0.978488</td>\n",
       "      <td>0.982596</td>\n",
       "      <td>0.722147</td>\n",
       "      <td>1.000000</td>\n",
       "      <td>0.991309</td>\n",
       "    </tr>\n",
       "    <tr>\n",
       "      <th>meanPace</th>\n",
       "      <td>-0.082711</td>\n",
       "      <td>0.123062</td>\n",
       "      <td>-0.080062</td>\n",
       "      <td>0.099173</td>\n",
       "      <td>-0.073520</td>\n",
       "      <td>-0.075998</td>\n",
       "      <td>0.989128</td>\n",
       "      <td>0.995609</td>\n",
       "      <td>0.719612</td>\n",
       "      <td>0.991309</td>\n",
       "      <td>1.000000</td>\n",
       "    </tr>\n",
       "  </tbody>\n",
       "</table>\n",
       "</div>"
      ],
      "text/plain": [
       "                  StandingPoints  RacePosition      Year  StandingPosition  \\\n",
       "StandingPoints          1.000000     -0.823108  0.305428         -0.576464   \n",
       "RacePosition           -0.823108      1.000000 -0.028658          0.611428   \n",
       "Year                    0.305428     -0.028658  1.000000         -0.044867   \n",
       "StandingPosition       -0.576464      0.611428 -0.044867          1.000000   \n",
       "No                      0.152084     -0.049174  0.439690         -0.087972   \n",
       "PTS                     0.997824     -0.825475  0.298322         -0.576983   \n",
       "q1Msec                 -0.067097      0.113296 -0.068381          0.083504   \n",
       "q2Msec                 -0.077421      0.120704 -0.075700          0.095200   \n",
       "q3Msec                 -0.011061      0.002513 -0.056329          0.035129   \n",
       "maxPace                -0.072857      0.115478 -0.076595          0.095419   \n",
       "meanPace               -0.082711      0.123062 -0.080062          0.099173   \n",
       "\n",
       "                        No       PTS    q1Msec    q2Msec    q3Msec   maxPace  \\\n",
       "StandingPoints    0.152084  0.997824 -0.067097 -0.077421 -0.011061 -0.072857   \n",
       "RacePosition     -0.049174 -0.825475  0.113296  0.120704  0.002513  0.115478   \n",
       "Year              0.439690  0.298322 -0.068381 -0.075700 -0.056329 -0.076595   \n",
       "StandingPosition -0.087972 -0.576983  0.083504  0.095200  0.035129  0.095419   \n",
       "No                1.000000  0.149820 -0.070364 -0.071118 -0.043027 -0.075891   \n",
       "PTS               0.149820  1.000000 -0.060030 -0.070023 -0.006281 -0.067139   \n",
       "q1Msec           -0.070364 -0.060030  1.000000  0.980931  0.698180  0.978488   \n",
       "q2Msec           -0.071118 -0.070023  0.980931  1.000000  0.714188  0.982596   \n",
       "q3Msec           -0.043027 -0.006281  0.698180  0.714188  1.000000  0.722147   \n",
       "maxPace          -0.075891 -0.067139  0.978488  0.982596  0.722147  1.000000   \n",
       "meanPace         -0.073520 -0.075998  0.989128  0.995609  0.719612  0.991309   \n",
       "\n",
       "                  meanPace  \n",
       "StandingPoints   -0.082711  \n",
       "RacePosition      0.123062  \n",
       "Year             -0.080062  \n",
       "StandingPosition  0.099173  \n",
       "No               -0.073520  \n",
       "PTS              -0.075998  \n",
       "q1Msec            0.989128  \n",
       "q2Msec            0.995609  \n",
       "q3Msec            0.719612  \n",
       "maxPace           0.991309  \n",
       "meanPace          1.000000  "
      ]
     },
     "execution_count": 323,
     "metadata": {},
     "output_type": "execute_result"
    }
   ],
   "source": [
    "# Select only numeric columns for correlation calculation\n",
    "numeric_df = df_1.select_dtypes(include=['number'])\n",
    "numeric_df.corr()"
   ]
  },
  {
   "cell_type": "code",
   "execution_count": 324,
   "metadata": {
    "colab": {
     "base_uri": "https://localhost:8080/",
     "height": 570
    },
    "id": "2QUDOfnY7Tdy",
    "outputId": "83b230ba-134c-4404-cb25-ebd3f73d9e55"
   },
   "outputs": [
    {
     "data": {
      "text/plain": [
       "<Axes: >"
      ]
     },
     "execution_count": 324,
     "metadata": {},
     "output_type": "execute_result"
    },
    {
     "data": {
      "image/png": "[encoded data removed]",
      "text/plain": [
       "<Figure size 1300x500 with 2 Axes>"
      ]
     },
     "metadata": {},
     "output_type": "display_data"
    }
   ],
   "source": [
    "plt.figure(figsize=(13, 5))\n",
    "sns.heatmap(numeric_df.corr(), annot=True, linewidth=5, linecolor='white')"
   ]
  },
  {
   "cell_type": "markdown",
   "metadata": {
    "id": "WFpTGvFY6Xox"
   },
   "source": [
    "# Top 10 winner visualization report"
   ]
  },
  {
   "cell_type": "code",
   "execution_count": 328,
   "metadata": {
    "colab": {
     "base_uri": "https://localhost:8080/",
     "height": 489
    },
    "id": "MB8gc2GZ_9pW",
    "outputId": "6faa9655-83fa-4894-fbd7-54b319032bb1"
   },
   "outputs": [
    {
     "data": {
      "text/plain": [
       "Text(0.5, 0, 'Number of GP wins')"
      ]
     },
     "execution_count": 328,
     "metadata": {},
     "output_type": "execute_result"
    },
    {
     "data": {
      "image/png": "[encoded data removed]",
      "text/plain": [
       "<Figure size 640x480 with 1 Axes>"
      ]
     },
     "metadata": {},
     "output_type": "display_data"
    }
   ],
   "source": [
    "# Assuming 'df' and 'df_1' should be the same DataFrame # RacePosition\n",
    "driver_winner = df_1.loc[df_1['RacePosition']==1].groupby('Winner')['RacePosition'].count().sort_values(ascending=False).to_frame()\n",
    "top10drivers = driver_winner.head(10)\n",
    "ax=sns.barplot(data=top10drivers,y='Winner',x='RacePosition',color='red',alpha=0.8,linewidth=.8,edgecolor='black')\n",
    "ax.bar_label(ax.containers[0], fontsize=9);\n",
    "plt.title('Top 10 Most car in F1')\n",
    "plt.ylabel('Driver Name')\n",
    "plt.xlabel('Number of GP wins')"
   ]
  },
  {
   "cell_type": "markdown",
   "metadata": {
    "id": "QZqr7ngJHnQc"
   },
   "source": [
    "This visualisation displays the driver with the top 10 race victories between 2006 and 2022."
   ]
  },
  {
   "cell_type": "markdown",
   "metadata": {
    "id": "6SalWphX_pQd"
   },
   "source": [
    "# Top 5 winner visualization report"
   ]
  },
  {
   "cell_type": "code",
   "execution_count": 332,
   "metadata": {
    "colab": {
     "base_uri": "https://localhost:8080/",
     "height": 489
    },
    "id": "D9gVkMMWDVOn",
    "outputId": "28517337-ed17-4484-9af4-cb03de8cbb9d"
   },
   "outputs": [
    {
     "data": {
      "text/plain": [
       "Text(0.5, 0, 'Number of GP wins')"
      ]
     },
     "execution_count": 332,
     "metadata": {},
     "output_type": "execute_result"
    },
    {
     "data": {
      "image/png": "[encoded data removed]",
      "text/plain": [
       "<Figure size 640x480 with 1 Axes>"
      ]
     },
     "metadata": {},
     "output_type": "display_data"
    }
   ],
   "source": [
    "driver_winner = df_1.loc[df_1['RacePosition']==1].groupby('Winner')['RacePosition'].count().sort_values(ascending=False).to_frame()\n",
    "top5drivers = driver_winner.head(5)\n",
    "ax=sns.barplot(data=top5drivers,y='Winner',x='RacePosition',color='yellow',alpha=0.8,linewidth=.8,edgecolor='black')\n",
    "ax.bar_label(ax.containers[0], fontsize=10);\n",
    "plt.title('Top 10 Most car in F1')\n",
    "plt.ylabel('Driver Name')\n",
    "plt.xlabel('Number of GP wins')"
   ]
  },
  {
   "cell_type": "markdown",
   "metadata": {
    "id": "K7WVEvm8IIsL"
   },
   "source": [
    "This visualisation displays the driver with the top 5 race victories between 2006 and 2022."
   ]
  },
  {
   "cell_type": "code",
   "execution_count": 340,
   "metadata": {
    "colab": {
     "base_uri": "https://localhost:8080/"
    },
    "id": "z81anQtp_hJU",
    "outputId": "7d4855f5-80a3-4178-9552-ba0b509ef1ae"
   },
   "outputs": [
    {
     "data": {
      "text/plain": [
       "Index(['Date', 'Grand Prix', 'StandingPoints', 'RacePosition', 'Year',\n",
       "       'StandingPosition', 'Winner', 'No', 'PTS', 'q1Msec', 'q2Msec', 'q3Msec',\n",
       "       'maxPace', 'meanPace'],\n",
       "      dtype='object')"
      ]
     },
     "execution_count": 340,
     "metadata": {},
     "output_type": "execute_result"
    }
   ],
   "source": [
    "df_1.columns"
   ]
  },
  {
   "cell_type": "code",
   "execution_count": 342,
   "metadata": {
    "colab": {
     "base_uri": "https://localhost:8080/",
     "height": 206
    },
    "id": "1Xl-pu3S_qWC",
    "outputId": "921c4687-ae1e-4fd3-b2c7-992795014b78"
   },
   "outputs": [
    {
     "data": {
      "text/html": [
       "<div>\n",
       "<style scoped>\n",
       "    .dataframe tbody tr th:only-of-type {\n",
       "        vertical-align: middle;\n",
       "    }\n",
       "\n",
       "    .dataframe tbody tr th {\n",
       "        vertical-align: top;\n",
       "    }\n",
       "\n",
       "    .dataframe thead th {\n",
       "        text-align: right;\n",
       "    }\n",
       "</style>\n",
       "<table border=\"1\" class=\"dataframe\">\n",
       "  <thead>\n",
       "    <tr style=\"text-align: right;\">\n",
       "      <th></th>\n",
       "      <th>Date</th>\n",
       "      <th>Grand Prix</th>\n",
       "      <th>StandingPoints</th>\n",
       "      <th>RacePosition</th>\n",
       "      <th>Year</th>\n",
       "      <th>StandingPosition</th>\n",
       "      <th>Winner</th>\n",
       "      <th>No</th>\n",
       "      <th>PTS</th>\n",
       "      <th>q1Msec</th>\n",
       "      <th>q2Msec</th>\n",
       "      <th>q3Msec</th>\n",
       "      <th>maxPace</th>\n",
       "      <th>meanPace</th>\n",
       "    </tr>\n",
       "  </thead>\n",
       "  <tbody>\n",
       "    <tr>\n",
       "      <th>0</th>\n",
       "      <td>12 Mar 2006</td>\n",
       "      <td>Bahrain</td>\n",
       "      <td>10</td>\n",
       "      <td>1</td>\n",
       "      <td>2006</td>\n",
       "      <td>1</td>\n",
       "      <td>Fernando Alonso</td>\n",
       "      <td>1</td>\n",
       "      <td>10</td>\n",
       "      <td>92433</td>\n",
       "      <td>91215</td>\n",
       "      <td>91702</td>\n",
       "      <td>92433</td>\n",
       "      <td>91783</td>\n",
       "    </tr>\n",
       "    <tr>\n",
       "      <th>1</th>\n",
       "      <td>12 Mar 2006</td>\n",
       "      <td>Bahrain</td>\n",
       "      <td>5</td>\n",
       "      <td>4</td>\n",
       "      <td>2006</td>\n",
       "      <td>6</td>\n",
       "      <td>Fernando Alonso</td>\n",
       "      <td>12</td>\n",
       "      <td>5</td>\n",
       "      <td>92603</td>\n",
       "      <td>92025</td>\n",
       "      <td>91549</td>\n",
       "      <td>92603</td>\n",
       "      <td>92059</td>\n",
       "    </tr>\n",
       "    <tr>\n",
       "      <th>2</th>\n",
       "      <td>12 Mar 2006</td>\n",
       "      <td>Bahrain</td>\n",
       "      <td>1</td>\n",
       "      <td>8</td>\n",
       "      <td>2006</td>\n",
       "      <td>18</td>\n",
       "      <td>Fernando Alonso</td>\n",
       "      <td>15</td>\n",
       "      <td>1</td>\n",
       "      <td>94308</td>\n",
       "      <td>92106</td>\n",
       "      <td>93112</td>\n",
       "      <td>94308</td>\n",
       "      <td>93175</td>\n",
       "    </tr>\n",
       "    <tr>\n",
       "      <th>3</th>\n",
       "      <td>12 Mar 2006</td>\n",
       "      <td>Bahrain</td>\n",
       "      <td>0</td>\n",
       "      <td>9</td>\n",
       "      <td>2006</td>\n",
       "      <td>3</td>\n",
       "      <td>Fernando Alonso</td>\n",
       "      <td>6</td>\n",
       "      <td>0</td>\n",
       "      <td>93579</td>\n",
       "      <td>92014</td>\n",
       "      <td>91478</td>\n",
       "      <td>93579</td>\n",
       "      <td>92357</td>\n",
       "    </tr>\n",
       "    <tr>\n",
       "      <th>4</th>\n",
       "      <td>12 Mar 2006</td>\n",
       "      <td>Bahrain</td>\n",
       "      <td>4</td>\n",
       "      <td>5</td>\n",
       "      <td>2006</td>\n",
       "      <td>8</td>\n",
       "      <td>Fernando Alonso</td>\n",
       "      <td>4</td>\n",
       "      <td>4</td>\n",
       "      <td>93233</td>\n",
       "      <td>91487</td>\n",
       "      <td>92164</td>\n",
       "      <td>93233</td>\n",
       "      <td>92294</td>\n",
       "    </tr>\n",
       "  </tbody>\n",
       "</table>\n",
       "</div>"
      ],
      "text/plain": [
       "          Date Grand Prix  StandingPoints  RacePosition  Year  \\\n",
       "0  12 Mar 2006    Bahrain              10             1  2006   \n",
       "1  12 Mar 2006    Bahrain               5             4  2006   \n",
       "2  12 Mar 2006    Bahrain               1             8  2006   \n",
       "3  12 Mar 2006    Bahrain               0             9  2006   \n",
       "4  12 Mar 2006    Bahrain               4             5  2006   \n",
       "\n",
       "   StandingPosition           Winner  No  PTS  q1Msec  q2Msec  q3Msec  \\\n",
       "0                 1  Fernando Alonso   1   10   92433   91215   91702   \n",
       "1                 6  Fernando Alonso  12    5   92603   92025   91549   \n",
       "2                18  Fernando Alonso  15    1   94308   92106   93112   \n",
       "3                 3  Fernando Alonso   6    0   93579   92014   91478   \n",
       "4                 8  Fernando Alonso   4    4   93233   91487   92164   \n",
       "\n",
       "   maxPace  meanPace  \n",
       "0    92433     91783  \n",
       "1    92603     92059  \n",
       "2    94308     93175  \n",
       "3    93579     92357  \n",
       "4    93233     92294  "
      ]
     },
     "execution_count": 342,
     "metadata": {},
     "output_type": "execute_result"
    }
   ],
   "source": [
    "df_1.head()"
   ]
  },
  {
   "cell_type": "markdown",
   "metadata": {
    "id": "L14lEhzK_Rkw"
   },
   "source": [
    "# Check Unique values\n",
    "\n",
    "---\n",
    "Converting categorical data to numerical format\n"
   ]
  },
  {
   "cell_type": "code",
   "execution_count": 345,
   "metadata": {
    "colab": {
     "base_uri": "https://localhost:8080/"
    },
    "id": "CVatHP1i8ieU",
    "outputId": "a42d1e2f-4130-4bed-e654-e4c5adfa8912"
   },
   "outputs": [
    {
     "data": {
      "text/plain": [
       "(37, 23)"
      ]
     },
     "execution_count": 345,
     "metadata": {},
     "output_type": "execute_result"
    }
   ],
   "source": [
    "df_1['Grand Prix'].nunique(),df_1['Winner'].nunique()"
   ]
  },
  {
   "cell_type": "code",
   "execution_count": 347,
   "metadata": {
    "id": "hFhrJO21_ui0"
   },
   "outputs": [],
   "source": [
    "# use label encoder\n",
    "from sklearn.preprocessing import LabelEncoder\n",
    "le = LabelEncoder()\n",
    "df_1['Winner'] = le.fit_transform(df_1['Winner'])"
   ]
  },
  {
   "cell_type": "code",
   "execution_count": 348,
   "metadata": {
    "id": "cbs_bq2g_1jd"
   },
   "outputs": [],
   "source": [
    "# Grand_Prix\n",
    "# Compute the frequency of each category\n",
    "freq = df_1['Grand Prix'].value_counts()\n",
    "\n",
    "# Map the frequencies to the dataframe\n",
    "df_1['Grand Prix'] = df_1['Grand Prix'].map(freq)"
   ]
  },
  {
   "cell_type": "code",
   "execution_count": 351,
   "metadata": {
    "colab": {
     "base_uri": "https://localhost:8080/",
     "height": 206
    },
    "id": "TUQpIEBoAAyd",
    "outputId": "d2dad3fc-d736-40ce-8d2e-81e9dfe26aa2"
   },
   "outputs": [
    {
     "data": {
      "text/html": [
       "<div>\n",
       "<style scoped>\n",
       "    .dataframe tbody tr th:only-of-type {\n",
       "        vertical-align: middle;\n",
       "    }\n",
       "\n",
       "    .dataframe tbody tr th {\n",
       "        vertical-align: top;\n",
       "    }\n",
       "\n",
       "    .dataframe thead th {\n",
       "        text-align: right;\n",
       "    }\n",
       "</style>\n",
       "<table border=\"1\" class=\"dataframe\">\n",
       "  <thead>\n",
       "    <tr style=\"text-align: right;\">\n",
       "      <th></th>\n",
       "      <th>Date</th>\n",
       "      <th>Grand Prix</th>\n",
       "      <th>StandingPoints</th>\n",
       "      <th>RacePosition</th>\n",
       "      <th>Year</th>\n",
       "      <th>StandingPosition</th>\n",
       "      <th>Winner</th>\n",
       "      <th>No</th>\n",
       "      <th>PTS</th>\n",
       "      <th>q1Msec</th>\n",
       "      <th>q2Msec</th>\n",
       "      <th>q3Msec</th>\n",
       "      <th>maxPace</th>\n",
       "      <th>meanPace</th>\n",
       "    </tr>\n",
       "  </thead>\n",
       "  <tbody>\n",
       "    <tr>\n",
       "      <th>0</th>\n",
       "      <td>12 Mar 2006</td>\n",
       "      <td>113</td>\n",
       "      <td>10</td>\n",
       "      <td>1</td>\n",
       "      <td>2006</td>\n",
       "      <td>1</td>\n",
       "      <td>5</td>\n",
       "      <td>1</td>\n",
       "      <td>10</td>\n",
       "      <td>92433</td>\n",
       "      <td>91215</td>\n",
       "      <td>91702</td>\n",
       "      <td>92433</td>\n",
       "      <td>91783</td>\n",
       "    </tr>\n",
       "    <tr>\n",
       "      <th>1</th>\n",
       "      <td>12 Mar 2006</td>\n",
       "      <td>113</td>\n",
       "      <td>5</td>\n",
       "      <td>4</td>\n",
       "      <td>2006</td>\n",
       "      <td>6</td>\n",
       "      <td>5</td>\n",
       "      <td>12</td>\n",
       "      <td>5</td>\n",
       "      <td>92603</td>\n",
       "      <td>92025</td>\n",
       "      <td>91549</td>\n",
       "      <td>92603</td>\n",
       "      <td>92059</td>\n",
       "    </tr>\n",
       "    <tr>\n",
       "      <th>2</th>\n",
       "      <td>12 Mar 2006</td>\n",
       "      <td>113</td>\n",
       "      <td>1</td>\n",
       "      <td>8</td>\n",
       "      <td>2006</td>\n",
       "      <td>18</td>\n",
       "      <td>5</td>\n",
       "      <td>15</td>\n",
       "      <td>1</td>\n",
       "      <td>94308</td>\n",
       "      <td>92106</td>\n",
       "      <td>93112</td>\n",
       "      <td>94308</td>\n",
       "      <td>93175</td>\n",
       "    </tr>\n",
       "    <tr>\n",
       "      <th>3</th>\n",
       "      <td>12 Mar 2006</td>\n",
       "      <td>113</td>\n",
       "      <td>0</td>\n",
       "      <td>9</td>\n",
       "      <td>2006</td>\n",
       "      <td>3</td>\n",
       "      <td>5</td>\n",
       "      <td>6</td>\n",
       "      <td>0</td>\n",
       "      <td>93579</td>\n",
       "      <td>92014</td>\n",
       "      <td>91478</td>\n",
       "      <td>93579</td>\n",
       "      <td>92357</td>\n",
       "    </tr>\n",
       "    <tr>\n",
       "      <th>4</th>\n",
       "      <td>12 Mar 2006</td>\n",
       "      <td>113</td>\n",
       "      <td>4</td>\n",
       "      <td>5</td>\n",
       "      <td>2006</td>\n",
       "      <td>8</td>\n",
       "      <td>5</td>\n",
       "      <td>4</td>\n",
       "      <td>4</td>\n",
       "      <td>93233</td>\n",
       "      <td>91487</td>\n",
       "      <td>92164</td>\n",
       "      <td>93233</td>\n",
       "      <td>92294</td>\n",
       "    </tr>\n",
       "  </tbody>\n",
       "</table>\n",
       "</div>"
      ],
      "text/plain": [
       "          Date  Grand Prix  StandingPoints  RacePosition  Year  \\\n",
       "0  12 Mar 2006         113              10             1  2006   \n",
       "1  12 Mar 2006         113               5             4  2006   \n",
       "2  12 Mar 2006         113               1             8  2006   \n",
       "3  12 Mar 2006         113               0             9  2006   \n",
       "4  12 Mar 2006         113               4             5  2006   \n",
       "\n",
       "   StandingPosition  Winner  No  PTS  q1Msec  q2Msec  q3Msec  maxPace  \\\n",
       "0                 1       5   1   10   92433   91215   91702    92433   \n",
       "1                 6       5  12    5   92603   92025   91549    92603   \n",
       "2                18       5  15    1   94308   92106   93112    94308   \n",
       "3                 3       5   6    0   93579   92014   91478    93579   \n",
       "4                 8       5   4    4   93233   91487   92164    93233   \n",
       "\n",
       "   meanPace  \n",
       "0     91783  \n",
       "1     92059  \n",
       "2     93175  \n",
       "3     92357  \n",
       "4     92294  "
      ]
     },
     "execution_count": 351,
     "metadata": {},
     "output_type": "execute_result"
    }
   ],
   "source": [
    "df_1.head()"
   ]
  },
  {
   "cell_type": "markdown",
   "metadata": {
    "id": "aOxAYycBEoTj"
   },
   "source": [
    "# Analysis\n",
    "---\n",
    "We want to perform classification using machine learning models\n",
    "\n",
    "We want to predict 4 aspects.\n",
    "\n",
    "being in top5\n",
    "being in top10\n",
    "winner from top5\n",
    "winner from top10"
   ]
  },
  {
   "cell_type": "markdown",
   "metadata": {
    "id": "C4Ti-M9vBurI"
   },
   "source": [
    "# **Machine learning Model**"
   ]
  },
  {
   "cell_type": "code",
   "execution_count": 392,
   "metadata": {
    "id": "ySeeBHBp7VTx"
   },
   "outputs": [],
   "source": [
    "from matplotlib import pyplot\n",
    "import xgboost as xgb\n",
    "from sklearn.naive_bayes import MultinomialNB\n",
    "from sklearn.model_selection import train_test_split, cross_val_score\n",
    "from sklearn.metrics import accuracy_score, classification_report\n",
    "from sklearn.linear_model import LogisticRegression\n",
    "from sklearn.svm import SVC\n",
    "import numpy as np\n",
    "from sklearn.tree import DecisionTreeClassifier\n",
    "from sklearn.ensemble import RandomForestClassifier"
   ]
  },
  {
   "cell_type": "markdown",
   "metadata": {
    "id": "U4qljhnbVMq5"
   },
   "source": [
    "Comparison Of Classification Models Accuracy\n",
    "---\n",
    "In this kernal i am going to study each models below and find accuracy of it then compare\n",
    "* Logistic Regression Classification\n",
    "* KNN Classification\n",
    "* SVM Classification\n",
    "* Naive Byes Classification\n",
    "* Decision Tree Classification\n",
    "* Random Forest Classification"
   ]
  },
  {
   "cell_type": "code",
   "execution_count": 395,
   "metadata": {
    "id": "_YCTZg0_fGrI"
   },
   "outputs": [],
   "source": [
    "# holding results in a list\n",
    "scores_accuracy=[]\n",
    "model_name=[]"
   ]
  },
  {
   "cell_type": "markdown",
   "metadata": {
    "id": "JbTxqAnlCuFy"
   },
   "source": [
    "Decision Tree"
   ]
  },
  {
   "cell_type": "code",
   "execution_count": 398,
   "metadata": {
    "id": "sB5SomviBDzh"
   },
   "outputs": [],
   "source": [
    "def DecisionTree_Model(X, Y, test_size = 0.2, cv = 5):\n",
    "    X = X.values.reshape(-1,1)\n",
    "    X_train, X_test, Y_train, Y_test = train_test_split(X, Y, test_size=test_size, random_state=42)\n",
    "\n",
    "    DT=DecisionTreeClassifier()\n",
    "\n",
    "    cv_scores = cross_val_score(DT, X, Y, cv=cv, scoring='accuracy')\n",
    "\n",
    "    print(\"Cross-Validation Scores:\", cv_scores)\n",
    "    print(\"Mean Accuracy:\", np.mean(cv_scores))\n",
    "\n",
    "    DT.fit(X_train, Y_train)\n",
    "    predictions = DT.predict(X_test)\n",
    "\n",
    "\n",
    "    accuracy_DT = accuracy_score(Y_test, predictions)\n",
    "    print(f'Test Accuracy: {accuracy_DT:.4f}')\n",
    "\n",
    "    scores_accuracy.append(['Decision Tree',accuracy_DT])\n",
    "    model_name.append([\"DecisionTreeClassifier\"])\n",
    "\n",
    "    print(\"Classification Report:\")\n",
    "    print(classification_report(Y_test, predictions))"
   ]
  },
  {
   "cell_type": "markdown",
   "metadata": {
    "id": "Ho7l4Ap8LTF0"
   },
   "source": [
    "XGBoost Model"
   ]
  },
  {
   "cell_type": "code",
   "execution_count": 401,
   "metadata": {
    "id": "t260N80jmFPb"
   },
   "outputs": [],
   "source": [
    "def XGBoost_model(X, Y, test_size = 0.2, cv = 5):\n",
    "\n",
    "    X_train, X_test, Y_train, Y_test = train_test_split(X, Y, test_size=test_size, random_state=42)\n",
    "\n",
    "    XG = xgb.XGBClassifier(objective=\"multi:softmax\", num_class=len(set(Y)), random_state=42)\n",
    "\n",
    "    cv_scores = cross_val_score(XG, X, Y, cv=cv, scoring='accuracy')  # Adjust cv parameter as needed\n",
    "\n",
    "    print(\"Cross-Validation Scores:\", cv_scores)\n",
    "    print(\"Mean Accuracy:\", np.mean(cv_scores))\n",
    "\n",
    "    XG.fit(X_train, Y_train)\n",
    "    predictions = XG.predict(X_test)\n",
    "\n",
    "    accuracy_XG = accuracy_score(Y_test, predictions)\n",
    "    print(f'Test Accuracy: {accuracy_XG:.4f}')\n",
    "\n",
    "    scores_accuracy.append(['XGBoost',accuracy_XG])\n",
    "    model_name.append([\"XGBClassifier\"])\n",
    "\n",
    "    print(\"Classification Report:\")\n",
    "    print(classification_report(Y_test, predictions))"
   ]
  },
  {
   "cell_type": "markdown",
   "metadata": {
    "id": "kUzWYlDuLZvh"
   },
   "source": [
    "Naive Bayesian"
   ]
  },
  {
   "cell_type": "code",
   "execution_count": 404,
   "metadata": {
    "id": "5gP5eRDGBzjV"
   },
   "outputs": [],
   "source": [
    "def MultinomialNB_model(X, Y, test_size = 0.2, cv = 10):\n",
    "    '''Naive Bayesian ML model where X is one variable'''\n",
    "\n",
    "    X = X.values.reshape(-1,1)\n",
    "\n",
    "    X_train, X_test, Y_train, Y_test = train_test_split(X, Y, test_size=test_size, random_state=42)\n",
    "\n",
    "    NB = MultinomialNB()\n",
    "\n",
    "    cv_scores = cross_val_score(NB, X, Y, cv=cv, scoring='accuracy')  # Adjust cv parameter as needed\n",
    "\n",
    "    print(\"Cross-Validation Scores:\", cv_scores)\n",
    "    print(\"Mean Accuracy:\", np.mean(cv_scores))\n",
    "\n",
    "    NB.fit(X_train, Y_train)\n",
    "    predictions = NB.predict(X_test)\n",
    "\n",
    "    accuracy_NB = accuracy_score(Y_test, predictions)\n",
    "    print(f'Test Accuracy: {accuracy_NB:.4f}')\n",
    "\n",
    "    scores_accuracy.append(['Naive Bayesian',accuracy_NB])\n",
    "    model_name.append([\"Naive Bayesian\"])\n",
    "\n",
    "    print(\"Classification Report:\")\n",
    "    print(classification_report(Y_test, predictions))"
   ]
  },
  {
   "cell_type": "markdown",
   "metadata": {
    "id": "Hk87U94eLqjB"
   },
   "source": [
    "LogisticRegression_model"
   ]
  },
  {
   "cell_type": "code",
   "execution_count": 407,
   "metadata": {
    "id": "j21hS4mrB1-U"
   },
   "outputs": [],
   "source": [
    "def LogisticRegression_model(X, Y, test_size = 0.2, cv = 5):\n",
    "\n",
    "    X = X.values.reshape(-1,1)\n",
    "    X_train, X_test, Y_train, Y_test = train_test_split(X, Y, test_size=test_size, random_state=42)\n",
    "\n",
    "    LR = LogisticRegression()\n",
    "\n",
    "    cv_scores = cross_val_score(LR, X, Y, cv=cv, scoring='accuracy')  # Adjust cv parameter as needed\n",
    "\n",
    "    print(\"Cross-Validation Scores:\", cv_scores)\n",
    "    print(\"Mean Accuracy:\", np.mean(cv_scores))\n",
    "\n",
    "    LR.fit(X_train, Y_train)\n",
    "    predictions = LR.predict(X_test)\n",
    "\n",
    "    accuracy_LR = accuracy_score(Y_test, predictions)\n",
    "    print(f'Test Accuracy: {accuracy_LR:.4f}')\n",
    "\n",
    "    scores_accuracy.append(['LogisticRegression',accuracy_LR])\n",
    "    model_name.append([\"LogisticRegression\"])\n",
    "\n",
    "    print(\"Classification Report:\")\n",
    "    print(classification_report(Y_test, predictions))"
   ]
  },
  {
   "cell_type": "markdown",
   "metadata": {
    "id": "JNJ7diqbLsNo"
   },
   "source": [
    "Support Vector Machine"
   ]
  },
  {
   "cell_type": "code",
   "execution_count": 410,
   "metadata": {
    "id": "4-ov1mjT2Z47"
   },
   "outputs": [],
   "source": [
    "def SVM_model(X, Y, test_size = 0.2, cv = 5):\n",
    "\n",
    "    X = X.values.reshape(-1,1)\n",
    "    X_train, X_test, Y_train, Y_test = train_test_split(X, Y, test_size=test_size, random_state=42)\n",
    "\n",
    "    SVM = SVC()\n",
    "\n",
    "    cv_scores = cross_val_score(SVM, X, Y, cv=cv, scoring='accuracy')  # Adjust cv parameter as needed\n",
    "\n",
    "    print(\"Cross-Validation Scores:\", cv_scores)\n",
    "    print(\"Mean Accuracy:\", np.mean(cv_scores))\n",
    "\n",
    "    SVM.fit(X_train, Y_train)\n",
    "    predictions = SVM.predict(X_test)\n",
    "\n",
    "    accuracy_SVM = accuracy_score(Y_test, predictions)\n",
    "    print(f'Test Accuracy: {accuracy_SVM:.4f}')\n",
    "\n",
    "    scores_accuracy.append(['SVM',accuracy_SVM])\n",
    "    model_name.append([\"SVM\"])\n",
    "\n",
    "    print(\"Classification Report:\")\n",
    "    print(classification_report(Y_test, predictions))"
   ]
  },
  {
   "cell_type": "markdown",
   "metadata": {
    "id": "AaRbLHiyCy3O"
   },
   "source": [
    "Random Forest"
   ]
  },
  {
   "cell_type": "code",
   "execution_count": 413,
   "metadata": {
    "id": "tUaUvf6PCybk"
   },
   "outputs": [],
   "source": [
    "def Randomforest_Model(X, Y, test_size = 0.2, cv = 5):\n",
    "\n",
    "    X = X.values.reshape(-1,1)\n",
    "    X_train, X_test, Y_train, Y_test = train_test_split(X, Y, test_size=test_size, random_state=42)\n",
    "\n",
    "    RF= RandomForestClassifier(n_estimators=100,random_state=1) # n_estimators= number of trees\n",
    "\n",
    "    cv_scores = cross_val_score(RF, X, Y, cv=cv, scoring='accuracy')\n",
    "\n",
    "    print(\"Cross-Validation Scores:\", cv_scores)\n",
    "    print(\"Mean Accuracy:\", np.mean(cv_scores))\n",
    "\n",
    "    RF.fit(X_train, Y_train)\n",
    "    predictions = RF.predict(X_test)\n",
    "\n",
    "\n",
    "    accuracy_RF = accuracy_score(Y_test, predictions)\n",
    "    print(f'Test Accuracy: {accuracy_RF:.4f}')\n",
    "\n",
    "    scores_accuracy.append(['Random Forest',accuracy_RF])\n",
    "    model_name.append([\"RandomForestClassifier\"])\n",
    "\n",
    "    print(\"Classification Report:\")\n",
    "    print(classification_report(Y_test, predictions))"
   ]
  },
  {
   "cell_type": "markdown",
   "metadata": {
    "id": "yb2EsVNzKYQK"
   },
   "source": [
    "We used four machine learning classifier models for prediction models."
   ]
  },
  {
   "cell_type": "code",
   "execution_count": 416,
   "metadata": {
    "id": "rHBx495QB3oE"
   },
   "outputs": [],
   "source": [
    "def Models_scores(X, Y, test_size = 0.2, cv = 5):\n",
    "    '''prints scores from all the models provided above'''\n",
    "\n",
    "    print(\"XGBoost\")\n",
    "    XGBoost_model(X, Y, test_size, cv)\n",
    "\n",
    "    print(\"Naive Bayesian\")\n",
    "    MultinomialNB_model(X, Y, test_size, cv)\n",
    "\n",
    "    print(\"Logistic Regression\")\n",
    "    LogisticRegression_model(X, Y, test_size, cv)\n",
    "\n",
    "    print(\"SVM\")\n",
    "    SVM_model(X, Y, test_size, cv)\n",
    "\n",
    "    print(\"Decision Tree\")\n",
    "    DecisionTree_Model(X,Y,test_size,cv)\n",
    "\n",
    "    print(\"Random Forest\")\n",
    "    Randomforest_Model(X,Y,test_size,cv)\n"
   ]
  },
  {
   "cell_type": "markdown",
   "metadata": {
    "id": "GkC7OecX3nFk"
   },
   "source": [
    "# **Approches**"
   ]
  },
  {
   "cell_type": "code",
   "execution_count": 419,
   "metadata": {
    "id": "bTDzhEifMew5"
   },
   "outputs": [],
   "source": [
    "# Winners within Top 10\n",
    "Y_top10 = df_1[\"RacePosition\"].apply(lambda x: 0 if x <= 10 else 1)"
   ]
  },
  {
   "cell_type": "markdown",
   "metadata": {
    "id": "tABNQEzRCQcc"
   },
   "source": [
    "### **First Approch**"
   ]
  },
  {
   "cell_type": "markdown",
   "metadata": {
    "id": "82QQDuusL1Gt"
   },
   "source": [
    "StandingPostion vs Raceposition"
   ]
  },
  {
   "cell_type": "code",
   "execution_count": 423,
   "metadata": {
    "id": "sYnfxGMPNLBi"
   },
   "outputs": [],
   "source": [
    "X=df_1[\"StandingPosition\"]"
   ]
  },
  {
   "cell_type": "code",
   "execution_count": 425,
   "metadata": {
    "colab": {
     "base_uri": "https://localhost:8080/"
    },
    "id": "F8KneBWicT0s",
    "outputId": "75a8012b-7649-4cbf-b48b-3323bbed2dae"
   },
   "outputs": [
    {
     "name": "stdout",
     "output_type": "stream",
     "text": [
      "XGBoost\n",
      "Cross-Validation Scores: [0.94688222 0.94919169 0.94919169 0.94919169 0.9537037 ]\n",
      "Mean Accuracy: 0.9496321957060987\n",
      "Test Accuracy: 0.9376\n",
      "Classification Report:\n",
      "              precision    recall  f1-score   support\n",
      "\n",
      "           0       0.94      1.00      0.97       405\n",
      "           1       1.00      0.04      0.07        28\n",
      "\n",
      "    accuracy                           0.94       433\n",
      "   macro avg       0.97      0.52      0.52       433\n",
      "weighted avg       0.94      0.94      0.91       433\n",
      "\n",
      "Naive Bayesian\n",
      "Cross-Validation Scores: [0.94919169 0.94919169 0.94919169 0.94919169 0.95138889]\n",
      "Mean Accuracy: 0.9496311265075701\n",
      "Test Accuracy: 0.9353\n",
      "Classification Report:\n",
      "              precision    recall  f1-score   support\n",
      "\n",
      "           0       0.94      1.00      0.97       405\n",
      "           1       0.00      0.00      0.00        28\n",
      "\n",
      "    accuracy                           0.94       433\n",
      "   macro avg       0.47      0.50      0.48       433\n",
      "weighted avg       0.87      0.94      0.90       433\n",
      "\n",
      "Logistic Regression\n",
      "Cross-Validation Scores: [0.95150115 0.94919169 0.94919169 0.94919169 0.9537037 ]\n",
      "Mean Accuracy: 0.9505559832349672\n",
      "Test Accuracy: 0.9376\n",
      "Classification Report:\n",
      "              precision    recall  f1-score   support\n",
      "\n",
      "           0       0.94      1.00      0.97       405\n",
      "           1       1.00      0.04      0.07        28\n",
      "\n",
      "    accuracy                           0.94       433\n",
      "   macro avg       0.97      0.52      0.52       433\n",
      "weighted avg       0.94      0.94      0.91       433\n",
      "\n",
      "SVM\n",
      "Cross-Validation Scores: [0.95150115 0.94919169 0.95150115 0.94919169 0.9537037 ]\n",
      "Mean Accuracy: 0.9510178769994013\n",
      "Test Accuracy: 0.9353\n",
      "Classification Report:\n",
      "              precision    recall  f1-score   support\n",
      "\n",
      "           0       0.94      1.00      0.97       405\n",
      "           1       0.00      0.00      0.00        28\n",
      "\n",
      "    accuracy                           0.94       433\n",
      "   macro avg       0.47      0.50      0.48       433\n",
      "weighted avg       0.87      0.94      0.90       433\n",
      "\n",
      "Decision Tree\n",
      "Cross-Validation Scores: [0.94919169 0.94919169 0.94919169 0.94919169 0.95138889]\n",
      "Mean Accuracy: 0.9496311265075701\n",
      "Test Accuracy: 0.9376\n",
      "Classification Report:\n",
      "              precision    recall  f1-score   support\n",
      "\n",
      "           0       0.94      1.00      0.97       405\n",
      "           1       1.00      0.04      0.07        28\n",
      "\n",
      "    accuracy                           0.94       433\n",
      "   macro avg       0.97      0.52      0.52       433\n",
      "weighted avg       0.94      0.94      0.91       433\n",
      "\n",
      "Random Forest\n",
      "Cross-Validation Scores: [0.94688222 0.94919169 0.94919169 0.94688222 0.9537037 ]\n",
      "Mean Accuracy: 0.9491703019416644\n",
      "Test Accuracy: 0.9376\n",
      "Classification Report:\n",
      "              precision    recall  f1-score   support\n",
      "\n",
      "           0       0.94      1.00      0.97       405\n",
      "           1       1.00      0.04      0.07        28\n",
      "\n",
      "    accuracy                           0.94       433\n",
      "   macro avg       0.97      0.52      0.52       433\n",
      "weighted avg       0.94      0.94      0.91       433\n",
      "\n"
     ]
    }
   ],
   "source": [
    " Models_scores(X,Y_top10)"
   ]
  },
  {
   "cell_type": "markdown",
   "metadata": {
    "id": "bP0bCcvDGvhn"
   },
   "source": [
    "Using StandingPosition,RacePosition, accuracy has decreased as compared to test accuracy."
   ]
  },
  {
   "cell_type": "code",
   "execution_count": 428,
   "metadata": {
    "colab": {
     "base_uri": "https://localhost:8080/"
    },
    "id": "7ynirsYknqp5",
    "outputId": "bea28d96-bccf-458c-ece3-20a656db7865"
   },
   "outputs": [
    {
     "data": {
      "text/plain": [
       "[['XGBoost', 0.9376443418013857],\n",
       " ['Naive Bayesian', 0.9353348729792148],\n",
       " ['LogisticRegression', 0.9376443418013857],\n",
       " ['SVM', 0.9353348729792148],\n",
       " ['Decision Tree', 0.9376443418013857],\n",
       " ['Random Forest', 0.9376443418013857]]"
      ]
     },
     "execution_count": 428,
     "metadata": {},
     "output_type": "execute_result"
    }
   ],
   "source": [
    "scores_accuracy"
   ]
  },
  {
   "cell_type": "code",
   "execution_count": 430,
   "metadata": {
    "colab": {
     "base_uri": "https://localhost:8080/"
    },
    "id": "7aHluRoDwr5S",
    "outputId": "10b66092-3dfe-4a55-bb2d-9d0dd8e684c5"
   },
   "outputs": [
    {
     "data": {
      "text/plain": [
       "[['XGBClassifier'],\n",
       " ['Naive Bayesian'],\n",
       " ['LogisticRegression'],\n",
       " ['SVM'],\n",
       " ['DecisionTreeClassifier'],\n",
       " ['RandomForestClassifier']]"
      ]
     },
     "execution_count": 430,
     "metadata": {},
     "output_type": "execute_result"
    }
   ],
   "source": [
    "model_name"
   ]
  },
  {
   "cell_type": "code",
   "execution_count": 432,
   "metadata": {
    "colab": {
     "base_uri": "https://localhost:8080/",
     "height": 458
    },
    "id": "AdYRm5d2IiXi",
    "outputId": "1bfc1404-e133-42a7-fa53-bac833593797"
   },
   "outputs": [
    {
     "data": {
      "image/png": "[encoded data removed]",
      "text/plain": [
       "<Figure size 640x480 with 1 Axes>"
      ]
     },
     "metadata": {},
     "output_type": "display_data"
    }
   ],
   "source": [
    "import seaborn as sns\n",
    "import pandas as pd\n",
    "\n",
    "# Assuming 'scores_accuracy' is a list of accuracy scores and 'model_name' is a list of corresponding model names\n",
    "data = { 'scores_accuracy': scores_accuracy}\n",
    "df = pd.DataFrame(data)\n",
    "\n",
    "# Flatten the 'scores_accuracy' column if it contains nested lists\n",
    "df['scores_accuracy'] = df['scores_accuracy'].apply(lambda x: x[0] if isinstance(x, list) else x)\n",
    "\n",
    "sns.countplot(data=df, x='scores_accuracy',stat='proportion',hue='scores_accuracy')\n",
    "plt.rotations=45\n",
    "plt.show()"
   ]
  },
  {
   "cell_type": "code",
   "execution_count": 434,
   "metadata": {
    "colab": {
     "base_uri": "https://localhost:8080/",
     "height": 475
    },
    "id": "nIpLCy1XMzx8",
    "outputId": "4f928a7a-e196-4309-be6b-8d0357e0a746"
   },
   "outputs": [
    {
     "data": {
      "text/plain": [
       "<Axes: xlabel='scores_accuracy', ylabel='Count'>"
      ]
     },
     "execution_count": 434,
     "metadata": {},
     "output_type": "execute_result"
    },
    {
     "data": {
      "image/png": "[encoded data removed]",
      "text/plain": [
       "<Figure size 640x480 with 1 Axes>"
      ]
     },
     "metadata": {},
     "output_type": "display_data"
    }
   ],
   "source": [
    "sns.histplot(data=df, x=\"scores_accuracy\", shrink=.8)"
   ]
  },
  {
   "cell_type": "markdown",
   "metadata": {
    "id": "u_6L1Z4cD_wK"
   },
   "source": [
    "### **Second Approch**\n",
    "---\n",
    "raceposition vs winner"
   ]
  },
  {
   "cell_type": "code",
   "execution_count": 437,
   "metadata": {
    "id": "hIDUkRtiEUey"
   },
   "outputs": [],
   "source": [
    "X=df_1['Winner']"
   ]
  },
  {
   "cell_type": "code",
   "execution_count": 439,
   "metadata": {
    "colab": {
     "base_uri": "https://localhost:8080/"
    },
    "id": "Fz42OHY0GBZk",
    "outputId": "2f9e4649-03f0-4051-8734-36de50f473e9"
   },
   "outputs": [
    {
     "name": "stdout",
     "output_type": "stream",
     "text": [
      "XGBoost\n",
      "Cross-Validation Scores: [0.94919169 0.94919169 0.94919169 0.94919169 0.95138889]\n",
      "Mean Accuracy: 0.9496311265075701\n",
      "Test Accuracy: 0.9353\n",
      "Classification Report:\n",
      "              precision    recall  f1-score   support\n",
      "\n",
      "           0       0.94      1.00      0.97       405\n",
      "           1       0.00      0.00      0.00        28\n",
      "\n",
      "    accuracy                           0.94       433\n",
      "   macro avg       0.47      0.50      0.48       433\n",
      "weighted avg       0.87      0.94      0.90       433\n",
      "\n",
      "Naive Bayesian\n",
      "Cross-Validation Scores: [0.94919169 0.94919169 0.94919169 0.94919169 0.95138889]\n",
      "Mean Accuracy: 0.9496311265075701\n",
      "Test Accuracy: 0.9353\n",
      "Classification Report:\n",
      "              precision    recall  f1-score   support\n",
      "\n",
      "           0       0.94      1.00      0.97       405\n",
      "           1       0.00      0.00      0.00        28\n",
      "\n",
      "    accuracy                           0.94       433\n",
      "   macro avg       0.47      0.50      0.48       433\n",
      "weighted avg       0.87      0.94      0.90       433\n",
      "\n",
      "Logistic Regression\n",
      "Cross-Validation Scores: [0.94919169 0.94919169 0.94919169 0.94919169 0.95138889]\n",
      "Mean Accuracy: 0.9496311265075701\n",
      "Test Accuracy: 0.9353\n",
      "Classification Report:\n",
      "              precision    recall  f1-score   support\n",
      "\n",
      "           0       0.94      1.00      0.97       405\n",
      "           1       0.00      0.00      0.00        28\n",
      "\n",
      "    accuracy                           0.94       433\n",
      "   macro avg       0.47      0.50      0.48       433\n",
      "weighted avg       0.87      0.94      0.90       433\n",
      "\n",
      "SVM\n",
      "Cross-Validation Scores: [0.94919169 0.94919169 0.94919169 0.94919169 0.95138889]\n",
      "Mean Accuracy: 0.9496311265075701\n",
      "Test Accuracy: 0.9353\n",
      "Classification Report:\n",
      "              precision    recall  f1-score   support\n",
      "\n",
      "           0       0.94      1.00      0.97       405\n",
      "           1       0.00      0.00      0.00        28\n",
      "\n",
      "    accuracy                           0.94       433\n",
      "   macro avg       0.47      0.50      0.48       433\n",
      "weighted avg       0.87      0.94      0.90       433\n",
      "\n",
      "Decision Tree\n",
      "Cross-Validation Scores: [0.94919169 0.94919169 0.94919169 0.94919169 0.95138889]\n",
      "Mean Accuracy: 0.9496311265075701\n",
      "Test Accuracy: 0.9353\n",
      "Classification Report:\n",
      "              precision    recall  f1-score   support\n",
      "\n",
      "           0       0.94      1.00      0.97       405\n",
      "           1       0.00      0.00      0.00        28\n",
      "\n",
      "    accuracy                           0.94       433\n",
      "   macro avg       0.47      0.50      0.48       433\n",
      "weighted avg       0.87      0.94      0.90       433\n",
      "\n",
      "Random Forest\n",
      "Cross-Validation Scores: [0.94919169 0.94919169 0.94919169 0.94919169 0.95138889]\n",
      "Mean Accuracy: 0.9496311265075701\n",
      "Test Accuracy: 0.9353\n",
      "Classification Report:\n",
      "              precision    recall  f1-score   support\n",
      "\n",
      "           0       0.94      1.00      0.97       405\n",
      "           1       0.00      0.00      0.00        28\n",
      "\n",
      "    accuracy                           0.94       433\n",
      "   macro avg       0.47      0.50      0.48       433\n",
      "weighted avg       0.87      0.94      0.90       433\n",
      "\n"
     ]
    }
   ],
   "source": [
    "Models_scores(X,Y_top10)"
   ]
  },
  {
   "cell_type": "markdown",
   "metadata": {
    "id": "Wu3gat7tSjhN"
   },
   "source": [
    "# Thrid Approach"
   ]
  },
  {
   "cell_type": "code",
   "execution_count": 441,
   "metadata": {
    "id": "L5kMF95MSixs"
   },
   "outputs": [],
   "source": [
    "# Winners within Top 10\n",
    "Y_top10 = df_1[\"StandingPosition\"].apply(lambda x: 0 if x <= 10 else 1)"
   ]
  },
  {
   "cell_type": "code",
   "execution_count": 442,
   "metadata": {
    "id": "2YYlJtHRS0hy"
   },
   "outputs": [],
   "source": [
    "X=df_1[\"Winner\"]"
   ]
  },
  {
   "cell_type": "markdown",
   "metadata": {
    "id": "Xxe9qI48UVoB"
   },
   "source": [
    "# Years"
   ]
  },
  {
   "cell_type": "code",
   "execution_count": 446,
   "metadata": {
    "colab": {
     "base_uri": "https://localhost:8080/"
    },
    "id": "c8bKsYckS6W6",
    "outputId": "cb0aa226-ce11-4eab-886e-e8343c815980"
   },
   "outputs": [
    {
     "name": "stdout",
     "output_type": "stream",
     "text": [
      "XGBoost\n",
      "Cross-Validation Scores: [0.84295612 0.86605081 0.86374134 0.86374134 0.86574074]\n",
      "Mean Accuracy: 0.8604460696262082\n",
      "Test Accuracy: 0.8568\n",
      "Classification Report:\n",
      "              precision    recall  f1-score   support\n",
      "\n",
      "           0       0.86      1.00      0.92       371\n",
      "           1       0.00      0.00      0.00        62\n",
      "\n",
      "    accuracy                           0.86       433\n",
      "   macro avg       0.43      0.50      0.46       433\n",
      "weighted avg       0.73      0.86      0.79       433\n",
      "\n",
      "Naive Bayesian\n",
      "Cross-Validation Scores: [0.86605081 0.86605081 0.86374134 0.86374134 0.86574074]\n",
      "Mean Accuracy: 0.8650650072705501\n",
      "Test Accuracy: 0.8568\n",
      "Classification Report:\n",
      "              precision    recall  f1-score   support\n",
      "\n",
      "           0       0.86      1.00      0.92       371\n",
      "           1       0.00      0.00      0.00        62\n",
      "\n",
      "    accuracy                           0.86       433\n",
      "   macro avg       0.43      0.50      0.46       433\n",
      "weighted avg       0.73      0.86      0.79       433\n",
      "\n",
      "Logistic Regression\n",
      "Cross-Validation Scores: [0.86605081 0.86605081 0.86374134 0.86374134 0.86574074]\n",
      "Mean Accuracy: 0.8650650072705501\n",
      "Test Accuracy: 0.8568\n",
      "Classification Report:\n",
      "              precision    recall  f1-score   support\n",
      "\n",
      "           0       0.86      1.00      0.92       371\n",
      "           1       0.00      0.00      0.00        62\n",
      "\n",
      "    accuracy                           0.86       433\n",
      "   macro avg       0.43      0.50      0.46       433\n",
      "weighted avg       0.73      0.86      0.79       433\n",
      "\n",
      "SVM\n",
      "Cross-Validation Scores: [0.86605081 0.86605081 0.86374134 0.86374134 0.86574074]\n",
      "Mean Accuracy: 0.8650650072705501\n",
      "Test Accuracy: 0.8568\n",
      "Classification Report:\n",
      "              precision    recall  f1-score   support\n",
      "\n",
      "           0       0.86      1.00      0.92       371\n",
      "           1       0.00      0.00      0.00        62\n",
      "\n",
      "    accuracy                           0.86       433\n",
      "   macro avg       0.43      0.50      0.46       433\n",
      "weighted avg       0.73      0.86      0.79       433\n",
      "\n",
      "Decision Tree\n",
      "Cross-Validation Scores: [0.84295612 0.86605081 0.86374134 0.86374134 0.86574074]\n",
      "Mean Accuracy: 0.8604460696262082\n",
      "Test Accuracy: 0.8568\n",
      "Classification Report:\n",
      "              precision    recall  f1-score   support\n",
      "\n",
      "           0       0.86      1.00      0.92       371\n",
      "           1       0.00      0.00      0.00        62\n",
      "\n",
      "    accuracy                           0.86       433\n",
      "   macro avg       0.43      0.50      0.46       433\n",
      "weighted avg       0.73      0.86      0.79       433\n",
      "\n",
      "Random Forest\n",
      "Cross-Validation Scores: [0.84295612 0.86605081 0.86374134 0.86374134 0.86574074]\n",
      "Mean Accuracy: 0.8604460696262082\n",
      "Test Accuracy: 0.8568\n",
      "Classification Report:\n",
      "              precision    recall  f1-score   support\n",
      "\n",
      "           0       0.86      1.00      0.92       371\n",
      "           1       0.00      0.00      0.00        62\n",
      "\n",
      "    accuracy                           0.86       433\n",
      "   macro avg       0.43      0.50      0.46       433\n",
      "weighted avg       0.73      0.86      0.79       433\n",
      "\n"
     ]
    }
   ],
   "source": [
    " Models_scores(X,Y_top10)"
   ]
  },
  {
   "cell_type": "code",
   "execution_count": 448,
   "metadata": {
    "id": "Ioh1_rZKS-j7"
   },
   "outputs": [],
   "source": [
    "# Winners within Top 10\n",
    "Y_top10 = df_1[\"Winner\"].apply(lambda x: 0 if x <= 10 else 1)"
   ]
  },
  {
   "cell_type": "code",
   "execution_count": 449,
   "metadata": {
    "id": "1VzsisqFUhYC"
   },
   "outputs": [],
   "source": [
    "X=df_1[\"Year\"]"
   ]
  },
  {
   "cell_type": "code",
   "execution_count": 453,
   "metadata": {
    "colab": {
     "base_uri": "https://localhost:8080/"
    },
    "id": "OKHXGn2iUsTV",
    "outputId": "adbf190c-7ebd-49cc-ea96-7a62d12086e5"
   },
   "outputs": [
    {
     "name": "stdout",
     "output_type": "stream",
     "text": [
      "XGBoost\n",
      "Cross-Validation Scores: [0.39722864 0.35103926 0.47113164 0.24249423 0.75462963]\n",
      "Mean Accuracy: 0.44330467881276203\n",
      "Test Accuracy: 0.8129\n",
      "Classification Report:\n",
      "              precision    recall  f1-score   support\n",
      "\n",
      "           0       0.65      0.44      0.52       101\n",
      "           1       0.84      0.93      0.88       332\n",
      "\n",
      "    accuracy                           0.81       433\n",
      "   macro avg       0.75      0.68      0.70       433\n",
      "weighted avg       0.80      0.81      0.80       433\n",
      "\n",
      "Naive Bayesian\n",
      "Cross-Validation Scores: [0.75288684 0.75288684 0.75288684 0.7551963  0.75462963]\n",
      "Mean Accuracy: 0.753697288512531\n",
      "Test Accuracy: 0.7667\n",
      "Classification Report:\n",
      "              precision    recall  f1-score   support\n",
      "\n",
      "           0       0.00      0.00      0.00       101\n",
      "           1       0.77      1.00      0.87       332\n",
      "\n",
      "    accuracy                           0.77       433\n",
      "   macro avg       0.38      0.50      0.43       433\n",
      "weighted avg       0.59      0.77      0.67       433\n",
      "\n",
      "Logistic Regression\n",
      "Cross-Validation Scores: [0.24711316 0.82678984 0.75288684 0.7551963  0.75462963]\n",
      "Mean Accuracy: 0.6673231545633393\n",
      "Test Accuracy: 0.8129\n",
      "Classification Report:\n",
      "              precision    recall  f1-score   support\n",
      "\n",
      "           0       0.65      0.44      0.52       101\n",
      "           1       0.84      0.93      0.88       332\n",
      "\n",
      "    accuracy                           0.81       433\n",
      "   macro avg       0.75      0.68      0.70       433\n",
      "weighted avg       0.80      0.81      0.80       433\n",
      "\n",
      "SVM\n",
      "Cross-Validation Scores: [0.39722864 0.82678984 0.75288684 0.7551963  0.75462963]\n",
      "Mean Accuracy: 0.6973462492515611\n",
      "Test Accuracy: 0.8129\n",
      "Classification Report:\n",
      "              precision    recall  f1-score   support\n",
      "\n",
      "           0       0.65      0.44      0.52       101\n",
      "           1       0.84      0.93      0.88       332\n",
      "\n",
      "    accuracy                           0.81       433\n",
      "   macro avg       0.75      0.68      0.70       433\n",
      "weighted avg       0.80      0.81      0.80       433\n",
      "\n",
      "Decision Tree\n",
      "Cross-Validation Scores: [0.39722864 0.35103926 0.47113164 0.24249423 0.75462963]\n",
      "Mean Accuracy: 0.44330467881276203\n",
      "Test Accuracy: 0.8129\n",
      "Classification Report:\n",
      "              precision    recall  f1-score   support\n",
      "\n",
      "           0       0.65      0.44      0.52       101\n",
      "           1       0.84      0.93      0.88       332\n",
      "\n",
      "    accuracy                           0.81       433\n",
      "   macro avg       0.75      0.68      0.70       433\n",
      "weighted avg       0.80      0.81      0.80       433\n",
      "\n",
      "Random Forest\n",
      "Cross-Validation Scores: [0.39722864 0.35103926 0.47113164 0.24249423 0.75462963]\n",
      "Mean Accuracy: 0.44330467881276203\n",
      "Test Accuracy: 0.8129\n",
      "Classification Report:\n",
      "              precision    recall  f1-score   support\n",
      "\n",
      "           0       0.65      0.44      0.52       101\n",
      "           1       0.84      0.93      0.88       332\n",
      "\n",
      "    accuracy                           0.81       433\n",
      "   macro avg       0.75      0.68      0.70       433\n",
      "weighted avg       0.80      0.81      0.80       433\n",
      "\n"
     ]
    }
   ],
   "source": [
    " Models_scores(X,Y_top10)"
   ]
  },
  {
   "cell_type": "code",
   "execution_count": null,
   "metadata": {
    "id": "RsqT3DfFUsw-"
   },
   "outputs": [],
   "source": []
  },
  {
   "cell_type": "markdown",
   "metadata": {
    "id": "Z40BA3Z4ZNp1"
   },
   "source": [
    "# **Conclusion:**\n",
    "\n",
    "\n",
    "---\n",
    "\n",
    "* **Predictive Modeling Potential**: The insights gained can be used to develop predictive models for race outcomes, enhancing viewer engagement and attracting sponsorships for media companies.\n",
    "* **Data-Driven Storytelling**: Media companies can leverage the analyzed data to create compelling narratives and visualizations, enriching the fan experience.\n",
    "* **Future Directions**: Further analysis could involve incorporating additional data sources, such as weather conditions and tire strategies, to refine predictive models."
   ]
  },
  {
   "cell_type": "markdown",
   "metadata": {
    "id": "w410UnMScS1W"
   },
   "source": [
    "# **End Result:**\n",
    "\n",
    "---\n",
    "\n",
    "\n",
    "* **Cleaned and Merged Data**: Consolidated relevant data from multiple datasets into a single comprehensive dataset.\n",
    "* **Exploratory Data Analysis**: Conducted EDA to identify trends, correlations, and patterns in driver performance, qualifying positions, pit stop strategies, and race results.\n",
    "* **Insights**: Uncovered potential predictive factors for race outcomes, such as starting grid position, qualifying performance, and driver consistency.\n"
   ]
  },
  {
   "cell_type": "code",
   "execution_count": null,
   "metadata": {},
   "outputs": [],
   "source": []
  }
 ],
 "metadata": {
  "colab": {
   "collapsed_sections": [
    "bX3gj1nhTL0a",
    "jmYWf6ErTzpR",
    "yoifuRwzUN0B",
    "Iz24GgbMUWuh",
    "sNvpy6DJUbmi",
    "bQNZjQFoUdSe",
    "AtHdur7RUg00",
    "I5-5nnsxUjco",
    "JdQkCT6GUlCy",
    "9DgaaknOVd3m",
    "dmk8cvrTVgqz",
    "prmeUQroVjGB",
    "Mxsmy061VlLb",
    "XvFMuN47WCK5",
    "tyb8V_f4ouOL",
    "nZxujsnmMD_2",
    "4Ikmq3bHeVJo",
    "jJJM0GSDePCy",
    "3e4TaEkReexT",
    "pv57RCXNgew2",
    "M_rM0QmA1WGz",
    "wRnxvyIijmeN",
    "bSd8QnSS7yHg",
    "NqxSsWvN7s40",
    "8E8Deutb8o0i",
    "Yk_09TUeAtxX",
    "I2OiIsYi_SDt",
    "aOI0uYa4A3b4",
    "Wu3gat7tSjhN"
   ],
   "provenance": []
  },
  "kernelspec": {
   "display_name": "Python 3 (ipykernel)",
   "language": "python",
   "name": "python3"
  },
  "language_info": {
   "codemirror_mode": {
    "name": "ipython",
    "version": 3
   },
   "file_extension": ".py",
   "mimetype": "text/x-python",
   "name": "python",
   "nbconvert_exporter": "python",
   "pygments_lexer": "ipython3",
   "version": "3.12.4"
  }
 },
 "nbformat": 4,
 "nbformat_minor": 4
}
